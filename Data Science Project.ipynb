{
 "cells": [
  {
   "cell_type": "markdown",
   "id": "eaf769fa",
   "metadata": {},
   "source": [
    "# Team:\n"
   ]
  },
  {
   "cell_type": "markdown",
   "id": "d759bb66",
   "metadata": {},
   "source": [
    "# Introduction: \n",
    "\n",
    "According to the Stanford Open Policing Project, cops in the United States conduct around 50,000 traffic stops a day. Our objective is to predict the race of the driver that is pulled over based on the reason for the traffic stop.         "
   ]
  },
  {
   "cell_type": "markdown",
   "id": "96ce6d1c",
   "metadata": {},
   "source": [
    "# Methods\n",
    "\n",
    "**Dataset**:\n",
    "    The dataset used in our project comes from the Stanford Open Policing Project. The data that we will be using will be on the 12 cities that were reported for the state of California. The data set contains information about the driver and actions performed by the police officer conducting the stop. \n",
    "    \n",
    "**Predictors**:\n",
    "       \n",
    "        \n",
    "**Features Removed**: raw_row_number, date, time, location, lat, lng, dist, district, subject_age,contraband_found, search_basis"
   ]
  },
  {
   "cell_type": "code",
   "execution_count": 1,
   "id": "73f842c5",
   "metadata": {},
   "outputs": [],
   "source": [
    "import numpy as np\n",
    "import pandas as pd"
   ]
  },
  {
   "cell_type": "code",
   "execution_count": 2,
   "id": "42be5c47",
   "metadata": {},
   "outputs": [],
   "source": [
    "df = pd.read_csv('https://stacks.stanford.edu/file/druid:yg821jf8611/yg821jf8611_ca_san_francisco_2020_04_01.csv.zip',compression='zip', low_memory=False)"
   ]
  },
  {
   "cell_type": "markdown",
   "id": "b65d7a2b",
   "metadata": {},
   "source": [
    "# Data Pre-processing\n"
   ]
  },
  {
   "cell_type": "code",
   "execution_count": 6,
   "id": "09e3301d",
   "metadata": {},
   "outputs": [
    {
     "data": {
      "text/plain": [
       "raw_row_number                            0\n",
       "date                                      0\n",
       "time                                     35\n",
       "location                                 43\n",
       "lat                                    1697\n",
       "lng                                    1697\n",
       "district                              52187\n",
       "subject_age                           58888\n",
       "subject_race                              0\n",
       "subject_sex                               0\n",
       "type                                      0\n",
       "arrest_made                               0\n",
       "citation_issued                           0\n",
       "warning_issued                            0\n",
       "outcome                               15681\n",
       "contraband_found                     851689\n",
       "search_conducted                          0\n",
       "search_vehicle                            0\n",
       "search_basis                         851689\n",
       "reason_for_stop                        2212\n",
       "raw_search_vehicle_description            0\n",
       "raw_result_of_contact_description         0\n",
       "dtype: int64"
      ]
     },
     "execution_count": 6,
     "metadata": {},
     "output_type": "execute_result"
    }
   ],
   "source": [
    "#NAN by column\n",
    "df.isna().sum()"
   ]
  },
  {
   "cell_type": "markdown",
   "id": "ca518f8b",
   "metadata": {},
   "source": [
    "# Data Exploration"
   ]
  },
  {
   "cell_type": "code",
   "execution_count": null,
   "id": "880b89f1",
   "metadata": {},
   "outputs": [],
   "source": []
  },
  {
   "cell_type": "code",
   "execution_count": null,
   "id": "3fef2dbe",
   "metadata": {},
   "outputs": [],
   "source": []
  }
 ],
 "metadata": {
  "kernelspec": {
   "display_name": "Python 3 (ipykernel)",
   "language": "python",
   "name": "python3"
  },
  "language_info": {
   "codemirror_mode": {
    "name": "ipython",
    "version": 3
   },
   "file_extension": ".py",
   "mimetype": "text/x-python",
   "name": "python",
   "nbconvert_exporter": "python",
   "pygments_lexer": "ipython3",
   "version": "3.9.13"
  }
 },
 "nbformat": 4,
 "nbformat_minor": 5
}
