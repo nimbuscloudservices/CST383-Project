{
  "cells": [
    {
      "cell_type": "markdown",
      "metadata": {
        "id": "view-in-github",
        "colab_type": "text"
      },
      "source": [
        "<a href=\"https://colab.research.google.com/github/nimbuscloudservices/CST383-Project/blob/main/cst383_project.ipynb\" target=\"_parent\"><img src=\"https://colab.research.google.com/assets/colab-badge.svg\" alt=\"Open In Colab\"/></a>"
      ]
    },
    {
      "cell_type": "markdown",
      "metadata": {
        "id": "LW-wnSnJn914"
      },
      "source": [
        "# **Traffic Stop Victim Prediction**"
      ]
    },
    {
      "cell_type": "markdown",
      "metadata": {
        "id": "WotELDzadG5d"
      },
      "source": [
        "Team:\n",
        "\n",
        "\n",
        "1) lgallez@csumb.edu\n",
        "\n",
        "2) smendozaloera@csumb.edu\t\n",
        "\n",
        "3) ykapadia@csumb.edu\t"
      ]
    },
    {
      "cell_type": "markdown",
      "metadata": {
        "id": "IK7wA2uknopq"
      },
      "source": [
        "#Introduction\n",
        "\n",
        "\n",
        "As reported by the Stanford Open Policing Project, police in the United States conduct approximately 50,000 traffic stops each day. The Stanford Open Policing project hold traffic stop data for 40 different states. Our project focuses on the data reported from the city of San Francisco in California. \n"
      ]
    },
    {
      "cell_type": "markdown",
      "metadata": {
        "id": "eWUUtxuuq7tL"
      },
      "source": [
        "#Objective\n",
        "\n",
        "\n",
        "Past findings have found that racial profiling and bias can be a reason why an individual is pulled over. Our project will predict the race of individual that is pulled over based on the reason for the traffic stop and the outcome (citation)."
      ]
    },
    {
      "cell_type": "markdown",
      "metadata": {
        "id": "mutIOclqcl1f"
      },
      "source": [
        "#Methods\n",
        "\n",
        "\n",
        "San Francisco Data Set (zip file): https://stacks.stanford.edu/file/druid:yg821jf8611/yg821jf8611_ca_san_francisco_2020_04_01.csv.zip\n",
        "\n",
        "Stanford Digital Repository: https://purl.stanford.edu/yg821jf8611\n",
        "\n",
        "The San Francisco Police Traffic Stop data contains has 905070 entries from 2008-2014. The data set includes 21 features. Some of these features are: Date, Time, Location, Latitude, Longitude, District, Age, Race, Sex, Outcome, Warning Issued. For the purpose of our objective, we have decided to drop variables that were not relevant to our project. \n",
        "\n",
        "\n",
        "**Target**:\n",
        "*   race\n",
        "\n",
        "\n",
        "\n",
        "**Predictors**:\n",
        "\n",
        "\n",
        "*   outcome\n",
        "*   subject_sex\n",
        "\n",
        "\n",
        "\n",
        "\n"
      ]
    },
    {
      "cell_type": "code",
      "execution_count": null,
      "metadata": {
        "id": "hxzq6q9mcQTD"
      },
      "outputs": [],
      "source": [
        "import numpy as np\n",
        "import pandas as pd\n",
        "import matplotlib.pyplot as plt\n",
        "import seaborn as sns\n",
        "from sklearn.model_selection import train_test_split, cross_val_score\n",
        "from sklearn.preprocessing import StandardScaler\n",
        "from sklearn.neighbors import KNeighborsRegressor\n",
        "from sklearn import preprocessing\n",
        "from sklearn.neighbors import KNeighborsClassifier\n",
        "from sklearn.tree import DecisionTreeClassifier\n",
        "from sklearn.datasets import make_classification\n",
        "from sklearn.cluster import KMeans\n",
        "from graphviz import Source\n",
        "from sklearn.tree import export_graphviz\n",
        "import graphviz\n",
        "from sklearn.metrics import confusion_matrix, accuracy_score\n",
        "from sklearn.pipeline import Pipeline\n",
        "from sklearn.svm import SVC"
      ]
    },
    {
      "cell_type": "code",
      "execution_count": null,
      "metadata": {
        "id": "uk34kIGjqiQ_"
      },
      "outputs": [],
      "source": [
        "df = pd.read_csv('https://stacks.stanford.edu/file/druid:yg821jf8611/yg821jf8611_ca_san_francisco_2020_04_01.csv.zip',compression='zip', low_memory=False)"
      ]
    },
    {
      "cell_type": "markdown",
      "metadata": {
        "id": "6CI7SI3GK0pg"
      },
      "source": [
        "#Data Exploration"
      ]
    },
    {
      "cell_type": "markdown",
      "metadata": {
        "id": "2OKUDihDGyqF"
      },
      "source": [
        "Due to our target variable being catergorical we must convert it to a numerical variable. We used the method label encoding."
      ]
    },
    {
      "cell_type": "code",
      "execution_count": null,
      "metadata": {
        "colab": {
          "base_uri": "https://localhost:8080/"
        },
        "id": "YTkuhZGqsUa-",
        "outputId": "beaae57c-93b5-4118-df6b-93b261c53ad0"
      },
      "outputs": [
        {
          "output_type": "stream",
          "name": "stdout",
          "text": [
            "<class 'pandas.core.frame.DataFrame'>\n",
            "RangeIndex: 905070 entries, 0 to 905069\n",
            "Data columns (total 22 columns):\n",
            " #   Column                             Non-Null Count   Dtype  \n",
            "---  ------                             --------------   -----  \n",
            " 0   raw_row_number                     905070 non-null  object \n",
            " 1   date                               905070 non-null  object \n",
            " 2   time                               905035 non-null  object \n",
            " 3   location                           905027 non-null  object \n",
            " 4   lat                                903373 non-null  float64\n",
            " 5   lng                                903373 non-null  float64\n",
            " 6   district                           852883 non-null  object \n",
            " 7   subject_age                        846182 non-null  float64\n",
            " 8   subject_race                       905070 non-null  object \n",
            " 9   subject_sex                        905070 non-null  object \n",
            " 10  type                               905070 non-null  object \n",
            " 11  arrest_made                        905070 non-null  bool   \n",
            " 12  citation_issued                    905070 non-null  bool   \n",
            " 13  warning_issued                     905070 non-null  bool   \n",
            " 14  outcome                            889389 non-null  object \n",
            " 15  contraband_found                   53381 non-null   object \n",
            " 16  search_conducted                   905070 non-null  bool   \n",
            " 17  search_vehicle                     905070 non-null  bool   \n",
            " 18  search_basis                       53381 non-null   object \n",
            " 19  reason_for_stop                    902858 non-null  object \n",
            " 20  raw_search_vehicle_description     905070 non-null  object \n",
            " 21  raw_result_of_contact_description  905070 non-null  object \n",
            "dtypes: bool(5), float64(3), object(14)\n",
            "memory usage: 121.7+ MB\n"
          ]
        }
      ],
      "source": [
        "df.info()"
      ]
    },
    {
      "cell_type": "markdown",
      "source": [
        "In our initial data exploration, we see that there are a total of 22 columns and 905070 rows. Not all features share the same Dtype. The three dtype features we see are: bool, float64, and object\n"
      ],
      "metadata": {
        "id": "yVKiFYZfjEmA"
      }
    },
    {
      "cell_type": "code",
      "source": [
        "not_nums = df.select_dtypes(exclude='number')\n",
        "not_nums.columns"
      ],
      "metadata": {
        "colab": {
          "base_uri": "https://localhost:8080/"
        },
        "id": "tUpJsq6EkU0f",
        "outputId": "6bb5f130-2539-4f56-f86b-656cba4cbb76"
      },
      "execution_count": null,
      "outputs": [
        {
          "output_type": "execute_result",
          "data": {
            "text/plain": [
              "Index(['raw_row_number', 'date', 'time', 'location', 'district',\n",
              "       'subject_race', 'subject_sex', 'type', 'arrest_made', 'citation_issued',\n",
              "       'warning_issued', 'outcome', 'contraband_found', 'search_conducted',\n",
              "       'search_vehicle', 'search_basis', 'reason_for_stop',\n",
              "       'raw_search_vehicle_description', 'raw_result_of_contact_description'],\n",
              "      dtype='object')"
            ]
          },
          "metadata": {},
          "execution_count": 87
        }
      ]
    },
    {
      "cell_type": "markdown",
      "source": [
        "There are 19 non-numerical features in this dataset. "
      ],
      "metadata": {
        "id": "pj38Gd3_lPVF"
      }
    },
    {
      "cell_type": "code",
      "source": [
        "df.isna().mean()"
      ],
      "metadata": {
        "colab": {
          "base_uri": "https://localhost:8080/"
        },
        "id": "QZZ6lwRfla__",
        "outputId": "178d6a93-2929-4f25-e79c-a0256f849789"
      },
      "execution_count": null,
      "outputs": [
        {
          "output_type": "execute_result",
          "data": {
            "text/plain": [
              "raw_row_number                       0.000000\n",
              "date                                 0.000000\n",
              "time                                 0.000039\n",
              "location                             0.000048\n",
              "lat                                  0.001875\n",
              "lng                                  0.001875\n",
              "district                             0.057661\n",
              "subject_age                          0.065065\n",
              "subject_race                         0.000000\n",
              "subject_sex                          0.000000\n",
              "type                                 0.000000\n",
              "arrest_made                          0.000000\n",
              "citation_issued                      0.000000\n",
              "warning_issued                       0.000000\n",
              "outcome                              0.017326\n",
              "contraband_found                     0.941020\n",
              "search_conducted                     0.000000\n",
              "search_vehicle                       0.000000\n",
              "search_basis                         0.941020\n",
              "reason_for_stop                      0.002444\n",
              "raw_search_vehicle_description       0.000000\n",
              "raw_result_of_contact_description    0.000000\n",
              "dtype: float64"
            ]
          },
          "metadata": {},
          "execution_count": 88
        }
      ]
    },
    {
      "cell_type": "markdown",
      "source": [
        "Above we see the fraction of NA values per column. Contraband_found and search_basis being the highest. \n"
      ],
      "metadata": {
        "id": "DKm-ZatUms2A"
      }
    },
    {
      "cell_type": "code",
      "source": [
        "print(\"Approximately {} rows contain NA values.\".format(df.isna().sum(axis=1).sum()))\n",
        "df.head()"
      ],
      "metadata": {
        "colab": {
          "base_uri": "https://localhost:8080/",
          "height": 491
        },
        "id": "8uRZrVDvnIOW",
        "outputId": "1bfd5035-fda4-4201-98f5-0be93d1f9895"
      },
      "execution_count": null,
      "outputs": [
        {
          "output_type": "stream",
          "name": "stdout",
          "text": [
            "Approximately 1835818 rows contain NA values.\n"
          ]
        },
        {
          "output_type": "execute_result",
          "data": {
            "text/plain": [
              "  raw_row_number        date      time                   location        lat  \\\n",
              "0         869921  2014-08-01  00:01:00       MASONIC AV & FELL ST  37.773004   \n",
              "1         869922  2014-08-01  00:01:00              GEARY&10TH AV  37.780898   \n",
              "2         869923  2014-08-01  00:15:00        SUTTER N OCTAVIA ST  37.786919   \n",
              "3         869924  2014-08-01  00:18:00          3RD ST & DAVIDSON  37.746380   \n",
              "4         869925  2014-08-01  00:19:00  DIVISADERO ST. & BUSH ST.  37.786348   \n",
              "\n",
              "          lng district  subject_age            subject_race subject_sex  ...  \\\n",
              "0 -122.445873      NaN          NaN  asian/pacific islander      female  ...   \n",
              "1 -122.468586      NaN          NaN                   black        male  ...   \n",
              "2 -122.426718      NaN          NaN                hispanic        male  ...   \n",
              "3 -122.392005      NaN          NaN                hispanic        male  ...   \n",
              "4 -122.440003      NaN          NaN                   white        male  ...   \n",
              "\n",
              "  citation_issued  warning_issued   outcome  contraband_found  \\\n",
              "0           False            True   warning               NaN   \n",
              "1            True           False  citation               NaN   \n",
              "2            True           False  citation               NaN   \n",
              "3           False            True   warning               NaN   \n",
              "4            True           False  citation               NaN   \n",
              "\n",
              "  search_conducted search_vehicle  search_basis  \\\n",
              "0            False          False           NaN   \n",
              "1            False          False           NaN   \n",
              "2            False          False           NaN   \n",
              "3            False          False           NaN   \n",
              "4            False          False           NaN   \n",
              "\n",
              "                             reason_for_stop raw_search_vehicle_description  \\\n",
              "0  Mechanical or Non-Moving Violation (V.C.)                      No Search   \n",
              "1  Mechanical or Non-Moving Violation (V.C.)                      No Search   \n",
              "2  Mechanical or Non-Moving Violation (V.C.)                      No Search   \n",
              "3  Mechanical or Non-Moving Violation (V.C.)                      No Search   \n",
              "4  Mechanical or Non-Moving Violation (V.C.)                      No Search   \n",
              "\n",
              "  raw_result_of_contact_description  \n",
              "0                           Warning  \n",
              "1                          Citation  \n",
              "2                          Citation  \n",
              "3                           Warning  \n",
              "4                          Citation  \n",
              "\n",
              "[5 rows x 22 columns]"
            ],
            "text/html": [
              "\n",
              "  <div id=\"df-cb20b682-17bc-4439-baba-cdb6a3b45b6c\">\n",
              "    <div class=\"colab-df-container\">\n",
              "      <div>\n",
              "<style scoped>\n",
              "    .dataframe tbody tr th:only-of-type {\n",
              "        vertical-align: middle;\n",
              "    }\n",
              "\n",
              "    .dataframe tbody tr th {\n",
              "        vertical-align: top;\n",
              "    }\n",
              "\n",
              "    .dataframe thead th {\n",
              "        text-align: right;\n",
              "    }\n",
              "</style>\n",
              "<table border=\"1\" class=\"dataframe\">\n",
              "  <thead>\n",
              "    <tr style=\"text-align: right;\">\n",
              "      <th></th>\n",
              "      <th>raw_row_number</th>\n",
              "      <th>date</th>\n",
              "      <th>time</th>\n",
              "      <th>location</th>\n",
              "      <th>lat</th>\n",
              "      <th>lng</th>\n",
              "      <th>district</th>\n",
              "      <th>subject_age</th>\n",
              "      <th>subject_race</th>\n",
              "      <th>subject_sex</th>\n",
              "      <th>...</th>\n",
              "      <th>citation_issued</th>\n",
              "      <th>warning_issued</th>\n",
              "      <th>outcome</th>\n",
              "      <th>contraband_found</th>\n",
              "      <th>search_conducted</th>\n",
              "      <th>search_vehicle</th>\n",
              "      <th>search_basis</th>\n",
              "      <th>reason_for_stop</th>\n",
              "      <th>raw_search_vehicle_description</th>\n",
              "      <th>raw_result_of_contact_description</th>\n",
              "    </tr>\n",
              "  </thead>\n",
              "  <tbody>\n",
              "    <tr>\n",
              "      <th>0</th>\n",
              "      <td>869921</td>\n",
              "      <td>2014-08-01</td>\n",
              "      <td>00:01:00</td>\n",
              "      <td>MASONIC AV &amp; FELL ST</td>\n",
              "      <td>37.773004</td>\n",
              "      <td>-122.445873</td>\n",
              "      <td>NaN</td>\n",
              "      <td>NaN</td>\n",
              "      <td>asian/pacific islander</td>\n",
              "      <td>female</td>\n",
              "      <td>...</td>\n",
              "      <td>False</td>\n",
              "      <td>True</td>\n",
              "      <td>warning</td>\n",
              "      <td>NaN</td>\n",
              "      <td>False</td>\n",
              "      <td>False</td>\n",
              "      <td>NaN</td>\n",
              "      <td>Mechanical or Non-Moving Violation (V.C.)</td>\n",
              "      <td>No Search</td>\n",
              "      <td>Warning</td>\n",
              "    </tr>\n",
              "    <tr>\n",
              "      <th>1</th>\n",
              "      <td>869922</td>\n",
              "      <td>2014-08-01</td>\n",
              "      <td>00:01:00</td>\n",
              "      <td>GEARY&amp;10TH AV</td>\n",
              "      <td>37.780898</td>\n",
              "      <td>-122.468586</td>\n",
              "      <td>NaN</td>\n",
              "      <td>NaN</td>\n",
              "      <td>black</td>\n",
              "      <td>male</td>\n",
              "      <td>...</td>\n",
              "      <td>True</td>\n",
              "      <td>False</td>\n",
              "      <td>citation</td>\n",
              "      <td>NaN</td>\n",
              "      <td>False</td>\n",
              "      <td>False</td>\n",
              "      <td>NaN</td>\n",
              "      <td>Mechanical or Non-Moving Violation (V.C.)</td>\n",
              "      <td>No Search</td>\n",
              "      <td>Citation</td>\n",
              "    </tr>\n",
              "    <tr>\n",
              "      <th>2</th>\n",
              "      <td>869923</td>\n",
              "      <td>2014-08-01</td>\n",
              "      <td>00:15:00</td>\n",
              "      <td>SUTTER N OCTAVIA ST</td>\n",
              "      <td>37.786919</td>\n",
              "      <td>-122.426718</td>\n",
              "      <td>NaN</td>\n",
              "      <td>NaN</td>\n",
              "      <td>hispanic</td>\n",
              "      <td>male</td>\n",
              "      <td>...</td>\n",
              "      <td>True</td>\n",
              "      <td>False</td>\n",
              "      <td>citation</td>\n",
              "      <td>NaN</td>\n",
              "      <td>False</td>\n",
              "      <td>False</td>\n",
              "      <td>NaN</td>\n",
              "      <td>Mechanical or Non-Moving Violation (V.C.)</td>\n",
              "      <td>No Search</td>\n",
              "      <td>Citation</td>\n",
              "    </tr>\n",
              "    <tr>\n",
              "      <th>3</th>\n",
              "      <td>869924</td>\n",
              "      <td>2014-08-01</td>\n",
              "      <td>00:18:00</td>\n",
              "      <td>3RD ST &amp; DAVIDSON</td>\n",
              "      <td>37.746380</td>\n",
              "      <td>-122.392005</td>\n",
              "      <td>NaN</td>\n",
              "      <td>NaN</td>\n",
              "      <td>hispanic</td>\n",
              "      <td>male</td>\n",
              "      <td>...</td>\n",
              "      <td>False</td>\n",
              "      <td>True</td>\n",
              "      <td>warning</td>\n",
              "      <td>NaN</td>\n",
              "      <td>False</td>\n",
              "      <td>False</td>\n",
              "      <td>NaN</td>\n",
              "      <td>Mechanical or Non-Moving Violation (V.C.)</td>\n",
              "      <td>No Search</td>\n",
              "      <td>Warning</td>\n",
              "    </tr>\n",
              "    <tr>\n",
              "      <th>4</th>\n",
              "      <td>869925</td>\n",
              "      <td>2014-08-01</td>\n",
              "      <td>00:19:00</td>\n",
              "      <td>DIVISADERO ST. &amp; BUSH ST.</td>\n",
              "      <td>37.786348</td>\n",
              "      <td>-122.440003</td>\n",
              "      <td>NaN</td>\n",
              "      <td>NaN</td>\n",
              "      <td>white</td>\n",
              "      <td>male</td>\n",
              "      <td>...</td>\n",
              "      <td>True</td>\n",
              "      <td>False</td>\n",
              "      <td>citation</td>\n",
              "      <td>NaN</td>\n",
              "      <td>False</td>\n",
              "      <td>False</td>\n",
              "      <td>NaN</td>\n",
              "      <td>Mechanical or Non-Moving Violation (V.C.)</td>\n",
              "      <td>No Search</td>\n",
              "      <td>Citation</td>\n",
              "    </tr>\n",
              "  </tbody>\n",
              "</table>\n",
              "<p>5 rows × 22 columns</p>\n",
              "</div>\n",
              "      <button class=\"colab-df-convert\" onclick=\"convertToInteractive('df-cb20b682-17bc-4439-baba-cdb6a3b45b6c')\"\n",
              "              title=\"Convert this dataframe to an interactive table.\"\n",
              "              style=\"display:none;\">\n",
              "        \n",
              "  <svg xmlns=\"http://www.w3.org/2000/svg\" height=\"24px\"viewBox=\"0 0 24 24\"\n",
              "       width=\"24px\">\n",
              "    <path d=\"M0 0h24v24H0V0z\" fill=\"none\"/>\n",
              "    <path d=\"M18.56 5.44l.94 2.06.94-2.06 2.06-.94-2.06-.94-.94-2.06-.94 2.06-2.06.94zm-11 1L8.5 8.5l.94-2.06 2.06-.94-2.06-.94L8.5 2.5l-.94 2.06-2.06.94zm10 10l.94 2.06.94-2.06 2.06-.94-2.06-.94-.94-2.06-.94 2.06-2.06.94z\"/><path d=\"M17.41 7.96l-1.37-1.37c-.4-.4-.92-.59-1.43-.59-.52 0-1.04.2-1.43.59L10.3 9.45l-7.72 7.72c-.78.78-.78 2.05 0 2.83L4 21.41c.39.39.9.59 1.41.59.51 0 1.02-.2 1.41-.59l7.78-7.78 2.81-2.81c.8-.78.8-2.07 0-2.86zM5.41 20L4 18.59l7.72-7.72 1.47 1.35L5.41 20z\"/>\n",
              "  </svg>\n",
              "      </button>\n",
              "      \n",
              "  <style>\n",
              "    .colab-df-container {\n",
              "      display:flex;\n",
              "      flex-wrap:wrap;\n",
              "      gap: 12px;\n",
              "    }\n",
              "\n",
              "    .colab-df-convert {\n",
              "      background-color: #E8F0FE;\n",
              "      border: none;\n",
              "      border-radius: 50%;\n",
              "      cursor: pointer;\n",
              "      display: none;\n",
              "      fill: #1967D2;\n",
              "      height: 32px;\n",
              "      padding: 0 0 0 0;\n",
              "      width: 32px;\n",
              "    }\n",
              "\n",
              "    .colab-df-convert:hover {\n",
              "      background-color: #E2EBFA;\n",
              "      box-shadow: 0px 1px 2px rgba(60, 64, 67, 0.3), 0px 1px 3px 1px rgba(60, 64, 67, 0.15);\n",
              "      fill: #174EA6;\n",
              "    }\n",
              "\n",
              "    [theme=dark] .colab-df-convert {\n",
              "      background-color: #3B4455;\n",
              "      fill: #D2E3FC;\n",
              "    }\n",
              "\n",
              "    [theme=dark] .colab-df-convert:hover {\n",
              "      background-color: #434B5C;\n",
              "      box-shadow: 0px 1px 3px 1px rgba(0, 0, 0, 0.15);\n",
              "      filter: drop-shadow(0px 1px 2px rgba(0, 0, 0, 0.3));\n",
              "      fill: #FFFFFF;\n",
              "    }\n",
              "  </style>\n",
              "\n",
              "      <script>\n",
              "        const buttonEl =\n",
              "          document.querySelector('#df-cb20b682-17bc-4439-baba-cdb6a3b45b6c button.colab-df-convert');\n",
              "        buttonEl.style.display =\n",
              "          google.colab.kernel.accessAllowed ? 'block' : 'none';\n",
              "\n",
              "        async function convertToInteractive(key) {\n",
              "          const element = document.querySelector('#df-cb20b682-17bc-4439-baba-cdb6a3b45b6c');\n",
              "          const dataTable =\n",
              "            await google.colab.kernel.invokeFunction('convertToInteractive',\n",
              "                                                     [key], {});\n",
              "          if (!dataTable) return;\n",
              "\n",
              "          const docLinkHtml = 'Like what you see? Visit the ' +\n",
              "            '<a target=\"_blank\" href=https://colab.research.google.com/notebooks/data_table.ipynb>data table notebook</a>'\n",
              "            + ' to learn more about interactive tables.';\n",
              "          element.innerHTML = '';\n",
              "          dataTable['output_type'] = 'display_data';\n",
              "          await google.colab.output.renderOutput(dataTable, element);\n",
              "          const docLink = document.createElement('div');\n",
              "          docLink.innerHTML = docLinkHtml;\n",
              "          element.appendChild(docLink);\n",
              "        }\n",
              "      </script>\n",
              "    </div>\n",
              "  </div>\n",
              "  "
            ]
          },
          "metadata": {},
          "execution_count": 89
        }
      ]
    },
    {
      "cell_type": "markdown",
      "source": [
        "Based on these findings, we will need to drop both columns and rows that contain NA values. This will reduce the amount of rows which will be helpful for our predictor models. "
      ],
      "metadata": {
        "id": "IPiYNItYp4w7"
      }
    },
    {
      "cell_type": "markdown",
      "metadata": {
        "id": "hqebBizIrw3T"
      },
      "source": [
        "# Data Pre-processing "
      ]
    },
    {
      "cell_type": "markdown",
      "metadata": {
        "id": "6eY9X_h-oNPZ"
      },
      "source": [
        "The San Francisco data report contains variables that will not be used in this project. For example, variables that record date, time, and location will be dropped. \n",
        "\n",
        "In addition, we will also remove columns and rows that have missing data. A new column, outcome_map will be created in order to leverage the traffic stop outcome as a predicting feature. \n",
        "\n",
        "Lastly, we will use only a random sample of 50%. \n",
        "\n",
        "\n",
        "\n",
        "\n"
      ]
    },
    {
      "cell_type": "code",
      "execution_count": null,
      "metadata": {
        "id": "eHSzxlcCK5Js"
      },
      "outputs": [],
      "source": [
        "df = df.dropna()\n",
        "df = df.sample(frac=0.5)\n",
        "df.drop(['raw_row_number', 'date', 'time', 'location', 'lat', 'lng', 'district', 'contraband_found', 'search_basis', 'raw_search_vehicle_description', 'raw_result_of_contact_description', 'type'], axis=1, inplace=True)\n"
      ]
    },
    {
      "cell_type": "code",
      "source": [
        "df.info()"
      ],
      "metadata": {
        "colab": {
          "base_uri": "https://localhost:8080/"
        },
        "id": "OYDTgCzNsT6T",
        "outputId": "c915b253-f4ca-45d4-d075-284653ddbc56"
      },
      "execution_count": null,
      "outputs": [
        {
          "output_type": "stream",
          "name": "stdout",
          "text": [
            "<class 'pandas.core.frame.DataFrame'>\n",
            "Int64Index: 20538 entries, 407719 to 128980\n",
            "Data columns (total 10 columns):\n",
            " #   Column            Non-Null Count  Dtype  \n",
            "---  ------            --------------  -----  \n",
            " 0   subject_age       20538 non-null  float64\n",
            " 1   subject_race      20538 non-null  object \n",
            " 2   subject_sex       20538 non-null  object \n",
            " 3   arrest_made       20538 non-null  bool   \n",
            " 4   citation_issued   20538 non-null  bool   \n",
            " 5   warning_issued    20538 non-null  bool   \n",
            " 6   outcome           20538 non-null  object \n",
            " 7   search_conducted  20538 non-null  bool   \n",
            " 8   search_vehicle    20538 non-null  bool   \n",
            " 9   reason_for_stop   20538 non-null  object \n",
            "dtypes: bool(5), float64(1), object(4)\n",
            "memory usage: 1.0+ MB\n"
          ]
        }
      ]
    },
    {
      "cell_type": "markdown",
      "metadata": {
        "id": "7xhbNis3ltgF"
      },
      "source": [
        "After our inital pre-processing, we see that we now have 8 columns. All with the name non-null count. Five of our features are of dtype bool and 3 are of dtype object. \n",
        "\n",
        "\n",
        "Features by Examples:\n",
        "\n",
        "\n",
        "*   subject_race: 'asian/pacific islander', 'black','hispanic', 'white', 'other'\n",
        "*   subject_sex: 'female', 'male'\n",
        "*   arrest_made: True, False\n",
        "*   citation_issued (**predictor variable**): True, False\n",
        "*   warning_issued: True, False\n",
        "*   outcome (**predictor variable**): 'warning', 'citation', 'arrest'\n",
        "*   search_conducted: True, False\n",
        "*   search_vehicle: True, False\n"
      ]
    },
    {
      "cell_type": "markdown",
      "metadata": {
        "id": "7OyornCEoOVf"
      },
      "source": [
        "**Data Visualization**\n",
        "\n"
      ]
    },
    {
      "cell_type": "code",
      "execution_count": null,
      "metadata": {
        "colab": {
          "base_uri": "https://localhost:8080/",
          "height": 387
        },
        "id": "XRFIJdWHU13s",
        "outputId": "199c3a88-0d9e-4b93-f9a4-e556cc2483ea"
      },
      "outputs": [
        {
          "output_type": "execute_result",
          "data": {
            "text/plain": [
              "Text(0.5, 0, '')"
            ]
          },
          "metadata": {},
          "execution_count": 92
        },
        {
          "output_type": "display_data",
          "data": {
            "text/plain": [
              "<Figure size 792x360 with 2 Axes>"
            ],
            "image/png": "[encoded data removed]"
          },
          "metadata": {
            "needs_background": "light"
          }
        }
      ],
      "source": [
        "\n",
        "result = ['Citation Issued', 'Warning']\n",
        "sum_of_result = [df.citation_issued.sum(), df.warning_issued.sum()]\n",
        "\n",
        "plt.figure(tight_layout=True, figsize=(11, 5))\n",
        "\n",
        "plt.subplot(1,2,1)\n",
        "plt.bar(result, sum_of_result, color=['purple', 'orange'])\n",
        "plt.title(\"Count of Citation and Warnings\")\n",
        "plt.ylabel(\"Count\")\n",
        "\n",
        "\n",
        "sex = df.groupby('subject_sex')['search_vehicle'].sum()\n",
        "plt.subplot(1,2,2)\n",
        "sns.barplot(x = sex.index, y = sex.values)\n",
        "plt.title(\"Count of Traffic Stops By Sex\")\n",
        "plt.ylabel(\"Count\")\n",
        "plt.xlabel(\"\")"
      ]
    },
    {
      "cell_type": "markdown",
      "source": [
        "First we will explore two differnt variables in from the datase. On the left plot, we conducted a bar plot that displays the amount of citations vs warnings that were given. We see that police officers in this dataset gave more citations than warnings. \n",
        "\n",
        "Next, we see that police officers performed traffic stops on male subjects more than females. "
      ],
      "metadata": {
        "id": "TOgqegQexGeu"
      }
    },
    {
      "cell_type": "code",
      "execution_count": null,
      "metadata": {
        "colab": {
          "base_uri": "https://localhost:8080/",
          "height": 386
        },
        "id": "gjfPBGhMbkdV",
        "outputId": "5936b6c8-48c4-4988-b4bd-2d1b49903613"
      },
      "outputs": [
        {
          "output_type": "execute_result",
          "data": {
            "text/plain": [
              "Text(0.5, 0, 'Race')"
            ]
          },
          "metadata": {},
          "execution_count": 93
        },
        {
          "output_type": "display_data",
          "data": {
            "text/plain": [
              "<Figure size 1080x360 with 2 Axes>"
            ],
            "image/png": "[encoded data removed]"
          },
          "metadata": {
            "needs_background": "light"
          }
        }
      ],
      "source": [
        "\n",
        "search = df.groupby('subject_race')['search_vehicle'].sum().sort_values()\n",
        "plt.figure(tight_layout=True, figsize=(15, 5))\n",
        "plt.subplot(1,2,1)\n",
        "sns.barplot(x = search.index, y = search.values)\n",
        "plt.title(\"Count of Search Vehicle By Race\")\n",
        "plt.ylabel(\"Count\")\n",
        "plt.xlabel(\"Race\")\n",
        "\n",
        "arrest = df.groupby('subject_race')['arrest_made'].sum().sort_values()\n",
        "plt.subplot(1,2,2)\n",
        "sns.barplot(x = arrest.index, y = arrest.values)\n",
        "plt.title(\"Count of Arrest Made by Race\")\n",
        "plt.ylabel(\"Count\")\n",
        "plt.xlabel(\"Race\")"
      ]
    },
    {
      "cell_type": "markdown",
      "source": [
        "The plot on the left gives us some context to outcome of getting your vehicle searched based on race. We see that police officers performed more vehicle searches on Black individuals when compared to other subjects. \n",
        "\n",
        "The plot on the right gives context to the outcome of the traffic stop based on race. We see cases of police officers arresting Black individuals more than other subjects. "
      ],
      "metadata": {
        "id": "s3tFa1Kkvtee"
      }
    },
    {
      "cell_type": "code",
      "source": [
        "plt.figure(tight_layout=True, figsize=(15, 5))\n",
        "plt.subplot(1,2,1)\n",
        "sns.kdeplot(df['subject_age'])\n",
        "plt.title('Density of Age')\n",
        "plt.xlabel('Age')\n",
        "plt.subplot(1,2,2)\n",
        "sns.violinplot(data=df, x=\"subject_race\", y=\"subject_age\")\n",
        "plt.title('Subject Age by Race')\n",
        "plt.ylabel('Subject Age')\n",
        "plt.xlabel('Race')"
      ],
      "metadata": {
        "colab": {
          "base_uri": "https://localhost:8080/",
          "height": 386
        },
        "id": "cirRdo-_-BzY",
        "outputId": "42951f5c-6f7d-485b-f1f8-db3378c75ffe"
      },
      "execution_count": null,
      "outputs": [
        {
          "output_type": "execute_result",
          "data": {
            "text/plain": [
              "Text(0.5, 0, 'Race')"
            ]
          },
          "metadata": {},
          "execution_count": 94
        },
        {
          "output_type": "display_data",
          "data": {
            "text/plain": [
              "<Figure size 1080x360 with 2 Axes>"
            ],
            "image/png": "[encoded data removed]"
          },
          "metadata": {
            "needs_background": "light"
          }
        }
      ]
    },
    {
      "cell_type": "markdown",
      "source": [
        "Lastly, we see that our dataset has a high density of subjects ranging from 20-30 years old. \n",
        "\n",
        "When we use a violinplot to see age distribution by race. \n",
        "\n"
      ],
      "metadata": {
        "id": "nUu10DqTy8ur"
      }
    },
    {
      "cell_type": "markdown",
      "source": [
        "**Final Pre-Processing**\n"
      ],
      "metadata": {
        "id": "XgiB-7bruPSX"
      }
    },
    {
      "cell_type": "markdown",
      "source": [
        "Lastly we will use label encoder to convert our predictor feature, outcome, and our target feature, race, to numerical values. \n"
      ],
      "metadata": {
        "id": "ClmMJajftX-u"
      }
    },
    {
      "cell_type": "code",
      "execution_count": null,
      "metadata": {
        "id": "KHYmY0uD1xVJ"
      },
      "outputs": [],
      "source": [
        "#outcome_map = {'nan': 0, 'warning': 1, 'citation': 2, 'arrest': 3}\n",
        "#df['outcome'] = df['outcome'].map(outcome_map)"
      ]
    },
    {
      "cell_type": "code",
      "source": [
        "df ['outcome'] = preprocessing.LabelEncoder().fit_transform(df['outcome'])"
      ],
      "metadata": {
        "id": "UKDkEQsAs2zs"
      },
      "execution_count": null,
      "outputs": []
    },
    {
      "cell_type": "code",
      "execution_count": null,
      "metadata": {
        "id": "L6q4WdZDBSRS"
      },
      "outputs": [],
      "source": [
        "df ['subject_race'] = preprocessing.LabelEncoder().fit_transform(df['subject_race'])\n",
        "df ['search_conducted'] = (df['search_conducted'] == True).values.astype(int)\n",
        "df ['search_vehicle'] = (df['search_vehicle'] == True).values.astype(int)"
      ]
    },
    {
      "cell_type": "markdown",
      "metadata": {
        "id": "3gjONTk3sFxh"
      },
      "source": [
        "#KNN Classification"
      ]
    },
    {
      "cell_type": "markdown",
      "metadata": {
        "id": "wIOhe_idMcC9"
      },
      "source": [
        "Our first machine learning method we will use to predict subject_race is the KNN Classification. For this algorithm we used a random sample (5000) of our data in order for the model to run faster.  "
      ]
    },
    {
      "cell_type": "code",
      "execution_count": null,
      "metadata": {
        "id": "9cG0iWRELHAd"
      },
      "outputs": [],
      "source": [
        "np.random.seed(42)  \n",
        "\n",
        "predictors = ['outcome', 'subject_age']\n",
        "X = df[predictors].values\n",
        "y = df['subject_race'].values\n",
        "\n",
        "indexes = np.random.choice(y.size, size=5000)\n",
        "X_mini = X[indexes]\n",
        "y_mini = y[indexes]\n",
        "\n",
        "X_train, X_test, y_train, y_test = train_test_split(X_mini, y_mini, test_size=0.30, random_state=42)\n",
        "\n",
        "scaler = StandardScaler()\n",
        "\n",
        "X_train = scaler.fit_transform(X_train)\n",
        "X_test = scaler.transform(X_test)\n",
        "\n",
        "knn = KNeighborsClassifier(n_neighbors = 8, weights='uniform')\n",
        "knn.fit(X_train, y_train)\n",
        "predictions = knn.predict(X_test)\n"
      ]
    },
    {
      "cell_type": "code",
      "execution_count": null,
      "metadata": {
        "id": "46KTy0FoM3Wg",
        "colab": {
          "base_uri": "https://localhost:8080/"
        },
        "outputId": "c93d1113-0fc2-4453-a665-ef33de8cc706"
      },
      "outputs": [
        {
          "output_type": "stream",
          "name": "stdout",
          "text": [
            "Predictions: [1 1 1 1 1 1 1 1 1 1]\n",
            "Actual: [1 4 0 1 1 4 1 1 1 4]\n"
          ]
        }
      ],
      "source": [
        "print(\"Predictions: {}\".format(predictions[:10]))\n",
        "print(\"Actual: {}\".format(y_test[:10]))"
      ]
    },
    {
      "cell_type": "code",
      "execution_count": null,
      "metadata": {
        "colab": {
          "base_uri": "https://localhost:8080/",
          "height": 255
        },
        "id": "JG5gAffbVTd8",
        "outputId": "b0d5fedc-deca-49b9-bc90-2b36b5e2f390"
      },
      "outputs": [
        {
          "output_type": "stream",
          "name": "stdout",
          "text": [
            "Accuracy: 0.45\n"
          ]
        },
        {
          "output_type": "execute_result",
          "data": {
            "text/plain": [
              "Predicted    1\n",
              "Actual        \n",
              "0           93\n",
              "1          671\n",
              "2          302\n",
              "3           96\n",
              "4          338"
            ],
            "text/html": [
              "\n",
              "  <div id=\"df-a90e0e9b-cf74-4aae-817c-d078840c7507\">\n",
              "    <div class=\"colab-df-container\">\n",
              "      <div>\n",
              "<style scoped>\n",
              "    .dataframe tbody tr th:only-of-type {\n",
              "        vertical-align: middle;\n",
              "    }\n",
              "\n",
              "    .dataframe tbody tr th {\n",
              "        vertical-align: top;\n",
              "    }\n",
              "\n",
              "    .dataframe thead th {\n",
              "        text-align: right;\n",
              "    }\n",
              "</style>\n",
              "<table border=\"1\" class=\"dataframe\">\n",
              "  <thead>\n",
              "    <tr style=\"text-align: right;\">\n",
              "      <th>Predicted</th>\n",
              "      <th>1</th>\n",
              "    </tr>\n",
              "    <tr>\n",
              "      <th>Actual</th>\n",
              "      <th></th>\n",
              "    </tr>\n",
              "  </thead>\n",
              "  <tbody>\n",
              "    <tr>\n",
              "      <th>0</th>\n",
              "      <td>93</td>\n",
              "    </tr>\n",
              "    <tr>\n",
              "      <th>1</th>\n",
              "      <td>671</td>\n",
              "    </tr>\n",
              "    <tr>\n",
              "      <th>2</th>\n",
              "      <td>302</td>\n",
              "    </tr>\n",
              "    <tr>\n",
              "      <th>3</th>\n",
              "      <td>96</td>\n",
              "    </tr>\n",
              "    <tr>\n",
              "      <th>4</th>\n",
              "      <td>338</td>\n",
              "    </tr>\n",
              "  </tbody>\n",
              "</table>\n",
              "</div>\n",
              "      <button class=\"colab-df-convert\" onclick=\"convertToInteractive('df-a90e0e9b-cf74-4aae-817c-d078840c7507')\"\n",
              "              title=\"Convert this dataframe to an interactive table.\"\n",
              "              style=\"display:none;\">\n",
              "        \n",
              "  <svg xmlns=\"http://www.w3.org/2000/svg\" height=\"24px\"viewBox=\"0 0 24 24\"\n",
              "       width=\"24px\">\n",
              "    <path d=\"M0 0h24v24H0V0z\" fill=\"none\"/>\n",
              "    <path d=\"M18.56 5.44l.94 2.06.94-2.06 2.06-.94-2.06-.94-.94-2.06-.94 2.06-2.06.94zm-11 1L8.5 8.5l.94-2.06 2.06-.94-2.06-.94L8.5 2.5l-.94 2.06-2.06.94zm10 10l.94 2.06.94-2.06 2.06-.94-2.06-.94-.94-2.06-.94 2.06-2.06.94z\"/><path d=\"M17.41 7.96l-1.37-1.37c-.4-.4-.92-.59-1.43-.59-.52 0-1.04.2-1.43.59L10.3 9.45l-7.72 7.72c-.78.78-.78 2.05 0 2.83L4 21.41c.39.39.9.59 1.41.59.51 0 1.02-.2 1.41-.59l7.78-7.78 2.81-2.81c.8-.78.8-2.07 0-2.86zM5.41 20L4 18.59l7.72-7.72 1.47 1.35L5.41 20z\"/>\n",
              "  </svg>\n",
              "      </button>\n",
              "      \n",
              "  <style>\n",
              "    .colab-df-container {\n",
              "      display:flex;\n",
              "      flex-wrap:wrap;\n",
              "      gap: 12px;\n",
              "    }\n",
              "\n",
              "    .colab-df-convert {\n",
              "      background-color: #E8F0FE;\n",
              "      border: none;\n",
              "      border-radius: 50%;\n",
              "      cursor: pointer;\n",
              "      display: none;\n",
              "      fill: #1967D2;\n",
              "      height: 32px;\n",
              "      padding: 0 0 0 0;\n",
              "      width: 32px;\n",
              "    }\n",
              "\n",
              "    .colab-df-convert:hover {\n",
              "      background-color: #E2EBFA;\n",
              "      box-shadow: 0px 1px 2px rgba(60, 64, 67, 0.3), 0px 1px 3px 1px rgba(60, 64, 67, 0.15);\n",
              "      fill: #174EA6;\n",
              "    }\n",
              "\n",
              "    [theme=dark] .colab-df-convert {\n",
              "      background-color: #3B4455;\n",
              "      fill: #D2E3FC;\n",
              "    }\n",
              "\n",
              "    [theme=dark] .colab-df-convert:hover {\n",
              "      background-color: #434B5C;\n",
              "      box-shadow: 0px 1px 3px 1px rgba(0, 0, 0, 0.15);\n",
              "      filter: drop-shadow(0px 1px 2px rgba(0, 0, 0, 0.3));\n",
              "      fill: #FFFFFF;\n",
              "    }\n",
              "  </style>\n",
              "\n",
              "      <script>\n",
              "        const buttonEl =\n",
              "          document.querySelector('#df-a90e0e9b-cf74-4aae-817c-d078840c7507 button.colab-df-convert');\n",
              "        buttonEl.style.display =\n",
              "          google.colab.kernel.accessAllowed ? 'block' : 'none';\n",
              "\n",
              "        async function convertToInteractive(key) {\n",
              "          const element = document.querySelector('#df-a90e0e9b-cf74-4aae-817c-d078840c7507');\n",
              "          const dataTable =\n",
              "            await google.colab.kernel.invokeFunction('convertToInteractive',\n",
              "                                                     [key], {});\n",
              "          if (!dataTable) return;\n",
              "\n",
              "          const docLinkHtml = 'Like what you see? Visit the ' +\n",
              "            '<a target=\"_blank\" href=https://colab.research.google.com/notebooks/data_table.ipynb>data table notebook</a>'\n",
              "            + ' to learn more about interactive tables.';\n",
              "          element.innerHTML = '';\n",
              "          dataTable['output_type'] = 'display_data';\n",
              "          await google.colab.output.renderOutput(dataTable, element);\n",
              "          const docLink = document.createElement('div');\n",
              "          docLink.innerHTML = docLinkHtml;\n",
              "          element.appendChild(docLink);\n",
              "        }\n",
              "      </script>\n",
              "    </div>\n",
              "  </div>\n",
              "  "
            ]
          },
          "metadata": {},
          "execution_count": 100
        }
      ],
      "source": [
        "print('Accuracy: {:.2f}'.format((predictions == y_test).mean()))\n",
        "pd.crosstab(y_test, predictions, rownames=['Actual'], colnames=['Predicted'])"
      ]
    },
    {
      "cell_type": "markdown",
      "source": [
        "**Forward Selection**\n",
        "\n",
        "Our accuracy score is less that 50%. Lets see if adding more features improves our accuracy score.Again we will be using a random sameple size of 5,000. We will also convert all the categorical values to numerical ones. "
      ],
      "metadata": {
        "id": "39WMq_GzAD_Q"
      }
    },
    {
      "cell_type": "code",
      "source": [
        "all_num = df = pd.get_dummies(df, drop_first = True)\n",
        "all_features = list(all_num.columns)\n",
        "all_features.remove('subject_race')\n",
        "np.random.seed(42)  \n",
        "\n",
        "X = all_num[all_features].values\n",
        "y = all_num['subject_race'].values\n",
        "\n",
        "indexes = np.random.choice(y.size, size=5000)\n",
        "X_mini = X[indexes]\n",
        "y_mini = y[indexes]\n",
        "\n",
        "X_train, X_test, y_train, y_test = train_test_split(X_mini, y_mini, test_size=0.30, random_state=42)\n",
        "\n",
        "scaler = StandardScaler()\n",
        "\n",
        "X_train = scaler.fit_transform(X_train)\n",
        "X_test = scaler.transform(X_test)\n",
        "\n",
        "knn = KNeighborsClassifier(n_neighbors = 8, weights='uniform')\n",
        "knn.fit(X_train, y_train)\n",
        "predictions = knn.predict(X_test)"
      ],
      "metadata": {
        "id": "JPT9kwUFA25H"
      },
      "execution_count": null,
      "outputs": []
    },
    {
      "cell_type": "code",
      "source": [
        "remaining = list(range(X_train.shape[1]))\n",
        "selected = []\n",
        "n = 10\n",
        "while len(selected) < n:\n",
        "    accuracy = 1e7\n",
        "    for i in remaining:\n",
        "        scores = cross_val_score(KNeighborsClassifier(), X_train[:, selected+[i]], y_train, scoring='accuracy', cv=10)\n",
        "        if scores.mean() < accuracy:\n",
        "          accuracy = (predictions == y_test).mean() \n",
        "          i_min = i\n",
        "    remaining.remove(i_min)\n",
        "    selected.append(i_min)\n",
        "    print('num features: {}; accuracy: {:.2f}'.format(len(selected), accuracy))"
      ],
      "metadata": {
        "colab": {
          "base_uri": "https://localhost:8080/"
        },
        "id": "MHOQgbCmKM_7",
        "outputId": "4344a8f7-d869-4a7d-9cf2-d263ad567c8b"
      },
      "execution_count": null,
      "outputs": [
        {
          "output_type": "stream",
          "name": "stdout",
          "text": [
            "num features: 1; accuracy: 0.43\n",
            "num features: 2; accuracy: 0.43\n",
            "num features: 3; accuracy: 0.43\n",
            "num features: 4; accuracy: 0.43\n",
            "num features: 5; accuracy: 0.43\n",
            "num features: 6; accuracy: 0.43\n",
            "num features: 7; accuracy: 0.43\n",
            "num features: 8; accuracy: 0.43\n",
            "num features: 9; accuracy: 0.43\n",
            "num features: 10; accuracy: 0.43\n"
          ]
        }
      ]
    },
    {
      "cell_type": "markdown",
      "source": [
        "By seeing 10 features being added, we see no improvement in our accuracy. The accuracy actually decreased -0.02 As a result, we will keep the two predictors (outcome, subject_age). "
      ],
      "metadata": {
        "id": "GeZwj9BbAY3k"
      }
    },
    {
      "cell_type": "markdown",
      "metadata": {
        "id": "rjs5EiMGXI3q"
      },
      "source": [
        "#Classification Tree\n",
        "\n",
        "Now we will us the Decision Tree Classification model to see how it performance and accuracy score. "
      ]
    },
    {
      "cell_type": "code",
      "execution_count": null,
      "metadata": {
        "id": "LchJu7kxWT1q"
      },
      "outputs": [],
      "source": [
        "predictors = ['outcome', 'subject_age']\n",
        "X = df[predictors].values\n",
        "y = df['subject_race'].values\n",
        "\n",
        "\n",
        "X_train, X_test, y_train, y_test = train_test_split(X, y, test_size=0.30, random_state=0)\n",
        "\n",
        "clf = DecisionTreeClassifier(max_depth = 5, random_state=0, min_samples_split=5, min_samples_leaf=5)\n",
        "clf.fit(X_train, y_train)\n",
        "y_predict = clf.predict(X_test)"
      ]
    },
    {
      "cell_type": "code",
      "execution_count": null,
      "metadata": {
        "colab": {
          "base_uri": "https://localhost:8080/",
          "height": 936
        },
        "id": "53w78rUTX5W9",
        "outputId": "e6435e0a-f54d-4650-852c-7616d95cb58d"
      },
      "outputs": [
        {
          "output_type": "execute_result",
          "data": {
            "text/plain": [
              "<graphviz.files.Source at 0x7ff24dc3a730>"
            ],
            "image/svg+xml": "<?xml version=\"1.0\" encoding=\"UTF-8\" standalone=\"no\"?>\n<!DOCTYPE svg PUBLIC \"-//W3C//DTD SVG 1.1//EN\"\n \"http://www.w3.org/Graphics/SVG/1.1/DTD/svg11.dtd\">\n<!-- Generated by graphviz version 2.43.0 (0)\n -->\n<!-- Title: Tree Pages: 1 -->\n<svg width=\"7791pt\" height=\"671pt\"\n viewBox=\"0.00 0.00 7790.50 671.00\" xmlns=\"http://www.w3.org/2000/svg\" xmlns:xlink=\"http://www.w3.org/1999/xlink\">\n<g id=\"graph0\" class=\"graph\" transform=\"scale(1 1) rotate(0) translate(4 667)\">\n<title>Tree</title>\n<polygon fill=\"white\" stroke=\"transparent\" points=\"-4,4 -4,-667 7786.5,-667 7786.5,4 -4,4\"/>\n<!-- 0 -->\n<g id=\"node1\" class=\"node\">\n<title>0</title>\n<path fill=\"#d7f7c2\" stroke=\"black\" d=\"M4553,-663C4553,-663 4344,-663 4344,-663 4338,-663 4332,-657 4332,-651 4332,-651 4332,-592 4332,-592 4332,-586 4338,-580 4344,-580 4344,-580 4553,-580 4553,-580 4559,-580 4565,-586 4565,-592 4565,-592 4565,-651 4565,-651 4565,-657 4559,-663 4553,-663\"/>\n<text text-anchor=\"start\" x=\"4405\" y=\"-647.8\" font-family=\"Helvetica,sans-Serif\" font-size=\"14.00\">outcome ≤ 1.5</text>\n<text text-anchor=\"start\" x=\"4416.5\" y=\"-632.8\" font-family=\"Helvetica,sans-Serif\" font-size=\"14.00\">gini = 0.69</text>\n<text text-anchor=\"start\" x=\"4391.5\" y=\"-617.8\" font-family=\"Helvetica,sans-Serif\" font-size=\"14.00\">samples = 100.0%</text>\n<text text-anchor=\"start\" x=\"4340\" y=\"-602.8\" font-family=\"Helvetica,sans-Serif\" font-size=\"14.00\">value = [0.06, 0.46, 0.18, 0.07, 0.23]</text>\n<text text-anchor=\"start\" x=\"4409\" y=\"-587.8\" font-family=\"Helvetica,sans-Serif\" font-size=\"14.00\">class = black</text>\n</g>\n<!-- 1 -->\n<g id=\"node2\" class=\"node\">\n<title>1</title>\n<path fill=\"#e2f9d4\" stroke=\"black\" d=\"M3198.5,-544C3198.5,-544 2996.5,-544 2996.5,-544 2990.5,-544 2984.5,-538 2984.5,-532 2984.5,-532 2984.5,-473 2984.5,-473 2984.5,-467 2990.5,-461 2996.5,-461 2996.5,-461 3198.5,-461 3198.5,-461 3204.5,-461 3210.5,-467 3210.5,-473 3210.5,-473 3210.5,-532 3210.5,-532 3210.5,-538 3204.5,-544 3198.5,-544\"/>\n<text text-anchor=\"start\" x=\"3040\" y=\"-528.8\" font-family=\"Helvetica,sans-Serif\" font-size=\"14.00\">subject_age ≤ 33.5</text>\n<text text-anchor=\"start\" x=\"3065.5\" y=\"-513.8\" font-family=\"Helvetica,sans-Serif\" font-size=\"14.00\">gini = 0.72</text>\n<text text-anchor=\"start\" x=\"3044.5\" y=\"-498.8\" font-family=\"Helvetica,sans-Serif\" font-size=\"14.00\">samples = 69.9%</text>\n<text text-anchor=\"start\" x=\"2992.5\" y=\"-483.8\" font-family=\"Helvetica,sans-Serif\" font-size=\"14.00\">value = [0.07, 0.41, 0.2, 0.07, 0.24]</text>\n<text text-anchor=\"start\" x=\"3058\" y=\"-468.8\" font-family=\"Helvetica,sans-Serif\" font-size=\"14.00\">class = black</text>\n</g>\n<!-- 0&#45;&gt;1 -->\n<g id=\"edge1\" class=\"edge\">\n<title>0&#45;&gt;1</title>\n<path fill=\"none\" stroke=\"black\" d=\"M4331.85,-610.4C4078.54,-588.46 3480.14,-536.64 3220.86,-514.18\"/>\n<polygon fill=\"black\" stroke=\"black\" points=\"3220.91,-510.67 3210.65,-513.3 3220.31,-517.65 3220.91,-510.67\"/>\n<text text-anchor=\"middle\" x=\"3226.74\" y=\"-528.74\" font-family=\"Helvetica,sans-Serif\" font-size=\"14.00\">True</text>\n</g>\n<!-- 32 -->\n<g id=\"node33\" class=\"node\">\n<title>32</title>\n<path fill=\"#bef29e\" stroke=\"black\" d=\"M4909,-544C4909,-544 4700,-544 4700,-544 4694,-544 4688,-538 4688,-532 4688,-532 4688,-473 4688,-473 4688,-467 4694,-461 4700,-461 4700,-461 4909,-461 4909,-461 4915,-461 4921,-467 4921,-473 4921,-473 4921,-532 4921,-532 4921,-538 4915,-544 4909,-544\"/>\n<text text-anchor=\"start\" x=\"4747\" y=\"-528.8\" font-family=\"Helvetica,sans-Serif\" font-size=\"14.00\">subject_age ≤ 50.5</text>\n<text text-anchor=\"start\" x=\"4776.5\" y=\"-513.8\" font-family=\"Helvetica,sans-Serif\" font-size=\"14.00\">gini = 0.6</text>\n<text text-anchor=\"start\" x=\"4751.5\" y=\"-498.8\" font-family=\"Helvetica,sans-Serif\" font-size=\"14.00\">samples = 30.1%</text>\n<text text-anchor=\"start\" x=\"4696\" y=\"-483.8\" font-family=\"Helvetica,sans-Serif\" font-size=\"14.00\">value = [0.04, 0.58, 0.14, 0.06, 0.18]</text>\n<text text-anchor=\"start\" x=\"4765\" y=\"-468.8\" font-family=\"Helvetica,sans-Serif\" font-size=\"14.00\">class = black</text>\n</g>\n<!-- 0&#45;&gt;32 -->\n<g id=\"edge32\" class=\"edge\">\n<title>0&#45;&gt;32</title>\n<path fill=\"none\" stroke=\"black\" d=\"M4565.07,-582.19C4601.27,-570.29 4641.34,-557.12 4678.18,-545.01\"/>\n<polygon fill=\"black\" stroke=\"black\" points=\"4679.57,-548.24 4687.97,-541.8 4677.38,-541.59 4679.57,-548.24\"/>\n<text text-anchor=\"middle\" x=\"4676.7\" y=\"-560.41\" font-family=\"Helvetica,sans-Serif\" font-size=\"14.00\">False</text>\n</g>\n<!-- 2 -->\n<g id=\"node3\" class=\"node\">\n<title>2</title>\n<path fill=\"#dff9cf\" stroke=\"black\" d=\"M1588,-425C1588,-425 1379,-425 1379,-425 1373,-425 1367,-419 1367,-413 1367,-413 1367,-354 1367,-354 1367,-348 1373,-342 1379,-342 1379,-342 1588,-342 1588,-342 1594,-342 1600,-348 1600,-354 1600,-354 1600,-413 1600,-413 1600,-419 1594,-425 1588,-425\"/>\n<text text-anchor=\"start\" x=\"1426\" y=\"-409.8\" font-family=\"Helvetica,sans-Serif\" font-size=\"14.00\">subject_age ≤ 21.5</text>\n<text text-anchor=\"start\" x=\"1451.5\" y=\"-394.8\" font-family=\"Helvetica,sans-Serif\" font-size=\"14.00\">gini = 0.72</text>\n<text text-anchor=\"start\" x=\"1430.5\" y=\"-379.8\" font-family=\"Helvetica,sans-Serif\" font-size=\"14.00\">samples = 43.3%</text>\n<text text-anchor=\"start\" x=\"1375\" y=\"-364.8\" font-family=\"Helvetica,sans-Serif\" font-size=\"14.00\">value = [0.07, 0.42, 0.23, 0.08, 0.21]</text>\n<text text-anchor=\"start\" x=\"1444\" y=\"-349.8\" font-family=\"Helvetica,sans-Serif\" font-size=\"14.00\">class = black</text>\n</g>\n<!-- 1&#45;&gt;2 -->\n<g id=\"edge2\" class=\"edge\">\n<title>1&#45;&gt;2</title>\n<path fill=\"none\" stroke=\"black\" d=\"M2984.33,-493.3C2692.65,-472.15 1916.75,-415.91 1610.43,-393.7\"/>\n<polygon fill=\"black\" stroke=\"black\" points=\"1610.41,-390.19 1600.18,-392.96 1609.9,-397.17 1610.41,-390.19\"/>\n</g>\n<!-- 17 -->\n<g id=\"node18\" class=\"node\">\n<title>17</title>\n<path fill=\"#eefce5\" stroke=\"black\" d=\"M3198.5,-425C3198.5,-425 2996.5,-425 2996.5,-425 2990.5,-425 2984.5,-419 2984.5,-413 2984.5,-413 2984.5,-354 2984.5,-354 2984.5,-348 2990.5,-342 2996.5,-342 2996.5,-342 3198.5,-342 3198.5,-342 3204.5,-342 3210.5,-348 3210.5,-354 3210.5,-354 3210.5,-413 3210.5,-413 3210.5,-419 3204.5,-425 3198.5,-425\"/>\n<text text-anchor=\"start\" x=\"3040\" y=\"-409.8\" font-family=\"Helvetica,sans-Serif\" font-size=\"14.00\">subject_age ≤ 48.5</text>\n<text text-anchor=\"start\" x=\"3065.5\" y=\"-394.8\" font-family=\"Helvetica,sans-Serif\" font-size=\"14.00\">gini = 0.71</text>\n<text text-anchor=\"start\" x=\"3044.5\" y=\"-379.8\" font-family=\"Helvetica,sans-Serif\" font-size=\"14.00\">samples = 26.7%</text>\n<text text-anchor=\"start\" x=\"2992.5\" y=\"-364.8\" font-family=\"Helvetica,sans-Serif\" font-size=\"14.00\">value = [0.08, 0.4, 0.15, 0.06, 0.31]</text>\n<text text-anchor=\"start\" x=\"3058\" y=\"-349.8\" font-family=\"Helvetica,sans-Serif\" font-size=\"14.00\">class = black</text>\n</g>\n<!-- 1&#45;&gt;17 -->\n<g id=\"edge17\" class=\"edge\">\n<title>1&#45;&gt;17</title>\n<path fill=\"none\" stroke=\"black\" d=\"M3097.5,-460.91C3097.5,-452.65 3097.5,-443.86 3097.5,-435.3\"/>\n<polygon fill=\"black\" stroke=\"black\" points=\"3101,-435.02 3097.5,-425.02 3094,-435.02 3101,-435.02\"/>\n</g>\n<!-- 3 -->\n<g id=\"node4\" class=\"node\">\n<title>3</title>\n<path fill=\"#d9f7c5\" stroke=\"black\" d=\"M842,-306C842,-306 633,-306 633,-306 627,-306 621,-300 621,-294 621,-294 621,-235 621,-235 621,-229 627,-223 633,-223 633,-223 842,-223 842,-223 848,-223 854,-229 854,-235 854,-235 854,-294 854,-294 854,-300 848,-306 842,-306\"/>\n<text text-anchor=\"start\" x=\"694\" y=\"-290.8\" font-family=\"Helvetica,sans-Serif\" font-size=\"14.00\">outcome ≤ 0.5</text>\n<text text-anchor=\"start\" x=\"705.5\" y=\"-275.8\" font-family=\"Helvetica,sans-Serif\" font-size=\"14.00\">gini = 0.69</text>\n<text text-anchor=\"start\" x=\"684.5\" y=\"-260.8\" font-family=\"Helvetica,sans-Serif\" font-size=\"14.00\">samples = 10.4%</text>\n<text text-anchor=\"start\" x=\"629\" y=\"-245.8\" font-family=\"Helvetica,sans-Serif\" font-size=\"14.00\">value = [0.06, 0.47, 0.25, 0.08, 0.15]</text>\n<text text-anchor=\"start\" x=\"698\" y=\"-230.8\" font-family=\"Helvetica,sans-Serif\" font-size=\"14.00\">class = black</text>\n</g>\n<!-- 2&#45;&gt;3 -->\n<g id=\"edge3\" class=\"edge\">\n<title>2&#45;&gt;3</title>\n<path fill=\"none\" stroke=\"black\" d=\"M1366.94,-364.22C1230.37,-342.8 1004.92,-307.44 864.15,-285.36\"/>\n<polygon fill=\"black\" stroke=\"black\" points=\"864.59,-281.89 854.16,-283.8 863.5,-288.8 864.59,-281.89\"/>\n</g>\n<!-- 10 -->\n<g id=\"node11\" class=\"node\">\n<title>10</title>\n<path fill=\"#e1f9d2\" stroke=\"black\" d=\"M1584.5,-306C1584.5,-306 1382.5,-306 1382.5,-306 1376.5,-306 1370.5,-300 1370.5,-294 1370.5,-294 1370.5,-235 1370.5,-235 1370.5,-229 1376.5,-223 1382.5,-223 1382.5,-223 1584.5,-223 1584.5,-223 1590.5,-223 1596.5,-229 1596.5,-235 1596.5,-235 1596.5,-294 1596.5,-294 1596.5,-300 1590.5,-306 1584.5,-306\"/>\n<text text-anchor=\"start\" x=\"1440\" y=\"-290.8\" font-family=\"Helvetica,sans-Serif\" font-size=\"14.00\">outcome ≤ 0.5</text>\n<text text-anchor=\"start\" x=\"1451.5\" y=\"-275.8\" font-family=\"Helvetica,sans-Serif\" font-size=\"14.00\">gini = 0.73</text>\n<text text-anchor=\"start\" x=\"1430.5\" y=\"-260.8\" font-family=\"Helvetica,sans-Serif\" font-size=\"14.00\">samples = 32.8%</text>\n<text text-anchor=\"start\" x=\"1378.5\" y=\"-245.8\" font-family=\"Helvetica,sans-Serif\" font-size=\"14.00\">value = [0.07, 0.4, 0.23, 0.08, 0.22]</text>\n<text text-anchor=\"start\" x=\"1444\" y=\"-230.8\" font-family=\"Helvetica,sans-Serif\" font-size=\"14.00\">class = black</text>\n</g>\n<!-- 2&#45;&gt;10 -->\n<g id=\"edge10\" class=\"edge\">\n<title>2&#45;&gt;10</title>\n<path fill=\"none\" stroke=\"black\" d=\"M1483.5,-341.91C1483.5,-333.65 1483.5,-324.86 1483.5,-316.3\"/>\n<polygon fill=\"black\" stroke=\"black\" points=\"1487,-316.02 1483.5,-306.02 1480,-316.02 1487,-316.02\"/>\n</g>\n<!-- 4 -->\n<g id=\"node5\" class=\"node\">\n<title>4</title>\n<path fill=\"#d9f8c6\" stroke=\"black\" d=\"M465.5,-187C465.5,-187 263.5,-187 263.5,-187 257.5,-187 251.5,-181 251.5,-175 251.5,-175 251.5,-116 251.5,-116 251.5,-110 257.5,-104 263.5,-104 263.5,-104 465.5,-104 465.5,-104 471.5,-104 477.5,-110 477.5,-116 477.5,-116 477.5,-175 477.5,-175 477.5,-181 471.5,-187 465.5,-187\"/>\n<text text-anchor=\"start\" x=\"307\" y=\"-171.8\" font-family=\"Helvetica,sans-Serif\" font-size=\"14.00\">subject_age ≤ 18.5</text>\n<text text-anchor=\"start\" x=\"332.5\" y=\"-156.8\" font-family=\"Helvetica,sans-Serif\" font-size=\"14.00\">gini = 0.72</text>\n<text text-anchor=\"start\" x=\"315\" y=\"-141.8\" font-family=\"Helvetica,sans-Serif\" font-size=\"14.00\">samples = 2.2%</text>\n<text text-anchor=\"start\" x=\"259.5\" y=\"-126.8\" font-family=\"Helvetica,sans-Serif\" font-size=\"14.00\">value = [0.11, 0.43, 0.2, 0.07, 0.19]</text>\n<text text-anchor=\"start\" x=\"325\" y=\"-111.8\" font-family=\"Helvetica,sans-Serif\" font-size=\"14.00\">class = black</text>\n</g>\n<!-- 3&#45;&gt;4 -->\n<g id=\"edge4\" class=\"edge\">\n<title>3&#45;&gt;4</title>\n<path fill=\"none\" stroke=\"black\" d=\"M620.76,-226.88C578.34,-213.58 530.3,-198.51 487.37,-185.04\"/>\n<polygon fill=\"black\" stroke=\"black\" points=\"488.31,-181.67 477.72,-182.01 486.21,-188.35 488.31,-181.67\"/>\n</g>\n<!-- 7 -->\n<g id=\"node8\" class=\"node\">\n<title>7</title>\n<path fill=\"#d8f7c5\" stroke=\"black\" d=\"M842,-187C842,-187 633,-187 633,-187 627,-187 621,-181 621,-175 621,-175 621,-116 621,-116 621,-110 627,-104 633,-104 633,-104 842,-104 842,-104 848,-104 854,-110 854,-116 854,-116 854,-175 854,-175 854,-181 848,-187 842,-187\"/>\n<text text-anchor=\"start\" x=\"680\" y=\"-171.8\" font-family=\"Helvetica,sans-Serif\" font-size=\"14.00\">subject_age ≤ 17.5</text>\n<text text-anchor=\"start\" x=\"705.5\" y=\"-156.8\" font-family=\"Helvetica,sans-Serif\" font-size=\"14.00\">gini = 0.68</text>\n<text text-anchor=\"start\" x=\"688\" y=\"-141.8\" font-family=\"Helvetica,sans-Serif\" font-size=\"14.00\">samples = 8.3%</text>\n<text text-anchor=\"start\" x=\"629\" y=\"-126.8\" font-family=\"Helvetica,sans-Serif\" font-size=\"14.00\">value = [0.04, 0.48, 0.26, 0.08, 0.14]</text>\n<text text-anchor=\"start\" x=\"698\" y=\"-111.8\" font-family=\"Helvetica,sans-Serif\" font-size=\"14.00\">class = black</text>\n</g>\n<!-- 3&#45;&gt;7 -->\n<g id=\"edge7\" class=\"edge\">\n<title>3&#45;&gt;7</title>\n<path fill=\"none\" stroke=\"black\" d=\"M737.5,-222.91C737.5,-214.65 737.5,-205.86 737.5,-197.3\"/>\n<polygon fill=\"black\" stroke=\"black\" points=\"741,-197.02 737.5,-187.02 734,-197.02 741,-197.02\"/>\n</g>\n<!-- 5 -->\n<g id=\"node6\" class=\"node\">\n<title>5</title>\n<path fill=\"#c0f3a1\" stroke=\"black\" d=\"M221,-68C221,-68 12,-68 12,-68 6,-68 0,-62 0,-56 0,-56 0,-12 0,-12 0,-6 6,0 12,0 12,0 221,0 221,0 227,0 233,-6 233,-12 233,-12 233,-56 233,-56 233,-62 227,-68 221,-68\"/>\n<text text-anchor=\"start\" x=\"84.5\" y=\"-52.8\" font-family=\"Helvetica,sans-Serif\" font-size=\"14.00\">gini = 0.61</text>\n<text text-anchor=\"start\" x=\"67\" y=\"-37.8\" font-family=\"Helvetica,sans-Serif\" font-size=\"14.00\">samples = 0.5%</text>\n<text text-anchor=\"start\" x=\"8\" y=\"-22.8\" font-family=\"Helvetica,sans-Serif\" font-size=\"14.00\">value = [0.06, 0.57, 0.15, 0.04, 0.18]</text>\n<text text-anchor=\"start\" x=\"77\" y=\"-7.8\" font-family=\"Helvetica,sans-Serif\" font-size=\"14.00\">class = black</text>\n</g>\n<!-- 4&#45;&gt;5 -->\n<g id=\"edge5\" class=\"edge\">\n<title>4&#45;&gt;5</title>\n<path fill=\"none\" stroke=\"black\" d=\"M272.51,-103.88C249,-93.5 223.85,-82.4 200.76,-72.2\"/>\n<polygon fill=\"black\" stroke=\"black\" points=\"201.9,-68.88 191.34,-68.04 199.07,-75.28 201.9,-68.88\"/>\n</g>\n<!-- 6 -->\n<g id=\"node7\" class=\"node\">\n<title>6</title>\n<path fill=\"#e2f9d3\" stroke=\"black\" d=\"M465.5,-68C465.5,-68 263.5,-68 263.5,-68 257.5,-68 251.5,-62 251.5,-56 251.5,-56 251.5,-12 251.5,-12 251.5,-6 257.5,0 263.5,0 263.5,0 465.5,0 465.5,0 471.5,0 477.5,-6 477.5,-12 477.5,-12 477.5,-56 477.5,-56 477.5,-62 471.5,-68 465.5,-68\"/>\n<text text-anchor=\"start\" x=\"332.5\" y=\"-52.8\" font-family=\"Helvetica,sans-Serif\" font-size=\"14.00\">gini = 0.74</text>\n<text text-anchor=\"start\" x=\"315\" y=\"-37.8\" font-family=\"Helvetica,sans-Serif\" font-size=\"14.00\">samples = 1.7%</text>\n<text text-anchor=\"start\" x=\"259.5\" y=\"-22.8\" font-family=\"Helvetica,sans-Serif\" font-size=\"14.00\">value = [0.13, 0.39, 0.21, 0.08, 0.2]</text>\n<text text-anchor=\"start\" x=\"325\" y=\"-7.8\" font-family=\"Helvetica,sans-Serif\" font-size=\"14.00\">class = black</text>\n</g>\n<!-- 4&#45;&gt;6 -->\n<g id=\"edge6\" class=\"edge\">\n<title>4&#45;&gt;6</title>\n<path fill=\"none\" stroke=\"black\" d=\"M364.5,-103.73C364.5,-95.52 364.5,-86.86 364.5,-78.56\"/>\n<polygon fill=\"black\" stroke=\"black\" points=\"368,-78.3 364.5,-68.3 361,-78.3 368,-78.3\"/>\n</g>\n<!-- 8 -->\n<g id=\"node9\" class=\"node\">\n<title>8</title>\n<path fill=\"#e8fcf8\" stroke=\"black\" d=\"M717,-68C717,-68 508,-68 508,-68 502,-68 496,-62 496,-56 496,-56 496,-12 496,-12 496,-6 502,0 508,0 508,0 717,0 717,0 723,0 729,-6 729,-12 729,-12 729,-56 729,-56 729,-62 723,-68 717,-68\"/>\n<text text-anchor=\"start\" x=\"580.5\" y=\"-52.8\" font-family=\"Helvetica,sans-Serif\" font-size=\"14.00\">gini = 0.71</text>\n<text text-anchor=\"start\" x=\"563\" y=\"-37.8\" font-family=\"Helvetica,sans-Serif\" font-size=\"14.00\">samples = 0.4%</text>\n<text text-anchor=\"start\" x=\"504\" y=\"-22.8\" font-family=\"Helvetica,sans-Serif\" font-size=\"14.00\">value = [0.05, 0.31, 0.39, 0.09, 0.16]</text>\n<text text-anchor=\"start\" x=\"564\" y=\"-7.8\" font-family=\"Helvetica,sans-Serif\" font-size=\"14.00\">class = hispanic</text>\n</g>\n<!-- 7&#45;&gt;8 -->\n<g id=\"edge8\" class=\"edge\">\n<title>7&#45;&gt;8</title>\n<path fill=\"none\" stroke=\"black\" d=\"M690.95,-103.73C680.23,-94.33 668.83,-84.35 658.15,-74.99\"/>\n<polygon fill=\"black\" stroke=\"black\" points=\"660.34,-72.26 650.51,-68.3 655.73,-77.52 660.34,-72.26\"/>\n</g>\n<!-- 9 -->\n<g id=\"node10\" class=\"node\">\n<title>9</title>\n<path fill=\"#d6f7c1\" stroke=\"black\" d=\"M968,-68C968,-68 759,-68 759,-68 753,-68 747,-62 747,-56 747,-56 747,-12 747,-12 747,-6 753,0 759,0 759,0 968,0 968,0 974,0 980,-6 980,-12 980,-12 980,-56 980,-56 980,-62 974,-68 968,-68\"/>\n<text text-anchor=\"start\" x=\"831.5\" y=\"-52.8\" font-family=\"Helvetica,sans-Serif\" font-size=\"14.00\">gini = 0.67</text>\n<text text-anchor=\"start\" x=\"814\" y=\"-37.8\" font-family=\"Helvetica,sans-Serif\" font-size=\"14.00\">samples = 7.8%</text>\n<text text-anchor=\"start\" x=\"755\" y=\"-22.8\" font-family=\"Helvetica,sans-Serif\" font-size=\"14.00\">value = [0.04, 0.48, 0.25, 0.08, 0.14]</text>\n<text text-anchor=\"start\" x=\"824\" y=\"-7.8\" font-family=\"Helvetica,sans-Serif\" font-size=\"14.00\">class = black</text>\n</g>\n<!-- 7&#45;&gt;9 -->\n<g id=\"edge9\" class=\"edge\">\n<title>7&#45;&gt;9</title>\n<path fill=\"none\" stroke=\"black\" d=\"M784.42,-103.73C795.23,-94.33 806.71,-84.35 817.49,-74.99\"/>\n<polygon fill=\"black\" stroke=\"black\" points=\"819.93,-77.5 825.18,-68.3 815.34,-72.22 819.93,-77.5\"/>\n</g>\n<!-- 11 -->\n<g id=\"node12\" class=\"node\">\n<title>11</title>\n<path fill=\"#f3fded\" stroke=\"black\" d=\"M1463,-187C1463,-187 1254,-187 1254,-187 1248,-187 1242,-181 1242,-175 1242,-175 1242,-116 1242,-116 1242,-110 1248,-104 1254,-104 1254,-104 1463,-104 1463,-104 1469,-104 1475,-110 1475,-116 1475,-116 1475,-175 1475,-175 1475,-181 1469,-187 1463,-187\"/>\n<text text-anchor=\"start\" x=\"1301\" y=\"-171.8\" font-family=\"Helvetica,sans-Serif\" font-size=\"14.00\">subject_age ≤ 25.5</text>\n<text text-anchor=\"start\" x=\"1326.5\" y=\"-156.8\" font-family=\"Helvetica,sans-Serif\" font-size=\"14.00\">gini = 0.75</text>\n<text text-anchor=\"start\" x=\"1309\" y=\"-141.8\" font-family=\"Helvetica,sans-Serif\" font-size=\"14.00\">samples = 6.7%</text>\n<text text-anchor=\"start\" x=\"1250\" y=\"-126.8\" font-family=\"Helvetica,sans-Serif\" font-size=\"14.00\">value = [0.09, 0.33, 0.24, 0.08, 0.26]</text>\n<text text-anchor=\"start\" x=\"1319\" y=\"-111.8\" font-family=\"Helvetica,sans-Serif\" font-size=\"14.00\">class = black</text>\n</g>\n<!-- 10&#45;&gt;11 -->\n<g id=\"edge11\" class=\"edge\">\n<title>10&#45;&gt;11</title>\n<path fill=\"none\" stroke=\"black\" d=\"M1440.13,-222.91C1430.15,-213.56 1419.44,-203.54 1409.17,-193.93\"/>\n<polygon fill=\"black\" stroke=\"black\" points=\"1411.48,-191.3 1401.79,-187.02 1406.7,-196.41 1411.48,-191.3\"/>\n</g>\n<!-- 14 -->\n<g id=\"node15\" class=\"node\">\n<title>14</title>\n<path fill=\"#def8cd\" stroke=\"black\" d=\"M1714,-187C1714,-187 1505,-187 1505,-187 1499,-187 1493,-181 1493,-175 1493,-175 1493,-116 1493,-116 1493,-110 1499,-104 1505,-104 1505,-104 1714,-104 1714,-104 1720,-104 1726,-110 1726,-116 1726,-116 1726,-175 1726,-175 1726,-181 1720,-187 1714,-187\"/>\n<text text-anchor=\"start\" x=\"1552\" y=\"-171.8\" font-family=\"Helvetica,sans-Serif\" font-size=\"14.00\">subject_age ≤ 28.5</text>\n<text text-anchor=\"start\" x=\"1577.5\" y=\"-156.8\" font-family=\"Helvetica,sans-Serif\" font-size=\"14.00\">gini = 0.72</text>\n<text text-anchor=\"start\" x=\"1556.5\" y=\"-141.8\" font-family=\"Helvetica,sans-Serif\" font-size=\"14.00\">samples = 26.1%</text>\n<text text-anchor=\"start\" x=\"1501\" y=\"-126.8\" font-family=\"Helvetica,sans-Serif\" font-size=\"14.00\">value = [0.07, 0.42, 0.23, 0.08, 0.21]</text>\n<text text-anchor=\"start\" x=\"1570\" y=\"-111.8\" font-family=\"Helvetica,sans-Serif\" font-size=\"14.00\">class = black</text>\n</g>\n<!-- 10&#45;&gt;14 -->\n<g id=\"edge14\" class=\"edge\">\n<title>10&#45;&gt;14</title>\n<path fill=\"none\" stroke=\"black\" d=\"M1527.22,-222.91C1537.28,-213.56 1548.07,-203.54 1558.42,-193.93\"/>\n<polygon fill=\"black\" stroke=\"black\" points=\"1560.92,-196.39 1565.86,-187.02 1556.15,-191.26 1560.92,-196.39\"/>\n</g>\n<!-- 12 -->\n<g id=\"node13\" class=\"node\">\n<title>12</title>\n<path fill=\"#e7fadb\" stroke=\"black\" d=\"M1219,-68C1219,-68 1010,-68 1010,-68 1004,-68 998,-62 998,-56 998,-56 998,-12 998,-12 998,-6 1004,0 1010,0 1010,0 1219,0 1219,0 1225,0 1231,-6 1231,-12 1231,-12 1231,-56 1231,-56 1231,-62 1225,-68 1219,-68\"/>\n<text text-anchor=\"start\" x=\"1082.5\" y=\"-52.8\" font-family=\"Helvetica,sans-Serif\" font-size=\"14.00\">gini = 0.74</text>\n<text text-anchor=\"start\" x=\"1065\" y=\"-37.8\" font-family=\"Helvetica,sans-Serif\" font-size=\"14.00\">samples = 2.6%</text>\n<text text-anchor=\"start\" x=\"1006\" y=\"-22.8\" font-family=\"Helvetica,sans-Serif\" font-size=\"14.00\">value = [0.09, 0.37, 0.22, 0.08, 0.24]</text>\n<text text-anchor=\"start\" x=\"1075\" y=\"-7.8\" font-family=\"Helvetica,sans-Serif\" font-size=\"14.00\">class = black</text>\n</g>\n<!-- 11&#45;&gt;12 -->\n<g id=\"edge12\" class=\"edge\">\n<title>11&#45;&gt;12</title>\n<path fill=\"none\" stroke=\"black\" d=\"M1267.99,-103.88C1244.87,-93.5 1220.12,-82.4 1197.4,-72.2\"/>\n<polygon fill=\"black\" stroke=\"black\" points=\"1198.69,-68.94 1188.13,-68.04 1195.82,-75.33 1198.69,-68.94\"/>\n</g>\n<!-- 13 -->\n<g id=\"node14\" class=\"node\">\n<title>13</title>\n<path fill=\"#fbfef9\" stroke=\"black\" d=\"M1463.5,-68C1463.5,-68 1261.5,-68 1261.5,-68 1255.5,-68 1249.5,-62 1249.5,-56 1249.5,-56 1249.5,-12 1249.5,-12 1249.5,-6 1255.5,0 1261.5,0 1261.5,0 1463.5,0 1463.5,0 1469.5,0 1475.5,-6 1475.5,-12 1475.5,-12 1475.5,-56 1475.5,-56 1475.5,-62 1469.5,-68 1463.5,-68\"/>\n<text text-anchor=\"start\" x=\"1330.5\" y=\"-52.8\" font-family=\"Helvetica,sans-Serif\" font-size=\"14.00\">gini = 0.76</text>\n<text text-anchor=\"start\" x=\"1313\" y=\"-37.8\" font-family=\"Helvetica,sans-Serif\" font-size=\"14.00\">samples = 4.1%</text>\n<text text-anchor=\"start\" x=\"1257.5\" y=\"-22.8\" font-family=\"Helvetica,sans-Serif\" font-size=\"14.00\">value = [0.09, 0.3, 0.24, 0.08, 0.28]</text>\n<text text-anchor=\"start\" x=\"1323\" y=\"-7.8\" font-family=\"Helvetica,sans-Serif\" font-size=\"14.00\">class = black</text>\n</g>\n<!-- 11&#45;&gt;13 -->\n<g id=\"edge13\" class=\"edge\">\n<title>11&#45;&gt;13</title>\n<path fill=\"none\" stroke=\"black\" d=\"M1359.99,-103.73C1360.29,-95.52 1360.61,-86.86 1360.91,-78.56\"/>\n<polygon fill=\"black\" stroke=\"black\" points=\"1364.42,-78.42 1361.28,-68.3 1357.42,-78.17 1364.42,-78.42\"/>\n</g>\n<!-- 15 -->\n<g id=\"node16\" class=\"node\">\n<title>15</title>\n<path fill=\"#def8cd\" stroke=\"black\" d=\"M1707.5,-68C1707.5,-68 1505.5,-68 1505.5,-68 1499.5,-68 1493.5,-62 1493.5,-56 1493.5,-56 1493.5,-12 1493.5,-12 1493.5,-6 1499.5,0 1505.5,0 1505.5,0 1707.5,0 1707.5,0 1713.5,0 1719.5,-6 1719.5,-12 1719.5,-12 1719.5,-56 1719.5,-56 1719.5,-62 1713.5,-68 1707.5,-68\"/>\n<text text-anchor=\"start\" x=\"1574.5\" y=\"-52.8\" font-family=\"Helvetica,sans-Serif\" font-size=\"14.00\">gini = 0.72</text>\n<text text-anchor=\"start\" x=\"1553.5\" y=\"-37.8\" font-family=\"Helvetica,sans-Serif\" font-size=\"14.00\">samples = 17.6%</text>\n<text text-anchor=\"start\" x=\"1501.5\" y=\"-22.8\" font-family=\"Helvetica,sans-Serif\" font-size=\"14.00\">value = [0.08, 0.42, 0.23, 0.08, 0.2]</text>\n<text text-anchor=\"start\" x=\"1567\" y=\"-7.8\" font-family=\"Helvetica,sans-Serif\" font-size=\"14.00\">class = black</text>\n</g>\n<!-- 14&#45;&gt;15 -->\n<g id=\"edge15\" class=\"edge\">\n<title>14&#45;&gt;15</title>\n<path fill=\"none\" stroke=\"black\" d=\"M1608.38,-103.73C1608.16,-95.52 1607.92,-86.86 1607.69,-78.56\"/>\n<polygon fill=\"black\" stroke=\"black\" points=\"1611.18,-78.2 1607.41,-68.3 1604.19,-78.39 1611.18,-78.2\"/>\n</g>\n<!-- 16 -->\n<g id=\"node17\" class=\"node\">\n<title>16</title>\n<path fill=\"#e0f9d0\" stroke=\"black\" d=\"M1959,-68C1959,-68 1750,-68 1750,-68 1744,-68 1738,-62 1738,-56 1738,-56 1738,-12 1738,-12 1738,-6 1744,0 1750,0 1750,0 1959,0 1959,0 1965,0 1971,-6 1971,-12 1971,-12 1971,-56 1971,-56 1971,-62 1965,-68 1959,-68\"/>\n<text text-anchor=\"start\" x=\"1822.5\" y=\"-52.8\" font-family=\"Helvetica,sans-Serif\" font-size=\"14.00\">gini = 0.71</text>\n<text text-anchor=\"start\" x=\"1805\" y=\"-37.8\" font-family=\"Helvetica,sans-Serif\" font-size=\"14.00\">samples = 8.5%</text>\n<text text-anchor=\"start\" x=\"1746\" y=\"-22.8\" font-family=\"Helvetica,sans-Serif\" font-size=\"14.00\">value = [0.05, 0.42, 0.22, 0.07, 0.24]</text>\n<text text-anchor=\"start\" x=\"1815\" y=\"-7.8\" font-family=\"Helvetica,sans-Serif\" font-size=\"14.00\">class = black</text>\n</g>\n<!-- 14&#45;&gt;16 -->\n<g id=\"edge16\" class=\"edge\">\n<title>14&#45;&gt;16</title>\n<path fill=\"none\" stroke=\"black\" d=\"M1700.38,-103.88C1723.6,-93.5 1748.45,-82.4 1771.26,-72.2\"/>\n<polygon fill=\"black\" stroke=\"black\" points=\"1772.87,-75.32 1780.57,-68.04 1770.01,-68.93 1772.87,-75.32\"/>\n</g>\n<!-- 18 -->\n<g id=\"node19\" class=\"node\">\n<title>18</title>\n<path fill=\"#ecfbe2\" stroke=\"black\" d=\"M2827.5,-306C2827.5,-306 2625.5,-306 2625.5,-306 2619.5,-306 2613.5,-300 2613.5,-294 2613.5,-294 2613.5,-235 2613.5,-235 2613.5,-229 2619.5,-223 2625.5,-223 2625.5,-223 2827.5,-223 2827.5,-223 2833.5,-223 2839.5,-229 2839.5,-235 2839.5,-235 2839.5,-294 2839.5,-294 2839.5,-300 2833.5,-306 2827.5,-306\"/>\n<text text-anchor=\"start\" x=\"2683\" y=\"-290.8\" font-family=\"Helvetica,sans-Serif\" font-size=\"14.00\">outcome ≤ 0.5</text>\n<text text-anchor=\"start\" x=\"2694.5\" y=\"-275.8\" font-family=\"Helvetica,sans-Serif\" font-size=\"14.00\">gini = 0.72</text>\n<text text-anchor=\"start\" x=\"2673.5\" y=\"-260.8\" font-family=\"Helvetica,sans-Serif\" font-size=\"14.00\">samples = 18.5%</text>\n<text text-anchor=\"start\" x=\"2621.5\" y=\"-245.8\" font-family=\"Helvetica,sans-Serif\" font-size=\"14.00\">value = [0.07, 0.4, 0.17, 0.07, 0.29]</text>\n<text text-anchor=\"start\" x=\"2687\" y=\"-230.8\" font-family=\"Helvetica,sans-Serif\" font-size=\"14.00\">class = black</text>\n</g>\n<!-- 17&#45;&gt;18 -->\n<g id=\"edge18\" class=\"edge\">\n<title>17&#45;&gt;18</title>\n<path fill=\"none\" stroke=\"black\" d=\"M2984.42,-346.84C2941.72,-333.37 2892.95,-317.99 2849.39,-304.25\"/>\n<polygon fill=\"black\" stroke=\"black\" points=\"2850.19,-300.84 2839.6,-301.17 2848.08,-307.51 2850.19,-300.84\"/>\n</g>\n<!-- 25 -->\n<g id=\"node26\" class=\"node\">\n<title>25</title>\n<path fill=\"#f3fdec\" stroke=\"black\" d=\"M3319.5,-306C3319.5,-306 3125.5,-306 3125.5,-306 3119.5,-306 3113.5,-300 3113.5,-294 3113.5,-294 3113.5,-235 3113.5,-235 3113.5,-229 3119.5,-223 3125.5,-223 3125.5,-223 3319.5,-223 3319.5,-223 3325.5,-223 3331.5,-229 3331.5,-235 3331.5,-235 3331.5,-294 3331.5,-294 3331.5,-300 3325.5,-306 3319.5,-306\"/>\n<text text-anchor=\"start\" x=\"3165\" y=\"-290.8\" font-family=\"Helvetica,sans-Serif\" font-size=\"14.00\">subject_age ≤ 70.5</text>\n<text text-anchor=\"start\" x=\"3190.5\" y=\"-275.8\" font-family=\"Helvetica,sans-Serif\" font-size=\"14.00\">gini = 0.69</text>\n<text text-anchor=\"start\" x=\"3173\" y=\"-260.8\" font-family=\"Helvetica,sans-Serif\" font-size=\"14.00\">samples = 8.2%</text>\n<text text-anchor=\"start\" x=\"3121.5\" y=\"-245.8\" font-family=\"Helvetica,sans-Serif\" font-size=\"14.00\">value = [0.1, 0.41, 0.1, 0.05, 0.35]</text>\n<text text-anchor=\"start\" x=\"3183\" y=\"-230.8\" font-family=\"Helvetica,sans-Serif\" font-size=\"14.00\">class = black</text>\n</g>\n<!-- 17&#45;&gt;25 -->\n<g id=\"edge25\" class=\"edge\">\n<title>17&#45;&gt;25</title>\n<path fill=\"none\" stroke=\"black\" d=\"M3140.87,-341.91C3150.85,-332.56 3161.56,-322.54 3171.83,-312.93\"/>\n<polygon fill=\"black\" stroke=\"black\" points=\"3174.3,-315.41 3179.21,-306.02 3169.52,-310.3 3174.3,-315.41\"/>\n</g>\n<!-- 19 -->\n<g id=\"node20\" class=\"node\">\n<title>19</title>\n<path fill=\"#ffffff\" stroke=\"black\" d=\"M2455,-187C2455,-187 2246,-187 2246,-187 2240,-187 2234,-181 2234,-175 2234,-175 2234,-116 2234,-116 2234,-110 2240,-104 2246,-104 2246,-104 2455,-104 2455,-104 2461,-104 2467,-110 2467,-116 2467,-116 2467,-175 2467,-175 2467,-181 2461,-187 2455,-187\"/>\n<text text-anchor=\"start\" x=\"2293\" y=\"-171.8\" font-family=\"Helvetica,sans-Serif\" font-size=\"14.00\">subject_age ≤ 34.5</text>\n<text text-anchor=\"start\" x=\"2318.5\" y=\"-156.8\" font-family=\"Helvetica,sans-Serif\" font-size=\"14.00\">gini = 0.73</text>\n<text text-anchor=\"start\" x=\"2301\" y=\"-141.8\" font-family=\"Helvetica,sans-Serif\" font-size=\"14.00\">samples = 4.7%</text>\n<text text-anchor=\"start\" x=\"2242\" y=\"-126.8\" font-family=\"Helvetica,sans-Serif\" font-size=\"14.00\">value = [0.08, 0.34, 0.17, 0.07, 0.34]</text>\n<text text-anchor=\"start\" x=\"2311\" y=\"-111.8\" font-family=\"Helvetica,sans-Serif\" font-size=\"14.00\">class = black</text>\n</g>\n<!-- 18&#45;&gt;19 -->\n<g id=\"edge19\" class=\"edge\">\n<title>18&#45;&gt;19</title>\n<path fill=\"none\" stroke=\"black\" d=\"M2613.43,-228.32C2570.41,-214.93 2521.14,-199.6 2476.96,-185.85\"/>\n<polygon fill=\"black\" stroke=\"black\" points=\"2477.91,-182.48 2467.32,-182.85 2475.83,-189.16 2477.91,-182.48\"/>\n</g>\n<!-- 22 -->\n<g id=\"node23\" class=\"node\">\n<title>22</title>\n<path fill=\"#e6fad9\" stroke=\"black\" d=\"M2831,-187C2831,-187 2622,-187 2622,-187 2616,-187 2610,-181 2610,-175 2610,-175 2610,-116 2610,-116 2610,-110 2616,-104 2622,-104 2622,-104 2831,-104 2831,-104 2837,-104 2843,-110 2843,-116 2843,-116 2843,-175 2843,-175 2843,-181 2837,-187 2831,-187\"/>\n<text text-anchor=\"start\" x=\"2669\" y=\"-171.8\" font-family=\"Helvetica,sans-Serif\" font-size=\"14.00\">subject_age ≤ 42.5</text>\n<text text-anchor=\"start\" x=\"2694.5\" y=\"-156.8\" font-family=\"Helvetica,sans-Serif\" font-size=\"14.00\">gini = 0.71</text>\n<text text-anchor=\"start\" x=\"2673.5\" y=\"-141.8\" font-family=\"Helvetica,sans-Serif\" font-size=\"14.00\">samples = 13.8%</text>\n<text text-anchor=\"start\" x=\"2618\" y=\"-126.8\" font-family=\"Helvetica,sans-Serif\" font-size=\"14.00\">value = [0.07, 0.41, 0.17, 0.07, 0.28]</text>\n<text text-anchor=\"start\" x=\"2687\" y=\"-111.8\" font-family=\"Helvetica,sans-Serif\" font-size=\"14.00\">class = black</text>\n</g>\n<!-- 18&#45;&gt;22 -->\n<g id=\"edge22\" class=\"edge\">\n<title>18&#45;&gt;22</title>\n<path fill=\"none\" stroke=\"black\" d=\"M2726.5,-222.91C2726.5,-214.65 2726.5,-205.86 2726.5,-197.3\"/>\n<polygon fill=\"black\" stroke=\"black\" points=\"2730,-197.02 2726.5,-187.02 2723,-197.02 2730,-197.02\"/>\n</g>\n<!-- 20 -->\n<g id=\"node21\" class=\"node\">\n<title>20</title>\n<path fill=\"#f7fdf2\" stroke=\"black\" d=\"M2203.5,-68C2203.5,-68 2001.5,-68 2001.5,-68 1995.5,-68 1989.5,-62 1989.5,-56 1989.5,-56 1989.5,-12 1989.5,-12 1989.5,-6 1995.5,0 2001.5,0 2001.5,0 2203.5,0 2203.5,0 2209.5,0 2215.5,-6 2215.5,-12 2215.5,-12 2215.5,-56 2215.5,-56 2215.5,-62 2209.5,-68 2203.5,-68\"/>\n<text text-anchor=\"start\" x=\"2070.5\" y=\"-52.8\" font-family=\"Helvetica,sans-Serif\" font-size=\"14.00\">gini = 0.64</text>\n<text text-anchor=\"start\" x=\"2053\" y=\"-37.8\" font-family=\"Helvetica,sans-Serif\" font-size=\"14.00\">samples = 0.5%</text>\n<text text-anchor=\"start\" x=\"1997.5\" y=\"-22.8\" font-family=\"Helvetica,sans-Serif\" font-size=\"14.00\">value = [0.08, 0.44, 0.03, 0.06, 0.4]</text>\n<text text-anchor=\"start\" x=\"2063\" y=\"-7.8\" font-family=\"Helvetica,sans-Serif\" font-size=\"14.00\">class = black</text>\n</g>\n<!-- 19&#45;&gt;20 -->\n<g id=\"edge20\" class=\"edge\">\n<title>19&#45;&gt;20</title>\n<path fill=\"none\" stroke=\"black\" d=\"M2258.51,-103.88C2235,-93.5 2209.85,-82.4 2186.76,-72.2\"/>\n<polygon fill=\"black\" stroke=\"black\" points=\"2187.9,-68.88 2177.34,-68.04 2185.07,-75.28 2187.9,-68.88\"/>\n</g>\n<!-- 21 -->\n<g id=\"node22\" class=\"node\">\n<title>21</title>\n<path fill=\"#fffeff\" stroke=\"black\" d=\"M2455,-68C2455,-68 2246,-68 2246,-68 2240,-68 2234,-62 2234,-56 2234,-56 2234,-12 2234,-12 2234,-6 2240,0 2246,0 2246,0 2455,0 2455,0 2461,0 2467,-6 2467,-12 2467,-12 2467,-56 2467,-56 2467,-62 2461,-68 2455,-68\"/>\n<text text-anchor=\"start\" x=\"2318.5\" y=\"-52.8\" font-family=\"Helvetica,sans-Serif\" font-size=\"14.00\">gini = 0.73</text>\n<text text-anchor=\"start\" x=\"2301\" y=\"-37.8\" font-family=\"Helvetica,sans-Serif\" font-size=\"14.00\">samples = 4.1%</text>\n<text text-anchor=\"start\" x=\"2242\" y=\"-22.8\" font-family=\"Helvetica,sans-Serif\" font-size=\"14.00\">value = [0.08, 0.33, 0.18, 0.07, 0.34]</text>\n<text text-anchor=\"start\" x=\"2311.5\" y=\"-7.8\" font-family=\"Helvetica,sans-Serif\" font-size=\"14.00\">class = other</text>\n</g>\n<!-- 19&#45;&gt;21 -->\n<g id=\"edge21\" class=\"edge\">\n<title>19&#45;&gt;21</title>\n<path fill=\"none\" stroke=\"black\" d=\"M2350.5,-103.73C2350.5,-95.52 2350.5,-86.86 2350.5,-78.56\"/>\n<polygon fill=\"black\" stroke=\"black\" points=\"2354,-78.3 2350.5,-68.3 2347,-78.3 2354,-78.3\"/>\n</g>\n<!-- 23 -->\n<g id=\"node24\" class=\"node\">\n<title>23</title>\n<path fill=\"#e0f9d1\" stroke=\"black\" d=\"M2706,-68C2706,-68 2497,-68 2497,-68 2491,-68 2485,-62 2485,-56 2485,-56 2485,-12 2485,-12 2485,-6 2491,0 2497,0 2497,0 2706,0 2706,0 2712,0 2718,-6 2718,-12 2718,-12 2718,-56 2718,-56 2718,-62 2712,-68 2706,-68\"/>\n<text text-anchor=\"start\" x=\"2569.5\" y=\"-52.8\" font-family=\"Helvetica,sans-Serif\" font-size=\"14.00\">gini = 0.71</text>\n<text text-anchor=\"start\" x=\"2552\" y=\"-37.8\" font-family=\"Helvetica,sans-Serif\" font-size=\"14.00\">samples = 9.2%</text>\n<text text-anchor=\"start\" x=\"2493\" y=\"-22.8\" font-family=\"Helvetica,sans-Serif\" font-size=\"14.00\">value = [0.06, 0.43, 0.17, 0.08, 0.26]</text>\n<text text-anchor=\"start\" x=\"2562\" y=\"-7.8\" font-family=\"Helvetica,sans-Serif\" font-size=\"14.00\">class = black</text>\n</g>\n<!-- 22&#45;&gt;23 -->\n<g id=\"edge23\" class=\"edge\">\n<title>22&#45;&gt;23</title>\n<path fill=\"none\" stroke=\"black\" d=\"M2679.95,-103.73C2669.23,-94.33 2657.83,-84.35 2647.15,-74.99\"/>\n<polygon fill=\"black\" stroke=\"black\" points=\"2649.34,-72.26 2639.51,-68.3 2644.73,-77.52 2649.34,-72.26\"/>\n</g>\n<!-- 24 -->\n<g id=\"node25\" class=\"node\">\n<title>24</title>\n<path fill=\"#f2fcec\" stroke=\"black\" d=\"M2957,-68C2957,-68 2748,-68 2748,-68 2742,-68 2736,-62 2736,-56 2736,-56 2736,-12 2736,-12 2736,-6 2742,0 2748,0 2748,0 2957,0 2957,0 2963,0 2969,-6 2969,-12 2969,-12 2969,-56 2969,-56 2969,-62 2963,-68 2957,-68\"/>\n<text text-anchor=\"start\" x=\"2820.5\" y=\"-52.8\" font-family=\"Helvetica,sans-Serif\" font-size=\"14.00\">gini = 0.72</text>\n<text text-anchor=\"start\" x=\"2803\" y=\"-37.8\" font-family=\"Helvetica,sans-Serif\" font-size=\"14.00\">samples = 4.6%</text>\n<text text-anchor=\"start\" x=\"2744\" y=\"-22.8\" font-family=\"Helvetica,sans-Serif\" font-size=\"14.00\">value = [0.08, 0.38, 0.17, 0.05, 0.31]</text>\n<text text-anchor=\"start\" x=\"2813\" y=\"-7.8\" font-family=\"Helvetica,sans-Serif\" font-size=\"14.00\">class = black</text>\n</g>\n<!-- 22&#45;&gt;24 -->\n<g id=\"edge24\" class=\"edge\">\n<title>22&#45;&gt;24</title>\n<path fill=\"none\" stroke=\"black\" d=\"M2773.42,-103.73C2784.23,-94.33 2795.71,-84.35 2806.49,-74.99\"/>\n<polygon fill=\"black\" stroke=\"black\" points=\"2808.93,-77.5 2814.18,-68.3 2804.34,-72.22 2808.93,-77.5\"/>\n</g>\n<!-- 26 -->\n<g id=\"node27\" class=\"node\">\n<title>26</title>\n<path fill=\"#f0fce8\" stroke=\"black\" d=\"M3323.5,-187C3323.5,-187 3121.5,-187 3121.5,-187 3115.5,-187 3109.5,-181 3109.5,-175 3109.5,-175 3109.5,-116 3109.5,-116 3109.5,-110 3115.5,-104 3121.5,-104 3121.5,-104 3323.5,-104 3323.5,-104 3329.5,-104 3335.5,-110 3335.5,-116 3335.5,-116 3335.5,-175 3335.5,-175 3335.5,-181 3329.5,-187 3323.5,-187\"/>\n<text text-anchor=\"start\" x=\"3165\" y=\"-171.8\" font-family=\"Helvetica,sans-Serif\" font-size=\"14.00\">subject_age ≤ 55.5</text>\n<text text-anchor=\"start\" x=\"3190.5\" y=\"-156.8\" font-family=\"Helvetica,sans-Serif\" font-size=\"14.00\">gini = 0.69</text>\n<text text-anchor=\"start\" x=\"3173\" y=\"-141.8\" font-family=\"Helvetica,sans-Serif\" font-size=\"14.00\">samples = 7.9%</text>\n<text text-anchor=\"start\" x=\"3117.5\" y=\"-126.8\" font-family=\"Helvetica,sans-Serif\" font-size=\"14.00\">value = [0.09, 0.42, 0.1, 0.05, 0.34]</text>\n<text text-anchor=\"start\" x=\"3183\" y=\"-111.8\" font-family=\"Helvetica,sans-Serif\" font-size=\"14.00\">class = black</text>\n</g>\n<!-- 25&#45;&gt;26 -->\n<g id=\"edge26\" class=\"edge\">\n<title>25&#45;&gt;26</title>\n<path fill=\"none\" stroke=\"black\" d=\"M3222.5,-222.91C3222.5,-214.65 3222.5,-205.86 3222.5,-197.3\"/>\n<polygon fill=\"black\" stroke=\"black\" points=\"3226,-197.02 3222.5,-187.02 3219,-197.02 3226,-197.02\"/>\n</g>\n<!-- 29 -->\n<g id=\"node30\" class=\"node\">\n<title>29</title>\n<path fill=\"#f4a9e4\" stroke=\"black\" d=\"M3697,-187C3697,-187 3488,-187 3488,-187 3482,-187 3476,-181 3476,-175 3476,-175 3476,-116 3476,-116 3476,-110 3482,-104 3488,-104 3488,-104 3697,-104 3697,-104 3703,-104 3709,-110 3709,-116 3709,-116 3709,-175 3709,-175 3709,-181 3703,-187 3697,-187\"/>\n<text text-anchor=\"start\" x=\"3535\" y=\"-171.8\" font-family=\"Helvetica,sans-Serif\" font-size=\"14.00\">subject_age ≤ 86.0</text>\n<text text-anchor=\"start\" x=\"3560.5\" y=\"-156.8\" font-family=\"Helvetica,sans-Serif\" font-size=\"14.00\">gini = 0.64</text>\n<text text-anchor=\"start\" x=\"3543\" y=\"-141.8\" font-family=\"Helvetica,sans-Serif\" font-size=\"14.00\">samples = 0.3%</text>\n<text text-anchor=\"start\" x=\"3484\" y=\"-126.8\" font-family=\"Helvetica,sans-Serif\" font-size=\"14.00\">value = [0.19, 0.14, 0.08, 0.05, 0.54]</text>\n<text text-anchor=\"start\" x=\"3553.5\" y=\"-111.8\" font-family=\"Helvetica,sans-Serif\" font-size=\"14.00\">class = other</text>\n</g>\n<!-- 25&#45;&gt;29 -->\n<g id=\"edge29\" class=\"edge\">\n<title>25&#45;&gt;29</title>\n<path fill=\"none\" stroke=\"black\" d=\"M3331.51,-229.03C3373.81,-215.65 3422.53,-200.25 3466.33,-186.4\"/>\n<polygon fill=\"black\" stroke=\"black\" points=\"3467.41,-189.73 3475.89,-183.37 3465.3,-183.05 3467.41,-189.73\"/>\n</g>\n<!-- 27 -->\n<g id=\"node28\" class=\"node\">\n<title>27</title>\n<path fill=\"#e7fadb\" stroke=\"black\" d=\"M3201.5,-68C3201.5,-68 2999.5,-68 2999.5,-68 2993.5,-68 2987.5,-62 2987.5,-56 2987.5,-56 2987.5,-12 2987.5,-12 2987.5,-6 2993.5,0 2999.5,0 2999.5,0 3201.5,0 3201.5,0 3207.5,0 3213.5,-6 3213.5,-12 3213.5,-12 3213.5,-56 3213.5,-56 3213.5,-62 3207.5,-68 3201.5,-68\"/>\n<text text-anchor=\"start\" x=\"3068.5\" y=\"-52.8\" font-family=\"Helvetica,sans-Serif\" font-size=\"14.00\">gini = 0.69</text>\n<text text-anchor=\"start\" x=\"3051\" y=\"-37.8\" font-family=\"Helvetica,sans-Serif\" font-size=\"14.00\">samples = 5.0%</text>\n<text text-anchor=\"start\" x=\"2995.5\" y=\"-22.8\" font-family=\"Helvetica,sans-Serif\" font-size=\"14.00\">value = [0.09, 0.44, 0.1, 0.05, 0.31]</text>\n<text text-anchor=\"start\" x=\"3061\" y=\"-7.8\" font-family=\"Helvetica,sans-Serif\" font-size=\"14.00\">class = black</text>\n</g>\n<!-- 26&#45;&gt;27 -->\n<g id=\"edge27\" class=\"edge\">\n<title>26&#45;&gt;27</title>\n<path fill=\"none\" stroke=\"black\" d=\"M3177.07,-103.73C3166.6,-94.33 3155.48,-84.35 3145.05,-74.99\"/>\n<polygon fill=\"black\" stroke=\"black\" points=\"3147.38,-72.37 3137.6,-68.3 3142.71,-77.58 3147.38,-72.37\"/>\n</g>\n<!-- 28 -->\n<g id=\"node29\" class=\"node\">\n<title>28</title>\n<path fill=\"#fffeff\" stroke=\"black\" d=\"M3445.5,-68C3445.5,-68 3243.5,-68 3243.5,-68 3237.5,-68 3231.5,-62 3231.5,-56 3231.5,-56 3231.5,-12 3231.5,-12 3231.5,-6 3237.5,0 3243.5,0 3243.5,0 3445.5,0 3445.5,0 3451.5,0 3457.5,-6 3457.5,-12 3457.5,-12 3457.5,-56 3457.5,-56 3457.5,-62 3451.5,-68 3445.5,-68\"/>\n<text text-anchor=\"start\" x=\"3312.5\" y=\"-52.8\" font-family=\"Helvetica,sans-Serif\" font-size=\"14.00\">gini = 0.69</text>\n<text text-anchor=\"start\" x=\"3295\" y=\"-37.8\" font-family=\"Helvetica,sans-Serif\" font-size=\"14.00\">samples = 3.0%</text>\n<text text-anchor=\"start\" x=\"3239.5\" y=\"-22.8\" font-family=\"Helvetica,sans-Serif\" font-size=\"14.00\">value = [0.09, 0.38, 0.1, 0.05, 0.38]</text>\n<text text-anchor=\"start\" x=\"3305.5\" y=\"-7.8\" font-family=\"Helvetica,sans-Serif\" font-size=\"14.00\">class = other</text>\n</g>\n<!-- 26&#45;&gt;28 -->\n<g id=\"edge28\" class=\"edge\">\n<title>26&#45;&gt;28</title>\n<path fill=\"none\" stroke=\"black\" d=\"M3267.93,-103.73C3278.4,-94.33 3289.52,-84.35 3299.95,-74.99\"/>\n<polygon fill=\"black\" stroke=\"black\" points=\"3302.29,-77.58 3307.4,-68.3 3297.62,-72.37 3302.29,-77.58\"/>\n</g>\n<!-- 30 -->\n<g id=\"node31\" class=\"node\">\n<title>30</title>\n<path fill=\"#f2a0e1\" stroke=\"black\" d=\"M3697,-68C3697,-68 3488,-68 3488,-68 3482,-68 3476,-62 3476,-56 3476,-56 3476,-12 3476,-12 3476,-6 3482,0 3488,0 3488,0 3697,0 3697,0 3703,0 3709,-6 3709,-12 3709,-12 3709,-56 3709,-56 3709,-62 3703,-68 3697,-68\"/>\n<text text-anchor=\"start\" x=\"3560.5\" y=\"-52.8\" font-family=\"Helvetica,sans-Serif\" font-size=\"14.00\">gini = 0.63</text>\n<text text-anchor=\"start\" x=\"3543\" y=\"-37.8\" font-family=\"Helvetica,sans-Serif\" font-size=\"14.00\">samples = 0.2%</text>\n<text text-anchor=\"start\" x=\"3484\" y=\"-22.8\" font-family=\"Helvetica,sans-Serif\" font-size=\"14.00\">value = [0.12, 0.16, 0.09, 0.06, 0.56]</text>\n<text text-anchor=\"start\" x=\"3553.5\" y=\"-7.8\" font-family=\"Helvetica,sans-Serif\" font-size=\"14.00\">class = other</text>\n</g>\n<!-- 29&#45;&gt;30 -->\n<g id=\"edge30\" class=\"edge\">\n<title>29&#45;&gt;30</title>\n<path fill=\"none\" stroke=\"black\" d=\"M3592.5,-103.73C3592.5,-95.52 3592.5,-86.86 3592.5,-78.56\"/>\n<polygon fill=\"black\" stroke=\"black\" points=\"3596,-78.3 3592.5,-68.3 3589,-78.3 3596,-78.3\"/>\n</g>\n<!-- 31 -->\n<g id=\"node32\" class=\"node\">\n<title>31</title>\n<path fill=\"#f6d5bd\" stroke=\"black\" d=\"M3911.5,-68C3911.5,-68 3739.5,-68 3739.5,-68 3733.5,-68 3727.5,-62 3727.5,-56 3727.5,-56 3727.5,-12 3727.5,-12 3727.5,-6 3733.5,0 3739.5,0 3739.5,0 3911.5,0 3911.5,0 3917.5,0 3923.5,-6 3923.5,-12 3923.5,-12 3923.5,-56 3923.5,-56 3923.5,-62 3917.5,-68 3911.5,-68\"/>\n<text text-anchor=\"start\" x=\"3793.5\" y=\"-52.8\" font-family=\"Helvetica,sans-Serif\" font-size=\"14.00\">gini = 0.48</text>\n<text text-anchor=\"start\" x=\"3776\" y=\"-37.8\" font-family=\"Helvetica,sans-Serif\" font-size=\"14.00\">samples = 0.0%</text>\n<text text-anchor=\"start\" x=\"3735.5\" y=\"-22.8\" font-family=\"Helvetica,sans-Serif\" font-size=\"14.00\">value = [0.6, 0.0, 0.0, 0.0, 0.4]</text>\n<text text-anchor=\"start\" x=\"3739.5\" y=\"-7.8\" font-family=\"Helvetica,sans-Serif\" font-size=\"14.00\">class = asian/pacific islander</text>\n</g>\n<!-- 29&#45;&gt;31 -->\n<g id=\"edge31\" class=\"edge\">\n<title>29&#45;&gt;31</title>\n<path fill=\"none\" stroke=\"black\" d=\"M3678.93,-103.88C3700.91,-93.55 3724.43,-82.5 3746.05,-72.34\"/>\n<polygon fill=\"black\" stroke=\"black\" points=\"3747.63,-75.46 3755.19,-68.04 3744.65,-69.13 3747.63,-75.46\"/>\n</g>\n<!-- 33 -->\n<g id=\"node34\" class=\"node\">\n<title>33</title>\n<path fill=\"#bcf29b\" stroke=\"black\" d=\"M4909,-425C4909,-425 4700,-425 4700,-425 4694,-425 4688,-419 4688,-413 4688,-413 4688,-354 4688,-354 4688,-348 4694,-342 4700,-342 4700,-342 4909,-342 4909,-342 4915,-342 4921,-348 4921,-354 4921,-354 4921,-413 4921,-413 4921,-419 4915,-425 4909,-425\"/>\n<text text-anchor=\"start\" x=\"4747\" y=\"-409.8\" font-family=\"Helvetica,sans-Serif\" font-size=\"14.00\">subject_age ≤ 28.5</text>\n<text text-anchor=\"start\" x=\"4776.5\" y=\"-394.8\" font-family=\"Helvetica,sans-Serif\" font-size=\"14.00\">gini = 0.6</text>\n<text text-anchor=\"start\" x=\"4751.5\" y=\"-379.8\" font-family=\"Helvetica,sans-Serif\" font-size=\"14.00\">samples = 28.2%</text>\n<text text-anchor=\"start\" x=\"4696\" y=\"-364.8\" font-family=\"Helvetica,sans-Serif\" font-size=\"14.00\">value = [0.04, 0.59, 0.15, 0.06, 0.17]</text>\n<text text-anchor=\"start\" x=\"4765\" y=\"-349.8\" font-family=\"Helvetica,sans-Serif\" font-size=\"14.00\">class = black</text>\n</g>\n<!-- 32&#45;&gt;33 -->\n<g id=\"edge33\" class=\"edge\">\n<title>32&#45;&gt;33</title>\n<path fill=\"none\" stroke=\"black\" d=\"M4804.5,-460.91C4804.5,-452.65 4804.5,-443.86 4804.5,-435.3\"/>\n<polygon fill=\"black\" stroke=\"black\" points=\"4808,-435.02 4804.5,-425.02 4801,-435.02 4808,-435.02\"/>\n</g>\n<!-- 48 -->\n<g id=\"node49\" class=\"node\">\n<title>48</title>\n<path fill=\"#e9fbdd\" stroke=\"black\" d=\"M6520,-425C6520,-425 6311,-425 6311,-425 6305,-425 6299,-419 6299,-413 6299,-413 6299,-354 6299,-354 6299,-348 6305,-342 6311,-342 6311,-342 6520,-342 6520,-342 6526,-342 6532,-348 6532,-354 6532,-354 6532,-413 6532,-413 6532,-419 6526,-425 6520,-425\"/>\n<text text-anchor=\"start\" x=\"6358\" y=\"-409.8\" font-family=\"Helvetica,sans-Serif\" font-size=\"14.00\">subject_age ≤ 65.5</text>\n<text text-anchor=\"start\" x=\"6383.5\" y=\"-394.8\" font-family=\"Helvetica,sans-Serif\" font-size=\"14.00\">gini = 0.65</text>\n<text text-anchor=\"start\" x=\"6366\" y=\"-379.8\" font-family=\"Helvetica,sans-Serif\" font-size=\"14.00\">samples = 1.9%</text>\n<text text-anchor=\"start\" x=\"6307\" y=\"-364.8\" font-family=\"Helvetica,sans-Serif\" font-size=\"14.00\">value = [0.09, 0.46, 0.07, 0.03, 0.35]</text>\n<text text-anchor=\"start\" x=\"6376\" y=\"-349.8\" font-family=\"Helvetica,sans-Serif\" font-size=\"14.00\">class = black</text>\n</g>\n<!-- 32&#45;&gt;48 -->\n<g id=\"edge48\" class=\"edge\">\n<title>32&#45;&gt;48</title>\n<path fill=\"none\" stroke=\"black\" d=\"M4921.01,-493.04C5214.82,-471.7 5984.17,-415.83 6288.73,-393.71\"/>\n<polygon fill=\"black\" stroke=\"black\" points=\"6289.21,-397.18 6298.93,-392.97 6288.7,-390.2 6289.21,-397.18\"/>\n</g>\n<!-- 34 -->\n<g id=\"node35\" class=\"node\">\n<title>34</title>\n<path fill=\"#bcf29a\" stroke=\"black\" d=\"M4783,-306C4783,-306 4574,-306 4574,-306 4568,-306 4562,-300 4562,-294 4562,-294 4562,-235 4562,-235 4562,-229 4568,-223 4574,-223 4574,-223 4783,-223 4783,-223 4789,-223 4795,-229 4795,-235 4795,-235 4795,-294 4795,-294 4795,-300 4789,-306 4783,-306\"/>\n<text text-anchor=\"start\" x=\"4621\" y=\"-290.8\" font-family=\"Helvetica,sans-Serif\" font-size=\"14.00\">subject_age ≤ 21.5</text>\n<text text-anchor=\"start\" x=\"4646.5\" y=\"-275.8\" font-family=\"Helvetica,sans-Serif\" font-size=\"14.00\">gini = 0.59</text>\n<text text-anchor=\"start\" x=\"4625.5\" y=\"-260.8\" font-family=\"Helvetica,sans-Serif\" font-size=\"14.00\">samples = 16.2%</text>\n<text text-anchor=\"start\" x=\"4570\" y=\"-245.8\" font-family=\"Helvetica,sans-Serif\" font-size=\"14.00\">value = [0.04, 0.59, 0.17, 0.06, 0.14]</text>\n<text text-anchor=\"start\" x=\"4639\" y=\"-230.8\" font-family=\"Helvetica,sans-Serif\" font-size=\"14.00\">class = black</text>\n</g>\n<!-- 33&#45;&gt;34 -->\n<g id=\"edge34\" class=\"edge\">\n<title>33&#45;&gt;34</title>\n<path fill=\"none\" stroke=\"black\" d=\"M4760.78,-341.91C4750.72,-332.56 4739.93,-322.54 4729.58,-312.93\"/>\n<polygon fill=\"black\" stroke=\"black\" points=\"4731.85,-310.26 4722.14,-306.02 4727.08,-315.39 4731.85,-310.26\"/>\n</g>\n<!-- 41 -->\n<g id=\"node42\" class=\"node\">\n<title>41</title>\n<path fill=\"#bff2a0\" stroke=\"black\" d=\"M5280.5,-306C5280.5,-306 5078.5,-306 5078.5,-306 5072.5,-306 5066.5,-300 5066.5,-294 5066.5,-294 5066.5,-235 5066.5,-235 5066.5,-229 5072.5,-223 5078.5,-223 5078.5,-223 5280.5,-223 5280.5,-223 5286.5,-223 5292.5,-229 5292.5,-235 5292.5,-235 5292.5,-294 5292.5,-294 5292.5,-300 5286.5,-306 5280.5,-306\"/>\n<text text-anchor=\"start\" x=\"5122\" y=\"-290.8\" font-family=\"Helvetica,sans-Serif\" font-size=\"14.00\">subject_age ≤ 41.5</text>\n<text text-anchor=\"start\" x=\"5151.5\" y=\"-275.8\" font-family=\"Helvetica,sans-Serif\" font-size=\"14.00\">gini = 0.6</text>\n<text text-anchor=\"start\" x=\"5126.5\" y=\"-260.8\" font-family=\"Helvetica,sans-Serif\" font-size=\"14.00\">samples = 12.0%</text>\n<text text-anchor=\"start\" x=\"5074.5\" y=\"-245.8\" font-family=\"Helvetica,sans-Serif\" font-size=\"14.00\">value = [0.04, 0.59, 0.12, 0.06, 0.2]</text>\n<text text-anchor=\"start\" x=\"5140\" y=\"-230.8\" font-family=\"Helvetica,sans-Serif\" font-size=\"14.00\">class = black</text>\n</g>\n<!-- 33&#45;&gt;41 -->\n<g id=\"edge41\" class=\"edge\">\n<title>33&#45;&gt;41</title>\n<path fill=\"none\" stroke=\"black\" d=\"M4921.1,-346.12C4964.07,-332.71 5012.88,-317.49 5056.41,-303.9\"/>\n<polygon fill=\"black\" stroke=\"black\" points=\"5057.69,-307.17 5066.19,-300.85 5055.6,-300.49 5057.69,-307.17\"/>\n</g>\n<!-- 35 -->\n<g id=\"node36\" class=\"node\">\n<title>35</title>\n<path fill=\"#c0f3a1\" stroke=\"black\" d=\"M4406.5,-187C4406.5,-187 4204.5,-187 4204.5,-187 4198.5,-187 4192.5,-181 4192.5,-175 4192.5,-175 4192.5,-116 4192.5,-116 4192.5,-110 4198.5,-104 4204.5,-104 4204.5,-104 4406.5,-104 4406.5,-104 4412.5,-104 4418.5,-110 4418.5,-116 4418.5,-116 4418.5,-175 4418.5,-175 4418.5,-181 4412.5,-187 4406.5,-187\"/>\n<text text-anchor=\"start\" x=\"4248\" y=\"-171.8\" font-family=\"Helvetica,sans-Serif\" font-size=\"14.00\">subject_age ≤ 18.5</text>\n<text text-anchor=\"start\" x=\"4277.5\" y=\"-156.8\" font-family=\"Helvetica,sans-Serif\" font-size=\"14.00\">gini = 0.6</text>\n<text text-anchor=\"start\" x=\"4256\" y=\"-141.8\" font-family=\"Helvetica,sans-Serif\" font-size=\"14.00\">samples = 5.4%</text>\n<text text-anchor=\"start\" x=\"4200.5\" y=\"-126.8\" font-family=\"Helvetica,sans-Serif\" font-size=\"14.00\">value = [0.03, 0.58, 0.2, 0.06, 0.13]</text>\n<text text-anchor=\"start\" x=\"4266\" y=\"-111.8\" font-family=\"Helvetica,sans-Serif\" font-size=\"14.00\">class = black</text>\n</g>\n<!-- 34&#45;&gt;35 -->\n<g id=\"edge35\" class=\"edge\">\n<title>34&#45;&gt;35</title>\n<path fill=\"none\" stroke=\"black\" d=\"M4561.76,-226.88C4519.34,-213.58 4471.3,-198.51 4428.37,-185.04\"/>\n<polygon fill=\"black\" stroke=\"black\" points=\"4429.31,-181.67 4418.72,-182.01 4427.21,-188.35 4429.31,-181.67\"/>\n</g>\n<!-- 38 -->\n<g id=\"node39\" class=\"node\">\n<title>38</title>\n<path fill=\"#baf197\" stroke=\"black\" d=\"M4779.5,-187C4779.5,-187 4577.5,-187 4577.5,-187 4571.5,-187 4565.5,-181 4565.5,-175 4565.5,-175 4565.5,-116 4565.5,-116 4565.5,-110 4571.5,-104 4577.5,-104 4577.5,-104 4779.5,-104 4779.5,-104 4785.5,-104 4791.5,-110 4791.5,-116 4791.5,-116 4791.5,-175 4791.5,-175 4791.5,-181 4785.5,-187 4779.5,-187\"/>\n<text text-anchor=\"start\" x=\"4621\" y=\"-171.8\" font-family=\"Helvetica,sans-Serif\" font-size=\"14.00\">subject_age ≤ 25.5</text>\n<text text-anchor=\"start\" x=\"4646.5\" y=\"-156.8\" font-family=\"Helvetica,sans-Serif\" font-size=\"14.00\">gini = 0.59</text>\n<text text-anchor=\"start\" x=\"4625.5\" y=\"-141.8\" font-family=\"Helvetica,sans-Serif\" font-size=\"14.00\">samples = 10.8%</text>\n<text text-anchor=\"start\" x=\"4573.5\" y=\"-126.8\" font-family=\"Helvetica,sans-Serif\" font-size=\"14.00\">value = [0.04, 0.6, 0.16, 0.06, 0.15]</text>\n<text text-anchor=\"start\" x=\"4639\" y=\"-111.8\" font-family=\"Helvetica,sans-Serif\" font-size=\"14.00\">class = black</text>\n</g>\n<!-- 34&#45;&gt;38 -->\n<g id=\"edge38\" class=\"edge\">\n<title>34&#45;&gt;38</title>\n<path fill=\"none\" stroke=\"black\" d=\"M4678.5,-222.91C4678.5,-214.65 4678.5,-205.86 4678.5,-197.3\"/>\n<polygon fill=\"black\" stroke=\"black\" points=\"4682,-197.02 4678.5,-187.02 4675,-197.02 4682,-197.02\"/>\n</g>\n<!-- 36 -->\n<g id=\"node37\" class=\"node\">\n<title>36</title>\n<path fill=\"#b7f193\" stroke=\"black\" d=\"M4162,-68C4162,-68 3953,-68 3953,-68 3947,-68 3941,-62 3941,-56 3941,-56 3941,-12 3941,-12 3941,-6 3947,0 3953,0 3953,0 4162,0 4162,0 4168,0 4174,-6 4174,-12 4174,-12 4174,-56 4174,-56 4174,-62 4168,-68 4162,-68\"/>\n<text text-anchor=\"start\" x=\"4025.5\" y=\"-52.8\" font-family=\"Helvetica,sans-Serif\" font-size=\"14.00\">gini = 0.57</text>\n<text text-anchor=\"start\" x=\"4008\" y=\"-37.8\" font-family=\"Helvetica,sans-Serif\" font-size=\"14.00\">samples = 1.0%</text>\n<text text-anchor=\"start\" x=\"3949\" y=\"-22.8\" font-family=\"Helvetica,sans-Serif\" font-size=\"14.00\">value = [0.07, 0.62, 0.16, 0.06, 0.09]</text>\n<text text-anchor=\"start\" x=\"4018\" y=\"-7.8\" font-family=\"Helvetica,sans-Serif\" font-size=\"14.00\">class = black</text>\n</g>\n<!-- 35&#45;&gt;36 -->\n<g id=\"edge36\" class=\"edge\">\n<title>35&#45;&gt;36</title>\n<path fill=\"none\" stroke=\"black\" d=\"M4213.51,-103.88C4190,-93.5 4164.85,-82.4 4141.76,-72.2\"/>\n<polygon fill=\"black\" stroke=\"black\" points=\"4142.9,-68.88 4132.34,-68.04 4140.07,-75.28 4142.9,-68.88\"/>\n</g>\n<!-- 37 -->\n<g id=\"node38\" class=\"node\">\n<title>37</title>\n<path fill=\"#c2f3a4\" stroke=\"black\" d=\"M4406.5,-68C4406.5,-68 4204.5,-68 4204.5,-68 4198.5,-68 4192.5,-62 4192.5,-56 4192.5,-56 4192.5,-12 4192.5,-12 4192.5,-6 4198.5,0 4204.5,0 4204.5,0 4406.5,0 4406.5,0 4412.5,0 4418.5,-6 4418.5,-12 4418.5,-12 4418.5,-56 4418.5,-56 4418.5,-62 4412.5,-68 4406.5,-68\"/>\n<text text-anchor=\"start\" x=\"4273.5\" y=\"-52.8\" font-family=\"Helvetica,sans-Serif\" font-size=\"14.00\">gini = 0.61</text>\n<text text-anchor=\"start\" x=\"4256\" y=\"-37.8\" font-family=\"Helvetica,sans-Serif\" font-size=\"14.00\">samples = 4.4%</text>\n<text text-anchor=\"start\" x=\"4200.5\" y=\"-22.8\" font-family=\"Helvetica,sans-Serif\" font-size=\"14.00\">value = [0.03, 0.57, 0.2, 0.06, 0.14]</text>\n<text text-anchor=\"start\" x=\"4266\" y=\"-7.8\" font-family=\"Helvetica,sans-Serif\" font-size=\"14.00\">class = black</text>\n</g>\n<!-- 35&#45;&gt;37 -->\n<g id=\"edge37\" class=\"edge\">\n<title>35&#45;&gt;37</title>\n<path fill=\"none\" stroke=\"black\" d=\"M4305.5,-103.73C4305.5,-95.52 4305.5,-86.86 4305.5,-78.56\"/>\n<polygon fill=\"black\" stroke=\"black\" points=\"4309,-78.3 4305.5,-68.3 4302,-78.3 4309,-78.3\"/>\n</g>\n<!-- 39 -->\n<g id=\"node40\" class=\"node\">\n<title>39</title>\n<path fill=\"#b6f192\" stroke=\"black\" d=\"M4658,-68C4658,-68 4449,-68 4449,-68 4443,-68 4437,-62 4437,-56 4437,-56 4437,-12 4437,-12 4437,-6 4443,0 4449,0 4449,0 4658,0 4658,0 4664,0 4670,-6 4670,-12 4670,-12 4670,-56 4670,-56 4670,-62 4664,-68 4658,-68\"/>\n<text text-anchor=\"start\" x=\"4521.5\" y=\"-52.8\" font-family=\"Helvetica,sans-Serif\" font-size=\"14.00\">gini = 0.57</text>\n<text text-anchor=\"start\" x=\"4504\" y=\"-37.8\" font-family=\"Helvetica,sans-Serif\" font-size=\"14.00\">samples = 7.2%</text>\n<text text-anchor=\"start\" x=\"4445\" y=\"-22.8\" font-family=\"Helvetica,sans-Serif\" font-size=\"14.00\">value = [0.04, 0.62, 0.14, 0.05, 0.14]</text>\n<text text-anchor=\"start\" x=\"4514\" y=\"-7.8\" font-family=\"Helvetica,sans-Serif\" font-size=\"14.00\">class = black</text>\n</g>\n<!-- 38&#45;&gt;39 -->\n<g id=\"edge39\" class=\"edge\">\n<title>38&#45;&gt;39</title>\n<path fill=\"none\" stroke=\"black\" d=\"M4631.95,-103.73C4621.23,-94.33 4609.83,-84.35 4599.15,-74.99\"/>\n<polygon fill=\"black\" stroke=\"black\" points=\"4601.34,-72.26 4591.51,-68.3 4596.73,-77.52 4601.34,-72.26\"/>\n</g>\n<!-- 40 -->\n<g id=\"node41\" class=\"node\">\n<title>40</title>\n<path fill=\"#c1f3a3\" stroke=\"black\" d=\"M4909,-68C4909,-68 4700,-68 4700,-68 4694,-68 4688,-62 4688,-56 4688,-56 4688,-12 4688,-12 4688,-6 4694,0 4700,0 4700,0 4909,0 4909,0 4915,0 4921,-6 4921,-12 4921,-12 4921,-56 4921,-56 4921,-62 4915,-68 4909,-68\"/>\n<text text-anchor=\"start\" x=\"4772.5\" y=\"-52.8\" font-family=\"Helvetica,sans-Serif\" font-size=\"14.00\">gini = 0.62</text>\n<text text-anchor=\"start\" x=\"4755\" y=\"-37.8\" font-family=\"Helvetica,sans-Serif\" font-size=\"14.00\">samples = 3.6%</text>\n<text text-anchor=\"start\" x=\"4696\" y=\"-22.8\" font-family=\"Helvetica,sans-Serif\" font-size=\"14.00\">value = [0.03, 0.56, 0.18, 0.06, 0.16]</text>\n<text text-anchor=\"start\" x=\"4765\" y=\"-7.8\" font-family=\"Helvetica,sans-Serif\" font-size=\"14.00\">class = black</text>\n</g>\n<!-- 38&#45;&gt;40 -->\n<g id=\"edge40\" class=\"edge\">\n<title>38&#45;&gt;40</title>\n<path fill=\"none\" stroke=\"black\" d=\"M4725.42,-103.73C4736.23,-94.33 4747.71,-84.35 4758.49,-74.99\"/>\n<polygon fill=\"black\" stroke=\"black\" points=\"4760.93,-77.5 4766.18,-68.3 4756.34,-72.22 4760.93,-77.5\"/>\n</g>\n<!-- 42 -->\n<g id=\"node43\" class=\"node\">\n<title>42</title>\n<path fill=\"#c1f3a3\" stroke=\"black\" d=\"M5280.5,-187C5280.5,-187 5078.5,-187 5078.5,-187 5072.5,-187 5066.5,-181 5066.5,-175 5066.5,-175 5066.5,-116 5066.5,-116 5066.5,-110 5072.5,-104 5078.5,-104 5078.5,-104 5280.5,-104 5280.5,-104 5286.5,-104 5292.5,-110 5292.5,-116 5292.5,-116 5292.5,-175 5292.5,-175 5292.5,-181 5286.5,-187 5280.5,-187\"/>\n<text text-anchor=\"start\" x=\"5122\" y=\"-171.8\" font-family=\"Helvetica,sans-Serif\" font-size=\"14.00\">subject_age ≤ 37.5</text>\n<text text-anchor=\"start\" x=\"5147.5\" y=\"-156.8\" font-family=\"Helvetica,sans-Serif\" font-size=\"14.00\">gini = 0.61</text>\n<text text-anchor=\"start\" x=\"5130\" y=\"-141.8\" font-family=\"Helvetica,sans-Serif\" font-size=\"14.00\">samples = 8.8%</text>\n<text text-anchor=\"start\" x=\"5074.5\" y=\"-126.8\" font-family=\"Helvetica,sans-Serif\" font-size=\"14.00\">value = [0.03, 0.57, 0.13, 0.06, 0.2]</text>\n<text text-anchor=\"start\" x=\"5140\" y=\"-111.8\" font-family=\"Helvetica,sans-Serif\" font-size=\"14.00\">class = black</text>\n</g>\n<!-- 41&#45;&gt;42 -->\n<g id=\"edge42\" class=\"edge\">\n<title>41&#45;&gt;42</title>\n<path fill=\"none\" stroke=\"black\" d=\"M5179.5,-222.91C5179.5,-214.65 5179.5,-205.86 5179.5,-197.3\"/>\n<polygon fill=\"black\" stroke=\"black\" points=\"5183,-197.02 5179.5,-187.02 5176,-197.02 5183,-197.02\"/>\n</g>\n<!-- 45 -->\n<g id=\"node46\" class=\"node\">\n<title>45</title>\n<path fill=\"#baf197\" stroke=\"black\" d=\"M5648.5,-187C5648.5,-187 5446.5,-187 5446.5,-187 5440.5,-187 5434.5,-181 5434.5,-175 5434.5,-175 5434.5,-116 5434.5,-116 5434.5,-110 5440.5,-104 5446.5,-104 5446.5,-104 5648.5,-104 5648.5,-104 5654.5,-104 5660.5,-110 5660.5,-116 5660.5,-116 5660.5,-175 5660.5,-175 5660.5,-181 5654.5,-187 5648.5,-187\"/>\n<text text-anchor=\"start\" x=\"5490\" y=\"-171.8\" font-family=\"Helvetica,sans-Serif\" font-size=\"14.00\">subject_age ≤ 49.5</text>\n<text text-anchor=\"start\" x=\"5515.5\" y=\"-156.8\" font-family=\"Helvetica,sans-Serif\" font-size=\"14.00\">gini = 0.57</text>\n<text text-anchor=\"start\" x=\"5498\" y=\"-141.8\" font-family=\"Helvetica,sans-Serif\" font-size=\"14.00\">samples = 3.1%</text>\n<text text-anchor=\"start\" x=\"5442.5\" y=\"-126.8\" font-family=\"Helvetica,sans-Serif\" font-size=\"14.00\">value = [0.06, 0.62, 0.07, 0.05, 0.2]</text>\n<text text-anchor=\"start\" x=\"5508\" y=\"-111.8\" font-family=\"Helvetica,sans-Serif\" font-size=\"14.00\">class = black</text>\n</g>\n<!-- 41&#45;&gt;45 -->\n<g id=\"edge45\" class=\"edge\">\n<title>41&#45;&gt;45</title>\n<path fill=\"none\" stroke=\"black\" d=\"M5292.66,-227.52C5334.49,-214.22 5382.09,-199.09 5424.73,-185.53\"/>\n<polygon fill=\"black\" stroke=\"black\" points=\"5425.84,-188.85 5434.31,-182.49 5423.72,-182.18 5425.84,-188.85\"/>\n</g>\n<!-- 43 -->\n<g id=\"node44\" class=\"node\">\n<title>43</title>\n<path fill=\"#bef29d\" stroke=\"black\" d=\"M5160,-68C5160,-68 4951,-68 4951,-68 4945,-68 4939,-62 4939,-56 4939,-56 4939,-12 4939,-12 4939,-6 4945,0 4951,0 4951,0 5160,0 5160,0 5166,0 5172,-6 5172,-12 5172,-12 5172,-56 5172,-56 5172,-62 5166,-68 5160,-68\"/>\n<text text-anchor=\"start\" x=\"5023.5\" y=\"-52.8\" font-family=\"Helvetica,sans-Serif\" font-size=\"14.00\">gini = 0.59</text>\n<text text-anchor=\"start\" x=\"5006\" y=\"-37.8\" font-family=\"Helvetica,sans-Serif\" font-size=\"14.00\">samples = 7.1%</text>\n<text text-anchor=\"start\" x=\"4947\" y=\"-22.8\" font-family=\"Helvetica,sans-Serif\" font-size=\"14.00\">value = [0.03, 0.59, 0.13, 0.06, 0.19]</text>\n<text text-anchor=\"start\" x=\"5016\" y=\"-7.8\" font-family=\"Helvetica,sans-Serif\" font-size=\"14.00\">class = black</text>\n</g>\n<!-- 42&#45;&gt;43 -->\n<g id=\"edge43\" class=\"edge\">\n<title>42&#45;&gt;43</title>\n<path fill=\"none\" stroke=\"black\" d=\"M5133.33,-103.73C5122.69,-94.33 5111.38,-84.35 5100.78,-74.99\"/>\n<polygon fill=\"black\" stroke=\"black\" points=\"5103.02,-72.3 5093.21,-68.3 5098.39,-77.54 5103.02,-72.3\"/>\n</g>\n<!-- 44 -->\n<g id=\"node45\" class=\"node\">\n<title>44</title>\n<path fill=\"#d2f6bc\" stroke=\"black\" d=\"M5404.5,-68C5404.5,-68 5202.5,-68 5202.5,-68 5196.5,-68 5190.5,-62 5190.5,-56 5190.5,-56 5190.5,-12 5190.5,-12 5190.5,-6 5196.5,0 5202.5,0 5202.5,0 5404.5,0 5404.5,0 5410.5,0 5416.5,-6 5416.5,-12 5416.5,-12 5416.5,-56 5416.5,-56 5416.5,-62 5410.5,-68 5404.5,-68\"/>\n<text text-anchor=\"start\" x=\"5271.5\" y=\"-52.8\" font-family=\"Helvetica,sans-Serif\" font-size=\"14.00\">gini = 0.66</text>\n<text text-anchor=\"start\" x=\"5254\" y=\"-37.8\" font-family=\"Helvetica,sans-Serif\" font-size=\"14.00\">samples = 1.7%</text>\n<text text-anchor=\"start\" x=\"5198.5\" y=\"-22.8\" font-family=\"Helvetica,sans-Serif\" font-size=\"14.00\">value = [0.02, 0.5, 0.16, 0.08, 0.24]</text>\n<text text-anchor=\"start\" x=\"5264\" y=\"-7.8\" font-family=\"Helvetica,sans-Serif\" font-size=\"14.00\">class = black</text>\n</g>\n<!-- 42&#45;&gt;44 -->\n<g id=\"edge44\" class=\"edge\">\n<title>42&#45;&gt;44</title>\n<path fill=\"none\" stroke=\"black\" d=\"M5225.67,-103.73C5236.31,-94.33 5247.62,-84.35 5258.22,-74.99\"/>\n<polygon fill=\"black\" stroke=\"black\" points=\"5260.61,-77.54 5265.79,-68.3 5255.98,-72.3 5260.61,-77.54\"/>\n</g>\n<!-- 46 -->\n<g id=\"node47\" class=\"node\">\n<title>46</title>\n<path fill=\"#bbf29a\" stroke=\"black\" d=\"M5648.5,-68C5648.5,-68 5446.5,-68 5446.5,-68 5440.5,-68 5434.5,-62 5434.5,-56 5434.5,-56 5434.5,-12 5434.5,-12 5434.5,-6 5440.5,0 5446.5,0 5446.5,0 5648.5,0 5648.5,0 5654.5,0 5660.5,-6 5660.5,-12 5660.5,-12 5660.5,-56 5660.5,-56 5660.5,-62 5654.5,-68 5648.5,-68\"/>\n<text text-anchor=\"start\" x=\"5515.5\" y=\"-52.8\" font-family=\"Helvetica,sans-Serif\" font-size=\"14.00\">gini = 0.57</text>\n<text text-anchor=\"start\" x=\"5498\" y=\"-37.8\" font-family=\"Helvetica,sans-Serif\" font-size=\"14.00\">samples = 2.7%</text>\n<text text-anchor=\"start\" x=\"5442.5\" y=\"-22.8\" font-family=\"Helvetica,sans-Serif\" font-size=\"14.00\">value = [0.06, 0.61, 0.08, 0.05, 0.2]</text>\n<text text-anchor=\"start\" x=\"5508\" y=\"-7.8\" font-family=\"Helvetica,sans-Serif\" font-size=\"14.00\">class = black</text>\n</g>\n<!-- 45&#45;&gt;46 -->\n<g id=\"edge46\" class=\"edge\">\n<title>45&#45;&gt;46</title>\n<path fill=\"none\" stroke=\"black\" d=\"M5547.5,-103.73C5547.5,-95.52 5547.5,-86.86 5547.5,-78.56\"/>\n<polygon fill=\"black\" stroke=\"black\" points=\"5551,-78.3 5547.5,-68.3 5544,-78.3 5551,-78.3\"/>\n</g>\n<!-- 47 -->\n<g id=\"node48\" class=\"node\">\n<title>47</title>\n<path fill=\"#b1f08a\" stroke=\"black\" d=\"M5900,-68C5900,-68 5691,-68 5691,-68 5685,-68 5679,-62 5679,-56 5679,-56 5679,-12 5679,-12 5679,-6 5685,0 5691,0 5691,0 5900,0 5900,0 5906,0 5912,-6 5912,-12 5912,-12 5912,-56 5912,-56 5912,-62 5906,-68 5900,-68\"/>\n<text text-anchor=\"start\" x=\"5763.5\" y=\"-52.8\" font-family=\"Helvetica,sans-Serif\" font-size=\"14.00\">gini = 0.51</text>\n<text text-anchor=\"start\" x=\"5746\" y=\"-37.8\" font-family=\"Helvetica,sans-Serif\" font-size=\"14.00\">samples = 0.5%</text>\n<text text-anchor=\"start\" x=\"5687\" y=\"-22.8\" font-family=\"Helvetica,sans-Serif\" font-size=\"14.00\">value = [0.03, 0.67, 0.03, 0.09, 0.18]</text>\n<text text-anchor=\"start\" x=\"5756\" y=\"-7.8\" font-family=\"Helvetica,sans-Serif\" font-size=\"14.00\">class = black</text>\n</g>\n<!-- 45&#45;&gt;47 -->\n<g id=\"edge47\" class=\"edge\">\n<title>45&#45;&gt;47</title>\n<path fill=\"none\" stroke=\"black\" d=\"M5639.49,-103.88C5663,-93.5 5688.15,-82.4 5711.24,-72.2\"/>\n<polygon fill=\"black\" stroke=\"black\" points=\"5712.93,-75.28 5720.66,-68.04 5710.1,-68.88 5712.93,-75.28\"/>\n</g>\n<!-- 49 -->\n<g id=\"node50\" class=\"node\">\n<title>49</title>\n<path fill=\"#dbf8c9\" stroke=\"black\" d=\"M6516.5,-306C6516.5,-306 6314.5,-306 6314.5,-306 6308.5,-306 6302.5,-300 6302.5,-294 6302.5,-294 6302.5,-235 6302.5,-235 6302.5,-229 6308.5,-223 6314.5,-223 6314.5,-223 6516.5,-223 6516.5,-223 6522.5,-223 6528.5,-229 6528.5,-235 6528.5,-235 6528.5,-294 6528.5,-294 6528.5,-300 6522.5,-306 6516.5,-306\"/>\n<text text-anchor=\"start\" x=\"6358\" y=\"-290.8\" font-family=\"Helvetica,sans-Serif\" font-size=\"14.00\">subject_age ≤ 56.5</text>\n<text text-anchor=\"start\" x=\"6383.5\" y=\"-275.8\" font-family=\"Helvetica,sans-Serif\" font-size=\"14.00\">gini = 0.64</text>\n<text text-anchor=\"start\" x=\"6366\" y=\"-260.8\" font-family=\"Helvetica,sans-Serif\" font-size=\"14.00\">samples = 1.7%</text>\n<text text-anchor=\"start\" x=\"6310.5\" y=\"-245.8\" font-family=\"Helvetica,sans-Serif\" font-size=\"14.00\">value = [0.09, 0.5, 0.07, 0.03, 0.31]</text>\n<text text-anchor=\"start\" x=\"6376\" y=\"-230.8\" font-family=\"Helvetica,sans-Serif\" font-size=\"14.00\">class = black</text>\n</g>\n<!-- 48&#45;&gt;49 -->\n<g id=\"edge49\" class=\"edge\">\n<title>48&#45;&gt;49</title>\n<path fill=\"none\" stroke=\"black\" d=\"M6415.5,-341.91C6415.5,-333.65 6415.5,-324.86 6415.5,-316.3\"/>\n<polygon fill=\"black\" stroke=\"black\" points=\"6419,-316.02 6415.5,-306.02 6412,-316.02 6419,-316.02\"/>\n</g>\n<!-- 56 -->\n<g id=\"node57\" class=\"node\">\n<title>56</title>\n<path fill=\"#ee80d7\" stroke=\"black\" d=\"M7204.5,-306C7204.5,-306 7002.5,-306 7002.5,-306 6996.5,-306 6990.5,-300 6990.5,-294 6990.5,-294 6990.5,-235 6990.5,-235 6990.5,-229 6996.5,-223 7002.5,-223 7002.5,-223 7204.5,-223 7204.5,-223 7210.5,-223 7216.5,-229 7216.5,-235 7216.5,-235 7216.5,-294 7216.5,-294 7216.5,-300 7210.5,-306 7204.5,-306\"/>\n<text text-anchor=\"start\" x=\"7046\" y=\"-290.8\" font-family=\"Helvetica,sans-Serif\" font-size=\"14.00\">subject_age ≤ 69.0</text>\n<text text-anchor=\"start\" x=\"7071.5\" y=\"-275.8\" font-family=\"Helvetica,sans-Serif\" font-size=\"14.00\">gini = 0.48</text>\n<text text-anchor=\"start\" x=\"7054\" y=\"-260.8\" font-family=\"Helvetica,sans-Serif\" font-size=\"14.00\">samples = 0.2%</text>\n<text text-anchor=\"start\" x=\"6998.5\" y=\"-245.8\" font-family=\"Helvetica,sans-Serif\" font-size=\"14.00\">value = [0.07, 0.17, 0.03, 0.03, 0.7]</text>\n<text text-anchor=\"start\" x=\"7064.5\" y=\"-230.8\" font-family=\"Helvetica,sans-Serif\" font-size=\"14.00\">class = other</text>\n</g>\n<!-- 48&#45;&gt;56 -->\n<g id=\"edge56\" class=\"edge\">\n<title>48&#45;&gt;56</title>\n<path fill=\"none\" stroke=\"black\" d=\"M6532.21,-362.65C6656.7,-341.48 6853.06,-308.09 6980.06,-286.49\"/>\n<polygon fill=\"black\" stroke=\"black\" points=\"6980.95,-289.89 6990.23,-284.76 6979.78,-282.99 6980.95,-289.89\"/>\n</g>\n<!-- 50 -->\n<g id=\"node51\" class=\"node\">\n<title>50</title>\n<path fill=\"#d4f7bf\" stroke=\"black\" d=\"M6396,-187C6396,-187 6187,-187 6187,-187 6181,-187 6175,-181 6175,-175 6175,-175 6175,-116 6175,-116 6175,-110 6181,-104 6187,-104 6187,-104 6396,-104 6396,-104 6402,-104 6408,-110 6408,-116 6408,-116 6408,-175 6408,-175 6408,-181 6402,-187 6396,-187\"/>\n<text text-anchor=\"start\" x=\"6234\" y=\"-171.8\" font-family=\"Helvetica,sans-Serif\" font-size=\"14.00\">subject_age ≤ 52.5</text>\n<text text-anchor=\"start\" x=\"6259.5\" y=\"-156.8\" font-family=\"Helvetica,sans-Serif\" font-size=\"14.00\">gini = 0.61</text>\n<text text-anchor=\"start\" x=\"6242\" y=\"-141.8\" font-family=\"Helvetica,sans-Serif\" font-size=\"14.00\">samples = 1.1%</text>\n<text text-anchor=\"start\" x=\"6183\" y=\"-126.8\" font-family=\"Helvetica,sans-Serif\" font-size=\"14.00\">value = [0.05, 0.54, 0.05, 0.05, 0.31]</text>\n<text text-anchor=\"start\" x=\"6252\" y=\"-111.8\" font-family=\"Helvetica,sans-Serif\" font-size=\"14.00\">class = black</text>\n</g>\n<!-- 49&#45;&gt;50 -->\n<g id=\"edge50\" class=\"edge\">\n<title>49&#45;&gt;50</title>\n<path fill=\"none\" stroke=\"black\" d=\"M6372.48,-222.91C6362.57,-213.56 6351.95,-203.54 6341.77,-193.93\"/>\n<polygon fill=\"black\" stroke=\"black\" points=\"6344.12,-191.34 6334.45,-187.02 6339.32,-196.43 6344.12,-191.34\"/>\n</g>\n<!-- 53 -->\n<g id=\"node54\" class=\"node\">\n<title>53</title>\n<path fill=\"#e6fad9\" stroke=\"black\" d=\"M6636.5,-187C6636.5,-187 6442.5,-187 6442.5,-187 6436.5,-187 6430.5,-181 6430.5,-175 6430.5,-175 6430.5,-116 6430.5,-116 6430.5,-110 6436.5,-104 6442.5,-104 6442.5,-104 6636.5,-104 6636.5,-104 6642.5,-104 6648.5,-110 6648.5,-116 6648.5,-116 6648.5,-175 6648.5,-175 6648.5,-181 6642.5,-187 6636.5,-187\"/>\n<text text-anchor=\"start\" x=\"6482\" y=\"-171.8\" font-family=\"Helvetica,sans-Serif\" font-size=\"14.00\">subject_age ≤ 61.5</text>\n<text text-anchor=\"start\" x=\"6507.5\" y=\"-156.8\" font-family=\"Helvetica,sans-Serif\" font-size=\"14.00\">gini = 0.69</text>\n<text text-anchor=\"start\" x=\"6490\" y=\"-141.8\" font-family=\"Helvetica,sans-Serif\" font-size=\"14.00\">samples = 0.6%</text>\n<text text-anchor=\"start\" x=\"6438.5\" y=\"-126.8\" font-family=\"Helvetica,sans-Serif\" font-size=\"14.00\">value = [0.16, 0.43, 0.11, 0.0, 0.3]</text>\n<text text-anchor=\"start\" x=\"6500\" y=\"-111.8\" font-family=\"Helvetica,sans-Serif\" font-size=\"14.00\">class = black</text>\n</g>\n<!-- 49&#45;&gt;53 -->\n<g id=\"edge53\" class=\"edge\">\n<title>49&#45;&gt;53</title>\n<path fill=\"none\" stroke=\"black\" d=\"M6458.52,-222.91C6468.43,-213.56 6479.05,-203.54 6489.23,-193.93\"/>\n<polygon fill=\"black\" stroke=\"black\" points=\"6491.68,-196.43 6496.55,-187.02 6486.88,-191.34 6491.68,-196.43\"/>\n</g>\n<!-- 51 -->\n<g id=\"node52\" class=\"node\">\n<title>51</title>\n<path fill=\"#e2f9d4\" stroke=\"black\" d=\"M6144.5,-68C6144.5,-68 5942.5,-68 5942.5,-68 5936.5,-68 5930.5,-62 5930.5,-56 5930.5,-56 5930.5,-12 5930.5,-12 5930.5,-6 5936.5,0 5942.5,0 5942.5,0 6144.5,0 6144.5,0 6150.5,0 6156.5,-6 6156.5,-12 6156.5,-12 6156.5,-56 6156.5,-56 6156.5,-62 6150.5,-68 6144.5,-68\"/>\n<text text-anchor=\"start\" x=\"6011.5\" y=\"-52.8\" font-family=\"Helvetica,sans-Serif\" font-size=\"14.00\">gini = 0.68</text>\n<text text-anchor=\"start\" x=\"5994\" y=\"-37.8\" font-family=\"Helvetica,sans-Serif\" font-size=\"14.00\">samples = 0.3%</text>\n<text text-anchor=\"start\" x=\"5938.5\" y=\"-22.8\" font-family=\"Helvetica,sans-Serif\" font-size=\"14.00\">value = [0.07, 0.46, 0.09, 0.09, 0.3]</text>\n<text text-anchor=\"start\" x=\"6004\" y=\"-7.8\" font-family=\"Helvetica,sans-Serif\" font-size=\"14.00\">class = black</text>\n</g>\n<!-- 50&#45;&gt;51 -->\n<g id=\"edge51\" class=\"edge\">\n<title>50&#45;&gt;51</title>\n<path fill=\"none\" stroke=\"black\" d=\"M6199.51,-103.88C6176,-93.5 6150.85,-82.4 6127.76,-72.2\"/>\n<polygon fill=\"black\" stroke=\"black\" points=\"6128.9,-68.88 6118.34,-68.04 6126.07,-75.28 6128.9,-68.88\"/>\n</g>\n<!-- 52 -->\n<g id=\"node53\" class=\"node\">\n<title>52</title>\n<path fill=\"#cef5b6\" stroke=\"black\" d=\"M6396,-68C6396,-68 6187,-68 6187,-68 6181,-68 6175,-62 6175,-56 6175,-56 6175,-12 6175,-12 6175,-6 6181,0 6187,0 6187,0 6396,0 6396,0 6402,0 6408,-6 6408,-12 6408,-12 6408,-56 6408,-56 6408,-62 6402,-68 6396,-68\"/>\n<text text-anchor=\"start\" x=\"6259.5\" y=\"-52.8\" font-family=\"Helvetica,sans-Serif\" font-size=\"14.00\">gini = 0.57</text>\n<text text-anchor=\"start\" x=\"6242\" y=\"-37.8\" font-family=\"Helvetica,sans-Serif\" font-size=\"14.00\">samples = 0.7%</text>\n<text text-anchor=\"start\" x=\"6183\" y=\"-22.8\" font-family=\"Helvetica,sans-Serif\" font-size=\"14.00\">value = [0.05, 0.57, 0.04, 0.03, 0.32]</text>\n<text text-anchor=\"start\" x=\"6252\" y=\"-7.8\" font-family=\"Helvetica,sans-Serif\" font-size=\"14.00\">class = black</text>\n</g>\n<!-- 50&#45;&gt;52 -->\n<g id=\"edge52\" class=\"edge\">\n<title>50&#45;&gt;52</title>\n<path fill=\"none\" stroke=\"black\" d=\"M6291.5,-103.73C6291.5,-95.52 6291.5,-86.86 6291.5,-78.56\"/>\n<polygon fill=\"black\" stroke=\"black\" points=\"6295,-78.3 6291.5,-68.3 6288,-78.3 6295,-78.3\"/>\n</g>\n<!-- 54 -->\n<g id=\"node55\" class=\"node\">\n<title>54</title>\n<path fill=\"#ddf8cc\" stroke=\"black\" d=\"M6640.5,-68C6640.5,-68 6438.5,-68 6438.5,-68 6432.5,-68 6426.5,-62 6426.5,-56 6426.5,-56 6426.5,-12 6426.5,-12 6426.5,-6 6432.5,0 6438.5,0 6438.5,0 6640.5,0 6640.5,0 6646.5,0 6652.5,-6 6652.5,-12 6652.5,-12 6652.5,-56 6652.5,-56 6652.5,-62 6646.5,-68 6640.5,-68\"/>\n<text text-anchor=\"start\" x=\"6507.5\" y=\"-52.8\" font-family=\"Helvetica,sans-Serif\" font-size=\"14.00\">gini = 0.67</text>\n<text text-anchor=\"start\" x=\"6490\" y=\"-37.8\" font-family=\"Helvetica,sans-Serif\" font-size=\"14.00\">samples = 0.5%</text>\n<text text-anchor=\"start\" x=\"6434.5\" y=\"-22.8\" font-family=\"Helvetica,sans-Serif\" font-size=\"14.00\">value = [0.13, 0.47, 0.11, 0.0, 0.29]</text>\n<text text-anchor=\"start\" x=\"6500\" y=\"-7.8\" font-family=\"Helvetica,sans-Serif\" font-size=\"14.00\">class = black</text>\n</g>\n<!-- 53&#45;&gt;54 -->\n<g id=\"edge54\" class=\"edge\">\n<title>53&#45;&gt;54</title>\n<path fill=\"none\" stroke=\"black\" d=\"M6539.5,-103.73C6539.5,-95.52 6539.5,-86.86 6539.5,-78.56\"/>\n<polygon fill=\"black\" stroke=\"black\" points=\"6543,-78.3 6539.5,-68.3 6536,-78.3 6543,-78.3\"/>\n</g>\n<!-- 55 -->\n<g id=\"node56\" class=\"node\">\n<title>55</title>\n<path fill=\"#fdf1fb\" stroke=\"black\" d=\"M6870,-68C6870,-68 6683,-68 6683,-68 6677,-68 6671,-62 6671,-56 6671,-56 6671,-12 6671,-12 6671,-6 6677,0 6683,0 6683,0 6870,0 6870,0 6876,0 6882,-6 6882,-12 6882,-12 6882,-56 6882,-56 6882,-62 6876,-68 6870,-68\"/>\n<text text-anchor=\"start\" x=\"6744.5\" y=\"-52.8\" font-family=\"Helvetica,sans-Serif\" font-size=\"14.00\">gini = 0.72</text>\n<text text-anchor=\"start\" x=\"6727\" y=\"-37.8\" font-family=\"Helvetica,sans-Serif\" font-size=\"14.00\">samples = 0.1%</text>\n<text text-anchor=\"start\" x=\"6679\" y=\"-22.8\" font-family=\"Helvetica,sans-Serif\" font-size=\"14.00\">value = [0.25, 0.3, 0.1, 0.0, 0.35]</text>\n<text text-anchor=\"start\" x=\"6737.5\" y=\"-7.8\" font-family=\"Helvetica,sans-Serif\" font-size=\"14.00\">class = other</text>\n</g>\n<!-- 53&#45;&gt;55 -->\n<g id=\"edge55\" class=\"edge\">\n<title>53&#45;&gt;55</title>\n<path fill=\"none\" stroke=\"black\" d=\"M6627.41,-103.88C6649.78,-93.55 6673.7,-82.5 6695.69,-72.34\"/>\n<polygon fill=\"black\" stroke=\"black\" points=\"6697.37,-75.41 6704.98,-68.04 6694.44,-69.06 6697.37,-75.41\"/>\n</g>\n<!-- 57 -->\n<g id=\"node58\" class=\"node\">\n<title>57</title>\n<path fill=\"#f3a7e3\" stroke=\"black\" d=\"M7204.5,-187C7204.5,-187 7002.5,-187 7002.5,-187 6996.5,-187 6990.5,-181 6990.5,-175 6990.5,-175 6990.5,-116 6990.5,-116 6990.5,-110 6996.5,-104 7002.5,-104 7002.5,-104 7204.5,-104 7204.5,-104 7210.5,-104 7216.5,-110 7216.5,-116 7216.5,-116 7216.5,-175 7216.5,-175 7216.5,-181 7210.5,-187 7204.5,-187\"/>\n<text text-anchor=\"start\" x=\"7046\" y=\"-171.8\" font-family=\"Helvetica,sans-Serif\" font-size=\"14.00\">subject_age ≤ 66.5</text>\n<text text-anchor=\"start\" x=\"7071.5\" y=\"-156.8\" font-family=\"Helvetica,sans-Serif\" font-size=\"14.00\">gini = 0.58</text>\n<text text-anchor=\"start\" x=\"7054\" y=\"-141.8\" font-family=\"Helvetica,sans-Serif\" font-size=\"14.00\">samples = 0.1%</text>\n<text text-anchor=\"start\" x=\"6998.5\" y=\"-126.8\" font-family=\"Helvetica,sans-Serif\" font-size=\"14.00\">value = [0.0, 0.25, 0.08, 0.08, 0.58]</text>\n<text text-anchor=\"start\" x=\"7064.5\" y=\"-111.8\" font-family=\"Helvetica,sans-Serif\" font-size=\"14.00\">class = other</text>\n</g>\n<!-- 56&#45;&gt;57 -->\n<g id=\"edge57\" class=\"edge\">\n<title>56&#45;&gt;57</title>\n<path fill=\"none\" stroke=\"black\" d=\"M7103.5,-222.91C7103.5,-214.65 7103.5,-205.86 7103.5,-197.3\"/>\n<polygon fill=\"black\" stroke=\"black\" points=\"7107,-197.02 7103.5,-187.02 7100,-197.02 7107,-197.02\"/>\n</g>\n<!-- 60 -->\n<g id=\"node61\" class=\"node\">\n<title>60</title>\n<path fill=\"#ec6ad0\" stroke=\"black\" d=\"M7545.5,-187C7545.5,-187 7351.5,-187 7351.5,-187 7345.5,-187 7339.5,-181 7339.5,-175 7339.5,-175 7339.5,-116 7339.5,-116 7339.5,-110 7345.5,-104 7351.5,-104 7351.5,-104 7545.5,-104 7545.5,-104 7551.5,-104 7557.5,-110 7557.5,-116 7557.5,-116 7557.5,-175 7557.5,-175 7557.5,-181 7551.5,-187 7545.5,-187\"/>\n<text text-anchor=\"start\" x=\"7391\" y=\"-171.8\" font-family=\"Helvetica,sans-Serif\" font-size=\"14.00\">subject_age ≤ 77.0</text>\n<text text-anchor=\"start\" x=\"7416.5\" y=\"-156.8\" font-family=\"Helvetica,sans-Serif\" font-size=\"14.00\">gini = 0.37</text>\n<text text-anchor=\"start\" x=\"7399\" y=\"-141.8\" font-family=\"Helvetica,sans-Serif\" font-size=\"14.00\">samples = 0.1%</text>\n<text text-anchor=\"start\" x=\"7347.5\" y=\"-126.8\" font-family=\"Helvetica,sans-Serif\" font-size=\"14.00\">value = [0.11, 0.11, 0.0, 0.0, 0.78]</text>\n<text text-anchor=\"start\" x=\"7409.5\" y=\"-111.8\" font-family=\"Helvetica,sans-Serif\" font-size=\"14.00\">class = other</text>\n</g>\n<!-- 56&#45;&gt;60 -->\n<g id=\"edge60\" class=\"edge\">\n<title>56&#45;&gt;60</title>\n<path fill=\"none\" stroke=\"black\" d=\"M7216.94,-225.03C7253.09,-212.77 7293.17,-199.18 7329.69,-186.79\"/>\n<polygon fill=\"black\" stroke=\"black\" points=\"7331.04,-190.03 7339.39,-183.5 7328.79,-183.4 7331.04,-190.03\"/>\n</g>\n<!-- 58 -->\n<g id=\"node59\" class=\"node\">\n<title>58</title>\n<path fill=\"#f29ce0\" stroke=\"black\" d=\"M7084.5,-68C7084.5,-68 6912.5,-68 6912.5,-68 6906.5,-68 6900.5,-62 6900.5,-56 6900.5,-56 6900.5,-12 6900.5,-12 6900.5,-6 6906.5,0 6912.5,0 6912.5,0 7084.5,0 7084.5,0 7090.5,0 7096.5,-6 7096.5,-12 7096.5,-12 7096.5,-56 7096.5,-56 7096.5,-62 7090.5,-68 7084.5,-68\"/>\n<text text-anchor=\"start\" x=\"6966.5\" y=\"-52.8\" font-family=\"Helvetica,sans-Serif\" font-size=\"14.00\">gini = 0.56</text>\n<text text-anchor=\"start\" x=\"6949\" y=\"-37.8\" font-family=\"Helvetica,sans-Serif\" font-size=\"14.00\">samples = 0.0%</text>\n<text text-anchor=\"start\" x=\"6908.5\" y=\"-22.8\" font-family=\"Helvetica,sans-Serif\" font-size=\"14.00\">value = [0.0, 0.2, 0.2, 0.0, 0.6]</text>\n<text text-anchor=\"start\" x=\"6959.5\" y=\"-7.8\" font-family=\"Helvetica,sans-Serif\" font-size=\"14.00\">class = other</text>\n</g>\n<!-- 57&#45;&gt;58 -->\n<g id=\"edge58\" class=\"edge\">\n<title>57&#45;&gt;58</title>\n<path fill=\"none\" stroke=\"black\" d=\"M7064.4,-103.73C7055.57,-94.51 7046.19,-84.74 7037.37,-75.53\"/>\n<polygon fill=\"black\" stroke=\"black\" points=\"7039.88,-73.1 7030.43,-68.3 7034.83,-77.94 7039.88,-73.1\"/>\n</g>\n<!-- 59 -->\n<g id=\"node60\" class=\"node\">\n<title>59</title>\n<path fill=\"#f5b0e6\" stroke=\"black\" d=\"M7320.5,-68C7320.5,-68 7126.5,-68 7126.5,-68 7120.5,-68 7114.5,-62 7114.5,-56 7114.5,-56 7114.5,-12 7114.5,-12 7114.5,-6 7120.5,0 7126.5,0 7126.5,0 7320.5,0 7320.5,0 7326.5,0 7332.5,-6 7332.5,-12 7332.5,-12 7332.5,-56 7332.5,-56 7332.5,-62 7326.5,-68 7320.5,-68\"/>\n<text text-anchor=\"start\" x=\"7191.5\" y=\"-52.8\" font-family=\"Helvetica,sans-Serif\" font-size=\"14.00\">gini = 0.57</text>\n<text text-anchor=\"start\" x=\"7174\" y=\"-37.8\" font-family=\"Helvetica,sans-Serif\" font-size=\"14.00\">samples = 0.0%</text>\n<text text-anchor=\"start\" x=\"7122.5\" y=\"-22.8\" font-family=\"Helvetica,sans-Serif\" font-size=\"14.00\">value = [0.0, 0.29, 0.0, 0.14, 0.57]</text>\n<text text-anchor=\"start\" x=\"7184.5\" y=\"-7.8\" font-family=\"Helvetica,sans-Serif\" font-size=\"14.00\">class = other</text>\n</g>\n<!-- 57&#45;&gt;59 -->\n<g id=\"edge59\" class=\"edge\">\n<title>57&#45;&gt;59</title>\n<path fill=\"none\" stroke=\"black\" d=\"M7148.18,-103.73C7158.38,-94.42 7169.21,-84.54 7179.38,-75.26\"/>\n<polygon fill=\"black\" stroke=\"black\" points=\"7181.98,-77.63 7187.01,-68.3 7177.26,-72.45 7181.98,-77.63\"/>\n</g>\n<!-- 61 -->\n<g id=\"node62\" class=\"node\">\n<title>61</title>\n<path fill=\"#e84fc7\" stroke=\"black\" d=\"M7534.5,-68C7534.5,-68 7362.5,-68 7362.5,-68 7356.5,-68 7350.5,-62 7350.5,-56 7350.5,-56 7350.5,-12 7350.5,-12 7350.5,-6 7356.5,0 7362.5,0 7362.5,0 7534.5,0 7534.5,0 7540.5,0 7546.5,-6 7546.5,-12 7546.5,-12 7546.5,-56 7546.5,-56 7546.5,-62 7540.5,-68 7534.5,-68\"/>\n<text text-anchor=\"start\" x=\"7416.5\" y=\"-52.8\" font-family=\"Helvetica,sans-Serif\" font-size=\"14.00\">gini = 0.18</text>\n<text text-anchor=\"start\" x=\"7399\" y=\"-37.8\" font-family=\"Helvetica,sans-Serif\" font-size=\"14.00\">samples = 0.1%</text>\n<text text-anchor=\"start\" x=\"7358.5\" y=\"-22.8\" font-family=\"Helvetica,sans-Serif\" font-size=\"14.00\">value = [0.1, 0.0, 0.0, 0.0, 0.9]</text>\n<text text-anchor=\"start\" x=\"7409.5\" y=\"-7.8\" font-family=\"Helvetica,sans-Serif\" font-size=\"14.00\">class = other</text>\n</g>\n<!-- 60&#45;&gt;61 -->\n<g id=\"edge61\" class=\"edge\">\n<title>60&#45;&gt;61</title>\n<path fill=\"none\" stroke=\"black\" d=\"M7448.5,-103.73C7448.5,-95.52 7448.5,-86.86 7448.5,-78.56\"/>\n<polygon fill=\"black\" stroke=\"black\" points=\"7452,-78.3 7448.5,-68.3 7445,-78.3 7452,-78.3\"/>\n</g>\n<!-- 62 -->\n<g id=\"node63\" class=\"node\">\n<title>62</title>\n<path fill=\"#f29ce0\" stroke=\"black\" d=\"M7770.5,-68C7770.5,-68 7576.5,-68 7576.5,-68 7570.5,-68 7564.5,-62 7564.5,-56 7564.5,-56 7564.5,-12 7564.5,-12 7564.5,-6 7570.5,0 7576.5,0 7576.5,0 7770.5,0 7770.5,0 7776.5,0 7782.5,-6 7782.5,-12 7782.5,-12 7782.5,-56 7782.5,-56 7782.5,-62 7776.5,-68 7770.5,-68\"/>\n<text text-anchor=\"start\" x=\"7641.5\" y=\"-52.8\" font-family=\"Helvetica,sans-Serif\" font-size=\"14.00\">gini = 0.53</text>\n<text text-anchor=\"start\" x=\"7624\" y=\"-37.8\" font-family=\"Helvetica,sans-Serif\" font-size=\"14.00\">samples = 0.1%</text>\n<text text-anchor=\"start\" x=\"7572.5\" y=\"-22.8\" font-family=\"Helvetica,sans-Serif\" font-size=\"14.00\">value = [0.12, 0.25, 0.0, 0.0, 0.62]</text>\n<text text-anchor=\"start\" x=\"7634.5\" y=\"-7.8\" font-family=\"Helvetica,sans-Serif\" font-size=\"14.00\">class = other</text>\n</g>\n<!-- 60&#45;&gt;62 -->\n<g id=\"edge62\" class=\"edge\">\n<title>60&#45;&gt;62</title>\n<path fill=\"none\" stroke=\"black\" d=\"M7531.96,-103.88C7553.1,-93.6 7575.7,-82.6 7596.5,-72.47\"/>\n<polygon fill=\"black\" stroke=\"black\" points=\"7598.14,-75.57 7605.6,-68.04 7595.08,-69.27 7598.14,-75.57\"/>\n</g>\n</g>\n</svg>\n"
          },
          "metadata": {},
          "execution_count": 107
        }
      ],
      "source": [
        "target_names = ['asian/pacific islander', 'black','hispanic', 'white', 'other']\n",
        "n = export_graphviz(clf,precision=2, feature_names=predictors, proportion=True, class_names=target_names, filled=True, rounded=True, special_characters=True)\n",
        "graph = graphviz.Source(n)\n",
        "graph"
      ]
    },
    {
      "cell_type": "code",
      "source": [
        "print('Accuracy: {:.2f}'.format((y_predict == y_test).mean()))\n",
        "pd.crosstab(y_test, y_predict, rownames=['Actual'], colnames=['Predicted'])\n"
      ],
      "metadata": {
        "colab": {
          "base_uri": "https://localhost:8080/",
          "height": 255
        },
        "id": "XJAzodyW8WdW",
        "outputId": "2a67e5a2-65a3-4f0f-f65b-5f4ddea11cea"
      },
      "execution_count": null,
      "outputs": [
        {
          "output_type": "stream",
          "name": "stdout",
          "text": [
            "Accuracy: 0.47\n"
          ]
        },
        {
          "output_type": "execute_result",
          "data": {
            "text/plain": [
              "Predicted     1   4\n",
              "Actual             \n",
              "0           327   4\n",
              "1          2834  13\n",
              "2          1202   4\n",
              "3           424   3\n",
              "4          1313  38"
            ],
            "text/html": [
              "\n",
              "  <div id=\"df-8259f262-5ad4-4874-948c-c53ac686355a\">\n",
              "    <div class=\"colab-df-container\">\n",
              "      <div>\n",
              "<style scoped>\n",
              "    .dataframe tbody tr th:only-of-type {\n",
              "        vertical-align: middle;\n",
              "    }\n",
              "\n",
              "    .dataframe tbody tr th {\n",
              "        vertical-align: top;\n",
              "    }\n",
              "\n",
              "    .dataframe thead th {\n",
              "        text-align: right;\n",
              "    }\n",
              "</style>\n",
              "<table border=\"1\" class=\"dataframe\">\n",
              "  <thead>\n",
              "    <tr style=\"text-align: right;\">\n",
              "      <th>Predicted</th>\n",
              "      <th>1</th>\n",
              "      <th>4</th>\n",
              "    </tr>\n",
              "    <tr>\n",
              "      <th>Actual</th>\n",
              "      <th></th>\n",
              "      <th></th>\n",
              "    </tr>\n",
              "  </thead>\n",
              "  <tbody>\n",
              "    <tr>\n",
              "      <th>0</th>\n",
              "      <td>327</td>\n",
              "      <td>4</td>\n",
              "    </tr>\n",
              "    <tr>\n",
              "      <th>1</th>\n",
              "      <td>2834</td>\n",
              "      <td>13</td>\n",
              "    </tr>\n",
              "    <tr>\n",
              "      <th>2</th>\n",
              "      <td>1202</td>\n",
              "      <td>4</td>\n",
              "    </tr>\n",
              "    <tr>\n",
              "      <th>3</th>\n",
              "      <td>424</td>\n",
              "      <td>3</td>\n",
              "    </tr>\n",
              "    <tr>\n",
              "      <th>4</th>\n",
              "      <td>1313</td>\n",
              "      <td>38</td>\n",
              "    </tr>\n",
              "  </tbody>\n",
              "</table>\n",
              "</div>\n",
              "      <button class=\"colab-df-convert\" onclick=\"convertToInteractive('df-8259f262-5ad4-4874-948c-c53ac686355a')\"\n",
              "              title=\"Convert this dataframe to an interactive table.\"\n",
              "              style=\"display:none;\">\n",
              "        \n",
              "  <svg xmlns=\"http://www.w3.org/2000/svg\" height=\"24px\"viewBox=\"0 0 24 24\"\n",
              "       width=\"24px\">\n",
              "    <path d=\"M0 0h24v24H0V0z\" fill=\"none\"/>\n",
              "    <path d=\"M18.56 5.44l.94 2.06.94-2.06 2.06-.94-2.06-.94-.94-2.06-.94 2.06-2.06.94zm-11 1L8.5 8.5l.94-2.06 2.06-.94-2.06-.94L8.5 2.5l-.94 2.06-2.06.94zm10 10l.94 2.06.94-2.06 2.06-.94-2.06-.94-.94-2.06-.94 2.06-2.06.94z\"/><path d=\"M17.41 7.96l-1.37-1.37c-.4-.4-.92-.59-1.43-.59-.52 0-1.04.2-1.43.59L10.3 9.45l-7.72 7.72c-.78.78-.78 2.05 0 2.83L4 21.41c.39.39.9.59 1.41.59.51 0 1.02-.2 1.41-.59l7.78-7.78 2.81-2.81c.8-.78.8-2.07 0-2.86zM5.41 20L4 18.59l7.72-7.72 1.47 1.35L5.41 20z\"/>\n",
              "  </svg>\n",
              "      </button>\n",
              "      \n",
              "  <style>\n",
              "    .colab-df-container {\n",
              "      display:flex;\n",
              "      flex-wrap:wrap;\n",
              "      gap: 12px;\n",
              "    }\n",
              "\n",
              "    .colab-df-convert {\n",
              "      background-color: #E8F0FE;\n",
              "      border: none;\n",
              "      border-radius: 50%;\n",
              "      cursor: pointer;\n",
              "      display: none;\n",
              "      fill: #1967D2;\n",
              "      height: 32px;\n",
              "      padding: 0 0 0 0;\n",
              "      width: 32px;\n",
              "    }\n",
              "\n",
              "    .colab-df-convert:hover {\n",
              "      background-color: #E2EBFA;\n",
              "      box-shadow: 0px 1px 2px rgba(60, 64, 67, 0.3), 0px 1px 3px 1px rgba(60, 64, 67, 0.15);\n",
              "      fill: #174EA6;\n",
              "    }\n",
              "\n",
              "    [theme=dark] .colab-df-convert {\n",
              "      background-color: #3B4455;\n",
              "      fill: #D2E3FC;\n",
              "    }\n",
              "\n",
              "    [theme=dark] .colab-df-convert:hover {\n",
              "      background-color: #434B5C;\n",
              "      box-shadow: 0px 1px 3px 1px rgba(0, 0, 0, 0.15);\n",
              "      filter: drop-shadow(0px 1px 2px rgba(0, 0, 0, 0.3));\n",
              "      fill: #FFFFFF;\n",
              "    }\n",
              "  </style>\n",
              "\n",
              "      <script>\n",
              "        const buttonEl =\n",
              "          document.querySelector('#df-8259f262-5ad4-4874-948c-c53ac686355a button.colab-df-convert');\n",
              "        buttonEl.style.display =\n",
              "          google.colab.kernel.accessAllowed ? 'block' : 'none';\n",
              "\n",
              "        async function convertToInteractive(key) {\n",
              "          const element = document.querySelector('#df-8259f262-5ad4-4874-948c-c53ac686355a');\n",
              "          const dataTable =\n",
              "            await google.colab.kernel.invokeFunction('convertToInteractive',\n",
              "                                                     [key], {});\n",
              "          if (!dataTable) return;\n",
              "\n",
              "          const docLinkHtml = 'Like what you see? Visit the ' +\n",
              "            '<a target=\"_blank\" href=https://colab.research.google.com/notebooks/data_table.ipynb>data table notebook</a>'\n",
              "            + ' to learn more about interactive tables.';\n",
              "          element.innerHTML = '';\n",
              "          dataTable['output_type'] = 'display_data';\n",
              "          await google.colab.output.renderOutput(dataTable, element);\n",
              "          const docLink = document.createElement('div');\n",
              "          docLink.innerHTML = docLinkHtml;\n",
              "          element.appendChild(docLink);\n",
              "        }\n",
              "      </script>\n",
              "    </div>\n",
              "  </div>\n",
              "  "
            ]
          },
          "metadata": {},
          "execution_count": 110
        }
      ]
    },
    {
      "cell_type": "markdown",
      "source": [
        "By using the Decision Tree Classification model we see that our accuracy improve by +0.02 when compared to the KNN Classification model. "
      ],
      "metadata": {
        "id": "l-rTingbEVdT"
      }
    },
    {
      "cell_type": "markdown",
      "source": [
        "#Non-Linear SVC Classification"
      ],
      "metadata": {
        "id": "cizzidYuFJiJ"
      }
    },
    {
      "cell_type": "code",
      "source": [
        "clf = make_pipeline(StandardScaler(), SVC(gamma='scale'))\n",
        "clf.fit(X_train, y_train)\n",
        "y_predict = clf.predict(X_test)\n",
        "print('Accuracy: {:.2f}'.format(accuracy_score(y_test, y_predict)))\n",
        "pd.crosstab(y_test, y_predict, rownames=['Actual'], colnames=['Predicted'])"
      ],
      "metadata": {
        "colab": {
          "base_uri": "https://localhost:8080/",
          "height": 255
        },
        "id": "qtVsjLD-FGqV",
        "outputId": "29e0060e-1006-410a-d2cf-a6f7d3b108d3"
      },
      "execution_count": null,
      "outputs": [
        {
          "output_type": "stream",
          "name": "stdout",
          "text": [
            "Accuracy: 0.47\n"
          ]
        },
        {
          "output_type": "execute_result",
          "data": {
            "text/plain": [
              "Predicted     1   4\n",
              "Actual             \n",
              "0           327   4\n",
              "1          2834  13\n",
              "2          1202   4\n",
              "3           424   3\n",
              "4          1313  38"
            ],
            "text/html": [
              "\n",
              "  <div id=\"df-c2533771-ec63-46db-84a6-55473171619d\">\n",
              "    <div class=\"colab-df-container\">\n",
              "      <div>\n",
              "<style scoped>\n",
              "    .dataframe tbody tr th:only-of-type {\n",
              "        vertical-align: middle;\n",
              "    }\n",
              "\n",
              "    .dataframe tbody tr th {\n",
              "        vertical-align: top;\n",
              "    }\n",
              "\n",
              "    .dataframe thead th {\n",
              "        text-align: right;\n",
              "    }\n",
              "</style>\n",
              "<table border=\"1\" class=\"dataframe\">\n",
              "  <thead>\n",
              "    <tr style=\"text-align: right;\">\n",
              "      <th>Predicted</th>\n",
              "      <th>1</th>\n",
              "      <th>4</th>\n",
              "    </tr>\n",
              "    <tr>\n",
              "      <th>Actual</th>\n",
              "      <th></th>\n",
              "      <th></th>\n",
              "    </tr>\n",
              "  </thead>\n",
              "  <tbody>\n",
              "    <tr>\n",
              "      <th>0</th>\n",
              "      <td>327</td>\n",
              "      <td>4</td>\n",
              "    </tr>\n",
              "    <tr>\n",
              "      <th>1</th>\n",
              "      <td>2834</td>\n",
              "      <td>13</td>\n",
              "    </tr>\n",
              "    <tr>\n",
              "      <th>2</th>\n",
              "      <td>1202</td>\n",
              "      <td>4</td>\n",
              "    </tr>\n",
              "    <tr>\n",
              "      <th>3</th>\n",
              "      <td>424</td>\n",
              "      <td>3</td>\n",
              "    </tr>\n",
              "    <tr>\n",
              "      <th>4</th>\n",
              "      <td>1313</td>\n",
              "      <td>38</td>\n",
              "    </tr>\n",
              "  </tbody>\n",
              "</table>\n",
              "</div>\n",
              "      <button class=\"colab-df-convert\" onclick=\"convertToInteractive('df-c2533771-ec63-46db-84a6-55473171619d')\"\n",
              "              title=\"Convert this dataframe to an interactive table.\"\n",
              "              style=\"display:none;\">\n",
              "        \n",
              "  <svg xmlns=\"http://www.w3.org/2000/svg\" height=\"24px\"viewBox=\"0 0 24 24\"\n",
              "       width=\"24px\">\n",
              "    <path d=\"M0 0h24v24H0V0z\" fill=\"none\"/>\n",
              "    <path d=\"M18.56 5.44l.94 2.06.94-2.06 2.06-.94-2.06-.94-.94-2.06-.94 2.06-2.06.94zm-11 1L8.5 8.5l.94-2.06 2.06-.94-2.06-.94L8.5 2.5l-.94 2.06-2.06.94zm10 10l.94 2.06.94-2.06 2.06-.94-2.06-.94-.94-2.06-.94 2.06-2.06.94z\"/><path d=\"M17.41 7.96l-1.37-1.37c-.4-.4-.92-.59-1.43-.59-.52 0-1.04.2-1.43.59L10.3 9.45l-7.72 7.72c-.78.78-.78 2.05 0 2.83L4 21.41c.39.39.9.59 1.41.59.51 0 1.02-.2 1.41-.59l7.78-7.78 2.81-2.81c.8-.78.8-2.07 0-2.86zM5.41 20L4 18.59l7.72-7.72 1.47 1.35L5.41 20z\"/>\n",
              "  </svg>\n",
              "      </button>\n",
              "      \n",
              "  <style>\n",
              "    .colab-df-container {\n",
              "      display:flex;\n",
              "      flex-wrap:wrap;\n",
              "      gap: 12px;\n",
              "    }\n",
              "\n",
              "    .colab-df-convert {\n",
              "      background-color: #E8F0FE;\n",
              "      border: none;\n",
              "      border-radius: 50%;\n",
              "      cursor: pointer;\n",
              "      display: none;\n",
              "      fill: #1967D2;\n",
              "      height: 32px;\n",
              "      padding: 0 0 0 0;\n",
              "      width: 32px;\n",
              "    }\n",
              "\n",
              "    .colab-df-convert:hover {\n",
              "      background-color: #E2EBFA;\n",
              "      box-shadow: 0px 1px 2px rgba(60, 64, 67, 0.3), 0px 1px 3px 1px rgba(60, 64, 67, 0.15);\n",
              "      fill: #174EA6;\n",
              "    }\n",
              "\n",
              "    [theme=dark] .colab-df-convert {\n",
              "      background-color: #3B4455;\n",
              "      fill: #D2E3FC;\n",
              "    }\n",
              "\n",
              "    [theme=dark] .colab-df-convert:hover {\n",
              "      background-color: #434B5C;\n",
              "      box-shadow: 0px 1px 3px 1px rgba(0, 0, 0, 0.15);\n",
              "      filter: drop-shadow(0px 1px 2px rgba(0, 0, 0, 0.3));\n",
              "      fill: #FFFFFF;\n",
              "    }\n",
              "  </style>\n",
              "\n",
              "      <script>\n",
              "        const buttonEl =\n",
              "          document.querySelector('#df-c2533771-ec63-46db-84a6-55473171619d button.colab-df-convert');\n",
              "        buttonEl.style.display =\n",
              "          google.colab.kernel.accessAllowed ? 'block' : 'none';\n",
              "\n",
              "        async function convertToInteractive(key) {\n",
              "          const element = document.querySelector('#df-c2533771-ec63-46db-84a6-55473171619d');\n",
              "          const dataTable =\n",
              "            await google.colab.kernel.invokeFunction('convertToInteractive',\n",
              "                                                     [key], {});\n",
              "          if (!dataTable) return;\n",
              "\n",
              "          const docLinkHtml = 'Like what you see? Visit the ' +\n",
              "            '<a target=\"_blank\" href=https://colab.research.google.com/notebooks/data_table.ipynb>data table notebook</a>'\n",
              "            + ' to learn more about interactive tables.';\n",
              "          element.innerHTML = '';\n",
              "          dataTable['output_type'] = 'display_data';\n",
              "          await google.colab.output.renderOutput(dataTable, element);\n",
              "          const docLink = document.createElement('div');\n",
              "          docLink.innerHTML = docLinkHtml;\n",
              "          element.appendChild(docLink);\n",
              "        }\n",
              "      </script>\n",
              "    </div>\n",
              "  </div>\n",
              "  "
            ]
          },
          "metadata": {},
          "execution_count": 109
        }
      ]
    },
    {
      "cell_type": "code",
      "execution_count": null,
      "metadata": {
        "id": "d5qRL_ANrQrG"
      },
      "outputs": [],
      "source": [
        "# selecting the predictor variables and target variables to be used with regression\n",
        "predictors = ['outcome', 'citation_issued']\n",
        "target = ['subject_race']\n",
        "X = df[predictors].values\n",
        "y = df[target].values"
      ]
    },
    {
      "cell_type": "code",
      "execution_count": null,
      "metadata": {
        "id": "moDsGOzFrV4Z"
      },
      "outputs": [],
      "source": [
        "# Split the data into training and test sets, and scale\n",
        "scaler = StandardScaler()\n",
        "\n",
        "# unscaled version (note that scaling is only used on predictor variables)\n",
        "X_train_raw, X_test_raw, y_train, y_test = train_test_split(X, y, test_size=0.30, random_state=42)\n",
        "\n",
        "# scaled version\n",
        "X_train = scaler.fit_transform(X_train_raw)\n",
        "X_test = scaler.transform(X_test_raw)"
      ]
    },
    {
      "cell_type": "code",
      "execution_count": null,
      "metadata": {
        "id": "HruakhxSrYHb",
        "colab": {
          "base_uri": "https://localhost:8080/"
        },
        "outputId": "3c0d3190-b950-4f1b-d131-8f942aadd49f"
      },
      "outputs": [
        {
          "output_type": "stream",
          "name": "stdout",
          "text": [
            "(14376, 2)\n",
            "[[-0.21613393  0.912289  ]\n",
            " [-1.73403401 -1.09614387]\n",
            " [-0.21613393  0.912289  ]]\n"
          ]
        }
      ],
      "source": [
        "# sanity chec\n",
        "print(X_train.shape)\n",
        "print(X_train[:3])"
      ]
    },
    {
      "cell_type": "code",
      "execution_count": null,
      "metadata": {
        "id": "fVe5uPy6rZw4"
      },
      "outputs": [],
      "source": [
        "def rmse(predicted, actual):\n",
        "    return np.sqrt(((predicted - actual)**2).mean())"
      ]
    },
    {
      "cell_type": "code",
      "execution_count": null,
      "metadata": {
        "id": "btZ199ufrbU3",
        "colab": {
          "base_uri": "https://localhost:8080/"
        },
        "outputId": "22e31922-f539-45e1-f726-b4f557f9309b"
      },
      "outputs": [
        {
          "output_type": "stream",
          "name": "stdout",
          "text": [
            "RMSE: 1.3244437510118305\n"
          ]
        }
      ],
      "source": [
        "model = KNeighborsRegressor(algorithm='brute')\n",
        "model.fit(X_train, y_train)\n",
        "predicted = model.predict(X_test)\n",
        "test_rmse = rmse(predicted, y_test)\n",
        "print(\"RMSE:\", test_rmse)"
      ]
    },
    {
      "cell_type": "code",
      "execution_count": null,
      "metadata": {
        "id": "F7rB0LwFrcdg"
      },
      "outputs": [],
      "source": [
        "def get_train_test_rmse(regr, X_train, X_test, y_train, y_test):\n",
        "    regr.fit(X_train, y_train)\n",
        "    predicted = regr.predict(X_test)\n",
        "    train_rmse = rmse(y_train, regr.predict(X_train))\n",
        "    test_rmse = rmse(y_test, predicted)\n",
        "    return(train_rmse, test_rmse)"
      ]
    },
    {
      "cell_type": "code",
      "execution_count": null,
      "metadata": {
        "id": "nG5V3_6Trde4",
        "colab": {
          "base_uri": "https://localhost:8080/"
        },
        "outputId": "b7ebe6f8-8ccf-4143-f8e4-9db28e0f85ca"
      },
      "outputs": [
        {
          "output_type": "stream",
          "name": "stdout",
          "text": [
            "1  3  5  7  9  11  13  15  17  19  21  23  25  27  29  done\n"
          ]
        }
      ],
      "source": [
        "n = 30\n",
        "test_rmse = []\n",
        "train_rmse = []\n",
        "ks = np.arange(1, n+1, 2)\n",
        "for k in ks:\n",
        "    print(k, ' ', end='')\n",
        "    regr = KNeighborsRegressor(n_neighbors=k, algorithm='brute')\n",
        "    rmse_tr, rmse_te = get_train_test_rmse(regr, X_train, X_test, y_train, y_test)\n",
        "    train_rmse.append(rmse_tr)\n",
        "    test_rmse.append(rmse_te)\n",
        "print('done')"
      ]
    },
    {
      "cell_type": "code",
      "execution_count": null,
      "metadata": {
        "id": "8CYpCVw5rfBl",
        "colab": {
          "base_uri": "https://localhost:8080/"
        },
        "outputId": "0e82b506-4b7d-492f-9518-74bd8a77d246"
      },
      "outputs": [
        {
          "output_type": "stream",
          "name": "stdout",
          "text": [
            "Test RMSE when k = 3: 1.3\n"
          ]
        }
      ],
      "source": [
        "# sanity check\n",
        "print('Test RMSE when k = 3: {:0.1f}'.format(np.array(test_rmse)[ks==3][0]))"
      ]
    },
    {
      "cell_type": "code",
      "execution_count": null,
      "metadata": {
        "id": "ZAgzGXw_rgJs",
        "colab": {
          "base_uri": "https://localhost:8080/"
        },
        "outputId": "3b00e841-e815-4c8d-bf08-bae9dd2a1a56"
      },
      "outputs": [
        {
          "output_type": "stream",
          "name": "stdout",
          "text": [
            "best k = 3, best test RMSE: 1.3\n"
          ]
        }
      ],
      "source": [
        "def get_best(ks, rmse):\n",
        "    best_k_index = np.argmin(rmse)\n",
        "    best_k = ks[best_k_index]\n",
        "    best_rmse = rmse[best_k_index]\n",
        "    return best_k, best_rmse\n",
        "best_k, best_rmse = get_best(ks, test_rmse)\n",
        "print('best k = {}, best test RMSE: {:0.1f}'.format(best_k, best_rmse))"
      ]
    },
    {
      "cell_type": "code",
      "execution_count": null,
      "metadata": {
        "id": "IXyUZ8RCrhUc",
        "colab": {
          "base_uri": "https://localhost:8080/",
          "height": 297
        },
        "outputId": "8228d955-d6a3-4e41-820f-e68897cce49e"
      },
      "outputs": [
        {
          "output_type": "execute_result",
          "data": {
            "text/plain": [
              "<matplotlib.legend.Legend at 0x7ff260b4d1f0>"
            ]
          },
          "metadata": {},
          "execution_count": 81
        },
        {
          "output_type": "display_data",
          "data": {
            "text/plain": [
              "<Figure size 432x288 with 1 Axes>"
            ],
            "image/png": "[encoded data removed]"
          },
          "metadata": {
            "needs_background": "light"
          }
        }
      ],
      "source": [
        "plt.plot(ks, train_rmse, label='Training RMSE')\n",
        "plt.plot(ks, test_rmse, label='Test RMSE')\n",
        "plt.xlabel('k')\n",
        "plt.ylabel('RMSE')\n",
        "plt.legend()"
      ]
    },
    {
      "cell_type": "code",
      "source": [],
      "metadata": {
        "id": "EEG9K5h_OcnV"
      },
      "execution_count": null,
      "outputs": []
    }
  ],
  "metadata": {
    "colab": {
      "provenance": [],
      "include_colab_link": true
    },
    "kernelspec": {
      "display_name": "Python 3",
      "name": "python3"
    },
    "language_info": {
      "name": "python"
    }
  },
  "nbformat": 4,
  "nbformat_minor": 0
}