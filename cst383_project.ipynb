{
  "cells": [
    {
      "cell_type": "markdown",
      "metadata": {
        "id": "view-in-github",
        "colab_type": "text"
      },
      "source": [
        "<a href=\"https://colab.research.google.com/github/nimbuscloudservices/CST383-Project/blob/main/cst383_project.ipynb\" target=\"_parent\"><img src=\"https://colab.research.google.com/assets/colab-badge.svg\" alt=\"Open In Colab\"/></a>"
      ]
    },
    {
      "cell_type": "markdown",
      "metadata": {
        "id": "LW-wnSnJn914"
      },
      "source": [
        "# **Traffic Stop Victim Prediction**"
      ]
    },
    {
      "cell_type": "markdown",
      "metadata": {
        "id": "WotELDzadG5d"
      },
      "source": [
        "Team:\n",
        "\n",
        "\n",
        "1) lgallez@csumb.edu\n",
        "\n",
        "2) smendozaloera@csumb.edu\t\n",
        "\n",
        "3) ykapadia@csumb.edu\t"
      ]
    },
    {
      "cell_type": "markdown",
      "metadata": {
        "id": "IK7wA2uknopq"
      },
      "source": [
        "#Introduction\n",
        "\n",
        "\n",
        "As reported by the Stanford Open Policing Project, police in the United States conduct approximately 50,000 traffic stops each day. The Stanford Open Policing project hold traffic stop data for 40 different states. Our project focuses on the data reported from the city of San Francisco in California. \n"
      ]
    },
    {
      "cell_type": "markdown",
      "metadata": {
        "id": "eWUUtxuuq7tL"
      },
      "source": [
        "#Objective\n",
        "\n",
        "\n",
        "Past findings have found that racial profiling and bias can be a reason why an individual is pulled over. Our project will predict the race of individual that is pulled over based on the reason for the traffic stop and the outcome (citation)."
      ]
    },
    {
      "cell_type": "markdown",
      "metadata": {
        "id": "mutIOclqcl1f"
      },
      "source": [
        "#Methods\n",
        "\n",
        "\n",
        "San Francisco Data Set (zip file): https://stacks.stanford.edu/file/druid:yg821jf8611/yg821jf8611_ca_san_francisco_2020_04_01.csv.zip\n",
        "\n",
        "Stanford Digital Repository: https://purl.stanford.edu/yg821jf8611\n",
        "\n",
        "The San Francisco Police Traffic Stop data contains has 905070 entries from 2008-2014. The data set includes 21 features. Some of these features are: Date, Time, Location, Latitude, Longitude, District, Age, Race, Sex, Outcome, Warning Issued. For the purpose of our objective, we have decided to drop variables that were not relevant to our project. \n",
        "\n",
        "\n",
        "Target:\n",
        "*   race\n",
        "\n",
        "\n",
        "\n",
        "**Predictors**:\n",
        "\n",
        "\n",
        "*   outcome\n",
        "*   subject_sex\n",
        "\n",
        "\n",
        "\n",
        "\n"
      ]
    },
    {
      "cell_type": "code",
      "execution_count": 182,
      "metadata": {
        "id": "hxzq6q9mcQTD"
      },
      "outputs": [],
      "source": [
        "import numpy as np\n",
        "import pandas as pd\n",
        "import matplotlib.pyplot as plt\n",
        "import seaborn as sns\n",
        "import graphviz\n",
        "from sklearn.model_selection import train_test_split, cross_val_score, learning_curve\n",
        "from sklearn.preprocessing import StandardScaler\n",
        "from sklearn import preprocessing\n",
        "from sklearn.neighbors import KNeighborsClassifier\n",
        "from sklearn.tree import DecisionTreeClassifier\n",
        "from sklearn.datasets import make_classification\n",
        "from sklearn.cluster import KMeans\n",
        "from graphviz import Source\n",
        "from sklearn.tree import export_graphviz\n",
        "from sklearn.metrics import confusion_matrix, accuracy_score, precision_score, recall_score\n",
        "from sklearn.pipeline import Pipeline, make_pipeline\n",
        "from sklearn.svm import SVC\n"
      ]
    },
    {
      "cell_type": "code",
      "execution_count": 183,
      "metadata": {
        "id": "uk34kIGjqiQ_"
      },
      "outputs": [],
      "source": [
        "df = pd.read_csv('https://stacks.stanford.edu/file/druid:yg821jf8611/yg821jf8611_ca_san_francisco_2020_04_01.csv.zip',compression='zip', low_memory=False)"
      ]
    },
    {
      "cell_type": "markdown",
      "metadata": {
        "id": "6CI7SI3GK0pg"
      },
      "source": [
        "#Data Exploration"
      ]
    },
    {
      "cell_type": "markdown",
      "metadata": {
        "id": "2OKUDihDGyqF"
      },
      "source": [
        "Due to our target variable being catergorical we must convert it to a numerical variable. We used the method label encoding."
      ]
    },
    {
      "cell_type": "code",
      "execution_count": 184,
      "metadata": {
        "colab": {
          "base_uri": "https://localhost:8080/"
        },
        "id": "YTkuhZGqsUa-",
        "outputId": "9d8036b5-9565-4540-83dd-6d17c9ae1bc2"
      },
      "outputs": [
        {
          "output_type": "stream",
          "name": "stdout",
          "text": [
            "<class 'pandas.core.frame.DataFrame'>\n",
            "RangeIndex: 905070 entries, 0 to 905069\n",
            "Data columns (total 22 columns):\n",
            " #   Column                             Non-Null Count   Dtype  \n",
            "---  ------                             --------------   -----  \n",
            " 0   raw_row_number                     905070 non-null  object \n",
            " 1   date                               905070 non-null  object \n",
            " 2   time                               905035 non-null  object \n",
            " 3   location                           905027 non-null  object \n",
            " 4   lat                                903373 non-null  float64\n",
            " 5   lng                                903373 non-null  float64\n",
            " 6   district                           852883 non-null  object \n",
            " 7   subject_age                        846182 non-null  float64\n",
            " 8   subject_race                       905070 non-null  object \n",
            " 9   subject_sex                        905070 non-null  object \n",
            " 10  type                               905070 non-null  object \n",
            " 11  arrest_made                        905070 non-null  bool   \n",
            " 12  citation_issued                    905070 non-null  bool   \n",
            " 13  warning_issued                     905070 non-null  bool   \n",
            " 14  outcome                            889389 non-null  object \n",
            " 15  contraband_found                   53381 non-null   object \n",
            " 16  search_conducted                   905070 non-null  bool   \n",
            " 17  search_vehicle                     905070 non-null  bool   \n",
            " 18  search_basis                       53381 non-null   object \n",
            " 19  reason_for_stop                    902858 non-null  object \n",
            " 20  raw_search_vehicle_description     905070 non-null  object \n",
            " 21  raw_result_of_contact_description  905070 non-null  object \n",
            "dtypes: bool(5), float64(3), object(14)\n",
            "memory usage: 121.7+ MB\n"
          ]
        }
      ],
      "source": [
        "df.info()"
      ]
    },
    {
      "cell_type": "markdown",
      "metadata": {
        "id": "yVKiFYZfjEmA"
      },
      "source": [
        "In our initial data exploration, we see that there are a total of 22 columns and 905070 rows. Not all features share the same Dtype. The three dtype features we see are: bool, float64, and object\n"
      ]
    },
    {
      "cell_type": "code",
      "execution_count": 185,
      "metadata": {
        "colab": {
          "base_uri": "https://localhost:8080/"
        },
        "id": "tUpJsq6EkU0f",
        "outputId": "db8ceb64-71c6-4665-de3b-a6291ec853c6"
      },
      "outputs": [
        {
          "output_type": "execute_result",
          "data": {
            "text/plain": [
              "Index(['raw_row_number', 'date', 'time', 'location', 'district',\n",
              "       'subject_race', 'subject_sex', 'type', 'arrest_made', 'citation_issued',\n",
              "       'warning_issued', 'outcome', 'contraband_found', 'search_conducted',\n",
              "       'search_vehicle', 'search_basis', 'reason_for_stop',\n",
              "       'raw_search_vehicle_description', 'raw_result_of_contact_description'],\n",
              "      dtype='object')"
            ]
          },
          "metadata": {},
          "execution_count": 185
        }
      ],
      "source": [
        "not_nums = df.select_dtypes(exclude='number')\n",
        "not_nums.columns"
      ]
    },
    {
      "cell_type": "markdown",
      "metadata": {
        "id": "pj38Gd3_lPVF"
      },
      "source": [
        "There are 19 non-numerical features in this dataset. "
      ]
    },
    {
      "cell_type": "code",
      "execution_count": 186,
      "metadata": {
        "colab": {
          "base_uri": "https://localhost:8080/"
        },
        "id": "QZZ6lwRfla__",
        "outputId": "eb1b21d9-abc9-47d1-ea2d-a54bb526ac2a"
      },
      "outputs": [
        {
          "output_type": "execute_result",
          "data": {
            "text/plain": [
              "raw_row_number                       0.000000\n",
              "date                                 0.000000\n",
              "time                                 0.000039\n",
              "location                             0.000048\n",
              "lat                                  0.001875\n",
              "lng                                  0.001875\n",
              "district                             0.057661\n",
              "subject_age                          0.065065\n",
              "subject_race                         0.000000\n",
              "subject_sex                          0.000000\n",
              "type                                 0.000000\n",
              "arrest_made                          0.000000\n",
              "citation_issued                      0.000000\n",
              "warning_issued                       0.000000\n",
              "outcome                              0.017326\n",
              "contraband_found                     0.941020\n",
              "search_conducted                     0.000000\n",
              "search_vehicle                       0.000000\n",
              "search_basis                         0.941020\n",
              "reason_for_stop                      0.002444\n",
              "raw_search_vehicle_description       0.000000\n",
              "raw_result_of_contact_description    0.000000\n",
              "dtype: float64"
            ]
          },
          "metadata": {},
          "execution_count": 186
        }
      ],
      "source": [
        "df.isna().mean()"
      ]
    },
    {
      "cell_type": "markdown",
      "metadata": {
        "id": "DKm-ZatUms2A"
      },
      "source": [
        "Above we see the fraction of NA values per column. Contraband_found and search_basis being the highest. \n"
      ]
    },
    {
      "cell_type": "code",
      "execution_count": 187,
      "metadata": {
        "colab": {
          "base_uri": "https://localhost:8080/",
          "height": 490
        },
        "id": "8uRZrVDvnIOW",
        "outputId": "042a7a75-2134-47ce-fcee-cebef0bf3322"
      },
      "outputs": [
        {
          "output_type": "stream",
          "name": "stdout",
          "text": [
            "Approximately 1835818 rows contain NA values.\n"
          ]
        },
        {
          "output_type": "execute_result",
          "data": {
            "text/plain": [
              "  raw_row_number        date      time                   location        lat  \\\n",
              "0         869921  2014-08-01  00:01:00       MASONIC AV & FELL ST  37.773004   \n",
              "1         869922  2014-08-01  00:01:00              GEARY&10TH AV  37.780898   \n",
              "2         869923  2014-08-01  00:15:00        SUTTER N OCTAVIA ST  37.786919   \n",
              "3         869924  2014-08-01  00:18:00          3RD ST & DAVIDSON  37.746380   \n",
              "4         869925  2014-08-01  00:19:00  DIVISADERO ST. & BUSH ST.  37.786348   \n",
              "\n",
              "          lng district  subject_age            subject_race subject_sex  ...  \\\n",
              "0 -122.445873      NaN          NaN  asian/pacific islander      female  ...   \n",
              "1 -122.468586      NaN          NaN                   black        male  ...   \n",
              "2 -122.426718      NaN          NaN                hispanic        male  ...   \n",
              "3 -122.392005      NaN          NaN                hispanic        male  ...   \n",
              "4 -122.440003      NaN          NaN                   white        male  ...   \n",
              "\n",
              "  citation_issued  warning_issued   outcome  contraband_found  \\\n",
              "0           False            True   warning               NaN   \n",
              "1            True           False  citation               NaN   \n",
              "2            True           False  citation               NaN   \n",
              "3           False            True   warning               NaN   \n",
              "4            True           False  citation               NaN   \n",
              "\n",
              "  search_conducted search_vehicle  search_basis  \\\n",
              "0            False          False           NaN   \n",
              "1            False          False           NaN   \n",
              "2            False          False           NaN   \n",
              "3            False          False           NaN   \n",
              "4            False          False           NaN   \n",
              "\n",
              "                             reason_for_stop raw_search_vehicle_description  \\\n",
              "0  Mechanical or Non-Moving Violation (V.C.)                      No Search   \n",
              "1  Mechanical or Non-Moving Violation (V.C.)                      No Search   \n",
              "2  Mechanical or Non-Moving Violation (V.C.)                      No Search   \n",
              "3  Mechanical or Non-Moving Violation (V.C.)                      No Search   \n",
              "4  Mechanical or Non-Moving Violation (V.C.)                      No Search   \n",
              "\n",
              "  raw_result_of_contact_description  \n",
              "0                           Warning  \n",
              "1                          Citation  \n",
              "2                          Citation  \n",
              "3                           Warning  \n",
              "4                          Citation  \n",
              "\n",
              "[5 rows x 22 columns]"
            ],
            "text/html": [
              "\n",
              "  <div id=\"df-575e5d9b-0fe2-4fea-9e2f-8056d23bb4b5\">\n",
              "    <div class=\"colab-df-container\">\n",
              "      <div>\n",
              "<style scoped>\n",
              "    .dataframe tbody tr th:only-of-type {\n",
              "        vertical-align: middle;\n",
              "    }\n",
              "\n",
              "    .dataframe tbody tr th {\n",
              "        vertical-align: top;\n",
              "    }\n",
              "\n",
              "    .dataframe thead th {\n",
              "        text-align: right;\n",
              "    }\n",
              "</style>\n",
              "<table border=\"1\" class=\"dataframe\">\n",
              "  <thead>\n",
              "    <tr style=\"text-align: right;\">\n",
              "      <th></th>\n",
              "      <th>raw_row_number</th>\n",
              "      <th>date</th>\n",
              "      <th>time</th>\n",
              "      <th>location</th>\n",
              "      <th>lat</th>\n",
              "      <th>lng</th>\n",
              "      <th>district</th>\n",
              "      <th>subject_age</th>\n",
              "      <th>subject_race</th>\n",
              "      <th>subject_sex</th>\n",
              "      <th>...</th>\n",
              "      <th>citation_issued</th>\n",
              "      <th>warning_issued</th>\n",
              "      <th>outcome</th>\n",
              "      <th>contraband_found</th>\n",
              "      <th>search_conducted</th>\n",
              "      <th>search_vehicle</th>\n",
              "      <th>search_basis</th>\n",
              "      <th>reason_for_stop</th>\n",
              "      <th>raw_search_vehicle_description</th>\n",
              "      <th>raw_result_of_contact_description</th>\n",
              "    </tr>\n",
              "  </thead>\n",
              "  <tbody>\n",
              "    <tr>\n",
              "      <th>0</th>\n",
              "      <td>869921</td>\n",
              "      <td>2014-08-01</td>\n",
              "      <td>00:01:00</td>\n",
              "      <td>MASONIC AV &amp; FELL ST</td>\n",
              "      <td>37.773004</td>\n",
              "      <td>-122.445873</td>\n",
              "      <td>NaN</td>\n",
              "      <td>NaN</td>\n",
              "      <td>asian/pacific islander</td>\n",
              "      <td>female</td>\n",
              "      <td>...</td>\n",
              "      <td>False</td>\n",
              "      <td>True</td>\n",
              "      <td>warning</td>\n",
              "      <td>NaN</td>\n",
              "      <td>False</td>\n",
              "      <td>False</td>\n",
              "      <td>NaN</td>\n",
              "      <td>Mechanical or Non-Moving Violation (V.C.)</td>\n",
              "      <td>No Search</td>\n",
              "      <td>Warning</td>\n",
              "    </tr>\n",
              "    <tr>\n",
              "      <th>1</th>\n",
              "      <td>869922</td>\n",
              "      <td>2014-08-01</td>\n",
              "      <td>00:01:00</td>\n",
              "      <td>GEARY&amp;10TH AV</td>\n",
              "      <td>37.780898</td>\n",
              "      <td>-122.468586</td>\n",
              "      <td>NaN</td>\n",
              "      <td>NaN</td>\n",
              "      <td>black</td>\n",
              "      <td>male</td>\n",
              "      <td>...</td>\n",
              "      <td>True</td>\n",
              "      <td>False</td>\n",
              "      <td>citation</td>\n",
              "      <td>NaN</td>\n",
              "      <td>False</td>\n",
              "      <td>False</td>\n",
              "      <td>NaN</td>\n",
              "      <td>Mechanical or Non-Moving Violation (V.C.)</td>\n",
              "      <td>No Search</td>\n",
              "      <td>Citation</td>\n",
              "    </tr>\n",
              "    <tr>\n",
              "      <th>2</th>\n",
              "      <td>869923</td>\n",
              "      <td>2014-08-01</td>\n",
              "      <td>00:15:00</td>\n",
              "      <td>SUTTER N OCTAVIA ST</td>\n",
              "      <td>37.786919</td>\n",
              "      <td>-122.426718</td>\n",
              "      <td>NaN</td>\n",
              "      <td>NaN</td>\n",
              "      <td>hispanic</td>\n",
              "      <td>male</td>\n",
              "      <td>...</td>\n",
              "      <td>True</td>\n",
              "      <td>False</td>\n",
              "      <td>citation</td>\n",
              "      <td>NaN</td>\n",
              "      <td>False</td>\n",
              "      <td>False</td>\n",
              "      <td>NaN</td>\n",
              "      <td>Mechanical or Non-Moving Violation (V.C.)</td>\n",
              "      <td>No Search</td>\n",
              "      <td>Citation</td>\n",
              "    </tr>\n",
              "    <tr>\n",
              "      <th>3</th>\n",
              "      <td>869924</td>\n",
              "      <td>2014-08-01</td>\n",
              "      <td>00:18:00</td>\n",
              "      <td>3RD ST &amp; DAVIDSON</td>\n",
              "      <td>37.746380</td>\n",
              "      <td>-122.392005</td>\n",
              "      <td>NaN</td>\n",
              "      <td>NaN</td>\n",
              "      <td>hispanic</td>\n",
              "      <td>male</td>\n",
              "      <td>...</td>\n",
              "      <td>False</td>\n",
              "      <td>True</td>\n",
              "      <td>warning</td>\n",
              "      <td>NaN</td>\n",
              "      <td>False</td>\n",
              "      <td>False</td>\n",
              "      <td>NaN</td>\n",
              "      <td>Mechanical or Non-Moving Violation (V.C.)</td>\n",
              "      <td>No Search</td>\n",
              "      <td>Warning</td>\n",
              "    </tr>\n",
              "    <tr>\n",
              "      <th>4</th>\n",
              "      <td>869925</td>\n",
              "      <td>2014-08-01</td>\n",
              "      <td>00:19:00</td>\n",
              "      <td>DIVISADERO ST. &amp; BUSH ST.</td>\n",
              "      <td>37.786348</td>\n",
              "      <td>-122.440003</td>\n",
              "      <td>NaN</td>\n",
              "      <td>NaN</td>\n",
              "      <td>white</td>\n",
              "      <td>male</td>\n",
              "      <td>...</td>\n",
              "      <td>True</td>\n",
              "      <td>False</td>\n",
              "      <td>citation</td>\n",
              "      <td>NaN</td>\n",
              "      <td>False</td>\n",
              "      <td>False</td>\n",
              "      <td>NaN</td>\n",
              "      <td>Mechanical or Non-Moving Violation (V.C.)</td>\n",
              "      <td>No Search</td>\n",
              "      <td>Citation</td>\n",
              "    </tr>\n",
              "  </tbody>\n",
              "</table>\n",
              "<p>5 rows × 22 columns</p>\n",
              "</div>\n",
              "      <button class=\"colab-df-convert\" onclick=\"convertToInteractive('df-575e5d9b-0fe2-4fea-9e2f-8056d23bb4b5')\"\n",
              "              title=\"Convert this dataframe to an interactive table.\"\n",
              "              style=\"display:none;\">\n",
              "        \n",
              "  <svg xmlns=\"http://www.w3.org/2000/svg\" height=\"24px\"viewBox=\"0 0 24 24\"\n",
              "       width=\"24px\">\n",
              "    <path d=\"M0 0h24v24H0V0z\" fill=\"none\"/>\n",
              "    <path d=\"M18.56 5.44l.94 2.06.94-2.06 2.06-.94-2.06-.94-.94-2.06-.94 2.06-2.06.94zm-11 1L8.5 8.5l.94-2.06 2.06-.94-2.06-.94L8.5 2.5l-.94 2.06-2.06.94zm10 10l.94 2.06.94-2.06 2.06-.94-2.06-.94-.94-2.06-.94 2.06-2.06.94z\"/><path d=\"M17.41 7.96l-1.37-1.37c-.4-.4-.92-.59-1.43-.59-.52 0-1.04.2-1.43.59L10.3 9.45l-7.72 7.72c-.78.78-.78 2.05 0 2.83L4 21.41c.39.39.9.59 1.41.59.51 0 1.02-.2 1.41-.59l7.78-7.78 2.81-2.81c.8-.78.8-2.07 0-2.86zM5.41 20L4 18.59l7.72-7.72 1.47 1.35L5.41 20z\"/>\n",
              "  </svg>\n",
              "      </button>\n",
              "      \n",
              "  <style>\n",
              "    .colab-df-container {\n",
              "      display:flex;\n",
              "      flex-wrap:wrap;\n",
              "      gap: 12px;\n",
              "    }\n",
              "\n",
              "    .colab-df-convert {\n",
              "      background-color: #E8F0FE;\n",
              "      border: none;\n",
              "      border-radius: 50%;\n",
              "      cursor: pointer;\n",
              "      display: none;\n",
              "      fill: #1967D2;\n",
              "      height: 32px;\n",
              "      padding: 0 0 0 0;\n",
              "      width: 32px;\n",
              "    }\n",
              "\n",
              "    .colab-df-convert:hover {\n",
              "      background-color: #E2EBFA;\n",
              "      box-shadow: 0px 1px 2px rgba(60, 64, 67, 0.3), 0px 1px 3px 1px rgba(60, 64, 67, 0.15);\n",
              "      fill: #174EA6;\n",
              "    }\n",
              "\n",
              "    [theme=dark] .colab-df-convert {\n",
              "      background-color: #3B4455;\n",
              "      fill: #D2E3FC;\n",
              "    }\n",
              "\n",
              "    [theme=dark] .colab-df-convert:hover {\n",
              "      background-color: #434B5C;\n",
              "      box-shadow: 0px 1px 3px 1px rgba(0, 0, 0, 0.15);\n",
              "      filter: drop-shadow(0px 1px 2px rgba(0, 0, 0, 0.3));\n",
              "      fill: #FFFFFF;\n",
              "    }\n",
              "  </style>\n",
              "\n",
              "      <script>\n",
              "        const buttonEl =\n",
              "          document.querySelector('#df-575e5d9b-0fe2-4fea-9e2f-8056d23bb4b5 button.colab-df-convert');\n",
              "        buttonEl.style.display =\n",
              "          google.colab.kernel.accessAllowed ? 'block' : 'none';\n",
              "\n",
              "        async function convertToInteractive(key) {\n",
              "          const element = document.querySelector('#df-575e5d9b-0fe2-4fea-9e2f-8056d23bb4b5');\n",
              "          const dataTable =\n",
              "            await google.colab.kernel.invokeFunction('convertToInteractive',\n",
              "                                                     [key], {});\n",
              "          if (!dataTable) return;\n",
              "\n",
              "          const docLinkHtml = 'Like what you see? Visit the ' +\n",
              "            '<a target=\"_blank\" href=https://colab.research.google.com/notebooks/data_table.ipynb>data table notebook</a>'\n",
              "            + ' to learn more about interactive tables.';\n",
              "          element.innerHTML = '';\n",
              "          dataTable['output_type'] = 'display_data';\n",
              "          await google.colab.output.renderOutput(dataTable, element);\n",
              "          const docLink = document.createElement('div');\n",
              "          docLink.innerHTML = docLinkHtml;\n",
              "          element.appendChild(docLink);\n",
              "        }\n",
              "      </script>\n",
              "    </div>\n",
              "  </div>\n",
              "  "
            ]
          },
          "metadata": {},
          "execution_count": 187
        }
      ],
      "source": [
        "print(\"Approximately {} rows contain NA values.\".format(df.isna().sum(axis=1).sum()))\n",
        "df.head()"
      ]
    },
    {
      "cell_type": "markdown",
      "metadata": {
        "id": "IPiYNItYp4w7"
      },
      "source": [
        "Based on these findings, we will need to drop both columns and rows that contain NA values. This will reduce the amount of rows which will be helpful for our predictor models. "
      ]
    },
    {
      "cell_type": "markdown",
      "metadata": {
        "id": "hqebBizIrw3T"
      },
      "source": [
        "# Data Pre-Processing "
      ]
    },
    {
      "cell_type": "markdown",
      "metadata": {
        "id": "6eY9X_h-oNPZ"
      },
      "source": [
        "The San Francisco data report contains variables that will not be used in this project. For example, variables that record date, time, and location will be dropped. \n",
        "\n",
        "In addition, we will also remove columns and rows that have missing data. A new column, outcome_map will be created in order to leverage the traffic stop outcome as a predicting feature. \n",
        "\n",
        "Lastly, we will use only a random sample of 50%. \n",
        "\n",
        "\n",
        "\n",
        "\n"
      ]
    },
    {
      "cell_type": "code",
      "execution_count": 188,
      "metadata": {
        "id": "eHSzxlcCK5Js"
      },
      "outputs": [],
      "source": [
        "df.drop(['raw_row_number', 'date', 'time', 'location', 'lat', 'lng', 'district', 'contraband_found', 'search_basis', 'raw_search_vehicle_description', 'raw_result_of_contact_description', 'type'], axis=1, inplace=True)\n",
        "df = df.dropna()\n",
        "df = df.sample(frac=0.5)"
      ]
    },
    {
      "cell_type": "code",
      "execution_count": 189,
      "metadata": {
        "colab": {
          "base_uri": "https://localhost:8080/"
        },
        "id": "OYDTgCzNsT6T",
        "outputId": "f3cf79de-4ab0-4e47-a01d-a4b9d3999d72"
      },
      "outputs": [
        {
          "output_type": "stream",
          "name": "stdout",
          "text": [
            "<class 'pandas.core.frame.DataFrame'>\n",
            "Int64Index: 414850 entries, 355630 to 623682\n",
            "Data columns (total 10 columns):\n",
            " #   Column            Non-Null Count   Dtype  \n",
            "---  ------            --------------   -----  \n",
            " 0   subject_age       414850 non-null  float64\n",
            " 1   subject_race      414850 non-null  object \n",
            " 2   subject_sex       414850 non-null  object \n",
            " 3   arrest_made       414850 non-null  bool   \n",
            " 4   citation_issued   414850 non-null  bool   \n",
            " 5   warning_issued    414850 non-null  bool   \n",
            " 6   outcome           414850 non-null  object \n",
            " 7   search_conducted  414850 non-null  bool   \n",
            " 8   search_vehicle    414850 non-null  bool   \n",
            " 9   reason_for_stop   414850 non-null  object \n",
            "dtypes: bool(5), float64(1), object(4)\n",
            "memory usage: 21.0+ MB\n"
          ]
        }
      ],
      "source": [
        "df.info()"
      ]
    },
    {
      "cell_type": "code",
      "execution_count": 190,
      "metadata": {
        "colab": {
          "base_uri": "https://localhost:8080/",
          "height": 206
        },
        "id": "W_YK4djPG598",
        "outputId": "4ddae408-0d55-472d-c543-22adb4a2d4d0"
      },
      "outputs": [
        {
          "output_type": "execute_result",
          "data": {
            "text/plain": [
              "        subject_age subject_race subject_sex  arrest_made  citation_issued  \\\n",
              "355630         39.0        white        male        False             True   \n",
              "548669         25.0        white      female        False             True   \n",
              "498704         39.0        other        male        False             True   \n",
              "694060         25.0        black        male        False            False   \n",
              "613852         24.0     hispanic        male        False             True   \n",
              "\n",
              "        warning_issued   outcome  search_conducted  search_vehicle  \\\n",
              "355630           False  citation             False           False   \n",
              "548669           False  citation             False           False   \n",
              "498704           False  citation             False           False   \n",
              "694060            True   warning             False           False   \n",
              "613852           False  citation             False           False   \n",
              "\n",
              "                                  reason_for_stop  \n",
              "355630  Mechanical or Non-Moving Violation (V.C.)  \n",
              "548669                           Moving Violation  \n",
              "498704                           Moving Violation  \n",
              "694060  Mechanical or Non-Moving Violation (V.C.)  \n",
              "613852                           Moving Violation  "
            ],
            "text/html": [
              "\n",
              "  <div id=\"df-89228093-18e2-4b1f-8c67-db552c542914\">\n",
              "    <div class=\"colab-df-container\">\n",
              "      <div>\n",
              "<style scoped>\n",
              "    .dataframe tbody tr th:only-of-type {\n",
              "        vertical-align: middle;\n",
              "    }\n",
              "\n",
              "    .dataframe tbody tr th {\n",
              "        vertical-align: top;\n",
              "    }\n",
              "\n",
              "    .dataframe thead th {\n",
              "        text-align: right;\n",
              "    }\n",
              "</style>\n",
              "<table border=\"1\" class=\"dataframe\">\n",
              "  <thead>\n",
              "    <tr style=\"text-align: right;\">\n",
              "      <th></th>\n",
              "      <th>subject_age</th>\n",
              "      <th>subject_race</th>\n",
              "      <th>subject_sex</th>\n",
              "      <th>arrest_made</th>\n",
              "      <th>citation_issued</th>\n",
              "      <th>warning_issued</th>\n",
              "      <th>outcome</th>\n",
              "      <th>search_conducted</th>\n",
              "      <th>search_vehicle</th>\n",
              "      <th>reason_for_stop</th>\n",
              "    </tr>\n",
              "  </thead>\n",
              "  <tbody>\n",
              "    <tr>\n",
              "      <th>355630</th>\n",
              "      <td>39.0</td>\n",
              "      <td>white</td>\n",
              "      <td>male</td>\n",
              "      <td>False</td>\n",
              "      <td>True</td>\n",
              "      <td>False</td>\n",
              "      <td>citation</td>\n",
              "      <td>False</td>\n",
              "      <td>False</td>\n",
              "      <td>Mechanical or Non-Moving Violation (V.C.)</td>\n",
              "    </tr>\n",
              "    <tr>\n",
              "      <th>548669</th>\n",
              "      <td>25.0</td>\n",
              "      <td>white</td>\n",
              "      <td>female</td>\n",
              "      <td>False</td>\n",
              "      <td>True</td>\n",
              "      <td>False</td>\n",
              "      <td>citation</td>\n",
              "      <td>False</td>\n",
              "      <td>False</td>\n",
              "      <td>Moving Violation</td>\n",
              "    </tr>\n",
              "    <tr>\n",
              "      <th>498704</th>\n",
              "      <td>39.0</td>\n",
              "      <td>other</td>\n",
              "      <td>male</td>\n",
              "      <td>False</td>\n",
              "      <td>True</td>\n",
              "      <td>False</td>\n",
              "      <td>citation</td>\n",
              "      <td>False</td>\n",
              "      <td>False</td>\n",
              "      <td>Moving Violation</td>\n",
              "    </tr>\n",
              "    <tr>\n",
              "      <th>694060</th>\n",
              "      <td>25.0</td>\n",
              "      <td>black</td>\n",
              "      <td>male</td>\n",
              "      <td>False</td>\n",
              "      <td>False</td>\n",
              "      <td>True</td>\n",
              "      <td>warning</td>\n",
              "      <td>False</td>\n",
              "      <td>False</td>\n",
              "      <td>Mechanical or Non-Moving Violation (V.C.)</td>\n",
              "    </tr>\n",
              "    <tr>\n",
              "      <th>613852</th>\n",
              "      <td>24.0</td>\n",
              "      <td>hispanic</td>\n",
              "      <td>male</td>\n",
              "      <td>False</td>\n",
              "      <td>True</td>\n",
              "      <td>False</td>\n",
              "      <td>citation</td>\n",
              "      <td>False</td>\n",
              "      <td>False</td>\n",
              "      <td>Moving Violation</td>\n",
              "    </tr>\n",
              "  </tbody>\n",
              "</table>\n",
              "</div>\n",
              "      <button class=\"colab-df-convert\" onclick=\"convertToInteractive('df-89228093-18e2-4b1f-8c67-db552c542914')\"\n",
              "              title=\"Convert this dataframe to an interactive table.\"\n",
              "              style=\"display:none;\">\n",
              "        \n",
              "  <svg xmlns=\"http://www.w3.org/2000/svg\" height=\"24px\"viewBox=\"0 0 24 24\"\n",
              "       width=\"24px\">\n",
              "    <path d=\"M0 0h24v24H0V0z\" fill=\"none\"/>\n",
              "    <path d=\"M18.56 5.44l.94 2.06.94-2.06 2.06-.94-2.06-.94-.94-2.06-.94 2.06-2.06.94zm-11 1L8.5 8.5l.94-2.06 2.06-.94-2.06-.94L8.5 2.5l-.94 2.06-2.06.94zm10 10l.94 2.06.94-2.06 2.06-.94-2.06-.94-.94-2.06-.94 2.06-2.06.94z\"/><path d=\"M17.41 7.96l-1.37-1.37c-.4-.4-.92-.59-1.43-.59-.52 0-1.04.2-1.43.59L10.3 9.45l-7.72 7.72c-.78.78-.78 2.05 0 2.83L4 21.41c.39.39.9.59 1.41.59.51 0 1.02-.2 1.41-.59l7.78-7.78 2.81-2.81c.8-.78.8-2.07 0-2.86zM5.41 20L4 18.59l7.72-7.72 1.47 1.35L5.41 20z\"/>\n",
              "  </svg>\n",
              "      </button>\n",
              "      \n",
              "  <style>\n",
              "    .colab-df-container {\n",
              "      display:flex;\n",
              "      flex-wrap:wrap;\n",
              "      gap: 12px;\n",
              "    }\n",
              "\n",
              "    .colab-df-convert {\n",
              "      background-color: #E8F0FE;\n",
              "      border: none;\n",
              "      border-radius: 50%;\n",
              "      cursor: pointer;\n",
              "      display: none;\n",
              "      fill: #1967D2;\n",
              "      height: 32px;\n",
              "      padding: 0 0 0 0;\n",
              "      width: 32px;\n",
              "    }\n",
              "\n",
              "    .colab-df-convert:hover {\n",
              "      background-color: #E2EBFA;\n",
              "      box-shadow: 0px 1px 2px rgba(60, 64, 67, 0.3), 0px 1px 3px 1px rgba(60, 64, 67, 0.15);\n",
              "      fill: #174EA6;\n",
              "    }\n",
              "\n",
              "    [theme=dark] .colab-df-convert {\n",
              "      background-color: #3B4455;\n",
              "      fill: #D2E3FC;\n",
              "    }\n",
              "\n",
              "    [theme=dark] .colab-df-convert:hover {\n",
              "      background-color: #434B5C;\n",
              "      box-shadow: 0px 1px 3px 1px rgba(0, 0, 0, 0.15);\n",
              "      filter: drop-shadow(0px 1px 2px rgba(0, 0, 0, 0.3));\n",
              "      fill: #FFFFFF;\n",
              "    }\n",
              "  </style>\n",
              "\n",
              "      <script>\n",
              "        const buttonEl =\n",
              "          document.querySelector('#df-89228093-18e2-4b1f-8c67-db552c542914 button.colab-df-convert');\n",
              "        buttonEl.style.display =\n",
              "          google.colab.kernel.accessAllowed ? 'block' : 'none';\n",
              "\n",
              "        async function convertToInteractive(key) {\n",
              "          const element = document.querySelector('#df-89228093-18e2-4b1f-8c67-db552c542914');\n",
              "          const dataTable =\n",
              "            await google.colab.kernel.invokeFunction('convertToInteractive',\n",
              "                                                     [key], {});\n",
              "          if (!dataTable) return;\n",
              "\n",
              "          const docLinkHtml = 'Like what you see? Visit the ' +\n",
              "            '<a target=\"_blank\" href=https://colab.research.google.com/notebooks/data_table.ipynb>data table notebook</a>'\n",
              "            + ' to learn more about interactive tables.';\n",
              "          element.innerHTML = '';\n",
              "          dataTable['output_type'] = 'display_data';\n",
              "          await google.colab.output.renderOutput(dataTable, element);\n",
              "          const docLink = document.createElement('div');\n",
              "          docLink.innerHTML = docLinkHtml;\n",
              "          element.appendChild(docLink);\n",
              "        }\n",
              "      </script>\n",
              "    </div>\n",
              "  </div>\n",
              "  "
            ]
          },
          "metadata": {},
          "execution_count": 190
        }
      ],
      "source": [
        "df.head()"
      ]
    },
    {
      "cell_type": "markdown",
      "metadata": {
        "id": "7xhbNis3ltgF"
      },
      "source": [
        "After our inital pre-processing, we see that we now have 8 columns. All with the name non-null count. Five of our features are of dtype bool and 3 are of dtype object. \n",
        "\n",
        "\n",
        "Example of Features:\n",
        "\n",
        "\n",
        "*   subject_race: 'asian/pacific islander', 'black','hispanic', 'white', 'other'\n",
        "*   subject_sex: 'female', 'male'\n",
        "*   arrest_made: True, False\n",
        "*   citation_issued: True, False\n",
        "*   warning_issued: True, False\n",
        "*   outcome: 'warning', 'citation', 'arrest'\n",
        "*   search_conducted: True, False\n",
        "*   search_vehicle: True, False\n"
      ]
    },
    {
      "cell_type": "markdown",
      "metadata": {
        "id": "uzeeupeoiHQ3"
      },
      "source": [
        "**Final Pre-processing**"
      ]
    },
    {
      "cell_type": "markdown",
      "metadata": {
        "id": "dPKeTAy1iYmL"
      },
      "source": [
        "Lastly we will use label encoder to convert our predictor feature, outcome, and our target feature, race, to numerical values. "
      ]
    },
    {
      "cell_type": "code",
      "execution_count": 191,
      "metadata": {
        "id": "L6q4WdZDBSRS"
      },
      "outputs": [],
      "source": [
        "df ['outcome'] = preprocessing.LabelEncoder().fit_transform(df['outcome'])\n",
        "df ['subject_race'] = preprocessing.LabelEncoder().fit_transform(df['subject_race'])"
      ]
    },
    {
      "cell_type": "markdown",
      "metadata": {
        "id": "7OyornCEoOVf"
      },
      "source": [
        "**Data Visualization**\n",
        "\n"
      ]
    },
    {
      "cell_type": "code",
      "execution_count": 192,
      "metadata": {
        "colab": {
          "base_uri": "https://localhost:8080/",
          "height": 386
        },
        "id": "XRFIJdWHU13s",
        "outputId": "f41adf26-2515-4607-f87d-78d3d93be1a3"
      },
      "outputs": [
        {
          "output_type": "execute_result",
          "data": {
            "text/plain": [
              "Text(0.5, 0, '')"
            ]
          },
          "metadata": {},
          "execution_count": 192
        },
        {
          "output_type": "display_data",
          "data": {
            "text/plain": [
              "<Figure size 792x360 with 2 Axes>"
            ],
            "image/png": "[encoded data removed]"
          },
          "metadata": {
            "needs_background": "light"
          }
        }
      ],
      "source": [
        "\n",
        "result = ['Citation Issued', 'Warning']\n",
        "sum_of_result = [df.citation_issued.sum(), df.warning_issued.sum()]\n",
        "\n",
        "plt.figure(tight_layout=True, figsize=(11, 5))\n",
        "\n",
        "plt.subplot(1,2,1)\n",
        "plt.bar(result, sum_of_result, color=['purple', 'orange'])\n",
        "plt.title(\"Count of Citation and Warnings\")\n",
        "plt.ylabel(\"Count\")\n",
        "\n",
        "\n",
        "sex = df.groupby('subject_sex')['search_vehicle'].sum()\n",
        "plt.subplot(1,2,2)\n",
        "sns.barplot(x = sex.index, y = sex.values)\n",
        "plt.title(\"Count of Traffic Stops By Sex\")\n",
        "plt.ylabel(\"Count\")\n",
        "plt.xlabel(\"\")"
      ]
    },
    {
      "cell_type": "markdown",
      "metadata": {
        "id": "TOgqegQexGeu"
      },
      "source": [
        "First we will explore two differnt variables in from the datase. On the left plot, we conducted a bar plot that displays the amount of citations vs warnings that were given. We see that police officers in this dataset gave more citations than warnings. \n",
        "\n",
        "Next, we see that police officers performed traffic stops on male subjects more than females. "
      ]
    },
    {
      "cell_type": "code",
      "execution_count": 193,
      "metadata": {
        "colab": {
          "base_uri": "https://localhost:8080/",
          "height": 386
        },
        "id": "gjfPBGhMbkdV",
        "outputId": "83c4105e-1c15-4865-8aa3-eb7eac621ff1"
      },
      "outputs": [
        {
          "output_type": "execute_result",
          "data": {
            "text/plain": [
              "Text(0.5, 0, 'Race')"
            ]
          },
          "metadata": {},
          "execution_count": 193
        },
        {
          "output_type": "display_data",
          "data": {
            "text/plain": [
              "<Figure size 1080x360 with 2 Axes>"
            ],
            "image/png": "[encoded data removed]"
          },
          "metadata": {
            "needs_background": "light"
          }
        }
      ],
      "source": [
        "tick = ['asian/pacific islander', 'black', 'hispanic', 'white', 'other']\n",
        "search = df.groupby('subject_race')['search_vehicle'].sum().sort_values()\n",
        "plt.figure(tight_layout=True, figsize=(15, 5))\n",
        "plt.subplot(1,2,1)\n",
        "sns.barplot(x = search.index, y = search.values).set_xticklabels(tick)\n",
        "plt.title(\"Count of Search Vehicle By Race\")\n",
        "plt.ylabel(\"Count\")\n",
        "plt.xlabel(\"Race\")\n",
        "\n",
        "arrest = df.groupby('subject_race')['arrest_made'].sum().sort_values()\n",
        "plt.subplot(1,2,2)\n",
        "sns.barplot(x = arrest.index, y = arrest.values).set_xticklabels(tick)\n",
        "plt.title(\"Count of Arrest Made by Race\")\n",
        "plt.ylabel(\"Count\")\n",
        "plt.xlabel(\"Race\")"
      ]
    },
    {
      "cell_type": "markdown",
      "metadata": {
        "id": "s3tFa1Kkvtee"
      },
      "source": [
        "The plot on the left gives us some context to outcome of getting your vehicle searched based on race. We see that police officers performed more vehicle searches on Black individuals when compared to other subjects. \n",
        "\n",
        "The plot on the right gives context to the outcome of the traffic stop based on race. We see cases of police officers arresting Black individuals more than other subjects. "
      ]
    },
    {
      "cell_type": "code",
      "execution_count": 194,
      "metadata": {
        "colab": {
          "base_uri": "https://localhost:8080/",
          "height": 386
        },
        "id": "cirRdo-_-BzY",
        "outputId": "302eebf2-287b-4f23-eb5e-104279763834"
      },
      "outputs": [
        {
          "output_type": "execute_result",
          "data": {
            "text/plain": [
              "Text(0.5, 0, 'Race')"
            ]
          },
          "metadata": {},
          "execution_count": 194
        },
        {
          "output_type": "display_data",
          "data": {
            "text/plain": [
              "<Figure size 1080x360 with 2 Axes>"
            ],
            "image/png": "[encoded data removed]"
          },
          "metadata": {
            "needs_background": "light"
          }
        }
      ],
      "source": [
        "plt.figure(tight_layout=True, figsize=(15, 5))\n",
        "plt.subplot(1,2,1)\n",
        "sns.kdeplot(df['subject_age'])\n",
        "plt.title('Density of Age')\n",
        "plt.xlabel('Age')\n",
        "plt.subplot(1,2,2)\n",
        "sns.violinplot(data=df, x=\"subject_race\", y=\"subject_age\").set_xticklabels(tick)\n",
        "plt.title('Subject Age by Race')\n",
        "plt.ylabel('Subject Age')\n",
        "plt.xlabel('Race')"
      ]
    },
    {
      "cell_type": "markdown",
      "metadata": {
        "id": "nUu10DqTy8ur"
      },
      "source": [
        "Lastly, we see that our dataset has a high density of subjects ranging from 20-30 years old. \n",
        "\n",
        "When we use a violinplot to see age distribution by race. \n",
        "\n"
      ]
    },
    {
      "cell_type": "code",
      "execution_count": 195,
      "metadata": {
        "colab": {
          "base_uri": "https://localhost:8080/",
          "height": 206
        },
        "id": "-9MsXJLkGnW1",
        "outputId": "aa54273f-1177-4acc-c616-6ae5d5a98bf1"
      },
      "outputs": [
        {
          "output_type": "execute_result",
          "data": {
            "text/plain": [
              "        subject_age  subject_race subject_sex  arrest_made  citation_issued  \\\n",
              "355630         39.0             4        male        False             True   \n",
              "548669         25.0             4      female        False             True   \n",
              "498704         39.0             3        male        False             True   \n",
              "694060         25.0             1        male        False            False   \n",
              "613852         24.0             2        male        False             True   \n",
              "\n",
              "        warning_issued  outcome  search_conducted  search_vehicle  \\\n",
              "355630           False        1             False           False   \n",
              "548669           False        1             False           False   \n",
              "498704           False        1             False           False   \n",
              "694060            True        2             False           False   \n",
              "613852           False        1             False           False   \n",
              "\n",
              "                                  reason_for_stop  \n",
              "355630  Mechanical or Non-Moving Violation (V.C.)  \n",
              "548669                           Moving Violation  \n",
              "498704                           Moving Violation  \n",
              "694060  Mechanical or Non-Moving Violation (V.C.)  \n",
              "613852                           Moving Violation  "
            ],
            "text/html": [
              "\n",
              "  <div id=\"df-a1ca1858-4891-49a5-8f70-ee9657806fed\">\n",
              "    <div class=\"colab-df-container\">\n",
              "      <div>\n",
              "<style scoped>\n",
              "    .dataframe tbody tr th:only-of-type {\n",
              "        vertical-align: middle;\n",
              "    }\n",
              "\n",
              "    .dataframe tbody tr th {\n",
              "        vertical-align: top;\n",
              "    }\n",
              "\n",
              "    .dataframe thead th {\n",
              "        text-align: right;\n",
              "    }\n",
              "</style>\n",
              "<table border=\"1\" class=\"dataframe\">\n",
              "  <thead>\n",
              "    <tr style=\"text-align: right;\">\n",
              "      <th></th>\n",
              "      <th>subject_age</th>\n",
              "      <th>subject_race</th>\n",
              "      <th>subject_sex</th>\n",
              "      <th>arrest_made</th>\n",
              "      <th>citation_issued</th>\n",
              "      <th>warning_issued</th>\n",
              "      <th>outcome</th>\n",
              "      <th>search_conducted</th>\n",
              "      <th>search_vehicle</th>\n",
              "      <th>reason_for_stop</th>\n",
              "    </tr>\n",
              "  </thead>\n",
              "  <tbody>\n",
              "    <tr>\n",
              "      <th>355630</th>\n",
              "      <td>39.0</td>\n",
              "      <td>4</td>\n",
              "      <td>male</td>\n",
              "      <td>False</td>\n",
              "      <td>True</td>\n",
              "      <td>False</td>\n",
              "      <td>1</td>\n",
              "      <td>False</td>\n",
              "      <td>False</td>\n",
              "      <td>Mechanical or Non-Moving Violation (V.C.)</td>\n",
              "    </tr>\n",
              "    <tr>\n",
              "      <th>548669</th>\n",
              "      <td>25.0</td>\n",
              "      <td>4</td>\n",
              "      <td>female</td>\n",
              "      <td>False</td>\n",
              "      <td>True</td>\n",
              "      <td>False</td>\n",
              "      <td>1</td>\n",
              "      <td>False</td>\n",
              "      <td>False</td>\n",
              "      <td>Moving Violation</td>\n",
              "    </tr>\n",
              "    <tr>\n",
              "      <th>498704</th>\n",
              "      <td>39.0</td>\n",
              "      <td>3</td>\n",
              "      <td>male</td>\n",
              "      <td>False</td>\n",
              "      <td>True</td>\n",
              "      <td>False</td>\n",
              "      <td>1</td>\n",
              "      <td>False</td>\n",
              "      <td>False</td>\n",
              "      <td>Moving Violation</td>\n",
              "    </tr>\n",
              "    <tr>\n",
              "      <th>694060</th>\n",
              "      <td>25.0</td>\n",
              "      <td>1</td>\n",
              "      <td>male</td>\n",
              "      <td>False</td>\n",
              "      <td>False</td>\n",
              "      <td>True</td>\n",
              "      <td>2</td>\n",
              "      <td>False</td>\n",
              "      <td>False</td>\n",
              "      <td>Mechanical or Non-Moving Violation (V.C.)</td>\n",
              "    </tr>\n",
              "    <tr>\n",
              "      <th>613852</th>\n",
              "      <td>24.0</td>\n",
              "      <td>2</td>\n",
              "      <td>male</td>\n",
              "      <td>False</td>\n",
              "      <td>True</td>\n",
              "      <td>False</td>\n",
              "      <td>1</td>\n",
              "      <td>False</td>\n",
              "      <td>False</td>\n",
              "      <td>Moving Violation</td>\n",
              "    </tr>\n",
              "  </tbody>\n",
              "</table>\n",
              "</div>\n",
              "      <button class=\"colab-df-convert\" onclick=\"convertToInteractive('df-a1ca1858-4891-49a5-8f70-ee9657806fed')\"\n",
              "              title=\"Convert this dataframe to an interactive table.\"\n",
              "              style=\"display:none;\">\n",
              "        \n",
              "  <svg xmlns=\"http://www.w3.org/2000/svg\" height=\"24px\"viewBox=\"0 0 24 24\"\n",
              "       width=\"24px\">\n",
              "    <path d=\"M0 0h24v24H0V0z\" fill=\"none\"/>\n",
              "    <path d=\"M18.56 5.44l.94 2.06.94-2.06 2.06-.94-2.06-.94-.94-2.06-.94 2.06-2.06.94zm-11 1L8.5 8.5l.94-2.06 2.06-.94-2.06-.94L8.5 2.5l-.94 2.06-2.06.94zm10 10l.94 2.06.94-2.06 2.06-.94-2.06-.94-.94-2.06-.94 2.06-2.06.94z\"/><path d=\"M17.41 7.96l-1.37-1.37c-.4-.4-.92-.59-1.43-.59-.52 0-1.04.2-1.43.59L10.3 9.45l-7.72 7.72c-.78.78-.78 2.05 0 2.83L4 21.41c.39.39.9.59 1.41.59.51 0 1.02-.2 1.41-.59l7.78-7.78 2.81-2.81c.8-.78.8-2.07 0-2.86zM5.41 20L4 18.59l7.72-7.72 1.47 1.35L5.41 20z\"/>\n",
              "  </svg>\n",
              "      </button>\n",
              "      \n",
              "  <style>\n",
              "    .colab-df-container {\n",
              "      display:flex;\n",
              "      flex-wrap:wrap;\n",
              "      gap: 12px;\n",
              "    }\n",
              "\n",
              "    .colab-df-convert {\n",
              "      background-color: #E8F0FE;\n",
              "      border: none;\n",
              "      border-radius: 50%;\n",
              "      cursor: pointer;\n",
              "      display: none;\n",
              "      fill: #1967D2;\n",
              "      height: 32px;\n",
              "      padding: 0 0 0 0;\n",
              "      width: 32px;\n",
              "    }\n",
              "\n",
              "    .colab-df-convert:hover {\n",
              "      background-color: #E2EBFA;\n",
              "      box-shadow: 0px 1px 2px rgba(60, 64, 67, 0.3), 0px 1px 3px 1px rgba(60, 64, 67, 0.15);\n",
              "      fill: #174EA6;\n",
              "    }\n",
              "\n",
              "    [theme=dark] .colab-df-convert {\n",
              "      background-color: #3B4455;\n",
              "      fill: #D2E3FC;\n",
              "    }\n",
              "\n",
              "    [theme=dark] .colab-df-convert:hover {\n",
              "      background-color: #434B5C;\n",
              "      box-shadow: 0px 1px 3px 1px rgba(0, 0, 0, 0.15);\n",
              "      filter: drop-shadow(0px 1px 2px rgba(0, 0, 0, 0.3));\n",
              "      fill: #FFFFFF;\n",
              "    }\n",
              "  </style>\n",
              "\n",
              "      <script>\n",
              "        const buttonEl =\n",
              "          document.querySelector('#df-a1ca1858-4891-49a5-8f70-ee9657806fed button.colab-df-convert');\n",
              "        buttonEl.style.display =\n",
              "          google.colab.kernel.accessAllowed ? 'block' : 'none';\n",
              "\n",
              "        async function convertToInteractive(key) {\n",
              "          const element = document.querySelector('#df-a1ca1858-4891-49a5-8f70-ee9657806fed');\n",
              "          const dataTable =\n",
              "            await google.colab.kernel.invokeFunction('convertToInteractive',\n",
              "                                                     [key], {});\n",
              "          if (!dataTable) return;\n",
              "\n",
              "          const docLinkHtml = 'Like what you see? Visit the ' +\n",
              "            '<a target=\"_blank\" href=https://colab.research.google.com/notebooks/data_table.ipynb>data table notebook</a>'\n",
              "            + ' to learn more about interactive tables.';\n",
              "          element.innerHTML = '';\n",
              "          dataTable['output_type'] = 'display_data';\n",
              "          await google.colab.output.renderOutput(dataTable, element);\n",
              "          const docLink = document.createElement('div');\n",
              "          docLink.innerHTML = docLinkHtml;\n",
              "          element.appendChild(docLink);\n",
              "        }\n",
              "      </script>\n",
              "    </div>\n",
              "  </div>\n",
              "  "
            ]
          },
          "metadata": {},
          "execution_count": 195
        }
      ],
      "source": [
        "df.head()"
      ]
    },
    {
      "cell_type": "markdown",
      "metadata": {
        "id": "3gjONTk3sFxh"
      },
      "source": [
        "#KNN Classification"
      ]
    },
    {
      "cell_type": "markdown",
      "metadata": {
        "id": "wIOhe_idMcC9"
      },
      "source": [
        "Our first machine learning method we will use to predict subject_race is the KNN Classification. For this algorithm we used a random sample (5000) of our data in order for the model to run faster.  "
      ]
    },
    {
      "cell_type": "code",
      "source": [
        "def get_best(ks, acc):\n",
        "    return ks[(acc.index(max(acc)))]"
      ],
      "metadata": {
        "id": "YQ-dr7bDzcmg"
      },
      "execution_count": 196,
      "outputs": []
    },
    {
      "cell_type": "code",
      "source": [
        "def get_train_test_accuracy(knn, X_train, X_test, y_train, y_test):\n",
        "    knn.fit(X_train,y_train)\n",
        "    prediction = knn.predict(X_test) \n",
        "    return accuracy_score(y_test, prediction)"
      ],
      "metadata": {
        "id": "WDd3PqXpxK0-"
      },
      "execution_count": 197,
      "outputs": []
    },
    {
      "cell_type": "code",
      "execution_count": 198,
      "metadata": {
        "id": "9cG0iWRELHAd"
      },
      "outputs": [],
      "source": [
        "np.random.seed(42)  \n",
        "\n",
        "predictors = ['outcome', 'subject_age']\n",
        "X = df[predictors].values\n",
        "y = df['subject_race'].values\n",
        "\n",
        "indexes = np.random.choice(y.size, size=5000)\n",
        "X_mini = X[indexes]\n",
        "y_mini = y[indexes]\n",
        "\n",
        "X_train, X_test, y_train, y_test = train_test_split(X_mini, y_mini, test_size=0.30, random_state=42)\n",
        "\n",
        "scaler = StandardScaler()\n",
        "\n",
        "X_train = scaler.fit_transform(X_train)\n",
        "X_test = scaler.transform(X_test)\n",
        "\n",
        "#Getting the best K\n",
        "n = 30\n",
        "test_acc = []\n",
        "ks = np.arange(1, n+1, 2)\n",
        "for k in ks:\n",
        "    knn = KNeighborsClassifier(n_neighbors=k, algorithm='brute', metric='minkowski')\n",
        "    acc_te = get_train_test_accuracy(knn, X_train, X_test, y_train, y_test)\n",
        "    test_acc.append(acc_te)\n",
        "best_k = get_best(ks, test_acc)\n",
        "\n",
        "knn = KNeighborsClassifier(n_neighbors= best_k, algorithm='brute', metric='minkowski')\n",
        "knn.fit(X_train, y_train)\n",
        "y_predict = knn.predict(X_test)\n"
      ]
    },
    {
      "cell_type": "markdown",
      "metadata": {
        "id": "QeO-YynqXkh3"
      },
      "source": [
        "Lets see how the first ten predicted values look when comapred to the actual values.  "
      ]
    },
    {
      "cell_type": "code",
      "execution_count": 199,
      "metadata": {
        "colab": {
          "base_uri": "https://localhost:8080/"
        },
        "id": "46KTy0FoM3Wg",
        "outputId": "89c8873d-3706-4753-a562-abb8f6cfcaed"
      },
      "outputs": [
        {
          "output_type": "stream",
          "name": "stdout",
          "text": [
            "Predictions: [4 4 4 1 4 4 4 4 1 4]\n",
            "Actual: [1 1 3 4 2 1 0 4 1 0]\n"
          ]
        }
      ],
      "source": [
        "print(\"Predictions: {}\".format(y_predict[:10]))\n",
        "print(\"Actual: {}\".format(y_test[:10]))"
      ]
    },
    {
      "cell_type": "markdown",
      "metadata": {
        "id": "EtrRRqqtXhg1"
      },
      "source": [
        "**Accuracy**"
      ]
    },
    {
      "cell_type": "code",
      "execution_count": 200,
      "metadata": {
        "colab": {
          "base_uri": "https://localhost:8080/"
        },
        "id": "JG5gAffbVTd8",
        "outputId": "8c18a069-c1ac-4f03-bebc-14da824a7425"
      },
      "outputs": [
        {
          "output_type": "stream",
          "name": "stdout",
          "text": [
            "Accuracy: 0.40\n"
          ]
        }
      ],
      "source": [
        "print('Accuracy: {:.2f}'.format((y_predict == y_test).mean()))"
      ]
    },
    {
      "cell_type": "markdown",
      "metadata": {
        "id": "HpZyVkypa8Y3"
      },
      "source": [
        "**Confusion Matrix**"
      ]
    },
    {
      "cell_type": "code",
      "execution_count": 201,
      "metadata": {
        "colab": {
          "base_uri": "https://localhost:8080/",
          "height": 238
        },
        "id": "hr50HoabbAhX",
        "outputId": "1fa9a9fb-0293-4952-cded-39b2dc5277a3"
      },
      "outputs": [
        {
          "output_type": "execute_result",
          "data": {
            "text/plain": [
              "Predicted   0   1   2    4\n",
              "Actual                    \n",
              "0          14  24   3  241\n",
              "1          10  32   5  216\n",
              "2           7  19   5  154\n",
              "3           8  10   4  141\n",
              "4          30  20  11  546"
            ],
            "text/html": [
              "\n",
              "  <div id=\"df-6b46b43a-b55a-4714-b0a0-1ab2ee6c5518\">\n",
              "    <div class=\"colab-df-container\">\n",
              "      <div>\n",
              "<style scoped>\n",
              "    .dataframe tbody tr th:only-of-type {\n",
              "        vertical-align: middle;\n",
              "    }\n",
              "\n",
              "    .dataframe tbody tr th {\n",
              "        vertical-align: top;\n",
              "    }\n",
              "\n",
              "    .dataframe thead th {\n",
              "        text-align: right;\n",
              "    }\n",
              "</style>\n",
              "<table border=\"1\" class=\"dataframe\">\n",
              "  <thead>\n",
              "    <tr style=\"text-align: right;\">\n",
              "      <th>Predicted</th>\n",
              "      <th>0</th>\n",
              "      <th>1</th>\n",
              "      <th>2</th>\n",
              "      <th>4</th>\n",
              "    </tr>\n",
              "    <tr>\n",
              "      <th>Actual</th>\n",
              "      <th></th>\n",
              "      <th></th>\n",
              "      <th></th>\n",
              "      <th></th>\n",
              "    </tr>\n",
              "  </thead>\n",
              "  <tbody>\n",
              "    <tr>\n",
              "      <th>0</th>\n",
              "      <td>14</td>\n",
              "      <td>24</td>\n",
              "      <td>3</td>\n",
              "      <td>241</td>\n",
              "    </tr>\n",
              "    <tr>\n",
              "      <th>1</th>\n",
              "      <td>10</td>\n",
              "      <td>32</td>\n",
              "      <td>5</td>\n",
              "      <td>216</td>\n",
              "    </tr>\n",
              "    <tr>\n",
              "      <th>2</th>\n",
              "      <td>7</td>\n",
              "      <td>19</td>\n",
              "      <td>5</td>\n",
              "      <td>154</td>\n",
              "    </tr>\n",
              "    <tr>\n",
              "      <th>3</th>\n",
              "      <td>8</td>\n",
              "      <td>10</td>\n",
              "      <td>4</td>\n",
              "      <td>141</td>\n",
              "    </tr>\n",
              "    <tr>\n",
              "      <th>4</th>\n",
              "      <td>30</td>\n",
              "      <td>20</td>\n",
              "      <td>11</td>\n",
              "      <td>546</td>\n",
              "    </tr>\n",
              "  </tbody>\n",
              "</table>\n",
              "</div>\n",
              "      <button class=\"colab-df-convert\" onclick=\"convertToInteractive('df-6b46b43a-b55a-4714-b0a0-1ab2ee6c5518')\"\n",
              "              title=\"Convert this dataframe to an interactive table.\"\n",
              "              style=\"display:none;\">\n",
              "        \n",
              "  <svg xmlns=\"http://www.w3.org/2000/svg\" height=\"24px\"viewBox=\"0 0 24 24\"\n",
              "       width=\"24px\">\n",
              "    <path d=\"M0 0h24v24H0V0z\" fill=\"none\"/>\n",
              "    <path d=\"M18.56 5.44l.94 2.06.94-2.06 2.06-.94-2.06-.94-.94-2.06-.94 2.06-2.06.94zm-11 1L8.5 8.5l.94-2.06 2.06-.94-2.06-.94L8.5 2.5l-.94 2.06-2.06.94zm10 10l.94 2.06.94-2.06 2.06-.94-2.06-.94-.94-2.06-.94 2.06-2.06.94z\"/><path d=\"M17.41 7.96l-1.37-1.37c-.4-.4-.92-.59-1.43-.59-.52 0-1.04.2-1.43.59L10.3 9.45l-7.72 7.72c-.78.78-.78 2.05 0 2.83L4 21.41c.39.39.9.59 1.41.59.51 0 1.02-.2 1.41-.59l7.78-7.78 2.81-2.81c.8-.78.8-2.07 0-2.86zM5.41 20L4 18.59l7.72-7.72 1.47 1.35L5.41 20z\"/>\n",
              "  </svg>\n",
              "      </button>\n",
              "      \n",
              "  <style>\n",
              "    .colab-df-container {\n",
              "      display:flex;\n",
              "      flex-wrap:wrap;\n",
              "      gap: 12px;\n",
              "    }\n",
              "\n",
              "    .colab-df-convert {\n",
              "      background-color: #E8F0FE;\n",
              "      border: none;\n",
              "      border-radius: 50%;\n",
              "      cursor: pointer;\n",
              "      display: none;\n",
              "      fill: #1967D2;\n",
              "      height: 32px;\n",
              "      padding: 0 0 0 0;\n",
              "      width: 32px;\n",
              "    }\n",
              "\n",
              "    .colab-df-convert:hover {\n",
              "      background-color: #E2EBFA;\n",
              "      box-shadow: 0px 1px 2px rgba(60, 64, 67, 0.3), 0px 1px 3px 1px rgba(60, 64, 67, 0.15);\n",
              "      fill: #174EA6;\n",
              "    }\n",
              "\n",
              "    [theme=dark] .colab-df-convert {\n",
              "      background-color: #3B4455;\n",
              "      fill: #D2E3FC;\n",
              "    }\n",
              "\n",
              "    [theme=dark] .colab-df-convert:hover {\n",
              "      background-color: #434B5C;\n",
              "      box-shadow: 0px 1px 3px 1px rgba(0, 0, 0, 0.15);\n",
              "      filter: drop-shadow(0px 1px 2px rgba(0, 0, 0, 0.3));\n",
              "      fill: #FFFFFF;\n",
              "    }\n",
              "  </style>\n",
              "\n",
              "      <script>\n",
              "        const buttonEl =\n",
              "          document.querySelector('#df-6b46b43a-b55a-4714-b0a0-1ab2ee6c5518 button.colab-df-convert');\n",
              "        buttonEl.style.display =\n",
              "          google.colab.kernel.accessAllowed ? 'block' : 'none';\n",
              "\n",
              "        async function convertToInteractive(key) {\n",
              "          const element = document.querySelector('#df-6b46b43a-b55a-4714-b0a0-1ab2ee6c5518');\n",
              "          const dataTable =\n",
              "            await google.colab.kernel.invokeFunction('convertToInteractive',\n",
              "                                                     [key], {});\n",
              "          if (!dataTable) return;\n",
              "\n",
              "          const docLinkHtml = 'Like what you see? Visit the ' +\n",
              "            '<a target=\"_blank\" href=https://colab.research.google.com/notebooks/data_table.ipynb>data table notebook</a>'\n",
              "            + ' to learn more about interactive tables.';\n",
              "          element.innerHTML = '';\n",
              "          dataTable['output_type'] = 'display_data';\n",
              "          await google.colab.output.renderOutput(dataTable, element);\n",
              "          const docLink = document.createElement('div');\n",
              "          docLink.innerHTML = docLinkHtml;\n",
              "          element.appendChild(docLink);\n",
              "        }\n",
              "      </script>\n",
              "    </div>\n",
              "  </div>\n",
              "  "
            ]
          },
          "metadata": {},
          "execution_count": 201
        }
      ],
      "source": [
        "pd.crosstab(y_test, y_predict, rownames=['Actual'], colnames=['Predicted'])"
      ]
    },
    {
      "cell_type": "code",
      "execution_count": 202,
      "metadata": {
        "colab": {
          "base_uri": "https://localhost:8080/",
          "height": 296
        },
        "id": "vqCR5a7ia-xI",
        "outputId": "376ef210-d6fe-4e44-b110-86e5cd31e142"
      },
      "outputs": [
        {
          "output_type": "execute_result",
          "data": {
            "text/plain": [
              "Text(33.0, 0.5, 'actual')"
            ]
          },
          "metadata": {},
          "execution_count": 202
        },
        {
          "output_type": "display_data",
          "data": {
            "text/plain": [
              "<Figure size 432x288 with 2 Axes>"
            ],
            "image/png": "[encoded data removed]"
          },
          "metadata": {
            "needs_background": "light"
          }
        }
      ],
      "source": [
        "cm = confusion_matrix(y_test, y_predict)\n",
        "sns.heatmap(cm, annot=True)\n",
        "plt.xlabel(\"predicted\")\n",
        "plt.ylabel(\"actual\")"
      ]
    },
    {
      "cell_type": "markdown",
      "source": [
        "**Learning Curve**\n",
        "\n",
        "The learning curve for our KNN classification shows that as the training size increases, the differnce between the test score and training score becomes smaller. Our plot also tells us that our . "
      ],
      "metadata": {
        "id": "Po5Ht_17ru2s"
      }
    },
    {
      "cell_type": "code",
      "source": [
        "train_sizes, train_scores, test_scores = learning_curve(knn, X_train, y_train, cv=10, scoring='accuracy')\n",
        "train_scores_mean = np.mean(train_scores, axis=1)\n",
        "test_scores = np.mean(test_scores, axis=1)\n",
        "\n",
        "\n",
        "plt.plot(train_sizes, train_scores_mean, label='Train')\n",
        "plt.plot(train_sizes, test_scores, label='Test')\n",
        "plt.title('Learning Curve: KNN Classification')\n",
        "plt.xlabel('Train Set Size')\n",
        "plt.ylabel('Accuracy')\n",
        "plt.legend()"
      ],
      "metadata": {
        "colab": {
          "base_uri": "https://localhost:8080/",
          "height": 312
        },
        "id": "07dof_SHruYr",
        "outputId": "0b2524ec-1f90-4d45-dfc0-c3fc5e40a973"
      },
      "execution_count": 203,
      "outputs": [
        {
          "output_type": "execute_result",
          "data": {
            "text/plain": [
              "<matplotlib.legend.Legend at 0x7f1401558f40>"
            ]
          },
          "metadata": {},
          "execution_count": 203
        },
        {
          "output_type": "display_data",
          "data": {
            "text/plain": [
              "<Figure size 432x288 with 1 Axes>"
            ],
            "image/png": "[encoded data removed]"
          },
          "metadata": {
            "needs_background": "light"
          }
        }
      ]
    },
    {
      "cell_type": "markdown",
      "metadata": {
        "id": "39WMq_GzAD_Q"
      },
      "source": [
        "**Forward Selection**\n",
        "\n",
        "Our accuracy score is less that 50%. Lets see if adding more features improves our accuracy score. Again we will be using a random sample size of 5,000. We will also convert all the categorical values to numerical ones. "
      ]
    },
    {
      "cell_type": "code",
      "execution_count": 204,
      "metadata": {
        "id": "JPT9kwUFA25H"
      },
      "outputs": [],
      "source": [
        "all_num = df = pd.get_dummies(df, drop_first = True)\n",
        "all_features = list(all_num.columns)\n",
        "all_features.remove('subject_race')\n",
        "np.random.seed(42)  \n",
        "\n",
        "X = all_num[all_features].values\n",
        "y = all_num['subject_race'].values\n",
        "\n",
        "indexes = np.random.choice(y.size, size=5000)\n",
        "X_mini = X[indexes]\n",
        "y_mini = y[indexes]\n",
        "\n",
        "X_train, X_test, y_train, y_test = train_test_split(X_mini, y_mini, test_size=0.30, random_state=42)\n",
        "\n",
        "scaler = StandardScaler()\n",
        "\n",
        "X_train = scaler.fit_transform(X_train)\n",
        "X_test = scaler.transform(X_test)\n",
        "\n",
        "knn = KNeighborsClassifier(n_neighbors= best_k, algorithm='brute', metric='minkowski')\n",
        "knn.fit(X_train, y_train)\n",
        "predictions = knn.predict(X_test)"
      ]
    },
    {
      "cell_type": "code",
      "execution_count": 205,
      "metadata": {
        "colab": {
          "base_uri": "https://localhost:8080/"
        },
        "id": "MHOQgbCmKM_7",
        "outputId": "12d388d9-1e01-44df-8268-112b900ec1ea"
      },
      "outputs": [
        {
          "output_type": "stream",
          "name": "stdout",
          "text": [
            "num features: 1; accuracy: 0.40\n",
            "num features: 2; accuracy: 0.40\n",
            "num features: 3; accuracy: 0.40\n",
            "num features: 4; accuracy: 0.40\n",
            "num features: 5; accuracy: 0.40\n",
            "num features: 6; accuracy: 0.40\n",
            "num features: 7; accuracy: 0.40\n",
            "num features: 8; accuracy: 0.40\n",
            "num features: 9; accuracy: 0.40\n",
            "num features: 10; accuracy: 0.40\n"
          ]
        }
      ],
      "source": [
        "remaining = list(range(X_train.shape[1]))\n",
        "selected = []\n",
        "n = 10\n",
        "while len(selected) < n:\n",
        "    accuracy = 1e7\n",
        "    for i in remaining:\n",
        "        scores = cross_val_score(KNeighborsClassifier(n_neighbors= best_k, algorithm='brute', metric='minkowski'), X_train[:, selected+[i]], y_train, scoring='accuracy', cv=10)\n",
        "        if scores.mean() < accuracy:\n",
        "          accuracy = (predictions == y_test).mean() \n",
        "          i_min = i\n",
        "    remaining.remove(i_min)\n",
        "    selected.append(i_min)\n",
        "    print('num features: {}; accuracy: {:.2f}'.format(len(selected), accuracy))"
      ]
    },
    {
      "cell_type": "markdown",
      "metadata": {
        "id": "GeZwj9BbAY3k"
      },
      "source": [
        "By seeing 10 features being added, we see no improvement in our accuracy since it remained the same. As a result, we will keep the two predictors (outcome, subject_age). "
      ]
    },
    {
      "cell_type": "markdown",
      "source": [
        "#Non-Linear SVC Classification"
      ],
      "metadata": {
        "id": "FllsvoDm9-42"
      }
    },
    {
      "cell_type": "markdown",
      "source": [
        "**Accuracy**"
      ],
      "metadata": {
        "id": "CuXjDxJw-MQ5"
      }
    },
    {
      "cell_type": "code",
      "source": [
        "np.random.seed(42)  \n",
        "\n",
        "predictors = ['outcome', 'subject_age']\n",
        "X = df[predictors].values\n",
        "y = df['subject_race'].values\n",
        "\n",
        "indexes = np.random.choice(y.size, size=5000)\n",
        "X_mini = X[indexes]\n",
        "y_mini = y[indexes]\n",
        "\n",
        "X_train, X_test, y_train, y_test = train_test_split(X_mini, y_mini, test_size=0.30, random_state=42)\n",
        "\n",
        "clf = make_pipeline(StandardScaler(), SVC(gamma='scale'))\n",
        "clf.fit(X_train, y_train)\n",
        "y_predict = clf.predict(X_test)\n",
        "print('Accuracy: {:.2f}'.format(accuracy_score(y_test, y_predict)))"
      ],
      "metadata": {
        "id": "_XG0tk_r9-fH",
        "colab": {
          "base_uri": "https://localhost:8080/"
        },
        "outputId": "78f58405-5517-4e1e-aee5-8d035bbb7dc1"
      },
      "execution_count": 206,
      "outputs": [
        {
          "output_type": "stream",
          "name": "stdout",
          "text": [
            "Accuracy: 0.41\n"
          ]
        }
      ]
    },
    {
      "cell_type": "markdown",
      "source": [
        "**Cofusion Matrix**"
      ],
      "metadata": {
        "id": "gnL-cQo6-Uo8"
      }
    },
    {
      "cell_type": "code",
      "source": [
        "pd.crosstab(y_test, y_predict, rownames=['Actual'], colnames=['Predicted'])"
      ],
      "metadata": {
        "id": "eHN1JVV6-XhF",
        "colab": {
          "base_uri": "https://localhost:8080/",
          "height": 238
        },
        "outputId": "73a57b0c-5b05-40fd-a0e6-cc0039fb5e78"
      },
      "execution_count": 207,
      "outputs": [
        {
          "output_type": "execute_result",
          "data": {
            "text/plain": [
              "Predicted   1    4\n",
              "Actual            \n",
              "0          10  272\n",
              "1          25  238\n",
              "2          13  172\n",
              "3           3  160\n",
              "4          12  595"
            ],
            "text/html": [
              "\n",
              "  <div id=\"df-11d84f6e-c086-4d44-a45e-83e140c0fbdf\">\n",
              "    <div class=\"colab-df-container\">\n",
              "      <div>\n",
              "<style scoped>\n",
              "    .dataframe tbody tr th:only-of-type {\n",
              "        vertical-align: middle;\n",
              "    }\n",
              "\n",
              "    .dataframe tbody tr th {\n",
              "        vertical-align: top;\n",
              "    }\n",
              "\n",
              "    .dataframe thead th {\n",
              "        text-align: right;\n",
              "    }\n",
              "</style>\n",
              "<table border=\"1\" class=\"dataframe\">\n",
              "  <thead>\n",
              "    <tr style=\"text-align: right;\">\n",
              "      <th>Predicted</th>\n",
              "      <th>1</th>\n",
              "      <th>4</th>\n",
              "    </tr>\n",
              "    <tr>\n",
              "      <th>Actual</th>\n",
              "      <th></th>\n",
              "      <th></th>\n",
              "    </tr>\n",
              "  </thead>\n",
              "  <tbody>\n",
              "    <tr>\n",
              "      <th>0</th>\n",
              "      <td>10</td>\n",
              "      <td>272</td>\n",
              "    </tr>\n",
              "    <tr>\n",
              "      <th>1</th>\n",
              "      <td>25</td>\n",
              "      <td>238</td>\n",
              "    </tr>\n",
              "    <tr>\n",
              "      <th>2</th>\n",
              "      <td>13</td>\n",
              "      <td>172</td>\n",
              "    </tr>\n",
              "    <tr>\n",
              "      <th>3</th>\n",
              "      <td>3</td>\n",
              "      <td>160</td>\n",
              "    </tr>\n",
              "    <tr>\n",
              "      <th>4</th>\n",
              "      <td>12</td>\n",
              "      <td>595</td>\n",
              "    </tr>\n",
              "  </tbody>\n",
              "</table>\n",
              "</div>\n",
              "      <button class=\"colab-df-convert\" onclick=\"convertToInteractive('df-11d84f6e-c086-4d44-a45e-83e140c0fbdf')\"\n",
              "              title=\"Convert this dataframe to an interactive table.\"\n",
              "              style=\"display:none;\">\n",
              "        \n",
              "  <svg xmlns=\"http://www.w3.org/2000/svg\" height=\"24px\"viewBox=\"0 0 24 24\"\n",
              "       width=\"24px\">\n",
              "    <path d=\"M0 0h24v24H0V0z\" fill=\"none\"/>\n",
              "    <path d=\"M18.56 5.44l.94 2.06.94-2.06 2.06-.94-2.06-.94-.94-2.06-.94 2.06-2.06.94zm-11 1L8.5 8.5l.94-2.06 2.06-.94-2.06-.94L8.5 2.5l-.94 2.06-2.06.94zm10 10l.94 2.06.94-2.06 2.06-.94-2.06-.94-.94-2.06-.94 2.06-2.06.94z\"/><path d=\"M17.41 7.96l-1.37-1.37c-.4-.4-.92-.59-1.43-.59-.52 0-1.04.2-1.43.59L10.3 9.45l-7.72 7.72c-.78.78-.78 2.05 0 2.83L4 21.41c.39.39.9.59 1.41.59.51 0 1.02-.2 1.41-.59l7.78-7.78 2.81-2.81c.8-.78.8-2.07 0-2.86zM5.41 20L4 18.59l7.72-7.72 1.47 1.35L5.41 20z\"/>\n",
              "  </svg>\n",
              "      </button>\n",
              "      \n",
              "  <style>\n",
              "    .colab-df-container {\n",
              "      display:flex;\n",
              "      flex-wrap:wrap;\n",
              "      gap: 12px;\n",
              "    }\n",
              "\n",
              "    .colab-df-convert {\n",
              "      background-color: #E8F0FE;\n",
              "      border: none;\n",
              "      border-radius: 50%;\n",
              "      cursor: pointer;\n",
              "      display: none;\n",
              "      fill: #1967D2;\n",
              "      height: 32px;\n",
              "      padding: 0 0 0 0;\n",
              "      width: 32px;\n",
              "    }\n",
              "\n",
              "    .colab-df-convert:hover {\n",
              "      background-color: #E2EBFA;\n",
              "      box-shadow: 0px 1px 2px rgba(60, 64, 67, 0.3), 0px 1px 3px 1px rgba(60, 64, 67, 0.15);\n",
              "      fill: #174EA6;\n",
              "    }\n",
              "\n",
              "    [theme=dark] .colab-df-convert {\n",
              "      background-color: #3B4455;\n",
              "      fill: #D2E3FC;\n",
              "    }\n",
              "\n",
              "    [theme=dark] .colab-df-convert:hover {\n",
              "      background-color: #434B5C;\n",
              "      box-shadow: 0px 1px 3px 1px rgba(0, 0, 0, 0.15);\n",
              "      filter: drop-shadow(0px 1px 2px rgba(0, 0, 0, 0.3));\n",
              "      fill: #FFFFFF;\n",
              "    }\n",
              "  </style>\n",
              "\n",
              "      <script>\n",
              "        const buttonEl =\n",
              "          document.querySelector('#df-11d84f6e-c086-4d44-a45e-83e140c0fbdf button.colab-df-convert');\n",
              "        buttonEl.style.display =\n",
              "          google.colab.kernel.accessAllowed ? 'block' : 'none';\n",
              "\n",
              "        async function convertToInteractive(key) {\n",
              "          const element = document.querySelector('#df-11d84f6e-c086-4d44-a45e-83e140c0fbdf');\n",
              "          const dataTable =\n",
              "            await google.colab.kernel.invokeFunction('convertToInteractive',\n",
              "                                                     [key], {});\n",
              "          if (!dataTable) return;\n",
              "\n",
              "          const docLinkHtml = 'Like what you see? Visit the ' +\n",
              "            '<a target=\"_blank\" href=https://colab.research.google.com/notebooks/data_table.ipynb>data table notebook</a>'\n",
              "            + ' to learn more about interactive tables.';\n",
              "          element.innerHTML = '';\n",
              "          dataTable['output_type'] = 'display_data';\n",
              "          await google.colab.output.renderOutput(dataTable, element);\n",
              "          const docLink = document.createElement('div');\n",
              "          docLink.innerHTML = docLinkHtml;\n",
              "          element.appendChild(docLink);\n",
              "        }\n",
              "      </script>\n",
              "    </div>\n",
              "  </div>\n",
              "  "
            ]
          },
          "metadata": {},
          "execution_count": 207
        }
      ]
    },
    {
      "cell_type": "code",
      "source": [
        "cm = confusion_matrix(y_test, y_predict)\n",
        "sns.heatmap(cm, annot=True)\n",
        "plt.xlabel(\"predicted\")\n",
        "plt.ylabel(\"actual\")"
      ],
      "metadata": {
        "id": "kL94O1Qm-b7W",
        "colab": {
          "base_uri": "https://localhost:8080/",
          "height": 296
        },
        "outputId": "c195eff6-9c0f-46d1-8982-6fa2da8142d0"
      },
      "execution_count": 208,
      "outputs": [
        {
          "output_type": "execute_result",
          "data": {
            "text/plain": [
              "Text(33.0, 0.5, 'actual')"
            ]
          },
          "metadata": {},
          "execution_count": 208
        },
        {
          "output_type": "display_data",
          "data": {
            "text/plain": [
              "<Figure size 432x288 with 2 Axes>"
            ],
            "image/png": "[encoded data removed]"
          },
          "metadata": {
            "needs_background": "light"
          }
        }
      ]
    },
    {
      "cell_type": "markdown",
      "source": [
        "**Learning Curve**"
      ],
      "metadata": {
        "id": "uPCLugCy-gpF"
      }
    },
    {
      "cell_type": "code",
      "source": [
        "train_sizes, train_scores, test_scores = learning_curve(clf, X_train, y_train, cv=10, scoring='accuracy')\n",
        "train_scores_mean = np.mean(train_scores, axis=1)\n",
        "test_scores = np.mean(test_scores, axis=1)\n",
        "\n",
        "\n",
        "plt.plot(train_sizes, train_scores_mean, label='Train')\n",
        "plt.plot(train_sizes, test_scores, label='Test')\n",
        "plt.title('Learning Curve: SVC Classification (Modified Subject_Race)')\n",
        "plt.xlabel('Train Set Size')\n",
        "plt.ylabel('Accuracy')\n",
        "plt.legend()"
      ],
      "metadata": {
        "id": "R3odRN-8-iZp",
        "colab": {
          "base_uri": "https://localhost:8080/",
          "height": 312
        },
        "outputId": "6074339f-4599-4dfc-f3a2-185cdb1bae1c"
      },
      "execution_count": 209,
      "outputs": [
        {
          "output_type": "execute_result",
          "data": {
            "text/plain": [
              "<matplotlib.legend.Legend at 0x7f13cda52d60>"
            ]
          },
          "metadata": {},
          "execution_count": 209
        },
        {
          "output_type": "display_data",
          "data": {
            "text/plain": [
              "<Figure size 432x288 with 1 Axes>"
            ],
            "image/png": "[encoded data removed]"
          },
          "metadata": {
            "needs_background": "light"
          }
        }
      ]
    },
    {
      "cell_type": "markdown",
      "metadata": {
        "id": "rjs5EiMGXI3q"
      },
      "source": [
        "#Decision Tree Classification\n",
        "\n",
        "Now we will us the Decision Tree Classification model to see how it performance and accuracy score. "
      ]
    },
    {
      "cell_type": "code",
      "execution_count": 210,
      "metadata": {
        "id": "LchJu7kxWT1q"
      },
      "outputs": [],
      "source": [
        "predictors = ['outcome', 'subject_age']\n",
        "X = df[predictors].values\n",
        "y = df['subject_race'].values\n",
        "\n",
        "\n",
        "X_train, X_test, y_train, y_test = train_test_split(X, y, test_size=0.30, random_state=0)\n",
        "\n",
        "clf = DecisionTreeClassifier(max_depth = 5, random_state=0, min_samples_split=5, min_samples_leaf=5)\n",
        "clf.fit(X_train, y_train)\n",
        "y_predict = clf.predict(X_test)"
      ]
    },
    {
      "cell_type": "code",
      "execution_count": 211,
      "metadata": {
        "id": "53w78rUTX5W9",
        "colab": {
          "base_uri": "https://localhost:8080/",
          "height": 936
        },
        "outputId": "0190cf8b-c0b3-427e-c7df-83bd5f586330"
      },
      "outputs": [
        {
          "output_type": "execute_result",
          "data": {
            "text/plain": [
              "<graphviz.files.Source at 0x7f13c6721e20>"
            ],
            "image/svg+xml": "<?xml version=\"1.0\" encoding=\"UTF-8\" standalone=\"no\"?>\n<!DOCTYPE svg PUBLIC \"-//W3C//DTD SVG 1.1//EN\"\n \"http://www.w3.org/Graphics/SVG/1.1/DTD/svg11.dtd\">\n<!-- Generated by graphviz version 2.43.0 (0)\n -->\n<!-- Title: Tree Pages: 1 -->\n<svg width=\"7335pt\" height=\"671pt\"\n viewBox=\"0.00 0.00 7334.50 671.00\" xmlns=\"http://www.w3.org/2000/svg\" xmlns:xlink=\"http://www.w3.org/1999/xlink\">\n<g id=\"graph0\" class=\"graph\" transform=\"scale(1 1) rotate(0) translate(4 667)\">\n<title>Tree</title>\n<polygon fill=\"white\" stroke=\"transparent\" points=\"-4,4 -4,-667 7330.5,-667 7330.5,4 -4,4\"/>\n<!-- 0 -->\n<g id=\"node1\" class=\"node\">\n<title>0</title>\n<path fill=\"#f7c5ec\" stroke=\"black\" d=\"M4064,-663C4064,-663 3855,-663 3855,-663 3849,-663 3843,-657 3843,-651 3843,-651 3843,-592 3843,-592 3843,-586 3849,-580 3855,-580 3855,-580 4064,-580 4064,-580 4070,-580 4076,-586 4076,-592 4076,-592 4076,-651 4076,-651 4076,-657 4070,-663 4064,-663\"/>\n<text text-anchor=\"start\" x=\"3916\" y=\"-647.8\" font-family=\"Helvetica,sans-Serif\" font-size=\"14.00\">outcome ≤ 1.5</text>\n<text text-anchor=\"start\" x=\"3927.5\" y=\"-632.8\" font-family=\"Helvetica,sans-Serif\" font-size=\"14.00\">gini = 0.74</text>\n<text text-anchor=\"start\" x=\"3902.5\" y=\"-617.8\" font-family=\"Helvetica,sans-Serif\" font-size=\"14.00\">samples = 100.0%</text>\n<text text-anchor=\"start\" x=\"3851\" y=\"-602.8\" font-family=\"Helvetica,sans-Serif\" font-size=\"14.00\">value = [0.18, 0.17, 0.12, 0.12, 0.42]</text>\n<text text-anchor=\"start\" x=\"3920.5\" y=\"-587.8\" font-family=\"Helvetica,sans-Serif\" font-size=\"14.00\">class = other</text>\n</g>\n<!-- 1 -->\n<g id=\"node2\" class=\"node\">\n<title>1</title>\n<path fill=\"#f8c6ed\" stroke=\"black\" d=\"M2966,-544C2966,-544 2757,-544 2757,-544 2751,-544 2745,-538 2745,-532 2745,-532 2745,-473 2745,-473 2745,-467 2751,-461 2757,-461 2757,-461 2966,-461 2966,-461 2972,-461 2978,-467 2978,-473 2978,-473 2978,-532 2978,-532 2978,-538 2972,-544 2966,-544\"/>\n<text text-anchor=\"start\" x=\"2804\" y=\"-528.8\" font-family=\"Helvetica,sans-Serif\" font-size=\"14.00\">subject_age ≤ 23.5</text>\n<text text-anchor=\"start\" x=\"2829.5\" y=\"-513.8\" font-family=\"Helvetica,sans-Serif\" font-size=\"14.00\">gini = 0.73</text>\n<text text-anchor=\"start\" x=\"2808.5\" y=\"-498.8\" font-family=\"Helvetica,sans-Serif\" font-size=\"14.00\">samples = 72.4%</text>\n<text text-anchor=\"start\" x=\"2753\" y=\"-483.8\" font-family=\"Helvetica,sans-Serif\" font-size=\"14.00\">value = [0.19, 0.14, 0.12, 0.12, 0.42]</text>\n<text text-anchor=\"start\" x=\"2822.5\" y=\"-468.8\" font-family=\"Helvetica,sans-Serif\" font-size=\"14.00\">class = other</text>\n</g>\n<!-- 0&#45;&gt;1 -->\n<g id=\"edge1\" class=\"edge\">\n<title>0&#45;&gt;1</title>\n<path fill=\"none\" stroke=\"black\" d=\"M3842.77,-608.06C3635.11,-585.93 3203.18,-539.91 2988.42,-517.02\"/>\n<polygon fill=\"black\" stroke=\"black\" points=\"2988.67,-513.53 2978.36,-515.95 2987.93,-520.49 2988.67,-513.53\"/>\n<text text-anchor=\"middle\" x=\"2994.06\" y=\"-531.7\" font-family=\"Helvetica,sans-Serif\" font-size=\"14.00\">True</text>\n</g>\n<!-- 32 -->\n<g id=\"node33\" class=\"node\">\n<title>32</title>\n<path fill=\"#f9d5f2\" stroke=\"black\" d=\"M4866,-544C4866,-544 4657,-544 4657,-544 4651,-544 4645,-538 4645,-532 4645,-532 4645,-473 4645,-473 4645,-467 4651,-461 4657,-461 4657,-461 4866,-461 4866,-461 4872,-461 4878,-467 4878,-473 4878,-473 4878,-532 4878,-532 4878,-538 4872,-544 4866,-544\"/>\n<text text-anchor=\"start\" x=\"4704\" y=\"-528.8\" font-family=\"Helvetica,sans-Serif\" font-size=\"14.00\">subject_age ≤ 26.5</text>\n<text text-anchor=\"start\" x=\"4729.5\" y=\"-513.8\" font-family=\"Helvetica,sans-Serif\" font-size=\"14.00\">gini = 0.73</text>\n<text text-anchor=\"start\" x=\"4708.5\" y=\"-498.8\" font-family=\"Helvetica,sans-Serif\" font-size=\"14.00\">samples = 27.6%</text>\n<text text-anchor=\"start\" x=\"4653\" y=\"-483.8\" font-family=\"Helvetica,sans-Serif\" font-size=\"14.00\">value = [0.13, 0.24, 0.13, 0.09, 0.41]</text>\n<text text-anchor=\"start\" x=\"4722.5\" y=\"-468.8\" font-family=\"Helvetica,sans-Serif\" font-size=\"14.00\">class = other</text>\n</g>\n<!-- 0&#45;&gt;32 -->\n<g id=\"edge32\" class=\"edge\">\n<title>0&#45;&gt;32</title>\n<path fill=\"none\" stroke=\"black\" d=\"M4076.12,-603.49C4224.9,-581.78 4481.31,-544.38 4634.78,-521.99\"/>\n<polygon fill=\"black\" stroke=\"black\" points=\"4635.35,-525.44 4644.74,-520.53 4634.34,-518.51 4635.35,-525.44\"/>\n<text text-anchor=\"middle\" x=\"4629.8\" y=\"-536.88\" font-family=\"Helvetica,sans-Serif\" font-size=\"14.00\">False</text>\n</g>\n<!-- 2 -->\n<g id=\"node3\" class=\"node\">\n<title>2</title>\n<path fill=\"#fbe0f5\" stroke=\"black\" d=\"M1548.5,-425C1548.5,-425 1346.5,-425 1346.5,-425 1340.5,-425 1334.5,-419 1334.5,-413 1334.5,-413 1334.5,-354 1334.5,-354 1334.5,-348 1340.5,-342 1346.5,-342 1346.5,-342 1548.5,-342 1548.5,-342 1554.5,-342 1560.5,-348 1560.5,-354 1560.5,-354 1560.5,-413 1560.5,-413 1560.5,-419 1554.5,-425 1548.5,-425\"/>\n<text text-anchor=\"start\" x=\"1390\" y=\"-409.8\" font-family=\"Helvetica,sans-Serif\" font-size=\"14.00\">subject_age ≤ 21.5</text>\n<text text-anchor=\"start\" x=\"1415.5\" y=\"-394.8\" font-family=\"Helvetica,sans-Serif\" font-size=\"14.00\">gini = 0.78</text>\n<text text-anchor=\"start\" x=\"1398\" y=\"-379.8\" font-family=\"Helvetica,sans-Serif\" font-size=\"14.00\">samples = 9.6%</text>\n<text text-anchor=\"start\" x=\"1342.5\" y=\"-364.8\" font-family=\"Helvetica,sans-Serif\" font-size=\"14.00\">value = [0.2, 0.19, 0.16, 0.12, 0.33]</text>\n<text text-anchor=\"start\" x=\"1408.5\" y=\"-349.8\" font-family=\"Helvetica,sans-Serif\" font-size=\"14.00\">class = other</text>\n</g>\n<!-- 1&#45;&gt;2 -->\n<g id=\"edge2\" class=\"edge\">\n<title>1&#45;&gt;2</title>\n<path fill=\"none\" stroke=\"black\" d=\"M2744.88,-491.85C2481.17,-470.03 1840.95,-417.06 1570.9,-394.71\"/>\n<polygon fill=\"black\" stroke=\"black\" points=\"1570.93,-391.2 1560.67,-393.86 1570.35,-398.18 1570.93,-391.2\"/>\n</g>\n<!-- 17 -->\n<g id=\"node18\" class=\"node\">\n<title>17</title>\n<path fill=\"#f7c3ec\" stroke=\"black\" d=\"M2966,-425C2966,-425 2757,-425 2757,-425 2751,-425 2745,-419 2745,-413 2745,-413 2745,-354 2745,-354 2745,-348 2751,-342 2757,-342 2757,-342 2966,-342 2966,-342 2972,-342 2978,-348 2978,-354 2978,-354 2978,-413 2978,-413 2978,-419 2972,-425 2966,-425\"/>\n<text text-anchor=\"start\" x=\"2804\" y=\"-409.8\" font-family=\"Helvetica,sans-Serif\" font-size=\"14.00\">subject_age ≤ 57.5</text>\n<text text-anchor=\"start\" x=\"2829.5\" y=\"-394.8\" font-family=\"Helvetica,sans-Serif\" font-size=\"14.00\">gini = 0.73</text>\n<text text-anchor=\"start\" x=\"2808.5\" y=\"-379.8\" font-family=\"Helvetica,sans-Serif\" font-size=\"14.00\">samples = 62.8%</text>\n<text text-anchor=\"start\" x=\"2753\" y=\"-364.8\" font-family=\"Helvetica,sans-Serif\" font-size=\"14.00\">value = [0.19, 0.13, 0.12, 0.12, 0.44]</text>\n<text text-anchor=\"start\" x=\"2822.5\" y=\"-349.8\" font-family=\"Helvetica,sans-Serif\" font-size=\"14.00\">class = other</text>\n</g>\n<!-- 1&#45;&gt;17 -->\n<g id=\"edge17\" class=\"edge\">\n<title>1&#45;&gt;17</title>\n<path fill=\"none\" stroke=\"black\" d=\"M2861.5,-460.91C2861.5,-452.65 2861.5,-443.86 2861.5,-435.3\"/>\n<polygon fill=\"black\" stroke=\"black\" points=\"2865,-435.02 2861.5,-425.02 2858,-435.02 2865,-435.02\"/>\n</g>\n<!-- 3 -->\n<g id=\"node4\" class=\"node\">\n<title>3</title>\n<path fill=\"#fce7f7\" stroke=\"black\" d=\"M810.5,-306C810.5,-306 616.5,-306 616.5,-306 610.5,-306 604.5,-300 604.5,-294 604.5,-294 604.5,-235 604.5,-235 604.5,-229 610.5,-223 616.5,-223 616.5,-223 810.5,-223 810.5,-223 816.5,-223 822.5,-229 822.5,-235 822.5,-235 822.5,-294 822.5,-294 822.5,-300 816.5,-306 810.5,-306\"/>\n<text text-anchor=\"start\" x=\"670\" y=\"-290.8\" font-family=\"Helvetica,sans-Serif\" font-size=\"14.00\">outcome ≤ 0.5</text>\n<text text-anchor=\"start\" x=\"681.5\" y=\"-275.8\" font-family=\"Helvetica,sans-Serif\" font-size=\"14.00\">gini = 0.78</text>\n<text text-anchor=\"start\" x=\"664\" y=\"-260.8\" font-family=\"Helvetica,sans-Serif\" font-size=\"14.00\">samples = 5.5%</text>\n<text text-anchor=\"start\" x=\"612.5\" y=\"-245.8\" font-family=\"Helvetica,sans-Serif\" font-size=\"14.00\">value = [0.2, 0.21, 0.17, 0.11, 0.3]</text>\n<text text-anchor=\"start\" x=\"674.5\" y=\"-230.8\" font-family=\"Helvetica,sans-Serif\" font-size=\"14.00\">class = other</text>\n</g>\n<!-- 2&#45;&gt;3 -->\n<g id=\"edge3\" class=\"edge\">\n<title>2&#45;&gt;3</title>\n<path fill=\"none\" stroke=\"black\" d=\"M1334.42,-364.48C1198.48,-342.81 971.38,-306.61 832.75,-284.51\"/>\n<polygon fill=\"black\" stroke=\"black\" points=\"832.94,-280.99 822.51,-282.88 831.84,-287.91 832.94,-280.99\"/>\n</g>\n<!-- 10 -->\n<g id=\"node11\" class=\"node\">\n<title>10</title>\n<path fill=\"#fad9f3\" stroke=\"black\" d=\"M1548.5,-306C1548.5,-306 1346.5,-306 1346.5,-306 1340.5,-306 1334.5,-300 1334.5,-294 1334.5,-294 1334.5,-235 1334.5,-235 1334.5,-229 1340.5,-223 1346.5,-223 1346.5,-223 1548.5,-223 1548.5,-223 1554.5,-223 1560.5,-229 1560.5,-235 1560.5,-235 1560.5,-294 1560.5,-294 1560.5,-300 1554.5,-306 1548.5,-306\"/>\n<text text-anchor=\"start\" x=\"1404\" y=\"-290.8\" font-family=\"Helvetica,sans-Serif\" font-size=\"14.00\">outcome ≤ 0.5</text>\n<text text-anchor=\"start\" x=\"1415.5\" y=\"-275.8\" font-family=\"Helvetica,sans-Serif\" font-size=\"14.00\">gini = 0.77</text>\n<text text-anchor=\"start\" x=\"1398\" y=\"-260.8\" font-family=\"Helvetica,sans-Serif\" font-size=\"14.00\">samples = 4.1%</text>\n<text text-anchor=\"start\" x=\"1342.5\" y=\"-245.8\" font-family=\"Helvetica,sans-Serif\" font-size=\"14.00\">value = [0.2, 0.17, 0.15, 0.12, 0.35]</text>\n<text text-anchor=\"start\" x=\"1408.5\" y=\"-230.8\" font-family=\"Helvetica,sans-Serif\" font-size=\"14.00\">class = other</text>\n</g>\n<!-- 2&#45;&gt;10 -->\n<g id=\"edge10\" class=\"edge\">\n<title>2&#45;&gt;10</title>\n<path fill=\"none\" stroke=\"black\" d=\"M1447.5,-341.91C1447.5,-333.65 1447.5,-324.86 1447.5,-316.3\"/>\n<polygon fill=\"black\" stroke=\"black\" points=\"1451,-316.02 1447.5,-306.02 1444,-316.02 1451,-316.02\"/>\n</g>\n<!-- 4 -->\n<g id=\"node5\" class=\"node\">\n<title>4</title>\n<path fill=\"#e7fadb\" stroke=\"black\" d=\"M442.5,-187C442.5,-187 248.5,-187 248.5,-187 242.5,-187 236.5,-181 236.5,-175 236.5,-175 236.5,-116 236.5,-116 236.5,-110 242.5,-104 248.5,-104 248.5,-104 442.5,-104 442.5,-104 448.5,-104 454.5,-110 454.5,-116 454.5,-116 454.5,-175 454.5,-175 454.5,-181 448.5,-187 442.5,-187\"/>\n<text text-anchor=\"start\" x=\"288\" y=\"-171.8\" font-family=\"Helvetica,sans-Serif\" font-size=\"14.00\">subject_age ≤ 15.5</text>\n<text text-anchor=\"start\" x=\"313.5\" y=\"-156.8\" font-family=\"Helvetica,sans-Serif\" font-size=\"14.00\">gini = 0.74</text>\n<text text-anchor=\"start\" x=\"296\" y=\"-141.8\" font-family=\"Helvetica,sans-Serif\" font-size=\"14.00\">samples = 0.1%</text>\n<text text-anchor=\"start\" x=\"244.5\" y=\"-126.8\" font-family=\"Helvetica,sans-Serif\" font-size=\"14.00\">value = [0.1, 0.38, 0.2, 0.07, 0.24]</text>\n<text text-anchor=\"start\" x=\"306\" y=\"-111.8\" font-family=\"Helvetica,sans-Serif\" font-size=\"14.00\">class = black</text>\n</g>\n<!-- 3&#45;&gt;4 -->\n<g id=\"edge4\" class=\"edge\">\n<title>3&#45;&gt;4</title>\n<path fill=\"none\" stroke=\"black\" d=\"M604.08,-228.71C560.17,-214.75 509.42,-198.62 464.58,-184.36\"/>\n<polygon fill=\"black\" stroke=\"black\" points=\"465.4,-180.95 454.81,-181.25 463.28,-187.62 465.4,-180.95\"/>\n</g>\n<!-- 7 -->\n<g id=\"node8\" class=\"node\">\n<title>7</title>\n<path fill=\"#fce6f7\" stroke=\"black\" d=\"M814.5,-187C814.5,-187 612.5,-187 612.5,-187 606.5,-187 600.5,-181 600.5,-175 600.5,-175 600.5,-116 600.5,-116 600.5,-110 606.5,-104 612.5,-104 612.5,-104 814.5,-104 814.5,-104 820.5,-104 826.5,-110 826.5,-116 826.5,-116 826.5,-175 826.5,-175 826.5,-181 820.5,-187 814.5,-187\"/>\n<text text-anchor=\"start\" x=\"656\" y=\"-171.8\" font-family=\"Helvetica,sans-Serif\" font-size=\"14.00\">subject_age ≤ 17.5</text>\n<text text-anchor=\"start\" x=\"681.5\" y=\"-156.8\" font-family=\"Helvetica,sans-Serif\" font-size=\"14.00\">gini = 0.78</text>\n<text text-anchor=\"start\" x=\"664\" y=\"-141.8\" font-family=\"Helvetica,sans-Serif\" font-size=\"14.00\">samples = 5.3%</text>\n<text text-anchor=\"start\" x=\"608.5\" y=\"-126.8\" font-family=\"Helvetica,sans-Serif\" font-size=\"14.00\">value = [0.21, 0.2, 0.17, 0.11, 0.31]</text>\n<text text-anchor=\"start\" x=\"674.5\" y=\"-111.8\" font-family=\"Helvetica,sans-Serif\" font-size=\"14.00\">class = other</text>\n</g>\n<!-- 3&#45;&gt;7 -->\n<g id=\"edge7\" class=\"edge\">\n<title>3&#45;&gt;7</title>\n<path fill=\"none\" stroke=\"black\" d=\"M713.5,-222.91C713.5,-214.65 713.5,-205.86 713.5,-197.3\"/>\n<polygon fill=\"black\" stroke=\"black\" points=\"717,-197.02 713.5,-187.02 710,-197.02 717,-197.02\"/>\n</g>\n<!-- 5 -->\n<g id=\"node6\" class=\"node\">\n<title>5</title>\n<path fill=\"#9cf2e2\" stroke=\"black\" d=\"M199,-68C199,-68 12,-68 12,-68 6,-68 0,-62 0,-56 0,-56 0,-12 0,-12 0,-6 6,0 12,0 12,0 199,0 199,0 205,0 211,-6 211,-12 211,-12 211,-56 211,-56 211,-62 205,-68 199,-68\"/>\n<text text-anchor=\"start\" x=\"73.5\" y=\"-52.8\" font-family=\"Helvetica,sans-Serif\" font-size=\"14.00\">gini = 0.44</text>\n<text text-anchor=\"start\" x=\"56\" y=\"-37.8\" font-family=\"Helvetica,sans-Serif\" font-size=\"14.00\">samples = 0.0%</text>\n<text text-anchor=\"start\" x=\"8\" y=\"-22.8\" font-family=\"Helvetica,sans-Serif\" font-size=\"14.00\">value = [0.0, 0.33, 0.67, 0.0, 0.0]</text>\n<text text-anchor=\"start\" x=\"57\" y=\"-7.8\" font-family=\"Helvetica,sans-Serif\" font-size=\"14.00\">class = hispanic</text>\n</g>\n<!-- 4&#45;&gt;5 -->\n<g id=\"edge5\" class=\"edge\">\n<title>4&#45;&gt;5</title>\n<path fill=\"none\" stroke=\"black\" d=\"M256.47,-103.88C233.73,-93.5 209.39,-82.4 187.04,-72.2\"/>\n<polygon fill=\"black\" stroke=\"black\" points=\"188.47,-69.01 177.92,-68.04 185.57,-75.38 188.47,-69.01\"/>\n</g>\n<!-- 6 -->\n<g id=\"node7\" class=\"node\">\n<title>6</title>\n<path fill=\"#e7fadb\" stroke=\"black\" d=\"M450,-68C450,-68 241,-68 241,-68 235,-68 229,-62 229,-56 229,-56 229,-12 229,-12 229,-6 235,0 241,0 241,0 450,0 450,0 456,0 462,-6 462,-12 462,-12 462,-56 462,-56 462,-62 456,-68 450,-68\"/>\n<text text-anchor=\"start\" x=\"313.5\" y=\"-52.8\" font-family=\"Helvetica,sans-Serif\" font-size=\"14.00\">gini = 0.74</text>\n<text text-anchor=\"start\" x=\"296\" y=\"-37.8\" font-family=\"Helvetica,sans-Serif\" font-size=\"14.00\">samples = 0.1%</text>\n<text text-anchor=\"start\" x=\"237\" y=\"-22.8\" font-family=\"Helvetica,sans-Serif\" font-size=\"14.00\">value = [0.11, 0.38, 0.19, 0.07, 0.25]</text>\n<text text-anchor=\"start\" x=\"306\" y=\"-7.8\" font-family=\"Helvetica,sans-Serif\" font-size=\"14.00\">class = black</text>\n</g>\n<!-- 4&#45;&gt;6 -->\n<g id=\"edge6\" class=\"edge\">\n<title>4&#45;&gt;6</title>\n<path fill=\"none\" stroke=\"black\" d=\"M345.5,-103.73C345.5,-95.52 345.5,-86.86 345.5,-78.56\"/>\n<polygon fill=\"black\" stroke=\"black\" points=\"349,-78.3 345.5,-68.3 342,-78.3 349,-78.3\"/>\n</g>\n<!-- 8 -->\n<g id=\"node9\" class=\"node\">\n<title>8</title>\n<path fill=\"#f8cbef\" stroke=\"black\" d=\"M694.5,-68C694.5,-68 492.5,-68 492.5,-68 486.5,-68 480.5,-62 480.5,-56 480.5,-56 480.5,-12 480.5,-12 480.5,-6 486.5,0 492.5,0 492.5,0 694.5,0 694.5,0 700.5,0 706.5,-6 706.5,-12 706.5,-12 706.5,-56 706.5,-56 706.5,-62 700.5,-68 694.5,-68\"/>\n<text text-anchor=\"start\" x=\"561.5\" y=\"-52.8\" font-family=\"Helvetica,sans-Serif\" font-size=\"14.00\">gini = 0.75</text>\n<text text-anchor=\"start\" x=\"544\" y=\"-37.8\" font-family=\"Helvetica,sans-Serif\" font-size=\"14.00\">samples = 0.2%</text>\n<text text-anchor=\"start\" x=\"488.5\" y=\"-22.8\" font-family=\"Helvetica,sans-Serif\" font-size=\"14.00\">value = [0.18, 0.17, 0.16, 0.1, 0.39]</text>\n<text text-anchor=\"start\" x=\"554.5\" y=\"-7.8\" font-family=\"Helvetica,sans-Serif\" font-size=\"14.00\">class = other</text>\n</g>\n<!-- 7&#45;&gt;8 -->\n<g id=\"edge8\" class=\"edge\">\n<title>7&#45;&gt;8</title>\n<path fill=\"none\" stroke=\"black\" d=\"M668.82,-103.73C658.62,-94.42 647.79,-84.54 637.62,-75.26\"/>\n<polygon fill=\"black\" stroke=\"black\" points=\"639.74,-72.45 629.99,-68.3 635.02,-77.63 639.74,-72.45\"/>\n</g>\n<!-- 9 -->\n<g id=\"node10\" class=\"node\">\n<title>9</title>\n<path fill=\"#fce7f7\" stroke=\"black\" d=\"M930.5,-68C930.5,-68 736.5,-68 736.5,-68 730.5,-68 724.5,-62 724.5,-56 724.5,-56 724.5,-12 724.5,-12 724.5,-6 730.5,0 736.5,0 736.5,0 930.5,0 930.5,0 936.5,0 942.5,-6 942.5,-12 942.5,-12 942.5,-56 942.5,-56 942.5,-62 936.5,-68 930.5,-68\"/>\n<text text-anchor=\"start\" x=\"801.5\" y=\"-52.8\" font-family=\"Helvetica,sans-Serif\" font-size=\"14.00\">gini = 0.78</text>\n<text text-anchor=\"start\" x=\"784\" y=\"-37.8\" font-family=\"Helvetica,sans-Serif\" font-size=\"14.00\">samples = 5.1%</text>\n<text text-anchor=\"start\" x=\"732.5\" y=\"-22.8\" font-family=\"Helvetica,sans-Serif\" font-size=\"14.00\">value = [0.21, 0.2, 0.17, 0.11, 0.3]</text>\n<text text-anchor=\"start\" x=\"794.5\" y=\"-7.8\" font-family=\"Helvetica,sans-Serif\" font-size=\"14.00\">class = other</text>\n</g>\n<!-- 7&#45;&gt;9 -->\n<g id=\"edge9\" class=\"edge\">\n<title>7&#45;&gt;9</title>\n<path fill=\"none\" stroke=\"black\" d=\"M758.18,-103.73C768.38,-94.42 779.21,-84.54 789.38,-75.26\"/>\n<polygon fill=\"black\" stroke=\"black\" points=\"791.98,-77.63 797.01,-68.3 787.26,-72.45 791.98,-77.63\"/>\n</g>\n<!-- 11 -->\n<g id=\"node12\" class=\"node\">\n<title>11</title>\n<path fill=\"#fef8fd\" stroke=\"black\" d=\"M1426.5,-187C1426.5,-187 1224.5,-187 1224.5,-187 1218.5,-187 1212.5,-181 1212.5,-175 1212.5,-175 1212.5,-116 1212.5,-116 1212.5,-110 1218.5,-104 1224.5,-104 1224.5,-104 1426.5,-104 1426.5,-104 1432.5,-104 1438.5,-110 1438.5,-116 1438.5,-116 1438.5,-175 1438.5,-175 1438.5,-181 1432.5,-187 1426.5,-187\"/>\n<text text-anchor=\"start\" x=\"1268\" y=\"-171.8\" font-family=\"Helvetica,sans-Serif\" font-size=\"14.00\">subject_age ≤ 22.5</text>\n<text text-anchor=\"start\" x=\"1293.5\" y=\"-156.8\" font-family=\"Helvetica,sans-Serif\" font-size=\"14.00\">gini = 0.77</text>\n<text text-anchor=\"start\" x=\"1276\" y=\"-141.8\" font-family=\"Helvetica,sans-Serif\" font-size=\"14.00\">samples = 0.1%</text>\n<text text-anchor=\"start\" x=\"1220.5\" y=\"-126.8\" font-family=\"Helvetica,sans-Serif\" font-size=\"14.00\">value = [0.12, 0.25, 0.25, 0.1, 0.28]</text>\n<text text-anchor=\"start\" x=\"1286.5\" y=\"-111.8\" font-family=\"Helvetica,sans-Serif\" font-size=\"14.00\">class = other</text>\n</g>\n<!-- 10&#45;&gt;11 -->\n<g id=\"edge11\" class=\"edge\">\n<title>10&#45;&gt;11</title>\n<path fill=\"none\" stroke=\"black\" d=\"M1405.17,-222.91C1395.52,-213.65 1385.18,-203.73 1375.25,-194.21\"/>\n<polygon fill=\"black\" stroke=\"black\" points=\"1377.39,-191.42 1367.75,-187.02 1372.55,-196.47 1377.39,-191.42\"/>\n</g>\n<!-- 14 -->\n<g id=\"node15\" class=\"node\">\n<title>14</title>\n<path fill=\"#fad9f3\" stroke=\"black\" d=\"M1670.5,-187C1670.5,-187 1468.5,-187 1468.5,-187 1462.5,-187 1456.5,-181 1456.5,-175 1456.5,-175 1456.5,-116 1456.5,-116 1456.5,-110 1462.5,-104 1468.5,-104 1468.5,-104 1670.5,-104 1670.5,-104 1676.5,-104 1682.5,-110 1682.5,-116 1682.5,-116 1682.5,-175 1682.5,-175 1682.5,-181 1676.5,-187 1670.5,-187\"/>\n<text text-anchor=\"start\" x=\"1512\" y=\"-171.8\" font-family=\"Helvetica,sans-Serif\" font-size=\"14.00\">subject_age ≤ 22.5</text>\n<text text-anchor=\"start\" x=\"1537.5\" y=\"-156.8\" font-family=\"Helvetica,sans-Serif\" font-size=\"14.00\">gini = 0.77</text>\n<text text-anchor=\"start\" x=\"1520\" y=\"-141.8\" font-family=\"Helvetica,sans-Serif\" font-size=\"14.00\">samples = 4.0%</text>\n<text text-anchor=\"start\" x=\"1464.5\" y=\"-126.8\" font-family=\"Helvetica,sans-Serif\" font-size=\"14.00\">value = [0.2, 0.17, 0.15, 0.13, 0.35]</text>\n<text text-anchor=\"start\" x=\"1530.5\" y=\"-111.8\" font-family=\"Helvetica,sans-Serif\" font-size=\"14.00\">class = other</text>\n</g>\n<!-- 10&#45;&gt;14 -->\n<g id=\"edge14\" class=\"edge\">\n<title>10&#45;&gt;14</title>\n<path fill=\"none\" stroke=\"black\" d=\"M1489.83,-222.91C1499.48,-213.65 1509.82,-203.73 1519.75,-194.21\"/>\n<polygon fill=\"black\" stroke=\"black\" points=\"1522.45,-196.47 1527.25,-187.02 1517.61,-191.42 1522.45,-196.47\"/>\n</g>\n<!-- 12 -->\n<g id=\"node13\" class=\"node\">\n<title>12</title>\n<path fill=\"#fafefd\" stroke=\"black\" d=\"M1182,-68C1182,-68 973,-68 973,-68 967,-68 961,-62 961,-56 961,-56 961,-12 961,-12 961,-6 967,0 973,0 973,0 1182,0 1182,0 1188,0 1194,-6 1194,-12 1194,-12 1194,-56 1194,-56 1194,-62 1188,-68 1182,-68\"/>\n<text text-anchor=\"start\" x=\"1045.5\" y=\"-52.8\" font-family=\"Helvetica,sans-Serif\" font-size=\"14.00\">gini = 0.78</text>\n<text text-anchor=\"start\" x=\"1028\" y=\"-37.8\" font-family=\"Helvetica,sans-Serif\" font-size=\"14.00\">samples = 0.1%</text>\n<text text-anchor=\"start\" x=\"969\" y=\"-22.8\" font-family=\"Helvetica,sans-Serif\" font-size=\"14.00\">value = [0.15, 0.23, 0.27, 0.11, 0.24]</text>\n<text text-anchor=\"start\" x=\"1029\" y=\"-7.8\" font-family=\"Helvetica,sans-Serif\" font-size=\"14.00\">class = hispanic</text>\n</g>\n<!-- 11&#45;&gt;12 -->\n<g id=\"edge12\" class=\"edge\">\n<title>11&#45;&gt;12</title>\n<path fill=\"none\" stroke=\"black\" d=\"M1233.51,-103.88C1210,-93.5 1184.85,-82.4 1161.76,-72.2\"/>\n<polygon fill=\"black\" stroke=\"black\" points=\"1162.9,-68.88 1152.34,-68.04 1160.07,-75.28 1162.9,-68.88\"/>\n</g>\n<!-- 13 -->\n<g id=\"node14\" class=\"node\">\n<title>13</title>\n<path fill=\"#fef5fc\" stroke=\"black\" d=\"M1426.5,-68C1426.5,-68 1224.5,-68 1224.5,-68 1218.5,-68 1212.5,-62 1212.5,-56 1212.5,-56 1212.5,-12 1212.5,-12 1212.5,-6 1218.5,0 1224.5,0 1224.5,0 1426.5,0 1426.5,0 1432.5,0 1438.5,-6 1438.5,-12 1438.5,-12 1438.5,-56 1438.5,-56 1438.5,-62 1432.5,-68 1426.5,-68\"/>\n<text text-anchor=\"start\" x=\"1293.5\" y=\"-52.8\" font-family=\"Helvetica,sans-Serif\" font-size=\"14.00\">gini = 0.76</text>\n<text text-anchor=\"start\" x=\"1276\" y=\"-37.8\" font-family=\"Helvetica,sans-Serif\" font-size=\"14.00\">samples = 0.1%</text>\n<text text-anchor=\"start\" x=\"1220.5\" y=\"-22.8\" font-family=\"Helvetica,sans-Serif\" font-size=\"14.00\">value = [0.1, 0.27, 0.24, 0.09, 0.31]</text>\n<text text-anchor=\"start\" x=\"1286.5\" y=\"-7.8\" font-family=\"Helvetica,sans-Serif\" font-size=\"14.00\">class = other</text>\n</g>\n<!-- 11&#45;&gt;13 -->\n<g id=\"edge13\" class=\"edge\">\n<title>11&#45;&gt;13</title>\n<path fill=\"none\" stroke=\"black\" d=\"M1325.5,-103.73C1325.5,-95.52 1325.5,-86.86 1325.5,-78.56\"/>\n<polygon fill=\"black\" stroke=\"black\" points=\"1329,-78.3 1325.5,-68.3 1322,-78.3 1329,-78.3\"/>\n</g>\n<!-- 15 -->\n<g id=\"node16\" class=\"node\">\n<title>15</title>\n<path fill=\"#fadaf3\" stroke=\"black\" d=\"M1670.5,-68C1670.5,-68 1468.5,-68 1468.5,-68 1462.5,-68 1456.5,-62 1456.5,-56 1456.5,-56 1456.5,-12 1456.5,-12 1456.5,-6 1462.5,0 1468.5,0 1468.5,0 1670.5,0 1670.5,0 1676.5,0 1682.5,-6 1682.5,-12 1682.5,-12 1682.5,-56 1682.5,-56 1682.5,-62 1676.5,-68 1670.5,-68\"/>\n<text text-anchor=\"start\" x=\"1537.5\" y=\"-52.8\" font-family=\"Helvetica,sans-Serif\" font-size=\"14.00\">gini = 0.77</text>\n<text text-anchor=\"start\" x=\"1520\" y=\"-37.8\" font-family=\"Helvetica,sans-Serif\" font-size=\"14.00\">samples = 1.9%</text>\n<text text-anchor=\"start\" x=\"1464.5\" y=\"-22.8\" font-family=\"Helvetica,sans-Serif\" font-size=\"14.00\">value = [0.2, 0.17, 0.16, 0.12, 0.35]</text>\n<text text-anchor=\"start\" x=\"1530.5\" y=\"-7.8\" font-family=\"Helvetica,sans-Serif\" font-size=\"14.00\">class = other</text>\n</g>\n<!-- 14&#45;&gt;15 -->\n<g id=\"edge15\" class=\"edge\">\n<title>14&#45;&gt;15</title>\n<path fill=\"none\" stroke=\"black\" d=\"M1569.5,-103.73C1569.5,-95.52 1569.5,-86.86 1569.5,-78.56\"/>\n<polygon fill=\"black\" stroke=\"black\" points=\"1573,-78.3 1569.5,-68.3 1566,-78.3 1573,-78.3\"/>\n</g>\n<!-- 16 -->\n<g id=\"node17\" class=\"node\">\n<title>16</title>\n<path fill=\"#fad8f3\" stroke=\"black\" d=\"M1914.5,-68C1914.5,-68 1712.5,-68 1712.5,-68 1706.5,-68 1700.5,-62 1700.5,-56 1700.5,-56 1700.5,-12 1700.5,-12 1700.5,-6 1706.5,0 1712.5,0 1712.5,0 1914.5,0 1914.5,0 1920.5,0 1926.5,-6 1926.5,-12 1926.5,-12 1926.5,-56 1926.5,-56 1926.5,-62 1920.5,-68 1914.5,-68\"/>\n<text text-anchor=\"start\" x=\"1781.5\" y=\"-52.8\" font-family=\"Helvetica,sans-Serif\" font-size=\"14.00\">gini = 0.76</text>\n<text text-anchor=\"start\" x=\"1764\" y=\"-37.8\" font-family=\"Helvetica,sans-Serif\" font-size=\"14.00\">samples = 2.1%</text>\n<text text-anchor=\"start\" x=\"1708.5\" y=\"-22.8\" font-family=\"Helvetica,sans-Serif\" font-size=\"14.00\">value = [0.2, 0.16, 0.15, 0.13, 0.36]</text>\n<text text-anchor=\"start\" x=\"1774.5\" y=\"-7.8\" font-family=\"Helvetica,sans-Serif\" font-size=\"14.00\">class = other</text>\n</g>\n<!-- 14&#45;&gt;16 -->\n<g id=\"edge16\" class=\"edge\">\n<title>14&#45;&gt;16</title>\n<path fill=\"none\" stroke=\"black\" d=\"M1660.01,-103.88C1683.13,-93.5 1707.88,-82.4 1730.6,-72.2\"/>\n<polygon fill=\"black\" stroke=\"black\" points=\"1732.18,-75.33 1739.87,-68.04 1729.31,-68.94 1732.18,-75.33\"/>\n</g>\n<!-- 18 -->\n<g id=\"node19\" class=\"node\">\n<title>18</title>\n<path fill=\"#f7c4ec\" stroke=\"black\" d=\"M2841,-306C2841,-306 2632,-306 2632,-306 2626,-306 2620,-300 2620,-294 2620,-294 2620,-235 2620,-235 2620,-229 2626,-223 2632,-223 2632,-223 2841,-223 2841,-223 2847,-223 2853,-229 2853,-235 2853,-235 2853,-294 2853,-294 2853,-300 2847,-306 2841,-306\"/>\n<text text-anchor=\"start\" x=\"2693\" y=\"-290.8\" font-family=\"Helvetica,sans-Serif\" font-size=\"14.00\">outcome ≤ 0.5</text>\n<text text-anchor=\"start\" x=\"2704.5\" y=\"-275.8\" font-family=\"Helvetica,sans-Serif\" font-size=\"14.00\">gini = 0.73</text>\n<text text-anchor=\"start\" x=\"2683.5\" y=\"-260.8\" font-family=\"Helvetica,sans-Serif\" font-size=\"14.00\">samples = 55.5%</text>\n<text text-anchor=\"start\" x=\"2628\" y=\"-245.8\" font-family=\"Helvetica,sans-Serif\" font-size=\"14.00\">value = [0.19, 0.13, 0.12, 0.13, 0.43]</text>\n<text text-anchor=\"start\" x=\"2697.5\" y=\"-230.8\" font-family=\"Helvetica,sans-Serif\" font-size=\"14.00\">class = other</text>\n</g>\n<!-- 17&#45;&gt;18 -->\n<g id=\"edge18\" class=\"edge\">\n<title>17&#45;&gt;18</title>\n<path fill=\"none\" stroke=\"black\" d=\"M2818.13,-341.91C2808.15,-332.56 2797.44,-322.54 2787.17,-312.93\"/>\n<polygon fill=\"black\" stroke=\"black\" points=\"2789.48,-310.3 2779.79,-306.02 2784.7,-315.41 2789.48,-310.3\"/>\n</g>\n<!-- 25 -->\n<g id=\"node26\" class=\"node\">\n<title>25</title>\n<path fill=\"#f6bae9\" stroke=\"black\" d=\"M3208.5,-306C3208.5,-306 3014.5,-306 3014.5,-306 3008.5,-306 3002.5,-300 3002.5,-294 3002.5,-294 3002.5,-235 3002.5,-235 3002.5,-229 3008.5,-223 3014.5,-223 3014.5,-223 3208.5,-223 3208.5,-223 3214.5,-223 3220.5,-229 3220.5,-235 3220.5,-235 3220.5,-294 3220.5,-294 3220.5,-300 3214.5,-306 3208.5,-306\"/>\n<text text-anchor=\"start\" x=\"3054\" y=\"-290.8\" font-family=\"Helvetica,sans-Serif\" font-size=\"14.00\">subject_age ≤ 60.5</text>\n<text text-anchor=\"start\" x=\"3079.5\" y=\"-275.8\" font-family=\"Helvetica,sans-Serif\" font-size=\"14.00\">gini = 0.68</text>\n<text text-anchor=\"start\" x=\"3062\" y=\"-260.8\" font-family=\"Helvetica,sans-Serif\" font-size=\"14.00\">samples = 7.3%</text>\n<text text-anchor=\"start\" x=\"3010.5\" y=\"-245.8\" font-family=\"Helvetica,sans-Serif\" font-size=\"14.00\">value = [0.23, 0.11, 0.07, 0.1, 0.5]</text>\n<text text-anchor=\"start\" x=\"3072.5\" y=\"-230.8\" font-family=\"Helvetica,sans-Serif\" font-size=\"14.00\">class = other</text>\n</g>\n<!-- 17&#45;&gt;25 -->\n<g id=\"edge25\" class=\"edge\">\n<title>17&#45;&gt;25</title>\n<path fill=\"none\" stroke=\"black\" d=\"M2948.24,-341.91C2970.05,-331.7 2993.59,-320.68 3015.81,-310.28\"/>\n<polygon fill=\"black\" stroke=\"black\" points=\"3017.34,-313.43 3024.92,-306.02 3014.38,-307.09 3017.34,-313.43\"/>\n</g>\n<!-- 19 -->\n<g id=\"node20\" class=\"node\">\n<title>19</title>\n<path fill=\"#fdecf9\" stroke=\"black\" d=\"M2398.5,-187C2398.5,-187 2204.5,-187 2204.5,-187 2198.5,-187 2192.5,-181 2192.5,-175 2192.5,-175 2192.5,-116 2192.5,-116 2192.5,-110 2198.5,-104 2204.5,-104 2204.5,-104 2398.5,-104 2398.5,-104 2404.5,-104 2410.5,-110 2410.5,-116 2410.5,-116 2410.5,-175 2410.5,-175 2410.5,-181 2404.5,-187 2398.5,-187\"/>\n<text text-anchor=\"start\" x=\"2244\" y=\"-171.8\" font-family=\"Helvetica,sans-Serif\" font-size=\"14.00\">subject_age ≤ 33.5</text>\n<text text-anchor=\"start\" x=\"2269.5\" y=\"-156.8\" font-family=\"Helvetica,sans-Serif\" font-size=\"14.00\">gini = 0.74</text>\n<text text-anchor=\"start\" x=\"2252\" y=\"-141.8\" font-family=\"Helvetica,sans-Serif\" font-size=\"14.00\">samples = 1.0%</text>\n<text text-anchor=\"start\" x=\"2200.5\" y=\"-126.8\" font-family=\"Helvetica,sans-Serif\" font-size=\"14.00\">value = [0.1, 0.28, 0.2, 0.08, 0.35]</text>\n<text text-anchor=\"start\" x=\"2262.5\" y=\"-111.8\" font-family=\"Helvetica,sans-Serif\" font-size=\"14.00\">class = other</text>\n</g>\n<!-- 18&#45;&gt;19 -->\n<g id=\"edge19\" class=\"edge\">\n<title>18&#45;&gt;19</title>\n<path fill=\"none\" stroke=\"black\" d=\"M2619.93,-232.15C2558.18,-215.54 2482.48,-195.18 2420.38,-178.48\"/>\n<polygon fill=\"black\" stroke=\"black\" points=\"2421.1,-175.05 2410.54,-175.83 2419.29,-181.8 2421.1,-175.05\"/>\n</g>\n<!-- 22 -->\n<g id=\"node23\" class=\"node\">\n<title>22</title>\n<path fill=\"#f7c4ec\" stroke=\"black\" d=\"M2841,-187C2841,-187 2632,-187 2632,-187 2626,-187 2620,-181 2620,-175 2620,-175 2620,-116 2620,-116 2620,-110 2626,-104 2632,-104 2632,-104 2841,-104 2841,-104 2847,-104 2853,-110 2853,-116 2853,-116 2853,-175 2853,-175 2853,-181 2847,-187 2841,-187\"/>\n<text text-anchor=\"start\" x=\"2679\" y=\"-171.8\" font-family=\"Helvetica,sans-Serif\" font-size=\"14.00\">subject_age ≤ 44.5</text>\n<text text-anchor=\"start\" x=\"2704.5\" y=\"-156.8\" font-family=\"Helvetica,sans-Serif\" font-size=\"14.00\">gini = 0.73</text>\n<text text-anchor=\"start\" x=\"2683.5\" y=\"-141.8\" font-family=\"Helvetica,sans-Serif\" font-size=\"14.00\">samples = 54.5%</text>\n<text text-anchor=\"start\" x=\"2628\" y=\"-126.8\" font-family=\"Helvetica,sans-Serif\" font-size=\"14.00\">value = [0.19, 0.13, 0.12, 0.13, 0.43]</text>\n<text text-anchor=\"start\" x=\"2697.5\" y=\"-111.8\" font-family=\"Helvetica,sans-Serif\" font-size=\"14.00\">class = other</text>\n</g>\n<!-- 18&#45;&gt;22 -->\n<g id=\"edge22\" class=\"edge\">\n<title>18&#45;&gt;22</title>\n<path fill=\"none\" stroke=\"black\" d=\"M2736.5,-222.91C2736.5,-214.65 2736.5,-205.86 2736.5,-197.3\"/>\n<polygon fill=\"black\" stroke=\"black\" points=\"2740,-197.02 2736.5,-187.02 2733,-197.02 2740,-197.02\"/>\n</g>\n<!-- 20 -->\n<g id=\"node21\" class=\"node\">\n<title>20</title>\n<path fill=\"#fef9fd\" stroke=\"black\" d=\"M2158.5,-68C2158.5,-68 1956.5,-68 1956.5,-68 1950.5,-68 1944.5,-62 1944.5,-56 1944.5,-56 1944.5,-12 1944.5,-12 1944.5,-6 1950.5,0 1956.5,0 1956.5,0 2158.5,0 2158.5,0 2164.5,0 2170.5,-6 2170.5,-12 2170.5,-12 2170.5,-56 2170.5,-56 2170.5,-62 2164.5,-68 2158.5,-68\"/>\n<text text-anchor=\"start\" x=\"2025.5\" y=\"-52.8\" font-family=\"Helvetica,sans-Serif\" font-size=\"14.00\">gini = 0.76</text>\n<text text-anchor=\"start\" x=\"2008\" y=\"-37.8\" font-family=\"Helvetica,sans-Serif\" font-size=\"14.00\">samples = 0.5%</text>\n<text text-anchor=\"start\" x=\"1952.5\" y=\"-22.8\" font-family=\"Helvetica,sans-Serif\" font-size=\"14.00\">value = [0.09, 0.28, 0.25, 0.08, 0.3]</text>\n<text text-anchor=\"start\" x=\"2018.5\" y=\"-7.8\" font-family=\"Helvetica,sans-Serif\" font-size=\"14.00\">class = other</text>\n</g>\n<!-- 19&#45;&gt;20 -->\n<g id=\"edge20\" class=\"edge\">\n<title>19&#45;&gt;20</title>\n<path fill=\"none\" stroke=\"black\" d=\"M2210.99,-103.88C2187.87,-93.5 2163.12,-82.4 2140.4,-72.2\"/>\n<polygon fill=\"black\" stroke=\"black\" points=\"2141.69,-68.94 2131.13,-68.04 2138.82,-75.33 2141.69,-68.94\"/>\n</g>\n<!-- 21 -->\n<g id=\"node22\" class=\"node\">\n<title>21</title>\n<path fill=\"#fbe1f5\" stroke=\"black\" d=\"M2402.5,-68C2402.5,-68 2200.5,-68 2200.5,-68 2194.5,-68 2188.5,-62 2188.5,-56 2188.5,-56 2188.5,-12 2188.5,-12 2188.5,-6 2194.5,0 2200.5,0 2200.5,0 2402.5,0 2402.5,0 2408.5,0 2414.5,-6 2414.5,-12 2414.5,-12 2414.5,-56 2414.5,-56 2414.5,-62 2408.5,-68 2402.5,-68\"/>\n<text text-anchor=\"start\" x=\"2269.5\" y=\"-52.8\" font-family=\"Helvetica,sans-Serif\" font-size=\"14.00\">gini = 0.73</text>\n<text text-anchor=\"start\" x=\"2252\" y=\"-37.8\" font-family=\"Helvetica,sans-Serif\" font-size=\"14.00\">samples = 0.5%</text>\n<text text-anchor=\"start\" x=\"2196.5\" y=\"-22.8\" font-family=\"Helvetica,sans-Serif\" font-size=\"14.00\">value = [0.1, 0.28, 0.15, 0.07, 0.39]</text>\n<text text-anchor=\"start\" x=\"2262.5\" y=\"-7.8\" font-family=\"Helvetica,sans-Serif\" font-size=\"14.00\">class = other</text>\n</g>\n<!-- 19&#45;&gt;21 -->\n<g id=\"edge21\" class=\"edge\">\n<title>19&#45;&gt;21</title>\n<path fill=\"none\" stroke=\"black\" d=\"M2301.5,-103.73C2301.5,-95.52 2301.5,-86.86 2301.5,-78.56\"/>\n<polygon fill=\"black\" stroke=\"black\" points=\"2305,-78.3 2301.5,-68.3 2298,-78.3 2305,-78.3\"/>\n</g>\n<!-- 23 -->\n<g id=\"node24\" class=\"node\">\n<title>23</title>\n<path fill=\"#f7c2ec\" stroke=\"black\" d=\"M2654,-68C2654,-68 2445,-68 2445,-68 2439,-68 2433,-62 2433,-56 2433,-56 2433,-12 2433,-12 2433,-6 2439,0 2445,0 2445,0 2654,0 2654,0 2660,0 2666,-6 2666,-12 2666,-12 2666,-56 2666,-56 2666,-62 2660,-68 2654,-68\"/>\n<text text-anchor=\"start\" x=\"2517.5\" y=\"-52.8\" font-family=\"Helvetica,sans-Serif\" font-size=\"14.00\">gini = 0.73</text>\n<text text-anchor=\"start\" x=\"2496.5\" y=\"-37.8\" font-family=\"Helvetica,sans-Serif\" font-size=\"14.00\">samples = 39.5%</text>\n<text text-anchor=\"start\" x=\"2441\" y=\"-22.8\" font-family=\"Helvetica,sans-Serif\" font-size=\"14.00\">value = [0.18, 0.13, 0.13, 0.13, 0.43]</text>\n<text text-anchor=\"start\" x=\"2510.5\" y=\"-7.8\" font-family=\"Helvetica,sans-Serif\" font-size=\"14.00\">class = other</text>\n</g>\n<!-- 22&#45;&gt;23 -->\n<g id=\"edge23\" class=\"edge\">\n<title>22&#45;&gt;23</title>\n<path fill=\"none\" stroke=\"black\" d=\"M2667.13,-103.88C2649.96,-93.83 2631.63,-83.09 2614.66,-73.16\"/>\n<polygon fill=\"black\" stroke=\"black\" points=\"2616.33,-70.08 2605.93,-68.04 2612.79,-76.12 2616.33,-70.08\"/>\n</g>\n<!-- 24 -->\n<g id=\"node25\" class=\"node\">\n<title>24</title>\n<path fill=\"#f8c8ee\" stroke=\"black\" d=\"M2905,-68C2905,-68 2696,-68 2696,-68 2690,-68 2684,-62 2684,-56 2684,-56 2684,-12 2684,-12 2684,-6 2690,0 2696,0 2696,0 2905,0 2905,0 2911,0 2917,-6 2917,-12 2917,-12 2917,-56 2917,-56 2917,-62 2911,-68 2905,-68\"/>\n<text text-anchor=\"start\" x=\"2768.5\" y=\"-52.8\" font-family=\"Helvetica,sans-Serif\" font-size=\"14.00\">gini = 0.72</text>\n<text text-anchor=\"start\" x=\"2747.5\" y=\"-37.8\" font-family=\"Helvetica,sans-Serif\" font-size=\"14.00\">samples = 15.0%</text>\n<text text-anchor=\"start\" x=\"2692\" y=\"-22.8\" font-family=\"Helvetica,sans-Serif\" font-size=\"14.00\">value = [0.22, 0.12, 0.11, 0.12, 0.43]</text>\n<text text-anchor=\"start\" x=\"2761.5\" y=\"-7.8\" font-family=\"Helvetica,sans-Serif\" font-size=\"14.00\">class = other</text>\n</g>\n<!-- 22&#45;&gt;24 -->\n<g id=\"edge24\" class=\"edge\">\n<title>22&#45;&gt;24</title>\n<path fill=\"none\" stroke=\"black\" d=\"M2760.33,-103.73C2765.4,-95.06 2770.75,-85.9 2775.85,-77.18\"/>\n<polygon fill=\"black\" stroke=\"black\" points=\"2779.01,-78.7 2781.04,-68.3 2772.97,-75.17 2779.01,-78.7\"/>\n</g>\n<!-- 26 -->\n<g id=\"node27\" class=\"node\">\n<title>26</title>\n<path fill=\"#f7c5ed\" stroke=\"black\" d=\"M3216,-187C3216,-187 3007,-187 3007,-187 3001,-187 2995,-181 2995,-175 2995,-175 2995,-116 2995,-116 2995,-110 3001,-104 3007,-104 3007,-104 3216,-104 3216,-104 3222,-104 3228,-110 3228,-116 3228,-116 3228,-175 3228,-175 3228,-181 3222,-187 3216,-187\"/>\n<text text-anchor=\"start\" x=\"3068\" y=\"-171.8\" font-family=\"Helvetica,sans-Serif\" font-size=\"14.00\">outcome ≤ 0.5</text>\n<text text-anchor=\"start\" x=\"3083.5\" y=\"-156.8\" font-family=\"Helvetica,sans-Serif\" font-size=\"14.00\">gini = 0.7</text>\n<text text-anchor=\"start\" x=\"3062\" y=\"-141.8\" font-family=\"Helvetica,sans-Serif\" font-size=\"14.00\">samples = 2.2%</text>\n<text text-anchor=\"start\" x=\"3003\" y=\"-126.8\" font-family=\"Helvetica,sans-Serif\" font-size=\"14.00\">value = [0.24, 0.12, 0.08, 0.11, 0.46]</text>\n<text text-anchor=\"start\" x=\"3072.5\" y=\"-111.8\" font-family=\"Helvetica,sans-Serif\" font-size=\"14.00\">class = other</text>\n</g>\n<!-- 25&#45;&gt;26 -->\n<g id=\"edge26\" class=\"edge\">\n<title>25&#45;&gt;26</title>\n<path fill=\"none\" stroke=\"black\" d=\"M3111.5,-222.91C3111.5,-214.65 3111.5,-205.86 3111.5,-197.3\"/>\n<polygon fill=\"black\" stroke=\"black\" points=\"3115,-197.02 3111.5,-187.02 3108,-197.02 3115,-197.02\"/>\n</g>\n<!-- 29 -->\n<g id=\"node30\" class=\"node\">\n<title>29</title>\n<path fill=\"#f5b6e8\" stroke=\"black\" d=\"M3649,-187C3649,-187 3440,-187 3440,-187 3434,-187 3428,-181 3428,-175 3428,-175 3428,-116 3428,-116 3428,-110 3434,-104 3440,-104 3440,-104 3649,-104 3649,-104 3655,-104 3661,-110 3661,-116 3661,-116 3661,-175 3661,-175 3661,-181 3655,-187 3649,-187\"/>\n<text text-anchor=\"start\" x=\"3487\" y=\"-171.8\" font-family=\"Helvetica,sans-Serif\" font-size=\"14.00\">subject_age ≤ 79.5</text>\n<text text-anchor=\"start\" x=\"3512.5\" y=\"-156.8\" font-family=\"Helvetica,sans-Serif\" font-size=\"14.00\">gini = 0.66</text>\n<text text-anchor=\"start\" x=\"3495\" y=\"-141.8\" font-family=\"Helvetica,sans-Serif\" font-size=\"14.00\">samples = 5.0%</text>\n<text text-anchor=\"start\" x=\"3436\" y=\"-126.8\" font-family=\"Helvetica,sans-Serif\" font-size=\"14.00\">value = [0.22, 0.11, 0.07, 0.09, 0.51]</text>\n<text text-anchor=\"start\" x=\"3505.5\" y=\"-111.8\" font-family=\"Helvetica,sans-Serif\" font-size=\"14.00\">class = other</text>\n</g>\n<!-- 25&#45;&gt;29 -->\n<g id=\"edge29\" class=\"edge\">\n<title>25&#45;&gt;29</title>\n<path fill=\"none\" stroke=\"black\" d=\"M3220.76,-233.98C3280.69,-217.78 3355.29,-197.63 3417.76,-180.75\"/>\n<polygon fill=\"black\" stroke=\"black\" points=\"3418.94,-184.05 3427.68,-178.07 3417.11,-177.3 3418.94,-184.05\"/>\n</g>\n<!-- 27 -->\n<g id=\"node28\" class=\"node\">\n<title>27</title>\n<path fill=\"#f5b3e7\" stroke=\"black\" d=\"M3149.5,-68C3149.5,-68 2947.5,-68 2947.5,-68 2941.5,-68 2935.5,-62 2935.5,-56 2935.5,-56 2935.5,-12 2935.5,-12 2935.5,-6 2941.5,0 2947.5,0 2947.5,0 3149.5,0 3149.5,0 3155.5,0 3161.5,-6 3161.5,-12 3161.5,-12 3161.5,-56 3161.5,-56 3161.5,-62 3155.5,-68 3149.5,-68\"/>\n<text text-anchor=\"start\" x=\"3016.5\" y=\"-52.8\" font-family=\"Helvetica,sans-Serif\" font-size=\"14.00\">gini = 0.67</text>\n<text text-anchor=\"start\" x=\"2999\" y=\"-37.8\" font-family=\"Helvetica,sans-Serif\" font-size=\"14.00\">samples = 0.0%</text>\n<text text-anchor=\"start\" x=\"2943.5\" y=\"-22.8\" font-family=\"Helvetica,sans-Serif\" font-size=\"14.00\">value = [0.17, 0.19, 0.11, 0.03, 0.5]</text>\n<text text-anchor=\"start\" x=\"3009.5\" y=\"-7.8\" font-family=\"Helvetica,sans-Serif\" font-size=\"14.00\">class = other</text>\n</g>\n<!-- 26&#45;&gt;27 -->\n<g id=\"edge27\" class=\"edge\">\n<title>26&#45;&gt;27</title>\n<path fill=\"none\" stroke=\"black\" d=\"M3088.04,-103.73C3083.06,-95.06 3077.78,-85.9 3072.77,-77.18\"/>\n<polygon fill=\"black\" stroke=\"black\" points=\"3075.68,-75.22 3067.66,-68.3 3069.61,-78.71 3075.68,-75.22\"/>\n</g>\n<!-- 28 -->\n<g id=\"node29\" class=\"node\">\n<title>28</title>\n<path fill=\"#f7c6ed\" stroke=\"black\" d=\"M3401,-68C3401,-68 3192,-68 3192,-68 3186,-68 3180,-62 3180,-56 3180,-56 3180,-12 3180,-12 3180,-6 3186,0 3192,0 3192,0 3401,0 3401,0 3407,0 3413,-6 3413,-12 3413,-12 3413,-56 3413,-56 3413,-62 3407,-68 3401,-68\"/>\n<text text-anchor=\"start\" x=\"3268.5\" y=\"-52.8\" font-family=\"Helvetica,sans-Serif\" font-size=\"14.00\">gini = 0.7</text>\n<text text-anchor=\"start\" x=\"3247\" y=\"-37.8\" font-family=\"Helvetica,sans-Serif\" font-size=\"14.00\">samples = 2.2%</text>\n<text text-anchor=\"start\" x=\"3188\" y=\"-22.8\" font-family=\"Helvetica,sans-Serif\" font-size=\"14.00\">value = [0.24, 0.12, 0.08, 0.11, 0.46]</text>\n<text text-anchor=\"start\" x=\"3257.5\" y=\"-7.8\" font-family=\"Helvetica,sans-Serif\" font-size=\"14.00\">class = other</text>\n</g>\n<!-- 26&#45;&gt;28 -->\n<g id=\"edge28\" class=\"edge\">\n<title>26&#45;&gt;28</title>\n<path fill=\"none\" stroke=\"black\" d=\"M3180.12,-103.88C3197.11,-93.83 3215.25,-83.09 3232.03,-73.16\"/>\n<polygon fill=\"black\" stroke=\"black\" points=\"3233.85,-76.15 3240.67,-68.04 3230.29,-70.12 3233.85,-76.15\"/>\n</g>\n<!-- 30 -->\n<g id=\"node31\" class=\"node\">\n<title>30</title>\n<path fill=\"#f6b7e8\" stroke=\"black\" d=\"M3645.5,-68C3645.5,-68 3443.5,-68 3443.5,-68 3437.5,-68 3431.5,-62 3431.5,-56 3431.5,-56 3431.5,-12 3431.5,-12 3431.5,-6 3437.5,0 3443.5,0 3443.5,0 3645.5,0 3645.5,0 3651.5,0 3657.5,-6 3657.5,-12 3657.5,-12 3657.5,-56 3657.5,-56 3657.5,-62 3651.5,-68 3645.5,-68\"/>\n<text text-anchor=\"start\" x=\"3512.5\" y=\"-52.8\" font-family=\"Helvetica,sans-Serif\" font-size=\"14.00\">gini = 0.67</text>\n<text text-anchor=\"start\" x=\"3495\" y=\"-37.8\" font-family=\"Helvetica,sans-Serif\" font-size=\"14.00\">samples = 4.8%</text>\n<text text-anchor=\"start\" x=\"3439.5\" y=\"-22.8\" font-family=\"Helvetica,sans-Serif\" font-size=\"14.00\">value = [0.22, 0.11, 0.07, 0.1, 0.51]</text>\n<text text-anchor=\"start\" x=\"3505.5\" y=\"-7.8\" font-family=\"Helvetica,sans-Serif\" font-size=\"14.00\">class = other</text>\n</g>\n<!-- 29&#45;&gt;30 -->\n<g id=\"edge30\" class=\"edge\">\n<title>29&#45;&gt;30</title>\n<path fill=\"none\" stroke=\"black\" d=\"M3544.5,-103.73C3544.5,-95.52 3544.5,-86.86 3544.5,-78.56\"/>\n<polygon fill=\"black\" stroke=\"black\" points=\"3548,-78.3 3544.5,-68.3 3541,-78.3 3548,-78.3\"/>\n</g>\n<!-- 31 -->\n<g id=\"node32\" class=\"node\">\n<title>31</title>\n<path fill=\"#f29fe0\" stroke=\"black\" d=\"M3889.5,-68C3889.5,-68 3687.5,-68 3687.5,-68 3681.5,-68 3675.5,-62 3675.5,-56 3675.5,-56 3675.5,-12 3675.5,-12 3675.5,-6 3681.5,0 3687.5,0 3687.5,0 3889.5,0 3889.5,0 3895.5,0 3901.5,-6 3901.5,-12 3901.5,-12 3901.5,-56 3901.5,-56 3901.5,-62 3895.5,-68 3889.5,-68\"/>\n<text text-anchor=\"start\" x=\"3756.5\" y=\"-52.8\" font-family=\"Helvetica,sans-Serif\" font-size=\"14.00\">gini = 0.59</text>\n<text text-anchor=\"start\" x=\"3739\" y=\"-37.8\" font-family=\"Helvetica,sans-Serif\" font-size=\"14.00\">samples = 0.3%</text>\n<text text-anchor=\"start\" x=\"3683.5\" y=\"-22.8\" font-family=\"Helvetica,sans-Serif\" font-size=\"14.00\">value = [0.21, 0.1, 0.04, 0.06, 0.59]</text>\n<text text-anchor=\"start\" x=\"3749.5\" y=\"-7.8\" font-family=\"Helvetica,sans-Serif\" font-size=\"14.00\">class = other</text>\n</g>\n<!-- 29&#45;&gt;31 -->\n<g id=\"edge31\" class=\"edge\">\n<title>29&#45;&gt;31</title>\n<path fill=\"none\" stroke=\"black\" d=\"M3635.01,-103.88C3658.13,-93.5 3682.88,-82.4 3705.6,-72.2\"/>\n<polygon fill=\"black\" stroke=\"black\" points=\"3707.18,-75.33 3714.87,-68.04 3704.31,-68.94 3707.18,-75.33\"/>\n</g>\n<!-- 33 -->\n<g id=\"node34\" class=\"node\">\n<title>33</title>\n<path fill=\"#fef8fd\" stroke=\"black\" d=\"M4862.5,-425C4862.5,-425 4660.5,-425 4660.5,-425 4654.5,-425 4648.5,-419 4648.5,-413 4648.5,-413 4648.5,-354 4648.5,-354 4648.5,-348 4654.5,-342 4660.5,-342 4660.5,-342 4862.5,-342 4862.5,-342 4868.5,-342 4874.5,-348 4874.5,-354 4874.5,-354 4874.5,-413 4874.5,-413 4874.5,-419 4868.5,-425 4862.5,-425\"/>\n<text text-anchor=\"start\" x=\"4704\" y=\"-409.8\" font-family=\"Helvetica,sans-Serif\" font-size=\"14.00\">subject_age ≤ 22.5</text>\n<text text-anchor=\"start\" x=\"4729.5\" y=\"-394.8\" font-family=\"Helvetica,sans-Serif\" font-size=\"14.00\">gini = 0.76</text>\n<text text-anchor=\"start\" x=\"4712\" y=\"-379.8\" font-family=\"Helvetica,sans-Serif\" font-size=\"14.00\">samples = 7.6%</text>\n<text text-anchor=\"start\" x=\"4656.5\" y=\"-364.8\" font-family=\"Helvetica,sans-Serif\" font-size=\"14.00\">value = [0.13, 0.29, 0.16, 0.1, 0.32]</text>\n<text text-anchor=\"start\" x=\"4722.5\" y=\"-349.8\" font-family=\"Helvetica,sans-Serif\" font-size=\"14.00\">class = other</text>\n</g>\n<!-- 32&#45;&gt;33 -->\n<g id=\"edge33\" class=\"edge\">\n<title>32&#45;&gt;33</title>\n<path fill=\"none\" stroke=\"black\" d=\"M4761.5,-460.91C4761.5,-452.65 4761.5,-443.86 4761.5,-435.3\"/>\n<polygon fill=\"black\" stroke=\"black\" points=\"4765,-435.02 4761.5,-425.02 4758,-435.02 4765,-435.02\"/>\n</g>\n<!-- 46 -->\n<g id=\"node47\" class=\"node\">\n<title>46</title>\n<path fill=\"#f8c9ee\" stroke=\"black\" d=\"M5953,-425C5953,-425 5744,-425 5744,-425 5738,-425 5732,-419 5732,-413 5732,-413 5732,-354 5732,-354 5732,-348 5738,-342 5744,-342 5744,-342 5953,-342 5953,-342 5959,-342 5965,-348 5965,-354 5965,-354 5965,-413 5965,-413 5965,-419 5959,-425 5953,-425\"/>\n<text text-anchor=\"start\" x=\"5791\" y=\"-409.8\" font-family=\"Helvetica,sans-Serif\" font-size=\"14.00\">subject_age ≤ 56.5</text>\n<text text-anchor=\"start\" x=\"5816.5\" y=\"-394.8\" font-family=\"Helvetica,sans-Serif\" font-size=\"14.00\">gini = 0.72</text>\n<text text-anchor=\"start\" x=\"5795.5\" y=\"-379.8\" font-family=\"Helvetica,sans-Serif\" font-size=\"14.00\">samples = 20.0%</text>\n<text text-anchor=\"start\" x=\"5740\" y=\"-364.8\" font-family=\"Helvetica,sans-Serif\" font-size=\"14.00\">value = [0.13, 0.22, 0.11, 0.09, 0.44]</text>\n<text text-anchor=\"start\" x=\"5809.5\" y=\"-349.8\" font-family=\"Helvetica,sans-Serif\" font-size=\"14.00\">class = other</text>\n</g>\n<!-- 32&#45;&gt;46 -->\n<g id=\"edge46\" class=\"edge\">\n<title>32&#45;&gt;46</title>\n<path fill=\"none\" stroke=\"black\" d=\"M4878.09,-488.95C5083.75,-466.81 5509.3,-421.01 5721.88,-398.13\"/>\n<polygon fill=\"black\" stroke=\"black\" points=\"5722.27,-401.61 5731.84,-397.06 5721.53,-394.65 5722.27,-401.61\"/>\n</g>\n<!-- 34 -->\n<g id=\"node35\" class=\"node\">\n<title>34</title>\n<path fill=\"#f7fdf2\" stroke=\"black\" d=\"M4740.5,-306C4740.5,-306 4538.5,-306 4538.5,-306 4532.5,-306 4526.5,-300 4526.5,-294 4526.5,-294 4526.5,-235 4526.5,-235 4526.5,-229 4532.5,-223 4538.5,-223 4538.5,-223 4740.5,-223 4740.5,-223 4746.5,-223 4752.5,-229 4752.5,-235 4752.5,-235 4752.5,-294 4752.5,-294 4752.5,-300 4746.5,-306 4740.5,-306\"/>\n<text text-anchor=\"start\" x=\"4582\" y=\"-290.8\" font-family=\"Helvetica,sans-Serif\" font-size=\"14.00\">subject_age ≤ 20.5</text>\n<text text-anchor=\"start\" x=\"4607.5\" y=\"-275.8\" font-family=\"Helvetica,sans-Serif\" font-size=\"14.00\">gini = 0.76</text>\n<text text-anchor=\"start\" x=\"4590\" y=\"-260.8\" font-family=\"Helvetica,sans-Serif\" font-size=\"14.00\">samples = 3.5%</text>\n<text text-anchor=\"start\" x=\"4534.5\" y=\"-245.8\" font-family=\"Helvetica,sans-Serif\" font-size=\"14.00\">value = [0.12, 0.33, 0.17, 0.1, 0.28]</text>\n<text text-anchor=\"start\" x=\"4600\" y=\"-230.8\" font-family=\"Helvetica,sans-Serif\" font-size=\"14.00\">class = black</text>\n</g>\n<!-- 33&#45;&gt;34 -->\n<g id=\"edge34\" class=\"edge\">\n<title>33&#45;&gt;34</title>\n<path fill=\"none\" stroke=\"black\" d=\"M4719.17,-341.91C4709.52,-332.65 4699.18,-322.73 4689.25,-313.21\"/>\n<polygon fill=\"black\" stroke=\"black\" points=\"4691.39,-310.42 4681.75,-306.02 4686.55,-315.47 4691.39,-310.42\"/>\n</g>\n<!-- 41 -->\n<g id=\"node42\" class=\"node\">\n<title>41</title>\n<path fill=\"#fce8f8\" stroke=\"black\" d=\"M5095.5,-306C5095.5,-306 4893.5,-306 4893.5,-306 4887.5,-306 4881.5,-300 4881.5,-294 4881.5,-294 4881.5,-235 4881.5,-235 4881.5,-229 4887.5,-223 4893.5,-223 4893.5,-223 5095.5,-223 5095.5,-223 5101.5,-223 5107.5,-229 5107.5,-235 5107.5,-235 5107.5,-294 5107.5,-294 5107.5,-300 5101.5,-306 5095.5,-306\"/>\n<text text-anchor=\"start\" x=\"4937\" y=\"-290.8\" font-family=\"Helvetica,sans-Serif\" font-size=\"14.00\">subject_age ≤ 25.5</text>\n<text text-anchor=\"start\" x=\"4962.5\" y=\"-275.8\" font-family=\"Helvetica,sans-Serif\" font-size=\"14.00\">gini = 0.75</text>\n<text text-anchor=\"start\" x=\"4945\" y=\"-260.8\" font-family=\"Helvetica,sans-Serif\" font-size=\"14.00\">samples = 4.1%</text>\n<text text-anchor=\"start\" x=\"4889.5\" y=\"-245.8\" font-family=\"Helvetica,sans-Serif\" font-size=\"14.00\">value = [0.13, 0.27, 0.15, 0.1, 0.35]</text>\n<text text-anchor=\"start\" x=\"4955.5\" y=\"-230.8\" font-family=\"Helvetica,sans-Serif\" font-size=\"14.00\">class = other</text>\n</g>\n<!-- 33&#45;&gt;41 -->\n<g id=\"edge41\" class=\"edge\">\n<title>33&#45;&gt;41</title>\n<path fill=\"none\" stroke=\"black\" d=\"M4842.34,-341.91C4862.49,-331.79 4884.22,-320.88 4904.77,-310.56\"/>\n<polygon fill=\"black\" stroke=\"black\" points=\"4906.44,-313.64 4913.8,-306.02 4903.3,-307.38 4906.44,-313.64\"/>\n</g>\n<!-- 35 -->\n<g id=\"node36\" class=\"node\">\n<title>35</title>\n<path fill=\"#f1fcea\" stroke=\"black\" d=\"M4389,-187C4389,-187 4180,-187 4180,-187 4174,-187 4168,-181 4168,-175 4168,-175 4168,-116 4168,-116 4168,-110 4174,-104 4180,-104 4180,-104 4389,-104 4389,-104 4395,-104 4401,-110 4401,-116 4401,-116 4401,-175 4401,-175 4401,-181 4395,-187 4389,-187\"/>\n<text text-anchor=\"start\" x=\"4227\" y=\"-171.8\" font-family=\"Helvetica,sans-Serif\" font-size=\"14.00\">subject_age ≤ 17.5</text>\n<text text-anchor=\"start\" x=\"4252.5\" y=\"-156.8\" font-family=\"Helvetica,sans-Serif\" font-size=\"14.00\">gini = 0.76</text>\n<text text-anchor=\"start\" x=\"4235\" y=\"-141.8\" font-family=\"Helvetica,sans-Serif\" font-size=\"14.00\">samples = 1.8%</text>\n<text text-anchor=\"start\" x=\"4176\" y=\"-126.8\" font-family=\"Helvetica,sans-Serif\" font-size=\"14.00\">value = [0.12, 0.34, 0.18, 0.09, 0.27]</text>\n<text text-anchor=\"start\" x=\"4245\" y=\"-111.8\" font-family=\"Helvetica,sans-Serif\" font-size=\"14.00\">class = black</text>\n</g>\n<!-- 34&#45;&gt;35 -->\n<g id=\"edge35\" class=\"edge\">\n<title>34&#45;&gt;35</title>\n<path fill=\"none\" stroke=\"black\" d=\"M4526.2,-226.16C4489.6,-214.1 4448.79,-200.64 4411.27,-188.28\"/>\n<polygon fill=\"black\" stroke=\"black\" points=\"4411.9,-184.8 4401.3,-185 4409.7,-191.45 4411.9,-184.8\"/>\n</g>\n<!-- 38 -->\n<g id=\"node39\" class=\"node\">\n<title>38</title>\n<path fill=\"#fdfffc\" stroke=\"black\" d=\"M4736.5,-187C4736.5,-187 4542.5,-187 4542.5,-187 4536.5,-187 4530.5,-181 4530.5,-175 4530.5,-175 4530.5,-116 4530.5,-116 4530.5,-110 4536.5,-104 4542.5,-104 4542.5,-104 4736.5,-104 4736.5,-104 4742.5,-104 4748.5,-110 4748.5,-116 4748.5,-116 4748.5,-175 4748.5,-175 4748.5,-181 4742.5,-187 4736.5,-187\"/>\n<text text-anchor=\"start\" x=\"4582\" y=\"-171.8\" font-family=\"Helvetica,sans-Serif\" font-size=\"14.00\">subject_age ≤ 21.5</text>\n<text text-anchor=\"start\" x=\"4607.5\" y=\"-156.8\" font-family=\"Helvetica,sans-Serif\" font-size=\"14.00\">gini = 0.76</text>\n<text text-anchor=\"start\" x=\"4590\" y=\"-141.8\" font-family=\"Helvetica,sans-Serif\" font-size=\"14.00\">samples = 1.6%</text>\n<text text-anchor=\"start\" x=\"4538.5\" y=\"-126.8\" font-family=\"Helvetica,sans-Serif\" font-size=\"14.00\">value = [0.13, 0.31, 0.17, 0.1, 0.3]</text>\n<text text-anchor=\"start\" x=\"4600\" y=\"-111.8\" font-family=\"Helvetica,sans-Serif\" font-size=\"14.00\">class = black</text>\n</g>\n<!-- 34&#45;&gt;38 -->\n<g id=\"edge38\" class=\"edge\">\n<title>34&#45;&gt;38</title>\n<path fill=\"none\" stroke=\"black\" d=\"M4639.5,-222.91C4639.5,-214.65 4639.5,-205.86 4639.5,-197.3\"/>\n<polygon fill=\"black\" stroke=\"black\" points=\"4643,-197.02 4639.5,-187.02 4636,-197.02 4643,-197.02\"/>\n</g>\n<!-- 36 -->\n<g id=\"node37\" class=\"node\">\n<title>36</title>\n<path fill=\"#fefafd\" stroke=\"black\" d=\"M4141,-68C4141,-68 3932,-68 3932,-68 3926,-68 3920,-62 3920,-56 3920,-56 3920,-12 3920,-12 3920,-6 3926,0 3932,0 3932,0 4141,0 4141,0 4147,0 4153,-6 4153,-12 4153,-12 4153,-56 4153,-56 4153,-62 4147,-68 4141,-68\"/>\n<text text-anchor=\"start\" x=\"4004.5\" y=\"-52.8\" font-family=\"Helvetica,sans-Serif\" font-size=\"14.00\">gini = 0.74</text>\n<text text-anchor=\"start\" x=\"3987\" y=\"-37.8\" font-family=\"Helvetica,sans-Serif\" font-size=\"14.00\">samples = 0.1%</text>\n<text text-anchor=\"start\" x=\"3928\" y=\"-22.8\" font-family=\"Helvetica,sans-Serif\" font-size=\"14.00\">value = [0.13, 0.33, 0.12, 0.08, 0.34]</text>\n<text text-anchor=\"start\" x=\"3997.5\" y=\"-7.8\" font-family=\"Helvetica,sans-Serif\" font-size=\"14.00\">class = other</text>\n</g>\n<!-- 35&#45;&gt;36 -->\n<g id=\"edge36\" class=\"edge\">\n<title>35&#45;&gt;36</title>\n<path fill=\"none\" stroke=\"black\" d=\"M4192.51,-103.88C4169,-93.5 4143.85,-82.4 4120.76,-72.2\"/>\n<polygon fill=\"black\" stroke=\"black\" points=\"4121.9,-68.88 4111.34,-68.04 4119.07,-75.28 4121.9,-68.88\"/>\n</g>\n<!-- 37 -->\n<g id=\"node38\" class=\"node\">\n<title>37</title>\n<path fill=\"#f0fce8\" stroke=\"black\" d=\"M4385.5,-68C4385.5,-68 4183.5,-68 4183.5,-68 4177.5,-68 4171.5,-62 4171.5,-56 4171.5,-56 4171.5,-12 4171.5,-12 4171.5,-6 4177.5,0 4183.5,0 4183.5,0 4385.5,0 4385.5,0 4391.5,0 4397.5,-6 4397.5,-12 4397.5,-12 4397.5,-56 4397.5,-56 4397.5,-62 4391.5,-68 4385.5,-68\"/>\n<text text-anchor=\"start\" x=\"4252.5\" y=\"-52.8\" font-family=\"Helvetica,sans-Serif\" font-size=\"14.00\">gini = 0.76</text>\n<text text-anchor=\"start\" x=\"4235\" y=\"-37.8\" font-family=\"Helvetica,sans-Serif\" font-size=\"14.00\">samples = 1.7%</text>\n<text text-anchor=\"start\" x=\"4179.5\" y=\"-22.8\" font-family=\"Helvetica,sans-Serif\" font-size=\"14.00\">value = [0.11, 0.35, 0.18, 0.1, 0.26]</text>\n<text text-anchor=\"start\" x=\"4245\" y=\"-7.8\" font-family=\"Helvetica,sans-Serif\" font-size=\"14.00\">class = black</text>\n</g>\n<!-- 35&#45;&gt;37 -->\n<g id=\"edge37\" class=\"edge\">\n<title>35&#45;&gt;37</title>\n<path fill=\"none\" stroke=\"black\" d=\"M4284.5,-103.73C4284.5,-95.52 4284.5,-86.86 4284.5,-78.56\"/>\n<polygon fill=\"black\" stroke=\"black\" points=\"4288,-78.3 4284.5,-68.3 4281,-78.3 4288,-78.3\"/>\n</g>\n<!-- 39 -->\n<g id=\"node40\" class=\"node\">\n<title>39</title>\n<path fill=\"#fefffd\" stroke=\"black\" d=\"M4615,-68C4615,-68 4428,-68 4428,-68 4422,-68 4416,-62 4416,-56 4416,-56 4416,-12 4416,-12 4416,-6 4422,0 4428,0 4428,0 4615,0 4615,0 4621,0 4627,-6 4627,-12 4627,-12 4627,-56 4627,-56 4627,-62 4621,-68 4615,-68\"/>\n<text text-anchor=\"start\" x=\"4489.5\" y=\"-52.8\" font-family=\"Helvetica,sans-Serif\" font-size=\"14.00\">gini = 0.76</text>\n<text text-anchor=\"start\" x=\"4472\" y=\"-37.8\" font-family=\"Helvetica,sans-Serif\" font-size=\"14.00\">samples = 0.8%</text>\n<text text-anchor=\"start\" x=\"4424\" y=\"-22.8\" font-family=\"Helvetica,sans-Serif\" font-size=\"14.00\">value = [0.12, 0.3, 0.18, 0.1, 0.3]</text>\n<text text-anchor=\"start\" x=\"4482\" y=\"-7.8\" font-family=\"Helvetica,sans-Serif\" font-size=\"14.00\">class = black</text>\n</g>\n<!-- 38&#45;&gt;39 -->\n<g id=\"edge39\" class=\"edge\">\n<title>38&#45;&gt;39</title>\n<path fill=\"none\" stroke=\"black\" d=\"M4595.56,-103.73C4585.54,-94.42 4574.89,-84.54 4564.89,-75.26\"/>\n<polygon fill=\"black\" stroke=\"black\" points=\"4567.1,-72.54 4557.38,-68.3 4562.33,-77.67 4567.1,-72.54\"/>\n</g>\n<!-- 40 -->\n<g id=\"node41\" class=\"node\">\n<title>40</title>\n<path fill=\"#fcfefb\" stroke=\"black\" d=\"M4851.5,-68C4851.5,-68 4657.5,-68 4657.5,-68 4651.5,-68 4645.5,-62 4645.5,-56 4645.5,-56 4645.5,-12 4645.5,-12 4645.5,-6 4651.5,0 4657.5,0 4657.5,0 4851.5,0 4851.5,0 4857.5,0 4863.5,-6 4863.5,-12 4863.5,-12 4863.5,-56 4863.5,-56 4863.5,-62 4857.5,-68 4851.5,-68\"/>\n<text text-anchor=\"start\" x=\"4722.5\" y=\"-52.8\" font-family=\"Helvetica,sans-Serif\" font-size=\"14.00\">gini = 0.76</text>\n<text text-anchor=\"start\" x=\"4705\" y=\"-37.8\" font-family=\"Helvetica,sans-Serif\" font-size=\"14.00\">samples = 0.9%</text>\n<text text-anchor=\"start\" x=\"4653.5\" y=\"-22.8\" font-family=\"Helvetica,sans-Serif\" font-size=\"14.00\">value = [0.13, 0.31, 0.15, 0.1, 0.3]</text>\n<text text-anchor=\"start\" x=\"4715\" y=\"-7.8\" font-family=\"Helvetica,sans-Serif\" font-size=\"14.00\">class = black</text>\n</g>\n<!-- 38&#45;&gt;40 -->\n<g id=\"edge40\" class=\"edge\">\n<title>38&#45;&gt;40</title>\n<path fill=\"none\" stroke=\"black\" d=\"M4682.32,-103.73C4692.09,-94.42 4702.47,-84.54 4712.22,-75.26\"/>\n<polygon fill=\"black\" stroke=\"black\" points=\"4714.7,-77.73 4719.53,-68.3 4709.87,-72.66 4714.7,-77.73\"/>\n</g>\n<!-- 42 -->\n<g id=\"node43\" class=\"node\">\n<title>42</title>\n<path fill=\"#fceaf8\" stroke=\"black\" d=\"M5095.5,-187C5095.5,-187 4893.5,-187 4893.5,-187 4887.5,-187 4881.5,-181 4881.5,-175 4881.5,-175 4881.5,-116 4881.5,-116 4881.5,-110 4887.5,-104 4893.5,-104 4893.5,-104 5095.5,-104 5095.5,-104 5101.5,-104 5107.5,-110 5107.5,-116 5107.5,-116 5107.5,-175 5107.5,-175 5107.5,-181 5101.5,-187 5095.5,-187\"/>\n<text text-anchor=\"start\" x=\"4937\" y=\"-171.8\" font-family=\"Helvetica,sans-Serif\" font-size=\"14.00\">subject_age ≤ 23.5</text>\n<text text-anchor=\"start\" x=\"4962.5\" y=\"-156.8\" font-family=\"Helvetica,sans-Serif\" font-size=\"14.00\">gini = 0.76</text>\n<text text-anchor=\"start\" x=\"4945\" y=\"-141.8\" font-family=\"Helvetica,sans-Serif\" font-size=\"14.00\">samples = 3.2%</text>\n<text text-anchor=\"start\" x=\"4889.5\" y=\"-126.8\" font-family=\"Helvetica,sans-Serif\" font-size=\"14.00\">value = [0.13, 0.27, 0.15, 0.1, 0.35]</text>\n<text text-anchor=\"start\" x=\"4955.5\" y=\"-111.8\" font-family=\"Helvetica,sans-Serif\" font-size=\"14.00\">class = other</text>\n</g>\n<!-- 41&#45;&gt;42 -->\n<g id=\"edge42\" class=\"edge\">\n<title>41&#45;&gt;42</title>\n<path fill=\"none\" stroke=\"black\" d=\"M4994.5,-222.91C4994.5,-214.65 4994.5,-205.86 4994.5,-197.3\"/>\n<polygon fill=\"black\" stroke=\"black\" points=\"4998,-197.02 4994.5,-187.02 4991,-197.02 4998,-197.02\"/>\n</g>\n<!-- 45 -->\n<g id=\"node46\" class=\"node\">\n<title>45</title>\n<path fill=\"#fbe1f5\" stroke=\"black\" d=\"M5339.5,-179.5C5339.5,-179.5 5137.5,-179.5 5137.5,-179.5 5131.5,-179.5 5125.5,-173.5 5125.5,-167.5 5125.5,-167.5 5125.5,-123.5 5125.5,-123.5 5125.5,-117.5 5131.5,-111.5 5137.5,-111.5 5137.5,-111.5 5339.5,-111.5 5339.5,-111.5 5345.5,-111.5 5351.5,-117.5 5351.5,-123.5 5351.5,-123.5 5351.5,-167.5 5351.5,-167.5 5351.5,-173.5 5345.5,-179.5 5339.5,-179.5\"/>\n<text text-anchor=\"start\" x=\"5206.5\" y=\"-164.3\" font-family=\"Helvetica,sans-Serif\" font-size=\"14.00\">gini = 0.75</text>\n<text text-anchor=\"start\" x=\"5189\" y=\"-149.3\" font-family=\"Helvetica,sans-Serif\" font-size=\"14.00\">samples = 0.9%</text>\n<text text-anchor=\"start\" x=\"5133.5\" y=\"-134.3\" font-family=\"Helvetica,sans-Serif\" font-size=\"14.00\">value = [0.13, 0.26, 0.13, 0.1, 0.37]</text>\n<text text-anchor=\"start\" x=\"5199.5\" y=\"-119.3\" font-family=\"Helvetica,sans-Serif\" font-size=\"14.00\">class = other</text>\n</g>\n<!-- 41&#45;&gt;45 -->\n<g id=\"edge45\" class=\"edge\">\n<title>41&#45;&gt;45</title>\n<path fill=\"none\" stroke=\"black\" d=\"M5079.15,-222.91C5105.5,-210.27 5134.42,-196.41 5160.31,-183.99\"/>\n<polygon fill=\"black\" stroke=\"black\" points=\"5161.83,-187.15 5169.33,-179.67 5158.8,-180.83 5161.83,-187.15\"/>\n</g>\n<!-- 43 -->\n<g id=\"node44\" class=\"node\">\n<title>43</title>\n<path fill=\"#fdeefa\" stroke=\"black\" d=\"M5095.5,-68C5095.5,-68 4893.5,-68 4893.5,-68 4887.5,-68 4881.5,-62 4881.5,-56 4881.5,-56 4881.5,-12 4881.5,-12 4881.5,-6 4887.5,0 4893.5,0 4893.5,0 5095.5,0 5095.5,0 5101.5,0 5107.5,-6 5107.5,-12 5107.5,-12 5107.5,-56 5107.5,-56 5107.5,-62 5101.5,-68 5095.5,-68\"/>\n<text text-anchor=\"start\" x=\"4962.5\" y=\"-52.8\" font-family=\"Helvetica,sans-Serif\" font-size=\"14.00\">gini = 0.76</text>\n<text text-anchor=\"start\" x=\"4945\" y=\"-37.8\" font-family=\"Helvetica,sans-Serif\" font-size=\"14.00\">samples = 0.9%</text>\n<text text-anchor=\"start\" x=\"4889.5\" y=\"-22.8\" font-family=\"Helvetica,sans-Serif\" font-size=\"14.00\">value = [0.14, 0.28, 0.15, 0.1, 0.34]</text>\n<text text-anchor=\"start\" x=\"4955.5\" y=\"-7.8\" font-family=\"Helvetica,sans-Serif\" font-size=\"14.00\">class = other</text>\n</g>\n<!-- 42&#45;&gt;43 -->\n<g id=\"edge43\" class=\"edge\">\n<title>42&#45;&gt;43</title>\n<path fill=\"none\" stroke=\"black\" d=\"M4994.5,-103.73C4994.5,-95.52 4994.5,-86.86 4994.5,-78.56\"/>\n<polygon fill=\"black\" stroke=\"black\" points=\"4998,-78.3 4994.5,-68.3 4991,-78.3 4998,-78.3\"/>\n</g>\n<!-- 44 -->\n<g id=\"node45\" class=\"node\">\n<title>44</title>\n<path fill=\"#fce9f8\" stroke=\"black\" d=\"M5339.5,-68C5339.5,-68 5137.5,-68 5137.5,-68 5131.5,-68 5125.5,-62 5125.5,-56 5125.5,-56 5125.5,-12 5125.5,-12 5125.5,-6 5131.5,0 5137.5,0 5137.5,0 5339.5,0 5339.5,0 5345.5,0 5351.5,-6 5351.5,-12 5351.5,-12 5351.5,-56 5351.5,-56 5351.5,-62 5345.5,-68 5339.5,-68\"/>\n<text text-anchor=\"start\" x=\"5206.5\" y=\"-52.8\" font-family=\"Helvetica,sans-Serif\" font-size=\"14.00\">gini = 0.76</text>\n<text text-anchor=\"start\" x=\"5189\" y=\"-37.8\" font-family=\"Helvetica,sans-Serif\" font-size=\"14.00\">samples = 2.3%</text>\n<text text-anchor=\"start\" x=\"5133.5\" y=\"-22.8\" font-family=\"Helvetica,sans-Serif\" font-size=\"14.00\">value = [0.13, 0.27, 0.16, 0.1, 0.35]</text>\n<text text-anchor=\"start\" x=\"5199.5\" y=\"-7.8\" font-family=\"Helvetica,sans-Serif\" font-size=\"14.00\">class = other</text>\n</g>\n<!-- 42&#45;&gt;44 -->\n<g id=\"edge44\" class=\"edge\">\n<title>42&#45;&gt;44</title>\n<path fill=\"none\" stroke=\"black\" d=\"M5085.01,-103.88C5108.13,-93.5 5132.88,-82.4 5155.6,-72.2\"/>\n<polygon fill=\"black\" stroke=\"black\" points=\"5157.18,-75.33 5164.87,-68.04 5154.31,-68.94 5157.18,-75.33\"/>\n</g>\n<!-- 47 -->\n<g id=\"node48\" class=\"node\">\n<title>47</title>\n<path fill=\"#f8cdef\" stroke=\"black\" d=\"M5949.5,-306C5949.5,-306 5747.5,-306 5747.5,-306 5741.5,-306 5735.5,-300 5735.5,-294 5735.5,-294 5735.5,-235 5735.5,-235 5735.5,-229 5741.5,-223 5747.5,-223 5747.5,-223 5949.5,-223 5949.5,-223 5955.5,-223 5961.5,-229 5961.5,-235 5961.5,-235 5961.5,-294 5961.5,-294 5961.5,-300 5955.5,-306 5949.5,-306\"/>\n<text text-anchor=\"start\" x=\"5791\" y=\"-290.8\" font-family=\"Helvetica,sans-Serif\" font-size=\"14.00\">subject_age ≤ 43.5</text>\n<text text-anchor=\"start\" x=\"5816.5\" y=\"-275.8\" font-family=\"Helvetica,sans-Serif\" font-size=\"14.00\">gini = 0.73</text>\n<text text-anchor=\"start\" x=\"5795.5\" y=\"-260.8\" font-family=\"Helvetica,sans-Serif\" font-size=\"14.00\">samples = 17.2%</text>\n<text text-anchor=\"start\" x=\"5743.5\" y=\"-245.8\" font-family=\"Helvetica,sans-Serif\" font-size=\"14.00\">value = [0.13, 0.23, 0.12, 0.1, 0.42]</text>\n<text text-anchor=\"start\" x=\"5809.5\" y=\"-230.8\" font-family=\"Helvetica,sans-Serif\" font-size=\"14.00\">class = other</text>\n</g>\n<!-- 46&#45;&gt;47 -->\n<g id=\"edge47\" class=\"edge\">\n<title>46&#45;&gt;47</title>\n<path fill=\"none\" stroke=\"black\" d=\"M5848.5,-341.91C5848.5,-333.65 5848.5,-324.86 5848.5,-316.3\"/>\n<polygon fill=\"black\" stroke=\"black\" points=\"5852,-316.02 5848.5,-306.02 5845,-316.02 5852,-316.02\"/>\n</g>\n<!-- 54 -->\n<g id=\"node55\" class=\"node\">\n<title>54</title>\n<path fill=\"#f4ace5\" stroke=\"black\" d=\"M6692.5,-306C6692.5,-306 6490.5,-306 6490.5,-306 6484.5,-306 6478.5,-300 6478.5,-294 6478.5,-294 6478.5,-235 6478.5,-235 6478.5,-229 6484.5,-223 6490.5,-223 6490.5,-223 6692.5,-223 6692.5,-223 6698.5,-223 6704.5,-229 6704.5,-235 6704.5,-235 6704.5,-294 6704.5,-294 6704.5,-300 6698.5,-306 6692.5,-306\"/>\n<text text-anchor=\"start\" x=\"6534\" y=\"-290.8\" font-family=\"Helvetica,sans-Serif\" font-size=\"14.00\">subject_age ≤ 62.5</text>\n<text text-anchor=\"start\" x=\"6559.5\" y=\"-275.8\" font-family=\"Helvetica,sans-Serif\" font-size=\"14.00\">gini = 0.65</text>\n<text text-anchor=\"start\" x=\"6542\" y=\"-260.8\" font-family=\"Helvetica,sans-Serif\" font-size=\"14.00\">samples = 2.8%</text>\n<text text-anchor=\"start\" x=\"6486.5\" y=\"-245.8\" font-family=\"Helvetica,sans-Serif\" font-size=\"14.00\">value = [0.15, 0.2, 0.06, 0.06, 0.53]</text>\n<text text-anchor=\"start\" x=\"6552.5\" y=\"-230.8\" font-family=\"Helvetica,sans-Serif\" font-size=\"14.00\">class = other</text>\n</g>\n<!-- 46&#45;&gt;54 -->\n<g id=\"edge54\" class=\"edge\">\n<title>46&#45;&gt;54</title>\n<path fill=\"none\" stroke=\"black\" d=\"M5965,-364.15C6102.1,-342.57 6328.74,-306.88 6468.57,-284.86\"/>\n<polygon fill=\"black\" stroke=\"black\" points=\"6469.15,-288.31 6478.48,-283.3 6468.06,-281.39 6469.15,-288.31\"/>\n</g>\n<!-- 48 -->\n<g id=\"node49\" class=\"node\">\n<title>48</title>\n<path fill=\"#f9d1f0\" stroke=\"black\" d=\"M5825.5,-187C5825.5,-187 5623.5,-187 5623.5,-187 5617.5,-187 5611.5,-181 5611.5,-175 5611.5,-175 5611.5,-116 5611.5,-116 5611.5,-110 5617.5,-104 5623.5,-104 5623.5,-104 5825.5,-104 5825.5,-104 5831.5,-104 5837.5,-110 5837.5,-116 5837.5,-116 5837.5,-175 5837.5,-175 5837.5,-181 5831.5,-187 5825.5,-187\"/>\n<text text-anchor=\"start\" x=\"5667\" y=\"-171.8\" font-family=\"Helvetica,sans-Serif\" font-size=\"14.00\">subject_age ≤ 36.5</text>\n<text text-anchor=\"start\" x=\"5692.5\" y=\"-156.8\" font-family=\"Helvetica,sans-Serif\" font-size=\"14.00\">gini = 0.74</text>\n<text text-anchor=\"start\" x=\"5671.5\" y=\"-141.8\" font-family=\"Helvetica,sans-Serif\" font-size=\"14.00\">samples = 11.8%</text>\n<text text-anchor=\"start\" x=\"5619.5\" y=\"-126.8\" font-family=\"Helvetica,sans-Serif\" font-size=\"14.00\">value = [0.13, 0.23, 0.13, 0.1, 0.41]</text>\n<text text-anchor=\"start\" x=\"5685.5\" y=\"-111.8\" font-family=\"Helvetica,sans-Serif\" font-size=\"14.00\">class = other</text>\n</g>\n<!-- 47&#45;&gt;48 -->\n<g id=\"edge48\" class=\"edge\">\n<title>47&#45;&gt;48</title>\n<path fill=\"none\" stroke=\"black\" d=\"M5805.48,-222.91C5795.57,-213.56 5784.95,-203.54 5774.77,-193.93\"/>\n<polygon fill=\"black\" stroke=\"black\" points=\"5777.12,-191.34 5767.45,-187.02 5772.32,-196.43 5777.12,-191.34\"/>\n</g>\n<!-- 51 -->\n<g id=\"node52\" class=\"node\">\n<title>51</title>\n<path fill=\"#f8c6ed\" stroke=\"black\" d=\"M6077,-187C6077,-187 5868,-187 5868,-187 5862,-187 5856,-181 5856,-175 5856,-175 5856,-116 5856,-116 5856,-110 5862,-104 5868,-104 5868,-104 6077,-104 6077,-104 6083,-104 6089,-110 6089,-116 6089,-116 6089,-175 6089,-175 6089,-181 6083,-187 6077,-187\"/>\n<text text-anchor=\"start\" x=\"5915\" y=\"-171.8\" font-family=\"Helvetica,sans-Serif\" font-size=\"14.00\">subject_age ≤ 48.5</text>\n<text text-anchor=\"start\" x=\"5940.5\" y=\"-156.8\" font-family=\"Helvetica,sans-Serif\" font-size=\"14.00\">gini = 0.71</text>\n<text text-anchor=\"start\" x=\"5923\" y=\"-141.8\" font-family=\"Helvetica,sans-Serif\" font-size=\"14.00\">samples = 5.3%</text>\n<text text-anchor=\"start\" x=\"5864\" y=\"-126.8\" font-family=\"Helvetica,sans-Serif\" font-size=\"14.00\">value = [0.14, 0.23, 0.09, 0.09, 0.45]</text>\n<text text-anchor=\"start\" x=\"5933.5\" y=\"-111.8\" font-family=\"Helvetica,sans-Serif\" font-size=\"14.00\">class = other</text>\n</g>\n<!-- 47&#45;&gt;51 -->\n<g id=\"edge51\" class=\"edge\">\n<title>47&#45;&gt;51</title>\n<path fill=\"none\" stroke=\"black\" d=\"M5891.52,-222.91C5901.43,-213.56 5912.05,-203.54 5922.23,-193.93\"/>\n<polygon fill=\"black\" stroke=\"black\" points=\"5924.68,-196.43 5929.55,-187.02 5919.88,-191.34 5924.68,-196.43\"/>\n</g>\n<!-- 49 -->\n<g id=\"node50\" class=\"node\">\n<title>49</title>\n<path fill=\"#f9d3f1\" stroke=\"black\" d=\"M5583.5,-68C5583.5,-68 5381.5,-68 5381.5,-68 5375.5,-68 5369.5,-62 5369.5,-56 5369.5,-56 5369.5,-12 5369.5,-12 5369.5,-6 5375.5,0 5381.5,0 5381.5,0 5583.5,0 5583.5,0 5589.5,0 5595.5,-6 5595.5,-12 5595.5,-12 5595.5,-56 5595.5,-56 5595.5,-62 5589.5,-68 5583.5,-68\"/>\n<text text-anchor=\"start\" x=\"5450.5\" y=\"-52.8\" font-family=\"Helvetica,sans-Serif\" font-size=\"14.00\">gini = 0.74</text>\n<text text-anchor=\"start\" x=\"5433\" y=\"-37.8\" font-family=\"Helvetica,sans-Serif\" font-size=\"14.00\">samples = 8.1%</text>\n<text text-anchor=\"start\" x=\"5377.5\" y=\"-22.8\" font-family=\"Helvetica,sans-Serif\" font-size=\"14.00\">value = [0.12, 0.23, 0.14, 0.11, 0.4]</text>\n<text text-anchor=\"start\" x=\"5443.5\" y=\"-7.8\" font-family=\"Helvetica,sans-Serif\" font-size=\"14.00\">class = other</text>\n</g>\n<!-- 48&#45;&gt;49 -->\n<g id=\"edge49\" class=\"edge\">\n<title>48&#45;&gt;49</title>\n<path fill=\"none\" stroke=\"black\" d=\"M5634.73,-103.88C5611.8,-93.5 5587.25,-82.4 5564.72,-72.2\"/>\n<polygon fill=\"black\" stroke=\"black\" points=\"5566.08,-68.98 5555.53,-68.04 5563.2,-75.35 5566.08,-68.98\"/>\n</g>\n<!-- 50 -->\n<g id=\"node51\" class=\"node\">\n<title>50</title>\n<path fill=\"#f8cbee\" stroke=\"black\" d=\"M5827.5,-68C5827.5,-68 5625.5,-68 5625.5,-68 5619.5,-68 5613.5,-62 5613.5,-56 5613.5,-56 5613.5,-12 5613.5,-12 5613.5,-6 5619.5,0 5625.5,0 5625.5,0 5827.5,0 5827.5,0 5833.5,0 5839.5,-6 5839.5,-12 5839.5,-12 5839.5,-56 5839.5,-56 5839.5,-62 5833.5,-68 5827.5,-68\"/>\n<text text-anchor=\"start\" x=\"5694.5\" y=\"-52.8\" font-family=\"Helvetica,sans-Serif\" font-size=\"14.00\">gini = 0.73</text>\n<text text-anchor=\"start\" x=\"5677\" y=\"-37.8\" font-family=\"Helvetica,sans-Serif\" font-size=\"14.00\">samples = 3.7%</text>\n<text text-anchor=\"start\" x=\"5621.5\" y=\"-22.8\" font-family=\"Helvetica,sans-Serif\" font-size=\"14.00\">value = [0.13, 0.22, 0.12, 0.1, 0.43]</text>\n<text text-anchor=\"start\" x=\"5687.5\" y=\"-7.8\" font-family=\"Helvetica,sans-Serif\" font-size=\"14.00\">class = other</text>\n</g>\n<!-- 48&#45;&gt;50 -->\n<g id=\"edge50\" class=\"edge\">\n<title>48&#45;&gt;50</title>\n<path fill=\"none\" stroke=\"black\" d=\"M5725.24,-103.73C5725.39,-95.52 5725.55,-86.86 5725.7,-78.56\"/>\n<polygon fill=\"black\" stroke=\"black\" points=\"5729.21,-78.36 5725.89,-68.3 5722.21,-78.23 5729.21,-78.36\"/>\n</g>\n<!-- 52 -->\n<g id=\"node53\" class=\"node\">\n<title>52</title>\n<path fill=\"#f8c6ed\" stroke=\"black\" d=\"M6071.5,-68C6071.5,-68 5869.5,-68 5869.5,-68 5863.5,-68 5857.5,-62 5857.5,-56 5857.5,-56 5857.5,-12 5857.5,-12 5857.5,-6 5863.5,0 5869.5,0 5869.5,0 6071.5,0 6071.5,0 6077.5,0 6083.5,-6 6083.5,-12 6083.5,-12 6083.5,-56 6083.5,-56 6083.5,-62 6077.5,-68 6071.5,-68\"/>\n<text text-anchor=\"start\" x=\"5938.5\" y=\"-52.8\" font-family=\"Helvetica,sans-Serif\" font-size=\"14.00\">gini = 0.71</text>\n<text text-anchor=\"start\" x=\"5921\" y=\"-37.8\" font-family=\"Helvetica,sans-Serif\" font-size=\"14.00\">samples = 2.3%</text>\n<text text-anchor=\"start\" x=\"5865.5\" y=\"-22.8\" font-family=\"Helvetica,sans-Serif\" font-size=\"14.00\">value = [0.13, 0.23, 0.1, 0.09, 0.45]</text>\n<text text-anchor=\"start\" x=\"5931.5\" y=\"-7.8\" font-family=\"Helvetica,sans-Serif\" font-size=\"14.00\">class = other</text>\n</g>\n<!-- 51&#45;&gt;52 -->\n<g id=\"edge52\" class=\"edge\">\n<title>51&#45;&gt;52</title>\n<path fill=\"none\" stroke=\"black\" d=\"M5971.76,-103.73C5971.61,-95.52 5971.45,-86.86 5971.3,-78.56\"/>\n<polygon fill=\"black\" stroke=\"black\" points=\"5974.79,-78.23 5971.11,-68.3 5967.79,-78.36 5974.79,-78.23\"/>\n</g>\n<!-- 53 -->\n<g id=\"node54\" class=\"node\">\n<title>53</title>\n<path fill=\"#f7c6ed\" stroke=\"black\" d=\"M6323,-68C6323,-68 6114,-68 6114,-68 6108,-68 6102,-62 6102,-56 6102,-56 6102,-12 6102,-12 6102,-6 6108,0 6114,0 6114,0 6323,0 6323,0 6329,0 6335,-6 6335,-12 6335,-12 6335,-56 6335,-56 6335,-62 6329,-68 6323,-68\"/>\n<text text-anchor=\"start\" x=\"6190.5\" y=\"-52.8\" font-family=\"Helvetica,sans-Serif\" font-size=\"14.00\">gini = 0.7</text>\n<text text-anchor=\"start\" x=\"6169\" y=\"-37.8\" font-family=\"Helvetica,sans-Serif\" font-size=\"14.00\">samples = 3.0%</text>\n<text text-anchor=\"start\" x=\"6110\" y=\"-22.8\" font-family=\"Helvetica,sans-Serif\" font-size=\"14.00\">value = [0.14, 0.24, 0.08, 0.09, 0.46]</text>\n<text text-anchor=\"start\" x=\"6179.5\" y=\"-7.8\" font-family=\"Helvetica,sans-Serif\" font-size=\"14.00\">class = other</text>\n</g>\n<!-- 51&#45;&gt;53 -->\n<g id=\"edge53\" class=\"edge\">\n<title>51&#45;&gt;53</title>\n<path fill=\"none\" stroke=\"black\" d=\"M6063.75,-103.88C6087.07,-93.5 6112.01,-82.4 6134.92,-72.2\"/>\n<polygon fill=\"black\" stroke=\"black\" points=\"6136.55,-75.31 6144.27,-68.04 6133.71,-68.91 6136.55,-75.31\"/>\n</g>\n<!-- 55 -->\n<g id=\"node56\" class=\"node\">\n<title>55</title>\n<path fill=\"#f6bae9\" stroke=\"black\" d=\"M6696,-187C6696,-187 6487,-187 6487,-187 6481,-187 6475,-181 6475,-175 6475,-175 6475,-116 6475,-116 6475,-110 6481,-104 6487,-104 6487,-104 6696,-104 6696,-104 6702,-104 6708,-110 6708,-116 6708,-116 6708,-175 6708,-175 6708,-181 6702,-187 6696,-187\"/>\n<text text-anchor=\"start\" x=\"6534\" y=\"-171.8\" font-family=\"Helvetica,sans-Serif\" font-size=\"14.00\">subject_age ≤ 61.5</text>\n<text text-anchor=\"start\" x=\"6559.5\" y=\"-156.8\" font-family=\"Helvetica,sans-Serif\" font-size=\"14.00\">gini = 0.68</text>\n<text text-anchor=\"start\" x=\"6542\" y=\"-141.8\" font-family=\"Helvetica,sans-Serif\" font-size=\"14.00\">samples = 1.3%</text>\n<text text-anchor=\"start\" x=\"6483\" y=\"-126.8\" font-family=\"Helvetica,sans-Serif\" font-size=\"14.00\">value = [0.16, 0.22, 0.07, 0.07, 0.49]</text>\n<text text-anchor=\"start\" x=\"6552.5\" y=\"-111.8\" font-family=\"Helvetica,sans-Serif\" font-size=\"14.00\">class = other</text>\n</g>\n<!-- 54&#45;&gt;55 -->\n<g id=\"edge55\" class=\"edge\">\n<title>54&#45;&gt;55</title>\n<path fill=\"none\" stroke=\"black\" d=\"M6591.5,-222.91C6591.5,-214.65 6591.5,-205.86 6591.5,-197.3\"/>\n<polygon fill=\"black\" stroke=\"black\" points=\"6595,-197.02 6591.5,-187.02 6588,-197.02 6595,-197.02\"/>\n</g>\n<!-- 58 -->\n<g id=\"node59\" class=\"node\">\n<title>58</title>\n<path fill=\"#f3a0e1\" stroke=\"black\" d=\"M7070,-187C7070,-187 6861,-187 6861,-187 6855,-187 6849,-181 6849,-175 6849,-175 6849,-116 6849,-116 6849,-110 6855,-104 6861,-104 6861,-104 7070,-104 7070,-104 7076,-104 7082,-110 7082,-116 7082,-116 7082,-175 7082,-175 7082,-181 7076,-187 7070,-187\"/>\n<text text-anchor=\"start\" x=\"6908\" y=\"-171.8\" font-family=\"Helvetica,sans-Serif\" font-size=\"14.00\">subject_age ≤ 67.5</text>\n<text text-anchor=\"start\" x=\"6933.5\" y=\"-156.8\" font-family=\"Helvetica,sans-Serif\" font-size=\"14.00\">gini = 0.61</text>\n<text text-anchor=\"start\" x=\"6916\" y=\"-141.8\" font-family=\"Helvetica,sans-Serif\" font-size=\"14.00\">samples = 1.5%</text>\n<text text-anchor=\"start\" x=\"6857\" y=\"-126.8\" font-family=\"Helvetica,sans-Serif\" font-size=\"14.00\">value = [0.14, 0.18, 0.05, 0.05, 0.57]</text>\n<text text-anchor=\"start\" x=\"6926.5\" y=\"-111.8\" font-family=\"Helvetica,sans-Serif\" font-size=\"14.00\">class = other</text>\n</g>\n<!-- 54&#45;&gt;58 -->\n<g id=\"edge58\" class=\"edge\">\n<title>54&#45;&gt;58</title>\n<path fill=\"none\" stroke=\"black\" d=\"M6704.73,-228.08C6747.1,-214.82 6795.49,-199.68 6838.99,-186.08\"/>\n<polygon fill=\"black\" stroke=\"black\" points=\"6840.28,-189.34 6848.77,-183.02 6838.19,-182.66 6840.28,-189.34\"/>\n</g>\n<!-- 56 -->\n<g id=\"node57\" class=\"node\">\n<title>56</title>\n<path fill=\"#f6bbe9\" stroke=\"black\" d=\"M6574,-68C6574,-68 6365,-68 6365,-68 6359,-68 6353,-62 6353,-56 6353,-56 6353,-12 6353,-12 6353,-6 6359,0 6365,0 6365,0 6574,0 6574,0 6580,0 6586,-6 6586,-12 6586,-12 6586,-56 6586,-56 6586,-62 6580,-68 6574,-68\"/>\n<text text-anchor=\"start\" x=\"6437.5\" y=\"-52.8\" font-family=\"Helvetica,sans-Serif\" font-size=\"14.00\">gini = 0.68</text>\n<text text-anchor=\"start\" x=\"6420\" y=\"-37.8\" font-family=\"Helvetica,sans-Serif\" font-size=\"14.00\">samples = 1.2%</text>\n<text text-anchor=\"start\" x=\"6361\" y=\"-22.8\" font-family=\"Helvetica,sans-Serif\" font-size=\"14.00\">value = [0.16, 0.22, 0.07, 0.07, 0.48]</text>\n<text text-anchor=\"start\" x=\"6430.5\" y=\"-7.8\" font-family=\"Helvetica,sans-Serif\" font-size=\"14.00\">class = other</text>\n</g>\n<!-- 55&#45;&gt;56 -->\n<g id=\"edge56\" class=\"edge\">\n<title>55&#45;&gt;56</title>\n<path fill=\"none\" stroke=\"black\" d=\"M6546.07,-103.73C6535.6,-94.33 6524.48,-84.35 6514.05,-74.99\"/>\n<polygon fill=\"black\" stroke=\"black\" points=\"6516.38,-72.37 6506.6,-68.3 6511.71,-77.58 6516.38,-72.37\"/>\n</g>\n<!-- 57 -->\n<g id=\"node58\" class=\"node\">\n<title>57</title>\n<path fill=\"#f5b2e7\" stroke=\"black\" d=\"M6818.5,-68C6818.5,-68 6616.5,-68 6616.5,-68 6610.5,-68 6604.5,-62 6604.5,-56 6604.5,-56 6604.5,-12 6604.5,-12 6604.5,-6 6610.5,0 6616.5,0 6616.5,0 6818.5,0 6818.5,0 6824.5,0 6830.5,-6 6830.5,-12 6830.5,-12 6830.5,-56 6830.5,-56 6830.5,-62 6824.5,-68 6818.5,-68\"/>\n<text text-anchor=\"start\" x=\"6685.5\" y=\"-52.8\" font-family=\"Helvetica,sans-Serif\" font-size=\"14.00\">gini = 0.66</text>\n<text text-anchor=\"start\" x=\"6668\" y=\"-37.8\" font-family=\"Helvetica,sans-Serif\" font-size=\"14.00\">samples = 0.2%</text>\n<text text-anchor=\"start\" x=\"6612.5\" y=\"-22.8\" font-family=\"Helvetica,sans-Serif\" font-size=\"14.00\">value = [0.15, 0.2, 0.07, 0.06, 0.51]</text>\n<text text-anchor=\"start\" x=\"6678.5\" y=\"-7.8\" font-family=\"Helvetica,sans-Serif\" font-size=\"14.00\">class = other</text>\n</g>\n<!-- 55&#45;&gt;57 -->\n<g id=\"edge57\" class=\"edge\">\n<title>55&#45;&gt;57</title>\n<path fill=\"none\" stroke=\"black\" d=\"M6638.42,-103.73C6649.23,-94.33 6660.71,-84.35 6671.49,-74.99\"/>\n<polygon fill=\"black\" stroke=\"black\" points=\"6673.93,-77.5 6679.18,-68.3 6669.34,-72.22 6673.93,-77.5\"/>\n</g>\n<!-- 59 -->\n<g id=\"node60\" class=\"node\">\n<title>59</title>\n<path fill=\"#f4a8e3\" stroke=\"black\" d=\"M7070,-68C7070,-68 6861,-68 6861,-68 6855,-68 6849,-62 6849,-56 6849,-56 6849,-12 6849,-12 6849,-6 6855,0 6861,0 6861,0 7070,0 7070,0 7076,0 7082,-6 7082,-12 7082,-12 7082,-56 7082,-56 7082,-62 7076,-68 7070,-68\"/>\n<text text-anchor=\"start\" x=\"6933.5\" y=\"-52.8\" font-family=\"Helvetica,sans-Serif\" font-size=\"14.00\">gini = 0.64</text>\n<text text-anchor=\"start\" x=\"6916\" y=\"-37.8\" font-family=\"Helvetica,sans-Serif\" font-size=\"14.00\">samples = 0.7%</text>\n<text text-anchor=\"start\" x=\"6857\" y=\"-22.8\" font-family=\"Helvetica,sans-Serif\" font-size=\"14.00\">value = [0.15, 0.19, 0.06, 0.05, 0.55]</text>\n<text text-anchor=\"start\" x=\"6926.5\" y=\"-7.8\" font-family=\"Helvetica,sans-Serif\" font-size=\"14.00\">class = other</text>\n</g>\n<!-- 58&#45;&gt;59 -->\n<g id=\"edge59\" class=\"edge\">\n<title>58&#45;&gt;59</title>\n<path fill=\"none\" stroke=\"black\" d=\"M6965.5,-103.73C6965.5,-95.52 6965.5,-86.86 6965.5,-78.56\"/>\n<polygon fill=\"black\" stroke=\"black\" points=\"6969,-78.3 6965.5,-68.3 6962,-78.3 6969,-78.3\"/>\n</g>\n<!-- 60 -->\n<g id=\"node61\" class=\"node\">\n<title>60</title>\n<path fill=\"#f299df\" stroke=\"black\" d=\"M7314.5,-68C7314.5,-68 7112.5,-68 7112.5,-68 7106.5,-68 7100.5,-62 7100.5,-56 7100.5,-56 7100.5,-12 7100.5,-12 7100.5,-6 7106.5,0 7112.5,0 7112.5,0 7314.5,0 7314.5,0 7320.5,0 7326.5,-6 7326.5,-12 7326.5,-12 7326.5,-56 7326.5,-56 7326.5,-62 7320.5,-68 7314.5,-68\"/>\n<text text-anchor=\"start\" x=\"7181.5\" y=\"-52.8\" font-family=\"Helvetica,sans-Serif\" font-size=\"14.00\">gini = 0.59</text>\n<text text-anchor=\"start\" x=\"7164\" y=\"-37.8\" font-family=\"Helvetica,sans-Serif\" font-size=\"14.00\">samples = 0.8%</text>\n<text text-anchor=\"start\" x=\"7108.5\" y=\"-22.8\" font-family=\"Helvetica,sans-Serif\" font-size=\"14.00\">value = [0.14, 0.17, 0.05, 0.05, 0.6]</text>\n<text text-anchor=\"start\" x=\"7174.5\" y=\"-7.8\" font-family=\"Helvetica,sans-Serif\" font-size=\"14.00\">class = other</text>\n</g>\n<!-- 58&#45;&gt;60 -->\n<g id=\"edge60\" class=\"edge\">\n<title>58&#45;&gt;60</title>\n<path fill=\"none\" stroke=\"black\" d=\"M7057.49,-103.88C7081,-93.5 7106.15,-82.4 7129.24,-72.2\"/>\n<polygon fill=\"black\" stroke=\"black\" points=\"7130.93,-75.28 7138.66,-68.04 7128.1,-68.88 7130.93,-75.28\"/>\n</g>\n</g>\n</svg>\n"
          },
          "metadata": {},
          "execution_count": 211
        }
      ],
      "source": [
        "target_names = ['asian/pacific islander', 'black','hispanic', 'white', 'other']\n",
        "n = export_graphviz(clf,precision=2, feature_names=predictors, proportion=True, class_names=target_names, filled=True, rounded=True, special_characters=True)\n",
        "graph = graphviz.Source(n)\n",
        "graph"
      ]
    },
    {
      "cell_type": "markdown",
      "metadata": {
        "id": "IWZHPBBIXURQ"
      },
      "source": [
        "**Accuracy**"
      ]
    },
    {
      "cell_type": "code",
      "execution_count": 212,
      "metadata": {
        "id": "XJAzodyW8WdW",
        "colab": {
          "base_uri": "https://localhost:8080/"
        },
        "outputId": "27c0716a-630b-4ea1-d440-27c4c8ee4f96"
      },
      "outputs": [
        {
          "output_type": "stream",
          "name": "stdout",
          "text": [
            "Accuracy: 0.42\n"
          ]
        }
      ],
      "source": [
        "print('Accuracy: {:.2f}'.format((y_predict == y_test).mean()))"
      ]
    },
    {
      "cell_type": "markdown",
      "metadata": {
        "id": "AA_U07X5a2a8"
      },
      "source": [
        "**Confusion Matrix**"
      ]
    },
    {
      "cell_type": "code",
      "execution_count": 213,
      "metadata": {
        "id": "gWpGhJPkawtO",
        "colab": {
          "base_uri": "https://localhost:8080/",
          "height": 238
        },
        "outputId": "34017a54-0a6b-4738-e04b-3059623ffb48"
      },
      "outputs": [
        {
          "output_type": "execute_result",
          "data": {
            "text/plain": [
              "Predicted     1   2      4\n",
              "Actual                    \n",
              "0           613   4  21121\n",
              "1          1492  18  19338\n",
              "2           815   6  14656\n",
              "3           385   6  13902\n",
              "4          1247  19  50833"
            ],
            "text/html": [
              "\n",
              "  <div id=\"df-cd3c3ff0-82dd-4dc5-9a99-84e0b86ac538\">\n",
              "    <div class=\"colab-df-container\">\n",
              "      <div>\n",
              "<style scoped>\n",
              "    .dataframe tbody tr th:only-of-type {\n",
              "        vertical-align: middle;\n",
              "    }\n",
              "\n",
              "    .dataframe tbody tr th {\n",
              "        vertical-align: top;\n",
              "    }\n",
              "\n",
              "    .dataframe thead th {\n",
              "        text-align: right;\n",
              "    }\n",
              "</style>\n",
              "<table border=\"1\" class=\"dataframe\">\n",
              "  <thead>\n",
              "    <tr style=\"text-align: right;\">\n",
              "      <th>Predicted</th>\n",
              "      <th>1</th>\n",
              "      <th>2</th>\n",
              "      <th>4</th>\n",
              "    </tr>\n",
              "    <tr>\n",
              "      <th>Actual</th>\n",
              "      <th></th>\n",
              "      <th></th>\n",
              "      <th></th>\n",
              "    </tr>\n",
              "  </thead>\n",
              "  <tbody>\n",
              "    <tr>\n",
              "      <th>0</th>\n",
              "      <td>613</td>\n",
              "      <td>4</td>\n",
              "      <td>21121</td>\n",
              "    </tr>\n",
              "    <tr>\n",
              "      <th>1</th>\n",
              "      <td>1492</td>\n",
              "      <td>18</td>\n",
              "      <td>19338</td>\n",
              "    </tr>\n",
              "    <tr>\n",
              "      <th>2</th>\n",
              "      <td>815</td>\n",
              "      <td>6</td>\n",
              "      <td>14656</td>\n",
              "    </tr>\n",
              "    <tr>\n",
              "      <th>3</th>\n",
              "      <td>385</td>\n",
              "      <td>6</td>\n",
              "      <td>13902</td>\n",
              "    </tr>\n",
              "    <tr>\n",
              "      <th>4</th>\n",
              "      <td>1247</td>\n",
              "      <td>19</td>\n",
              "      <td>50833</td>\n",
              "    </tr>\n",
              "  </tbody>\n",
              "</table>\n",
              "</div>\n",
              "      <button class=\"colab-df-convert\" onclick=\"convertToInteractive('df-cd3c3ff0-82dd-4dc5-9a99-84e0b86ac538')\"\n",
              "              title=\"Convert this dataframe to an interactive table.\"\n",
              "              style=\"display:none;\">\n",
              "        \n",
              "  <svg xmlns=\"http://www.w3.org/2000/svg\" height=\"24px\"viewBox=\"0 0 24 24\"\n",
              "       width=\"24px\">\n",
              "    <path d=\"M0 0h24v24H0V0z\" fill=\"none\"/>\n",
              "    <path d=\"M18.56 5.44l.94 2.06.94-2.06 2.06-.94-2.06-.94-.94-2.06-.94 2.06-2.06.94zm-11 1L8.5 8.5l.94-2.06 2.06-.94-2.06-.94L8.5 2.5l-.94 2.06-2.06.94zm10 10l.94 2.06.94-2.06 2.06-.94-2.06-.94-.94-2.06-.94 2.06-2.06.94z\"/><path d=\"M17.41 7.96l-1.37-1.37c-.4-.4-.92-.59-1.43-.59-.52 0-1.04.2-1.43.59L10.3 9.45l-7.72 7.72c-.78.78-.78 2.05 0 2.83L4 21.41c.39.39.9.59 1.41.59.51 0 1.02-.2 1.41-.59l7.78-7.78 2.81-2.81c.8-.78.8-2.07 0-2.86zM5.41 20L4 18.59l7.72-7.72 1.47 1.35L5.41 20z\"/>\n",
              "  </svg>\n",
              "      </button>\n",
              "      \n",
              "  <style>\n",
              "    .colab-df-container {\n",
              "      display:flex;\n",
              "      flex-wrap:wrap;\n",
              "      gap: 12px;\n",
              "    }\n",
              "\n",
              "    .colab-df-convert {\n",
              "      background-color: #E8F0FE;\n",
              "      border: none;\n",
              "      border-radius: 50%;\n",
              "      cursor: pointer;\n",
              "      display: none;\n",
              "      fill: #1967D2;\n",
              "      height: 32px;\n",
              "      padding: 0 0 0 0;\n",
              "      width: 32px;\n",
              "    }\n",
              "\n",
              "    .colab-df-convert:hover {\n",
              "      background-color: #E2EBFA;\n",
              "      box-shadow: 0px 1px 2px rgba(60, 64, 67, 0.3), 0px 1px 3px 1px rgba(60, 64, 67, 0.15);\n",
              "      fill: #174EA6;\n",
              "    }\n",
              "\n",
              "    [theme=dark] .colab-df-convert {\n",
              "      background-color: #3B4455;\n",
              "      fill: #D2E3FC;\n",
              "    }\n",
              "\n",
              "    [theme=dark] .colab-df-convert:hover {\n",
              "      background-color: #434B5C;\n",
              "      box-shadow: 0px 1px 3px 1px rgba(0, 0, 0, 0.15);\n",
              "      filter: drop-shadow(0px 1px 2px rgba(0, 0, 0, 0.3));\n",
              "      fill: #FFFFFF;\n",
              "    }\n",
              "  </style>\n",
              "\n",
              "      <script>\n",
              "        const buttonEl =\n",
              "          document.querySelector('#df-cd3c3ff0-82dd-4dc5-9a99-84e0b86ac538 button.colab-df-convert');\n",
              "        buttonEl.style.display =\n",
              "          google.colab.kernel.accessAllowed ? 'block' : 'none';\n",
              "\n",
              "        async function convertToInteractive(key) {\n",
              "          const element = document.querySelector('#df-cd3c3ff0-82dd-4dc5-9a99-84e0b86ac538');\n",
              "          const dataTable =\n",
              "            await google.colab.kernel.invokeFunction('convertToInteractive',\n",
              "                                                     [key], {});\n",
              "          if (!dataTable) return;\n",
              "\n",
              "          const docLinkHtml = 'Like what you see? Visit the ' +\n",
              "            '<a target=\"_blank\" href=https://colab.research.google.com/notebooks/data_table.ipynb>data table notebook</a>'\n",
              "            + ' to learn more about interactive tables.';\n",
              "          element.innerHTML = '';\n",
              "          dataTable['output_type'] = 'display_data';\n",
              "          await google.colab.output.renderOutput(dataTable, element);\n",
              "          const docLink = document.createElement('div');\n",
              "          docLink.innerHTML = docLinkHtml;\n",
              "          element.appendChild(docLink);\n",
              "        }\n",
              "      </script>\n",
              "    </div>\n",
              "  </div>\n",
              "  "
            ]
          },
          "metadata": {},
          "execution_count": 213
        }
      ],
      "source": [
        "pd.crosstab(y_test, y_predict, rownames=['Actual'], colnames=['Predicted'])"
      ]
    },
    {
      "cell_type": "code",
      "execution_count": 214,
      "metadata": {
        "id": "G7w2vnfbawDv",
        "colab": {
          "base_uri": "https://localhost:8080/",
          "height": 297
        },
        "outputId": "1c49a652-5a86-4646-bc4b-45ff5eb01c7f"
      },
      "outputs": [
        {
          "output_type": "execute_result",
          "data": {
            "text/plain": [
              "Text(33.0, 0.5, 'actual')"
            ]
          },
          "metadata": {},
          "execution_count": 214
        },
        {
          "output_type": "display_data",
          "data": {
            "text/plain": [
              "<Figure size 432x288 with 2 Axes>"
            ],
            "image/png": "[encoded data removed]"
          },
          "metadata": {
            "needs_background": "light"
          }
        }
      ],
      "source": [
        "cm = confusion_matrix(y_test, y_predict)\n",
        "sns.heatmap(cm, annot=True)\n",
        "plt.xlabel(\"predicted\")\n",
        "plt.ylabel(\"actual\")"
      ]
    },
    {
      "cell_type": "markdown",
      "source": [
        "**Learning Curve**"
      ],
      "metadata": {
        "id": "MKQMPNxg-7Eo"
      }
    },
    {
      "cell_type": "code",
      "source": [
        "train_sizes, train_scores, test_scores = learning_curve(clf, X_train, y_train, cv=10, scoring='accuracy')\n",
        "train_scores_mean = np.mean(train_scores, axis=1)\n",
        "test_scores = np.mean(test_scores, axis=1)\n",
        "\n",
        "\n",
        "plt.plot(train_sizes, train_scores_mean, label='Train')\n",
        "plt.plot(train_sizes, test_scores, label='Test')\n",
        "plt.title('Learning Curve: Decition Tree Classification (Modified Subject_Race)')\n",
        "plt.xlabel('Train Set Size')\n",
        "plt.ylabel('Accuracy')\n",
        "plt.legend()"
      ],
      "metadata": {
        "id": "yjR5TEYq-6vv",
        "colab": {
          "base_uri": "https://localhost:8080/",
          "height": 312
        },
        "outputId": "2a453836-1c5e-4ef4-e2b0-29ad3123804f"
      },
      "execution_count": 215,
      "outputs": [
        {
          "output_type": "execute_result",
          "data": {
            "text/plain": [
              "<matplotlib.legend.Legend at 0x7f1403553d90>"
            ]
          },
          "metadata": {},
          "execution_count": 215
        },
        {
          "output_type": "display_data",
          "data": {
            "text/plain": [
              "<Figure size 432x288 with 1 Axes>"
            ],
            "image/png": "[encoded data removed]"
          },
          "metadata": {
            "needs_background": "light"
          }
        }
      ]
    },
    {
      "cell_type": "markdown",
      "metadata": {
        "id": "l-rTingbEVdT"
      },
      "source": [
        "By using the Decision Tree Classification model we see that our accuracy improve by +0.02 when compared to the KNN Classification model. "
      ]
    },
    {
      "cell_type": "markdown",
      "metadata": {
        "id": "MeAsB6PPRhDE"
      },
      "source": [
        "Overall our three models had a accuracy percentage that was < 50% we saw that adding more features to our model was neither and advantage or disadvantage. Although we saw a slight increase in accuracy with using a Decision Tree & SVC model vs KNN, it mostly predicted two subject races (Other and Black). \n",
        "\n",
        "It may be the case that most of the data on this dataset contains more reports of Black subjects than others. \n",
        "\n",
        "We will repeat the same models but now we will determine if there is a differnce in accuracy when we predict if the subject's race is Black or Other. Other will be a combination of races in the dataset that are not Black. "
      ]
    },
    {
      "cell_type": "code",
      "execution_count": 216,
      "metadata": {
        "id": "Sc1FtpriTIp6"
      },
      "outputs": [],
      "source": [
        "other_df = df\n",
        "other_df.subject_race = other_df.subject_race.replace({2:0, 3:0, 4:0})"
      ]
    },
    {
      "cell_type": "markdown",
      "metadata": {
        "id": "1R640pXJSzyL"
      },
      "source": [
        "#KNN Classification\n",
        "\n",
        "We will do another KNN Classification to predict if the subject_race is Black or Other. We will see how tuning the target variable effects the accuracy score. Again, we will be using a smaller random sample from our data, 5000."
      ]
    },
    {
      "cell_type": "markdown",
      "metadata": {
        "id": "brudVdR8WsGO"
      },
      "source": [
        "**Accuracy**"
      ]
    },
    {
      "cell_type": "code",
      "execution_count": 217,
      "metadata": {
        "id": "Ez07_2i_NhqU",
        "colab": {
          "base_uri": "https://localhost:8080/"
        },
        "outputId": "4b0e219b-f2a7-40b0-cfe0-c360229ccef1"
      },
      "outputs": [
        {
          "output_type": "stream",
          "name": "stdout",
          "text": [
            "Accuracy: 0.82\n"
          ]
        }
      ],
      "source": [
        "np.random.seed(42)  \n",
        "\n",
        "predictors = ['outcome', 'subject_age']\n",
        "X = other_df[predictors].values\n",
        "y = other_df['subject_race'].values\n",
        "\n",
        "indexes = np.random.choice(y.size, size=5000)\n",
        "X_mini = X[indexes]\n",
        "y_mini = y[indexes]\n",
        "\n",
        "X_train, X_test, y_train, y_test = train_test_split(X_mini, y_mini, test_size=0.30, random_state=42)\n",
        "\n",
        "scaler = StandardScaler()\n",
        "\n",
        "X_train = scaler.fit_transform(X_train)\n",
        "X_test = scaler.transform(X_test)\n",
        "\n",
        "#Getting the best K\n",
        "n = 30\n",
        "test_acc = []\n",
        "ks = np.arange(1, n+1, 2)\n",
        "for k in ks:\n",
        "    knn = KNeighborsClassifier(n_neighbors=k, algorithm='brute', metric='minkowski')\n",
        "    acc_te = get_train_test_accuracy(knn, X_train, X_test, y_train, y_test)\n",
        "    test_acc.append(acc_te)\n",
        "best_k = get_best(ks, test_acc)\n",
        "\n",
        "\n",
        "knn = KNeighborsClassifier(n_neighbors= best_k, algorithm='brute', metric='minkowski')\n",
        "knn.fit(X_train, y_train)\n",
        "y_predict = knn.predict(X_test)\n",
        "\n",
        "print('Accuracy: {:.2f}'.format((y_predict == y_test).mean()))\n"
      ]
    },
    {
      "cell_type": "markdown",
      "metadata": {
        "id": "MWurGuU0al4z"
      },
      "source": [
        "**Confusion Matrix**"
      ]
    },
    {
      "cell_type": "code",
      "execution_count": 218,
      "metadata": {
        "id": "xd8zMoRDakKW",
        "colab": {
          "base_uri": "https://localhost:8080/",
          "height": 143
        },
        "outputId": "0fe11dca-f390-4af8-b510-e36699a99a8d"
      },
      "outputs": [
        {
          "output_type": "execute_result",
          "data": {
            "text/plain": [
              "Predicted     0\n",
              "Actual         \n",
              "0          1237\n",
              "1           263"
            ],
            "text/html": [
              "\n",
              "  <div id=\"df-e138312a-2d2a-465c-ba17-3cc3f052af39\">\n",
              "    <div class=\"colab-df-container\">\n",
              "      <div>\n",
              "<style scoped>\n",
              "    .dataframe tbody tr th:only-of-type {\n",
              "        vertical-align: middle;\n",
              "    }\n",
              "\n",
              "    .dataframe tbody tr th {\n",
              "        vertical-align: top;\n",
              "    }\n",
              "\n",
              "    .dataframe thead th {\n",
              "        text-align: right;\n",
              "    }\n",
              "</style>\n",
              "<table border=\"1\" class=\"dataframe\">\n",
              "  <thead>\n",
              "    <tr style=\"text-align: right;\">\n",
              "      <th>Predicted</th>\n",
              "      <th>0</th>\n",
              "    </tr>\n",
              "    <tr>\n",
              "      <th>Actual</th>\n",
              "      <th></th>\n",
              "    </tr>\n",
              "  </thead>\n",
              "  <tbody>\n",
              "    <tr>\n",
              "      <th>0</th>\n",
              "      <td>1237</td>\n",
              "    </tr>\n",
              "    <tr>\n",
              "      <th>1</th>\n",
              "      <td>263</td>\n",
              "    </tr>\n",
              "  </tbody>\n",
              "</table>\n",
              "</div>\n",
              "      <button class=\"colab-df-convert\" onclick=\"convertToInteractive('df-e138312a-2d2a-465c-ba17-3cc3f052af39')\"\n",
              "              title=\"Convert this dataframe to an interactive table.\"\n",
              "              style=\"display:none;\">\n",
              "        \n",
              "  <svg xmlns=\"http://www.w3.org/2000/svg\" height=\"24px\"viewBox=\"0 0 24 24\"\n",
              "       width=\"24px\">\n",
              "    <path d=\"M0 0h24v24H0V0z\" fill=\"none\"/>\n",
              "    <path d=\"M18.56 5.44l.94 2.06.94-2.06 2.06-.94-2.06-.94-.94-2.06-.94 2.06-2.06.94zm-11 1L8.5 8.5l.94-2.06 2.06-.94-2.06-.94L8.5 2.5l-.94 2.06-2.06.94zm10 10l.94 2.06.94-2.06 2.06-.94-2.06-.94-.94-2.06-.94 2.06-2.06.94z\"/><path d=\"M17.41 7.96l-1.37-1.37c-.4-.4-.92-.59-1.43-.59-.52 0-1.04.2-1.43.59L10.3 9.45l-7.72 7.72c-.78.78-.78 2.05 0 2.83L4 21.41c.39.39.9.59 1.41.59.51 0 1.02-.2 1.41-.59l7.78-7.78 2.81-2.81c.8-.78.8-2.07 0-2.86zM5.41 20L4 18.59l7.72-7.72 1.47 1.35L5.41 20z\"/>\n",
              "  </svg>\n",
              "      </button>\n",
              "      \n",
              "  <style>\n",
              "    .colab-df-container {\n",
              "      display:flex;\n",
              "      flex-wrap:wrap;\n",
              "      gap: 12px;\n",
              "    }\n",
              "\n",
              "    .colab-df-convert {\n",
              "      background-color: #E8F0FE;\n",
              "      border: none;\n",
              "      border-radius: 50%;\n",
              "      cursor: pointer;\n",
              "      display: none;\n",
              "      fill: #1967D2;\n",
              "      height: 32px;\n",
              "      padding: 0 0 0 0;\n",
              "      width: 32px;\n",
              "    }\n",
              "\n",
              "    .colab-df-convert:hover {\n",
              "      background-color: #E2EBFA;\n",
              "      box-shadow: 0px 1px 2px rgba(60, 64, 67, 0.3), 0px 1px 3px 1px rgba(60, 64, 67, 0.15);\n",
              "      fill: #174EA6;\n",
              "    }\n",
              "\n",
              "    [theme=dark] .colab-df-convert {\n",
              "      background-color: #3B4455;\n",
              "      fill: #D2E3FC;\n",
              "    }\n",
              "\n",
              "    [theme=dark] .colab-df-convert:hover {\n",
              "      background-color: #434B5C;\n",
              "      box-shadow: 0px 1px 3px 1px rgba(0, 0, 0, 0.15);\n",
              "      filter: drop-shadow(0px 1px 2px rgba(0, 0, 0, 0.3));\n",
              "      fill: #FFFFFF;\n",
              "    }\n",
              "  </style>\n",
              "\n",
              "      <script>\n",
              "        const buttonEl =\n",
              "          document.querySelector('#df-e138312a-2d2a-465c-ba17-3cc3f052af39 button.colab-df-convert');\n",
              "        buttonEl.style.display =\n",
              "          google.colab.kernel.accessAllowed ? 'block' : 'none';\n",
              "\n",
              "        async function convertToInteractive(key) {\n",
              "          const element = document.querySelector('#df-e138312a-2d2a-465c-ba17-3cc3f052af39');\n",
              "          const dataTable =\n",
              "            await google.colab.kernel.invokeFunction('convertToInteractive',\n",
              "                                                     [key], {});\n",
              "          if (!dataTable) return;\n",
              "\n",
              "          const docLinkHtml = 'Like what you see? Visit the ' +\n",
              "            '<a target=\"_blank\" href=https://colab.research.google.com/notebooks/data_table.ipynb>data table notebook</a>'\n",
              "            + ' to learn more about interactive tables.';\n",
              "          element.innerHTML = '';\n",
              "          dataTable['output_type'] = 'display_data';\n",
              "          await google.colab.output.renderOutput(dataTable, element);\n",
              "          const docLink = document.createElement('div');\n",
              "          docLink.innerHTML = docLinkHtml;\n",
              "          element.appendChild(docLink);\n",
              "        }\n",
              "      </script>\n",
              "    </div>\n",
              "  </div>\n",
              "  "
            ]
          },
          "metadata": {},
          "execution_count": 218
        }
      ],
      "source": [
        "pd.crosstab(y_test, y_predict, rownames=['Actual'], colnames=['Predicted'])"
      ]
    },
    {
      "cell_type": "code",
      "execution_count": 219,
      "metadata": {
        "id": "AKwjf4jEaoh4",
        "colab": {
          "base_uri": "https://localhost:8080/",
          "height": 296
        },
        "outputId": "2f8d4e04-f2fa-48f4-8dd6-ef09e1b52834"
      },
      "outputs": [
        {
          "output_type": "execute_result",
          "data": {
            "text/plain": [
              "Text(33.0, 0.5, 'actual')"
            ]
          },
          "metadata": {},
          "execution_count": 219
        },
        {
          "output_type": "display_data",
          "data": {
            "text/plain": [
              "<Figure size 432x288 with 2 Axes>"
            ],
            "image/png": "[encoded data removed]"
          },
          "metadata": {
            "needs_background": "light"
          }
        }
      ],
      "source": [
        "cm = confusion_matrix(y_test, y_predict)\n",
        "sns.heatmap(cm, annot=True)\n",
        "plt.xlabel(\"predicted\")\n",
        "plt.ylabel(\"actual\")"
      ]
    },
    {
      "cell_type": "markdown",
      "source": [
        "**Learning Curve**"
      ],
      "metadata": {
        "id": "aSEUllag-t3C"
      }
    },
    {
      "cell_type": "code",
      "source": [
        "train_sizes, train_scores, test_scores = learning_curve(knn, X_train, y_train, cv=10, scoring='accuracy')\n",
        "train_scores_mean = np.mean(train_scores, axis=1)\n",
        "test_scores = np.mean(test_scores, axis=1)\n",
        "\n",
        "\n",
        "plt.plot(train_sizes, train_scores_mean, label='Train')\n",
        "plt.plot(train_sizes, test_scores, label='Test')\n",
        "plt.title('Learning Curve: KNN Classification (Modified Subject_Race)')\n",
        "plt.xlabel('Train Set Size')\n",
        "plt.ylabel('Accuracy')\n",
        "plt.legend()"
      ],
      "metadata": {
        "id": "gdZKY38K9YVE",
        "colab": {
          "base_uri": "https://localhost:8080/",
          "height": 312
        },
        "outputId": "94e3dd78-9c4a-40b1-e18f-64db59c0e4ed"
      },
      "execution_count": 220,
      "outputs": [
        {
          "output_type": "execute_result",
          "data": {
            "text/plain": [
              "<matplotlib.legend.Legend at 0x7f13f5616e50>"
            ]
          },
          "metadata": {},
          "execution_count": 220
        },
        {
          "output_type": "display_data",
          "data": {
            "text/plain": [
              "<Figure size 432x288 with 1 Axes>"
            ],
            "image/png": "[encoded data removed]"
          },
          "metadata": {
            "needs_background": "light"
          }
        }
      ]
    },
    {
      "cell_type": "markdown",
      "metadata": {
        "id": "cizzidYuFJiJ"
      },
      "source": [
        "#Non-Linear SVC Classification\n",
        "\n",
        "Next we will see how the SVC model performs with our target variable. We will also use a random sample of 5000 for this model. "
      ]
    },
    {
      "cell_type": "markdown",
      "metadata": {
        "id": "Wyxkb2YbXC7G"
      },
      "source": [
        "**Accuracy**"
      ]
    },
    {
      "cell_type": "code",
      "execution_count": 221,
      "metadata": {
        "id": "qtVsjLD-FGqV",
        "colab": {
          "base_uri": "https://localhost:8080/"
        },
        "outputId": "2ef7650b-1938-4d99-e301-26082398e98a"
      },
      "outputs": [
        {
          "output_type": "stream",
          "name": "stdout",
          "text": [
            "Accuracy: 0.82\n"
          ]
        }
      ],
      "source": [
        "np.random.seed(42)  \n",
        "\n",
        "predictors = ['outcome', 'subject_age']\n",
        "X = other_df[predictors].values\n",
        "y = other_df['subject_race'].values\n",
        "\n",
        "indexes = np.random.choice(y.size, size=5000)\n",
        "X_mini = X[indexes]\n",
        "y_mini = y[indexes]\n",
        "\n",
        "X_train, X_test, y_train, y_test = train_test_split(X_mini, y_mini, test_size=0.30, random_state=42)\n",
        "\n",
        "clf = make_pipeline(StandardScaler(), SVC(gamma='scale'))\n",
        "clf.fit(X_train, y_train)\n",
        "y_predict = clf.predict(X_test)\n",
        "print('Accuracy: {:.2f}'.format(accuracy_score(y_test, y_predict)))"
      ]
    },
    {
      "cell_type": "markdown",
      "metadata": {
        "id": "dMjgBBuZaUFH"
      },
      "source": [
        "**Confusion Matrix**"
      ]
    },
    {
      "cell_type": "code",
      "execution_count": 222,
      "metadata": {
        "id": "lx7VafttaP13",
        "colab": {
          "base_uri": "https://localhost:8080/",
          "height": 143
        },
        "outputId": "dfd53b18-1389-4be0-f9f8-6fb058666a4c"
      },
      "outputs": [
        {
          "output_type": "execute_result",
          "data": {
            "text/plain": [
              "Predicted     0\n",
              "Actual         \n",
              "0          1237\n",
              "1           263"
            ],
            "text/html": [
              "\n",
              "  <div id=\"df-a27b76aa-2906-4d3b-ab43-3aac4f0a8487\">\n",
              "    <div class=\"colab-df-container\">\n",
              "      <div>\n",
              "<style scoped>\n",
              "    .dataframe tbody tr th:only-of-type {\n",
              "        vertical-align: middle;\n",
              "    }\n",
              "\n",
              "    .dataframe tbody tr th {\n",
              "        vertical-align: top;\n",
              "    }\n",
              "\n",
              "    .dataframe thead th {\n",
              "        text-align: right;\n",
              "    }\n",
              "</style>\n",
              "<table border=\"1\" class=\"dataframe\">\n",
              "  <thead>\n",
              "    <tr style=\"text-align: right;\">\n",
              "      <th>Predicted</th>\n",
              "      <th>0</th>\n",
              "    </tr>\n",
              "    <tr>\n",
              "      <th>Actual</th>\n",
              "      <th></th>\n",
              "    </tr>\n",
              "  </thead>\n",
              "  <tbody>\n",
              "    <tr>\n",
              "      <th>0</th>\n",
              "      <td>1237</td>\n",
              "    </tr>\n",
              "    <tr>\n",
              "      <th>1</th>\n",
              "      <td>263</td>\n",
              "    </tr>\n",
              "  </tbody>\n",
              "</table>\n",
              "</div>\n",
              "      <button class=\"colab-df-convert\" onclick=\"convertToInteractive('df-a27b76aa-2906-4d3b-ab43-3aac4f0a8487')\"\n",
              "              title=\"Convert this dataframe to an interactive table.\"\n",
              "              style=\"display:none;\">\n",
              "        \n",
              "  <svg xmlns=\"http://www.w3.org/2000/svg\" height=\"24px\"viewBox=\"0 0 24 24\"\n",
              "       width=\"24px\">\n",
              "    <path d=\"M0 0h24v24H0V0z\" fill=\"none\"/>\n",
              "    <path d=\"M18.56 5.44l.94 2.06.94-2.06 2.06-.94-2.06-.94-.94-2.06-.94 2.06-2.06.94zm-11 1L8.5 8.5l.94-2.06 2.06-.94-2.06-.94L8.5 2.5l-.94 2.06-2.06.94zm10 10l.94 2.06.94-2.06 2.06-.94-2.06-.94-.94-2.06-.94 2.06-2.06.94z\"/><path d=\"M17.41 7.96l-1.37-1.37c-.4-.4-.92-.59-1.43-.59-.52 0-1.04.2-1.43.59L10.3 9.45l-7.72 7.72c-.78.78-.78 2.05 0 2.83L4 21.41c.39.39.9.59 1.41.59.51 0 1.02-.2 1.41-.59l7.78-7.78 2.81-2.81c.8-.78.8-2.07 0-2.86zM5.41 20L4 18.59l7.72-7.72 1.47 1.35L5.41 20z\"/>\n",
              "  </svg>\n",
              "      </button>\n",
              "      \n",
              "  <style>\n",
              "    .colab-df-container {\n",
              "      display:flex;\n",
              "      flex-wrap:wrap;\n",
              "      gap: 12px;\n",
              "    }\n",
              "\n",
              "    .colab-df-convert {\n",
              "      background-color: #E8F0FE;\n",
              "      border: none;\n",
              "      border-radius: 50%;\n",
              "      cursor: pointer;\n",
              "      display: none;\n",
              "      fill: #1967D2;\n",
              "      height: 32px;\n",
              "      padding: 0 0 0 0;\n",
              "      width: 32px;\n",
              "    }\n",
              "\n",
              "    .colab-df-convert:hover {\n",
              "      background-color: #E2EBFA;\n",
              "      box-shadow: 0px 1px 2px rgba(60, 64, 67, 0.3), 0px 1px 3px 1px rgba(60, 64, 67, 0.15);\n",
              "      fill: #174EA6;\n",
              "    }\n",
              "\n",
              "    [theme=dark] .colab-df-convert {\n",
              "      background-color: #3B4455;\n",
              "      fill: #D2E3FC;\n",
              "    }\n",
              "\n",
              "    [theme=dark] .colab-df-convert:hover {\n",
              "      background-color: #434B5C;\n",
              "      box-shadow: 0px 1px 3px 1px rgba(0, 0, 0, 0.15);\n",
              "      filter: drop-shadow(0px 1px 2px rgba(0, 0, 0, 0.3));\n",
              "      fill: #FFFFFF;\n",
              "    }\n",
              "  </style>\n",
              "\n",
              "      <script>\n",
              "        const buttonEl =\n",
              "          document.querySelector('#df-a27b76aa-2906-4d3b-ab43-3aac4f0a8487 button.colab-df-convert');\n",
              "        buttonEl.style.display =\n",
              "          google.colab.kernel.accessAllowed ? 'block' : 'none';\n",
              "\n",
              "        async function convertToInteractive(key) {\n",
              "          const element = document.querySelector('#df-a27b76aa-2906-4d3b-ab43-3aac4f0a8487');\n",
              "          const dataTable =\n",
              "            await google.colab.kernel.invokeFunction('convertToInteractive',\n",
              "                                                     [key], {});\n",
              "          if (!dataTable) return;\n",
              "\n",
              "          const docLinkHtml = 'Like what you see? Visit the ' +\n",
              "            '<a target=\"_blank\" href=https://colab.research.google.com/notebooks/data_table.ipynb>data table notebook</a>'\n",
              "            + ' to learn more about interactive tables.';\n",
              "          element.innerHTML = '';\n",
              "          dataTable['output_type'] = 'display_data';\n",
              "          await google.colab.output.renderOutput(dataTable, element);\n",
              "          const docLink = document.createElement('div');\n",
              "          docLink.innerHTML = docLinkHtml;\n",
              "          element.appendChild(docLink);\n",
              "        }\n",
              "      </script>\n",
              "    </div>\n",
              "  </div>\n",
              "  "
            ]
          },
          "metadata": {},
          "execution_count": 222
        }
      ],
      "source": [
        "pd.crosstab(y_test, y_predict, rownames=['Actual'], colnames=['Predicted'])"
      ]
    },
    {
      "cell_type": "code",
      "execution_count": 223,
      "metadata": {
        "id": "xmkrKusxaPH0",
        "colab": {
          "base_uri": "https://localhost:8080/",
          "height": 296
        },
        "outputId": "aa43f793-a09b-4de5-9b8f-c7fdc604ab91"
      },
      "outputs": [
        {
          "output_type": "execute_result",
          "data": {
            "text/plain": [
              "Text(33.0, 0.5, 'actual')"
            ]
          },
          "metadata": {},
          "execution_count": 223
        },
        {
          "output_type": "display_data",
          "data": {
            "text/plain": [
              "<Figure size 432x288 with 2 Axes>"
            ],
            "image/png": "[encoded data removed]"
          },
          "metadata": {
            "needs_background": "light"
          }
        }
      ],
      "source": [
        "cm = confusion_matrix(y_test, y_predict)\n",
        "sns.heatmap(cm, annot=True)\n",
        "plt.xlabel(\"predicted\")\n",
        "plt.ylabel(\"actual\")"
      ]
    },
    {
      "cell_type": "markdown",
      "source": [
        "**Learning Curve**"
      ],
      "metadata": {
        "id": "O0b7U1_h-oWj"
      }
    },
    {
      "cell_type": "code",
      "source": [
        "train_sizes, train_scores, test_scores = learning_curve(clf, X_train, y_train, cv=10, scoring='accuracy')\n",
        "train_scores_mean = np.mean(train_scores, axis=1)\n",
        "test_scores = np.mean(test_scores, axis=1)\n",
        "\n",
        "\n",
        "plt.plot(train_sizes, train_scores_mean, label='Train')\n",
        "plt.plot(train_sizes, test_scores, label='Test')\n",
        "plt.title('Learning Curve: SVC Classification (Modified Subject_Race)')\n",
        "plt.xlabel('Train Set Size')\n",
        "plt.ylabel('Accuracy')\n",
        "plt.legend()"
      ],
      "metadata": {
        "id": "xYNmAkmr9kmx",
        "colab": {
          "base_uri": "https://localhost:8080/",
          "height": 312
        },
        "outputId": "206c39a6-1d98-4d16-bf13-df9d67e7e68a"
      },
      "execution_count": 224,
      "outputs": [
        {
          "output_type": "execute_result",
          "data": {
            "text/plain": [
              "<matplotlib.legend.Legend at 0x7f13b9d255b0>"
            ]
          },
          "metadata": {},
          "execution_count": 224
        },
        {
          "output_type": "display_data",
          "data": {
            "text/plain": [
              "<Figure size 432x288 with 1 Axes>"
            ],
            "image/png": "[encoded data removed]"
          },
          "metadata": {
            "needs_background": "light"
          }
        }
      ]
    },
    {
      "cell_type": "markdown",
      "metadata": {
        "id": "ONhnPqwWS6eL"
      },
      "source": [
        "#Decision Tree Classification\n",
        "\n",
        "Now we will perform the Decision Tree model using the whole sample data size. "
      ]
    },
    {
      "cell_type": "code",
      "execution_count": 225,
      "metadata": {
        "id": "RalRpJKvNyXC",
        "colab": {
          "base_uri": "https://localhost:8080/",
          "height": 440
        },
        "outputId": "0b343e1c-55ba-404b-aab5-a881dbbbfd97"
      },
      "outputs": [
        {
          "output_type": "execute_result",
          "data": {
            "text/plain": [
              "<graphviz.files.Source at 0x7f13ccd52a60>"
            ],
            "image/svg+xml": "<?xml version=\"1.0\" encoding=\"UTF-8\" standalone=\"no\"?>\n<!DOCTYPE svg PUBLIC \"-//W3C//DTD SVG 1.1//EN\"\n \"http://www.w3.org/Graphics/SVG/1.1/DTD/svg11.dtd\">\n<!-- Generated by graphviz version 2.43.0 (0)\n -->\n<!-- Title: Tree Pages: 1 -->\n<svg width=\"590pt\" height=\"314pt\"\n viewBox=\"0.00 0.00 590.00 314.00\" xmlns=\"http://www.w3.org/2000/svg\" xmlns:xlink=\"http://www.w3.org/1999/xlink\">\n<g id=\"graph0\" class=\"graph\" transform=\"scale(1 1) rotate(0) translate(4 310)\">\n<title>Tree</title>\n<polygon fill=\"white\" stroke=\"transparent\" points=\"-4,4 -4,-310 586,-310 586,4 -4,4\"/>\n<!-- 0 -->\n<g id=\"node1\" class=\"node\">\n<title>0</title>\n<path fill=\"#ea9a60\" stroke=\"black\" d=\"M345,-306C345,-306 237,-306 237,-306 231,-306 225,-300 225,-294 225,-294 225,-235 225,-235 225,-229 231,-223 237,-223 237,-223 345,-223 345,-223 351,-223 357,-229 357,-235 357,-235 357,-294 357,-294 357,-300 351,-306 345,-306\"/>\n<text text-anchor=\"start\" x=\"247.5\" y=\"-290.8\" font-family=\"Helvetica,sans-Serif\" font-size=\"14.00\">outcome ≤ 1.5</text>\n<text text-anchor=\"start\" x=\"259\" y=\"-275.8\" font-family=\"Helvetica,sans-Serif\" font-size=\"14.00\">gini = 0.28</text>\n<text text-anchor=\"start\" x=\"234\" y=\"-260.8\" font-family=\"Helvetica,sans-Serif\" font-size=\"14.00\">samples = 100.0%</text>\n<text text-anchor=\"start\" x=\"233\" y=\"-245.8\" font-family=\"Helvetica,sans-Serif\" font-size=\"14.00\">value = [0.83, 0.17]</text>\n<text text-anchor=\"start\" x=\"251.5\" y=\"-230.8\" font-family=\"Helvetica,sans-Serif\" font-size=\"14.00\">class = black</text>\n</g>\n<!-- 1 -->\n<g id=\"node2\" class=\"node\">\n<title>1</title>\n<path fill=\"#e99558\" stroke=\"black\" d=\"M270,-187C270,-187 162,-187 162,-187 156,-187 150,-181 150,-175 150,-175 150,-116 150,-116 150,-110 156,-104 162,-104 162,-104 270,-104 270,-104 276,-104 282,-110 282,-116 282,-116 282,-175 282,-175 282,-181 276,-187 270,-187\"/>\n<text text-anchor=\"start\" x=\"158.5\" y=\"-171.8\" font-family=\"Helvetica,sans-Serif\" font-size=\"14.00\">subject_age ≤ 25.5</text>\n<text text-anchor=\"start\" x=\"184\" y=\"-156.8\" font-family=\"Helvetica,sans-Serif\" font-size=\"14.00\">gini = 0.23</text>\n<text text-anchor=\"start\" x=\"163\" y=\"-141.8\" font-family=\"Helvetica,sans-Serif\" font-size=\"14.00\">samples = 72.4%</text>\n<text text-anchor=\"start\" x=\"158\" y=\"-126.8\" font-family=\"Helvetica,sans-Serif\" font-size=\"14.00\">value = [0.86, 0.14]</text>\n<text text-anchor=\"start\" x=\"176.5\" y=\"-111.8\" font-family=\"Helvetica,sans-Serif\" font-size=\"14.00\">class = black</text>\n</g>\n<!-- 0&#45;&gt;1 -->\n<g id=\"edge1\" class=\"edge\">\n<title>0&#45;&gt;1</title>\n<path fill=\"none\" stroke=\"black\" d=\"M264.98,-222.91C259.34,-214.1 253.31,-204.7 247.48,-195.61\"/>\n<polygon fill=\"black\" stroke=\"black\" points=\"250.32,-193.55 241.97,-187.02 244.43,-197.33 250.32,-193.55\"/>\n<text text-anchor=\"middle\" x=\"236.63\" y=\"-207.74\" font-family=\"Helvetica,sans-Serif\" font-size=\"14.00\">True</text>\n</g>\n<!-- 4 -->\n<g id=\"node5\" class=\"node\">\n<title>4</title>\n<path fill=\"#edaa79\" stroke=\"black\" d=\"M420,-187C420,-187 312,-187 312,-187 306,-187 300,-181 300,-175 300,-175 300,-116 300,-116 300,-110 306,-104 312,-104 312,-104 420,-104 420,-104 426,-104 432,-110 432,-116 432,-116 432,-175 432,-175 432,-181 426,-187 420,-187\"/>\n<text text-anchor=\"start\" x=\"308.5\" y=\"-171.8\" font-family=\"Helvetica,sans-Serif\" font-size=\"14.00\">subject_age ≤ 23.5</text>\n<text text-anchor=\"start\" x=\"334\" y=\"-156.8\" font-family=\"Helvetica,sans-Serif\" font-size=\"14.00\">gini = 0.37</text>\n<text text-anchor=\"start\" x=\"313\" y=\"-141.8\" font-family=\"Helvetica,sans-Serif\" font-size=\"14.00\">samples = 27.6%</text>\n<text text-anchor=\"start\" x=\"308\" y=\"-126.8\" font-family=\"Helvetica,sans-Serif\" font-size=\"14.00\">value = [0.76, 0.24]</text>\n<text text-anchor=\"start\" x=\"326.5\" y=\"-111.8\" font-family=\"Helvetica,sans-Serif\" font-size=\"14.00\">class = black</text>\n</g>\n<!-- 0&#45;&gt;4 -->\n<g id=\"edge4\" class=\"edge\">\n<title>0&#45;&gt;4</title>\n<path fill=\"none\" stroke=\"black\" d=\"M317.02,-222.91C322.66,-214.1 328.69,-204.7 334.52,-195.61\"/>\n<polygon fill=\"black\" stroke=\"black\" points=\"337.57,-197.33 340.03,-187.02 331.68,-193.55 337.57,-197.33\"/>\n<text text-anchor=\"middle\" x=\"345.37\" y=\"-207.74\" font-family=\"Helvetica,sans-Serif\" font-size=\"14.00\">False</text>\n</g>\n<!-- 2 -->\n<g id=\"node3\" class=\"node\">\n<title>2</title>\n<path fill=\"#eb9d64\" stroke=\"black\" d=\"M120,-68C120,-68 12,-68 12,-68 6,-68 0,-62 0,-56 0,-56 0,-12 0,-12 0,-6 6,0 12,0 12,0 120,0 120,0 126,0 132,-6 132,-12 132,-12 132,-56 132,-56 132,-62 126,-68 120,-68\"/>\n<text text-anchor=\"start\" x=\"34\" y=\"-52.8\" font-family=\"Helvetica,sans-Serif\" font-size=\"14.00\">gini = 0.29</text>\n<text text-anchor=\"start\" x=\"13\" y=\"-37.8\" font-family=\"Helvetica,sans-Serif\" font-size=\"14.00\">samples = 14.4%</text>\n<text text-anchor=\"start\" x=\"8\" y=\"-22.8\" font-family=\"Helvetica,sans-Serif\" font-size=\"14.00\">value = [0.82, 0.18]</text>\n<text text-anchor=\"start\" x=\"26.5\" y=\"-7.8\" font-family=\"Helvetica,sans-Serif\" font-size=\"14.00\">class = black</text>\n</g>\n<!-- 1&#45;&gt;2 -->\n<g id=\"edge2\" class=\"edge\">\n<title>1&#45;&gt;2</title>\n<path fill=\"none\" stroke=\"black\" d=\"M160.15,-103.73C147.03,-94.15 133.07,-83.96 120.03,-74.44\"/>\n<polygon fill=\"black\" stroke=\"black\" points=\"121.76,-71.37 111.62,-68.3 117.63,-77.02 121.76,-71.37\"/>\n</g>\n<!-- 3 -->\n<g id=\"node4\" class=\"node\">\n<title>3</title>\n<path fill=\"#e99355\" stroke=\"black\" d=\"M270,-68C270,-68 162,-68 162,-68 156,-68 150,-62 150,-56 150,-56 150,-12 150,-12 150,-6 156,0 162,0 162,0 270,0 270,0 276,0 282,-6 282,-12 282,-12 282,-56 282,-56 282,-62 276,-68 270,-68\"/>\n<text text-anchor=\"start\" x=\"184\" y=\"-52.8\" font-family=\"Helvetica,sans-Serif\" font-size=\"14.00\">gini = 0.22</text>\n<text text-anchor=\"start\" x=\"163\" y=\"-37.8\" font-family=\"Helvetica,sans-Serif\" font-size=\"14.00\">samples = 58.0%</text>\n<text text-anchor=\"start\" x=\"158\" y=\"-22.8\" font-family=\"Helvetica,sans-Serif\" font-size=\"14.00\">value = [0.88, 0.12]</text>\n<text text-anchor=\"start\" x=\"176.5\" y=\"-7.8\" font-family=\"Helvetica,sans-Serif\" font-size=\"14.00\">class = black</text>\n</g>\n<!-- 1&#45;&gt;3 -->\n<g id=\"edge3\" class=\"edge\">\n<title>1&#45;&gt;3</title>\n<path fill=\"none\" stroke=\"black\" d=\"M216,-103.73C216,-95.52 216,-86.86 216,-78.56\"/>\n<polygon fill=\"black\" stroke=\"black\" points=\"219.5,-78.3 216,-68.3 212.5,-78.3 219.5,-78.3\"/>\n</g>\n<!-- 5 -->\n<g id=\"node6\" class=\"node\">\n<title>5</title>\n<path fill=\"#f1bc95\" stroke=\"black\" d=\"M420,-68C420,-68 312,-68 312,-68 306,-68 300,-62 300,-56 300,-56 300,-12 300,-12 300,-6 306,0 312,0 312,0 420,0 420,0 426,0 432,-6 432,-12 432,-12 432,-56 432,-56 432,-62 426,-68 420,-68\"/>\n<text text-anchor=\"start\" x=\"334\" y=\"-52.8\" font-family=\"Helvetica,sans-Serif\" font-size=\"14.00\">gini = 0.43</text>\n<text text-anchor=\"start\" x=\"316.5\" y=\"-37.8\" font-family=\"Helvetica,sans-Serif\" font-size=\"14.00\">samples = 4.4%</text>\n<text text-anchor=\"start\" x=\"308\" y=\"-22.8\" font-family=\"Helvetica,sans-Serif\" font-size=\"14.00\">value = [0.68, 0.32]</text>\n<text text-anchor=\"start\" x=\"326.5\" y=\"-7.8\" font-family=\"Helvetica,sans-Serif\" font-size=\"14.00\">class = black</text>\n</g>\n<!-- 4&#45;&gt;5 -->\n<g id=\"edge5\" class=\"edge\">\n<title>4&#45;&gt;5</title>\n<path fill=\"none\" stroke=\"black\" d=\"M366,-103.73C366,-95.52 366,-86.86 366,-78.56\"/>\n<polygon fill=\"black\" stroke=\"black\" points=\"369.5,-78.3 366,-68.3 362.5,-78.3 369.5,-78.3\"/>\n</g>\n<!-- 6 -->\n<g id=\"node7\" class=\"node\">\n<title>6</title>\n<path fill=\"#eda774\" stroke=\"black\" d=\"M570,-68C570,-68 462,-68 462,-68 456,-68 450,-62 450,-56 450,-56 450,-12 450,-12 450,-6 456,0 462,0 462,0 570,0 570,0 576,0 582,-6 582,-12 582,-12 582,-56 582,-56 582,-62 576,-68 570,-68\"/>\n<text text-anchor=\"start\" x=\"484\" y=\"-52.8\" font-family=\"Helvetica,sans-Serif\" font-size=\"14.00\">gini = 0.35</text>\n<text text-anchor=\"start\" x=\"463\" y=\"-37.8\" font-family=\"Helvetica,sans-Serif\" font-size=\"14.00\">samples = 23.2%</text>\n<text text-anchor=\"start\" x=\"458\" y=\"-22.8\" font-family=\"Helvetica,sans-Serif\" font-size=\"14.00\">value = [0.77, 0.23]</text>\n<text text-anchor=\"start\" x=\"476.5\" y=\"-7.8\" font-family=\"Helvetica,sans-Serif\" font-size=\"14.00\">class = black</text>\n</g>\n<!-- 4&#45;&gt;6 -->\n<g id=\"edge6\" class=\"edge\">\n<title>4&#45;&gt;6</title>\n<path fill=\"none\" stroke=\"black\" d=\"M421.85,-103.73C434.97,-94.15 448.93,-83.96 461.97,-74.44\"/>\n<polygon fill=\"black\" stroke=\"black\" points=\"464.37,-77.02 470.38,-68.3 460.24,-71.37 464.37,-77.02\"/>\n</g>\n</g>\n</svg>\n"
          },
          "metadata": {},
          "execution_count": 225
        }
      ],
      "source": [
        "predictors = ['outcome', 'subject_age']\n",
        "X = other_df[predictors].values\n",
        "y = other_df['subject_race'].values\n",
        "\n",
        "\n",
        "X_train, X_test, y_train, y_test = train_test_split(X, y, test_size=0.30, random_state=0)\n",
        "\n",
        "clf = DecisionTreeClassifier(max_depth = 2, random_state=0, min_samples_split=5, min_samples_leaf=5)\n",
        "clf.fit(X_train, y_train)\n",
        "y_predict = clf.predict(X_test)\n",
        "\n",
        "target_names = ['black','other']\n",
        "n = export_graphviz(clf,precision=2, feature_names=predictors, proportion=True, class_names=target_names, filled=True, rounded=True, special_characters=True)\n",
        "graph = graphviz.Source(n)\n",
        "graph"
      ]
    },
    {
      "cell_type": "markdown",
      "metadata": {
        "id": "asQOjfW5XKVq"
      },
      "source": [
        "**Accuracy**"
      ]
    },
    {
      "cell_type": "code",
      "execution_count": 226,
      "metadata": {
        "id": "ySMwwOkBOKLk",
        "colab": {
          "base_uri": "https://localhost:8080/"
        },
        "outputId": "2c60227f-140f-42eb-d944-8fb58ada3e1b"
      },
      "outputs": [
        {
          "output_type": "stream",
          "name": "stdout",
          "text": [
            "Accuracy: 0.83\n"
          ]
        }
      ],
      "source": [
        "print('Accuracy: {:.2f}'.format((y_predict == y_test).mean()))\n"
      ]
    },
    {
      "cell_type": "markdown",
      "metadata": {
        "id": "b8tIxLLMZELf"
      },
      "source": [
        "**Confusion Matrix**"
      ]
    },
    {
      "cell_type": "code",
      "execution_count": 227,
      "metadata": {
        "id": "bDiPxJckY-7T",
        "colab": {
          "base_uri": "https://localhost:8080/",
          "height": 143
        },
        "outputId": "c6c6c77f-53cc-4002-f2f3-fa2359d7529e"
      },
      "outputs": [
        {
          "output_type": "execute_result",
          "data": {
            "text/plain": [
              "Predicted       0\n",
              "Actual           \n",
              "0          103607\n",
              "1           20848"
            ],
            "text/html": [
              "\n",
              "  <div id=\"df-e748e365-1dce-4d94-965e-4f83f3b6c0ff\">\n",
              "    <div class=\"colab-df-container\">\n",
              "      <div>\n",
              "<style scoped>\n",
              "    .dataframe tbody tr th:only-of-type {\n",
              "        vertical-align: middle;\n",
              "    }\n",
              "\n",
              "    .dataframe tbody tr th {\n",
              "        vertical-align: top;\n",
              "    }\n",
              "\n",
              "    .dataframe thead th {\n",
              "        text-align: right;\n",
              "    }\n",
              "</style>\n",
              "<table border=\"1\" class=\"dataframe\">\n",
              "  <thead>\n",
              "    <tr style=\"text-align: right;\">\n",
              "      <th>Predicted</th>\n",
              "      <th>0</th>\n",
              "    </tr>\n",
              "    <tr>\n",
              "      <th>Actual</th>\n",
              "      <th></th>\n",
              "    </tr>\n",
              "  </thead>\n",
              "  <tbody>\n",
              "    <tr>\n",
              "      <th>0</th>\n",
              "      <td>103607</td>\n",
              "    </tr>\n",
              "    <tr>\n",
              "      <th>1</th>\n",
              "      <td>20848</td>\n",
              "    </tr>\n",
              "  </tbody>\n",
              "</table>\n",
              "</div>\n",
              "      <button class=\"colab-df-convert\" onclick=\"convertToInteractive('df-e748e365-1dce-4d94-965e-4f83f3b6c0ff')\"\n",
              "              title=\"Convert this dataframe to an interactive table.\"\n",
              "              style=\"display:none;\">\n",
              "        \n",
              "  <svg xmlns=\"http://www.w3.org/2000/svg\" height=\"24px\"viewBox=\"0 0 24 24\"\n",
              "       width=\"24px\">\n",
              "    <path d=\"M0 0h24v24H0V0z\" fill=\"none\"/>\n",
              "    <path d=\"M18.56 5.44l.94 2.06.94-2.06 2.06-.94-2.06-.94-.94-2.06-.94 2.06-2.06.94zm-11 1L8.5 8.5l.94-2.06 2.06-.94-2.06-.94L8.5 2.5l-.94 2.06-2.06.94zm10 10l.94 2.06.94-2.06 2.06-.94-2.06-.94-.94-2.06-.94 2.06-2.06.94z\"/><path d=\"M17.41 7.96l-1.37-1.37c-.4-.4-.92-.59-1.43-.59-.52 0-1.04.2-1.43.59L10.3 9.45l-7.72 7.72c-.78.78-.78 2.05 0 2.83L4 21.41c.39.39.9.59 1.41.59.51 0 1.02-.2 1.41-.59l7.78-7.78 2.81-2.81c.8-.78.8-2.07 0-2.86zM5.41 20L4 18.59l7.72-7.72 1.47 1.35L5.41 20z\"/>\n",
              "  </svg>\n",
              "      </button>\n",
              "      \n",
              "  <style>\n",
              "    .colab-df-container {\n",
              "      display:flex;\n",
              "      flex-wrap:wrap;\n",
              "      gap: 12px;\n",
              "    }\n",
              "\n",
              "    .colab-df-convert {\n",
              "      background-color: #E8F0FE;\n",
              "      border: none;\n",
              "      border-radius: 50%;\n",
              "      cursor: pointer;\n",
              "      display: none;\n",
              "      fill: #1967D2;\n",
              "      height: 32px;\n",
              "      padding: 0 0 0 0;\n",
              "      width: 32px;\n",
              "    }\n",
              "\n",
              "    .colab-df-convert:hover {\n",
              "      background-color: #E2EBFA;\n",
              "      box-shadow: 0px 1px 2px rgba(60, 64, 67, 0.3), 0px 1px 3px 1px rgba(60, 64, 67, 0.15);\n",
              "      fill: #174EA6;\n",
              "    }\n",
              "\n",
              "    [theme=dark] .colab-df-convert {\n",
              "      background-color: #3B4455;\n",
              "      fill: #D2E3FC;\n",
              "    }\n",
              "\n",
              "    [theme=dark] .colab-df-convert:hover {\n",
              "      background-color: #434B5C;\n",
              "      box-shadow: 0px 1px 3px 1px rgba(0, 0, 0, 0.15);\n",
              "      filter: drop-shadow(0px 1px 2px rgba(0, 0, 0, 0.3));\n",
              "      fill: #FFFFFF;\n",
              "    }\n",
              "  </style>\n",
              "\n",
              "      <script>\n",
              "        const buttonEl =\n",
              "          document.querySelector('#df-e748e365-1dce-4d94-965e-4f83f3b6c0ff button.colab-df-convert');\n",
              "        buttonEl.style.display =\n",
              "          google.colab.kernel.accessAllowed ? 'block' : 'none';\n",
              "\n",
              "        async function convertToInteractive(key) {\n",
              "          const element = document.querySelector('#df-e748e365-1dce-4d94-965e-4f83f3b6c0ff');\n",
              "          const dataTable =\n",
              "            await google.colab.kernel.invokeFunction('convertToInteractive',\n",
              "                                                     [key], {});\n",
              "          if (!dataTable) return;\n",
              "\n",
              "          const docLinkHtml = 'Like what you see? Visit the ' +\n",
              "            '<a target=\"_blank\" href=https://colab.research.google.com/notebooks/data_table.ipynb>data table notebook</a>'\n",
              "            + ' to learn more about interactive tables.';\n",
              "          element.innerHTML = '';\n",
              "          dataTable['output_type'] = 'display_data';\n",
              "          await google.colab.output.renderOutput(dataTable, element);\n",
              "          const docLink = document.createElement('div');\n",
              "          docLink.innerHTML = docLinkHtml;\n",
              "          element.appendChild(docLink);\n",
              "        }\n",
              "      </script>\n",
              "    </div>\n",
              "  </div>\n",
              "  "
            ]
          },
          "metadata": {},
          "execution_count": 227
        }
      ],
      "source": [
        "pd.crosstab(y_test, y_predict, rownames=['Actual'], colnames=['Predicted'])"
      ]
    },
    {
      "cell_type": "code",
      "execution_count": 228,
      "metadata": {
        "id": "SBfmfZfxZIS3",
        "colab": {
          "base_uri": "https://localhost:8080/",
          "height": 296
        },
        "outputId": "30d8c3e9-1f5a-45f4-b46d-451b75a33932"
      },
      "outputs": [
        {
          "output_type": "execute_result",
          "data": {
            "text/plain": [
              "Text(33.0, 0.5, 'actual')"
            ]
          },
          "metadata": {},
          "execution_count": 228
        },
        {
          "output_type": "display_data",
          "data": {
            "text/plain": [
              "<Figure size 432x288 with 2 Axes>"
            ],
            "image/png": "[encoded data removed]"
          },
          "metadata": {
            "needs_background": "light"
          }
        }
      ],
      "source": [
        "cm = confusion_matrix(y_test, y_predict)\n",
        "sns.heatmap(cm, annot=True)\n",
        "plt.xlabel(\"predicted\")\n",
        "plt.ylabel(\"actual\")"
      ]
    },
    {
      "cell_type": "markdown",
      "source": [
        "**Learning Curve**"
      ],
      "metadata": {
        "id": "5b_pKFq0-rA4"
      }
    },
    {
      "cell_type": "code",
      "source": [
        "train_sizes, train_scores, test_scores = learning_curve(clf, X_train, y_train, cv=10, scoring='accuracy')\n",
        "train_scores_mean = np.mean(train_scores, axis=1)\n",
        "test_scores = np.mean(test_scores, axis=1)\n",
        "\n",
        "\n",
        "plt.plot(train_sizes, train_scores_mean, label='Train')\n",
        "plt.plot(train_sizes, test_scores, label='Test')\n",
        "plt.title('Learning Curve: Decition Tree Classification (Modified Subject_Race)')\n",
        "plt.xlabel('Train Set Size')\n",
        "plt.ylabel('Accuracy')\n",
        "plt.legend()"
      ],
      "metadata": {
        "id": "sSdna5Vh9tOW",
        "colab": {
          "base_uri": "https://localhost:8080/",
          "height": 312
        },
        "outputId": "a69ff2a1-5fd4-4792-f6be-a2e0bedc020d"
      },
      "execution_count": 229,
      "outputs": [
        {
          "output_type": "execute_result",
          "data": {
            "text/plain": [
              "<matplotlib.legend.Legend at 0x7f13ccecdfd0>"
            ]
          },
          "metadata": {},
          "execution_count": 229
        },
        {
          "output_type": "display_data",
          "data": {
            "text/plain": [
              "<Figure size 432x288 with 1 Axes>"
            ],
            "image/png": "[encoded data removed]"
          },
          "metadata": {
            "needs_background": "light"
          }
        }
      ]
    },
    {
      "cell_type": "markdown",
      "source": [
        "#Conclusion\n",
        "\n",
        "For this model we used three different models: KNN, Decision Tree, and SVC. In the first three observations we used all races in the dataset ('asian/pacific islander', 'black','hispanic', 'white', 'other'). We noticed a low accuracy score for these observations. There was a slight improvement in accuracy score when we used the Decision Tree and SVC models but overall scores remained below 50%. \n",
        "\n",
        "When we noticed that subject_race distribution was skewed we wanted to see how the models would predict if the subject was Black or Other. To do this we combined all the other races that were not Black and performed the same three models. Our accuracy scores improved from tuning our data. We obtained scores higher than 50%"
      ],
      "metadata": {
        "id": "XvgYUwqT2I3R"
      }
    }
  ],
  "metadata": {
    "colab": {
      "provenance": [],
      "include_colab_link": true
    },
    "kernelspec": {
      "display_name": "Python 3",
      "name": "python3"
    },
    "language_info": {
      "name": "python"
    }
  },
  "nbformat": 4,
  "nbformat_minor": 0
}